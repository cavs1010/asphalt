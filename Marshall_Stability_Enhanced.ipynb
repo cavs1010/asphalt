{
 "metadata": {
  "language_info": {
   "codemirror_mode": {
    "name": "ipython",
    "version": 3
   },
   "file_extension": ".py",
   "mimetype": "text/x-python",
   "name": "python",
   "nbconvert_exporter": "python",
   "pygments_lexer": "ipython3",
   "version": "3.8.5"
  },
  "orig_nbformat": 2,
  "kernelspec": {
   "name": "python3",
   "display_name": "Python 3.8.5 64-bit ('spyder': conda)"
  },
  "interpreter": {
   "hash": "fc22dc884bcedff190aa0e4687df8895271c55103986e14a4799605b50a1eed1"
  }
 },
 "nbformat": 4,
 "nbformat_minor": 2,
 "cells": [
  {
   "cell_type": "markdown",
   "source": [
    "# Marshall Stability"
   ],
   "metadata": {}
  },
  {
   "cell_type": "code",
   "execution_count": 1,
   "source": [
    "#%% IMPORTS\r\n",
    "#BASICS\r\n",
    "import pandas as pd\r\n",
    "import numpy as np\r\n",
    "import matplotlib.pyplot as plt\r\n",
    "import seaborn as sns\r\n",
    "import math\r\n",
    "from numpy import absolute\r\n",
    "from pandas.plotting import scatter_matrix\r\n",
    "from sklearn.pipeline import make_pipeline\r\n",
    "from IPython.display import display, Markdown, Latex\r\n",
    "pd.options.display.max_columns = None\r\n",
    "\r\n",
    "#STATISTICS\r\n",
    "from scipy.stats import normaltest\r\n",
    "from scipy import stats\r\n",
    "\r\n",
    "#ML TRAINING AND DATA PREPROCESSING\r\n",
    "from sklearn.model_selection import train_test_split\r\n",
    "from sklearn.preprocessing import MinMaxScaler\r\n",
    "from sklearn.experimental import enable_iterative_imputer\r\n",
    "from sklearn.impute import IterativeImputer\r\n",
    "from sklearn.preprocessing import PolynomialFeatures\r\n",
    "\r\n",
    "#ML MODELS\r\n",
    "from sklearn.tree import DecisionTreeRegressor\r\n",
    "from sklearn.linear_model import BayesianRidge\r\n",
    "from sklearn.ensemble import ExtraTreesRegressor\r\n",
    "from sklearn.linear_model import LinearRegression\r\n",
    "from sklearn.linear_model import Ridge\r\n",
    "from sklearn.linear_model import SGDRegressor\r\n",
    "from sklearn.linear_model import Lasso\r\n",
    "from sklearn.linear_model import ElasticNet\r\n",
    "from sklearn.svm import SVR\r\n",
    "from sklearn.tree import DecisionTreeRegressor\r\n",
    "from sklearn.ensemble import RandomForestRegressor\r\n",
    "from sklearn.ensemble import ExtraTreesRegressor\r\n",
    "from xgboost import XGBRegressor\r\n",
    "import xgboost as xgb\r\n",
    "from xgboost import plot_importance\r\n",
    "\r\n",
    "#MODEL EVALUATION\r\n",
    "from sklearn.model_selection import cross_validate\r\n",
    "from sklearn.model_selection import cross_val_score\r\n",
    "from sklearn.model_selection import GridSearchCV \r\n",
    "from sklearn.model_selection import RandomizedSearchCV\r\n",
    "from sklearn.model_selection import RepeatedKFold\r\n",
    "\r\n",
    "#METRICS\r\n",
    "from sklearn.metrics import r2_score\r\n",
    "from sklearn.metrics import mean_absolute_error\r\n",
    "from sklearn.metrics import mean_squared_error"
   ],
   "outputs": [],
   "metadata": {}
  },
  {
   "cell_type": "markdown",
   "source": [
    "## 1. Methods"
   ],
   "metadata": {}
  },
  {
   "cell_type": "code",
   "execution_count": 2,
   "source": [
    "#Eliminate Outliers based on the interquantile\r\n",
    "#datFrame: Data frame where the outliers will be eliminated.\r\n",
    "#columnName: the name of the column where the outliers will be identified.\r\n",
    "def eliminateOutliers (dataFrame, columnName):\r\n",
    "    Q1 = dataFrame[columnName].quantile(0.25)\r\n",
    "    Q3 = dataFrame[columnName].quantile(0.75)\r\n",
    "    IQR = Q3 - Q1\r\n",
    "    print('Initial dataframe size: '+str(dataFrame.shape))\r\n",
    "    dataFrame = dataFrame[(dataFrame[columnName] < (Q3 + 1.5 * IQR)) & (dataFrame[columnName] > (Q1 - 1.5 * IQR))]\r\n",
    "    print('Final dataframe size: '+str(dataFrame.shape))\r\n",
    "    return dataFrame"
   ],
   "outputs": [],
   "metadata": {}
  },
  {
   "cell_type": "code",
   "execution_count": 3,
   "source": [
    "# Create the boxplot graphs for the categorical variables\r\n",
    "# dataFrame: Data frame associated to the property of interest (dfAirVoids, dfMS, dfMF, dfITS, dfTSR)\r\n",
    "# propertyOfInterest: the name of the column where the property of interest is located.\r\n",
    "# columnName1...4: The categorical columns to evaluate.\r\n",
    "def displayBoxPlotGraphs (dataFrame, propertyOfInterest, columnName1, columnName2, columnName3, columnName4):\r\n",
    "    f, ((ax1, ax2), (ax3, ax4)) = plt.subplots(2, 2, figsize=(15,10))\r\n",
    "    sns.boxplot(y = propertyOfInterest, x = columnName1, data=dataFrame,  orient='v' , ax=ax1)\r\n",
    "    sns.boxplot(y = propertyOfInterest, x = columnName2, data=dataFrame,  orient='v' , ax=ax2)\r\n",
    "    sns.boxplot(y = propertyOfInterest, x= columnName3, data=dataFrame,  orient='v' , ax=ax3)\r\n",
    "    sns.boxplot(y= propertyOfInterest, x= columnName4, data=dataFrame,  orient='v' , ax=ax4)"
   ],
   "outputs": [],
   "metadata": {}
  },
  {
   "cell_type": "markdown",
   "source": [
    "## 2. Data Import"
   ],
   "metadata": {}
  },
  {
   "cell_type": "code",
   "execution_count": 4,
   "source": [
    "#%%DATA READING AND INITIAL PREPROCESSING\r\n",
    "numericColumns = ['Aggregate absorption (%)',\r\n",
    "                  'Apparent specific gravity',\r\n",
    "                    0.075,\r\n",
    "                    0.3,\r\n",
    "                    0.6,\r\n",
    "                    2.36,\r\n",
    "                    4.75,\r\n",
    "                    9.5,\r\n",
    "                    12.5,\r\n",
    "                    19,\r\n",
    "                    'Plastic particle size (mm)',\r\n",
    "                    'Mixing speed (RPM)',\r\n",
    "                    'Mixing Temperature',\r\n",
    "                    'Mixing Time (hours)',\r\n",
    "                    'Plastic Addition by bitumen weight (%)',\r\n",
    "                    'Bitumen content in the sample'\r\n",
    "                    ]\r\n",
    "categoricalColumns = ['Modified asphalt Mix?',\r\n",
    "                      'Agreggate Type',\r\n",
    "                    'Aggregate absorption [%]',\r\n",
    "                    'Filler used',\r\n",
    "                    'Consolidated bitumen penetration grade',\r\n",
    "                    'New Plastic Type',\r\n",
    "                    'Plastic pretreatment',\r\n",
    "                    'Plastic shape',\r\n",
    "                    'Plastic Size',\r\n",
    "                    'Mixing Process',\r\n",
    "                    'Plastic melted previous to addition?',\r\n",
    "                    'Aggregates replacement ?',\r\n",
    "                    'Bitumen replacement?',\r\n",
    "                    'Filler replacement',\r\n",
    "                    'Property',\r\n",
    "                    'Units']\r\n",
    "#It returns the dataframe of interes based on the property - 'AirVoids', 'MS', 'MF', 'ITS', 'TSR'\r\n",
    "def returnDf (propertyOfInterest):\r\n",
    "    df = pd.read_excel('fileML.xlsx', sheet_name = propertyOfInterest, engine='openpyxl')\r\n",
    "    df = df.set_index(propertyOfInterest + ' ID')\r\n",
    "    df.loc[:,:'Units'] = df.loc[:,:'Units'].applymap(str)\r\n",
    "    df.loc[:,:'Units'] = df.loc[:,:'Units'] .applymap(str.strip)\r\n",
    "    df.replace('NS', np.nan, inplace = True)\r\n",
    "    df[numericColumns] = df[numericColumns].replace('N/a', 0).astype(float)\r\n",
    "    return df"
   ],
   "outputs": [],
   "metadata": {}
  },
  {
   "cell_type": "code",
   "execution_count": 5,
   "source": [
    "dfMS = returnDf('MS')"
   ],
   "outputs": [],
   "metadata": {}
  },
  {
   "cell_type": "markdown",
   "source": [
    "## 3. Data Exploration\n",
    "###  3.1 Total Sample"
   ],
   "metadata": {}
  },
  {
   "cell_type": "code",
   "execution_count": 6,
   "source": [
    "dfMS = eliminateOutliers(dfMS, 'MS of the sample (kN)')"
   ],
   "outputs": [
    {
     "output_type": "stream",
     "name": "stdout",
     "text": [
      "Initial dataframe size: (406, 34)\n",
      "Final dataframe size: (402, 34)\n"
     ]
    }
   ],
   "metadata": {}
  },
  {
   "cell_type": "code",
   "execution_count": null,
   "source": [
    "dfMS.iloc[:,2:].describe(include = 'all')"
   ],
   "outputs": [],
   "metadata": {}
  },
  {
   "cell_type": "markdown",
   "source": [
    "I might have a problem with the $\\color{red}{\\text{Aggregate absorption}}$ because more than 20% of the data is missing. Regarding the $\\color{red}{\\text{MS}}$, there is a high dispersion ($\\sigma$ = 4.56), and the Mean seems normal. According to the Australian standards, the minimum value of the Marshall stability is between two and eigth."
   ],
   "metadata": {}
  },
  {
   "cell_type": "code",
   "execution_count": null,
   "source": [
    "scatter_matrix(dfMS[['Aggregate absorption (%)', 'Apparent specific gravity', 'Bitumen content in the sample', 'MS of the sample (kN)']], figsize=(10, 10))\r\n",
    "plt.show()"
   ],
   "outputs": [],
   "metadata": {}
  },
  {
   "cell_type": "code",
   "execution_count": null,
   "source": [
    "plt.figure(figsize=(16, 6))\r\n",
    "heatmap = sns.heatmap(dfMS.corr(), vmin=-1, vmax=1, annot=True)\r\n",
    "heatmap.set_title('Correlation Heatmap MS', fontdict={'fontsize':12}, pad=12);"
   ],
   "outputs": [],
   "metadata": {}
  },
  {
   "cell_type": "markdown",
   "source": [
    "Interestingly, there is positive correlation in $\\color{red}{\\text{MS-Apparent specific gravity}}$ and $\\color{red}{\\text{MS-plastic addition by bitumen content}}$."
   ],
   "metadata": {}
  },
  {
   "cell_type": "code",
   "execution_count": null,
   "source": [
    "displayBoxPlotGraphs(dataFrame = dfMS, propertyOfInterest = \"MS of the sample (kN)\", columnName1 = \"Agreggate Type\", columnName2 = \"Filler used\", columnName3 = \"Consolidated bitumen penetration grade\", columnName4 = \"Modified asphalt Mix?\")"
   ],
   "outputs": [],
   "metadata": {}
  },
  {
   "cell_type": "markdown",
   "source": [
    "*   As it happened with the Air Voids, it exists a MS difference among the samples that employed the bitumen 40/50; however, it is important to note that the sample size for this group was not representative enough.\n",
    "\n",
    "*   Samples with plastic modification tend to have higher MS. The glue effect of the plastic and the stiffness increase of the bitumen might serve as valid explanations.\n",
    "\n",
    "*   No signigicant difference among the aggregate types and fillers"
   ],
   "metadata": {}
  },
  {
   "cell_type": "markdown",
   "source": [
    "###  3.2 Modified mixtures"
   ],
   "metadata": {}
  },
  {
   "cell_type": "code",
   "execution_count": null,
   "source": [
    "dfMSModvsUnmod = dfMS [['Modified asphalt Mix?', 'MS of the sample (kN)']]\r\n",
    "dfMSModvsUnmod.groupby(['Modified asphalt Mix?'], as_index=False).describe()"
   ],
   "outputs": [],
   "metadata": {}
  },
  {
   "cell_type": "code",
   "execution_count": null,
   "source": [
    "dfMSModified = dfMS[dfMS['Modified asphalt Mix?'] == 'Yes']\r\n",
    "dfMSModified.describe(include = \"all\")"
   ],
   "outputs": [],
   "metadata": {}
  },
  {
   "cell_type": "code",
   "execution_count": null,
   "source": [
    "columnsOfInteres = numericColumns[0:2]+numericColumns[10:]+['MS of the sample (kN)']\r\n",
    "scatter_matrix(dfMSModified[columnsOfInteres], figsize=(25, 20))\r\n",
    "plt.show()"
   ],
   "outputs": [],
   "metadata": {}
  },
  {
   "cell_type": "code",
   "execution_count": null,
   "source": [
    "plt.figure(figsize=(16, 6))\r\n",
    "heatmap = sns.heatmap(dfMSModified.corr(), vmin=-1, vmax=1, annot=True)\r\n",
    "heatmap.set_title('Correlation Heatmap MS', fontdict={'fontsize':12}, pad=12)"
   ],
   "outputs": [],
   "metadata": {}
  },
  {
   "cell_type": "markdown",
   "source": [
    " $\\color{red}{\\text{MS-Apparent specific gravity}}$ presents the highest correlation with  $\\color{red}{\\text{MS}}$; however, it only has 66 observations, so it is not a convincing result. Other parameters such as  $\\color{red}{\\text{Plastic content}}$, and  $\\color{red}{\\text{gradation}}$ present an slight effect on the MS."
   ],
   "metadata": {}
  },
  {
   "cell_type": "code",
   "execution_count": null,
   "source": [
    "displayBoxPlotGraphs(dataFrame = dfMSModified, propertyOfInterest = \"MS of the sample (kN)\", columnName1 = \"Agreggate Type\", columnName2 = \"Plastic shape\", columnName3 = \"New Plastic Type\", columnName4 = \"Mixing Process\")"
   ],
   "outputs": [],
   "metadata": {}
  },
  {
   "cell_type": "markdown",
   "source": [
    "The mean of the **dry** and **wet** process are not significantly different."
   ],
   "metadata": {}
  },
  {
   "cell_type": "markdown",
   "source": [
    "###  3.3 Wet vs. Dry Mixing"
   ],
   "metadata": {}
  },
  {
   "cell_type": "code",
   "execution_count": null,
   "source": [
    "dfMSWetvsDry = dfMSModified [['Mixing Process', 'MS of the sample (kN)']]\r\n",
    "dfMSWetvsDry.groupby(['Mixing Process'], as_index=False).describe()"
   ],
   "outputs": [],
   "metadata": {}
  },
  {
   "cell_type": "code",
   "execution_count": null,
   "source": [
    "sns.pairplot(dfMSModified[columnsOfInteres+['Mixing Process']], hue=\"Mixing Process\", height=2.5)"
   ],
   "outputs": [],
   "metadata": {}
  },
  {
   "cell_type": "markdown",
   "source": [
    "##  **Marshall Stability summary:**\n",
    "\n",
    "*   There are missing values mainly in $\\color{red}{\\text{Apparent specific gravity}}$, $\\color{red}{\\text{Aggregate type}}$ and $\\color{red}{\\text{filler used}}$.\n",
    "*   Four outliers were eliminated. The final total sample included 402 data points ($\\mu$ = 14.47, $\\sigma$ = 4.6). \n",
    "*   $\\color{red}{\\text{Aggregate absorption}}$ seems to be a critical variable to include, but the percentage of missing values is more than 20%.\n",
    "*   $\\color{red}{\\text{Apparent specific gravity}}$ presents the strongest positive correlation with the Marshall stability, but it is not a reliable inference becasue it presents many missing points (318 missing points).\n",
    "* Although Marshall stability of modified asphalts is relatively higher than not modified, this is not certain because the high variances of both sample groups. $\\mu_{modified}$ = 15.12 vs. $\\mu_{unmodified}$ = 11.97\n",
    "*   $\\color{red}{\\text{Percentage of plastic addition}}$ has a noticeable possitive correlation with MS. (r = 0.39) \n",
    "*   MS of dry and wet are really similar -> $\\mu_{Dry}$ = 15.05 (200 observations) vs $\\mu_{Wet}$ = 15.2 (119 observations)\n",
    "\n",
    "## 4. Data Pre-processing"
   ],
   "metadata": {}
  },
  {
   "cell_type": "code",
   "execution_count": 7,
   "source": [
    "dfMS.info()"
   ],
   "outputs": [
    {
     "output_type": "stream",
     "name": "stdout",
     "text": [
      "<class 'pandas.core.frame.DataFrame'>\n",
      "Int64Index: 402 entries, 1 to 406\n",
      "Data columns (total 34 columns):\n",
      " #   Column                                  Non-Null Count  Dtype  \n",
      "---  ------                                  --------------  -----  \n",
      " 0   Article ID                              402 non-null    object \n",
      " 1   Global ID                               402 non-null    object \n",
      " 2   Modified asphalt Mix?                   402 non-null    object \n",
      " 3   Agreggate Type                          262 non-null    object \n",
      " 4   Aggregate absorption (%)                242 non-null    float64\n",
      " 5   Apparent specific gravity               84 non-null     float64\n",
      " 6   0.075                                   325 non-null    float64\n",
      " 7   0.3                                     372 non-null    float64\n",
      " 8   0.6                                     344 non-null    float64\n",
      " 9   2.36                                    355 non-null    float64\n",
      " 10  4.75                                    372 non-null    float64\n",
      " 11  9.5                                     344 non-null    float64\n",
      " 12  12.5                                    357 non-null    float64\n",
      " 13  19                                      372 non-null    float64\n",
      " 14  Filler used                             161 non-null    object \n",
      " 15  Bitumen Type Penetration Grade          402 non-null    object \n",
      " 16  Consolidated bitumen penetration grade  402 non-null    object \n",
      " 17  New Plastic Type                        377 non-null    object \n",
      " 18  Plastic pretreatment                    402 non-null    object \n",
      " 19  Plastic shape                           402 non-null    object \n",
      " 20  Plastic Size                            320 non-null    object \n",
      " 21  Plastic particle size (mm)              307 non-null    float64\n",
      " 22  Mixing Process                          402 non-null    object \n",
      " 23  Mixing speed (RPM)                      371 non-null    float64\n",
      " 24  Mixing Temperature                      385 non-null    float64\n",
      " 25  Mixing Time (hours)                     372 non-null    float64\n",
      " 26  Aggregates replacement ?                402 non-null    object \n",
      " 27  Bitumen replacement?                    402 non-null    object \n",
      " 28  Filler replacement                      402 non-null    object \n",
      " 29  Plastic Addition by bitumen weight (%)  400 non-null    float64\n",
      " 30  Property                                402 non-null    object \n",
      " 31  Units                                   402 non-null    object \n",
      " 32  Bitumen content in the sample           399 non-null    float64\n",
      " 33  MS of the sample (kN)                   402 non-null    float64\n",
      "dtypes: float64(17), object(17)\n",
      "memory usage: 109.9+ KB\n"
     ]
    }
   ],
   "metadata": {}
  },
  {
   "cell_type": "markdown",
   "source": [
    "###  Pre-processing:\n",
    "1.  Eliminate the columns $\\color{red}{\\text{Article ID}}$, $\\color{red}{\\text{Global ID}}$, $\\color{red}{\\text{Aggregate type}}$, $\\color{red}{\\text{Apparent specific gravity}}$, $\\color{red}{\\text{filler used}}$, $\\color{red}{\\text{Bitumen type penetration}}$, $\\color{red}{\\text{Property}}$, $\\color{red}{\\text{plastic size}}$ and $\\color{red}{\\text{Units}}$.\n",
    "2.  Change the N/a to zero. This is for the unmodified mixtures.\n",
    "3.  Eliminate rows with missing values in $\\color{red}{\\text{New Plastic Type}}$, $\\color{red}{\\text{Plastic addition by bitumen weight}}$ and $\\color{red}{\\text{bitumen}}$ content in sample\n",
    "4.  Change categorical columns to numeric.\n",
    "5.  Imputer to $\\color{red}{\\text{Aggregate absorption}}$, $\\color{red}{\\text{gradation}}$, $\\color{red}{\\text{plastic size(mm)}}$, and $\\color{red}{\\text{mixing parameters}}$."
   ],
   "metadata": {}
  },
  {
   "cell_type": "code",
   "execution_count": 8,
   "source": [
    "#Categorical Variables\r\n",
    "dfMSCleaned = dfMS.drop(['Article ID', \r\n",
    "                        'Global ID',\r\n",
    "                        'Modified asphalt Mix?',\r\n",
    "                        'Agreggate Type', \r\n",
    "                        'Apparent specific gravity', \r\n",
    "                        'Filler used', \r\n",
    "                        'Bitumen Type Penetration Grade', \r\n",
    "                        'Property', \r\n",
    "                        'Units', \r\n",
    "                        'Plastic Size' ], axis = 1)\r\n",
    "dfMSCleaned = dfMSCleaned.replace('N/a', 0)\r\n",
    "dfMSCleaned = dfMSCleaned.dropna(subset=['New Plastic Type', \r\n",
    "                                        'Plastic Addition by bitumen weight (%)', \r\n",
    "                                        'Bitumen content in the sample'])\r\n",
    "dfMSCleaned = pd.get_dummies(dfMSCleaned, columns=['New Plastic Type'], drop_first = False)\r\n",
    "dfMSCleaned = pd.get_dummies(dfMSCleaned, drop_first = True)\r\n",
    "dfMSCleaned = dfMSCleaned.drop(['New Plastic Type_0'], axis = 1)\r\n",
    "dfMSCleaned.info()"
   ],
   "outputs": [
    {
     "output_type": "stream",
     "name": "stdout",
     "text": [
      "<class 'pandas.core.frame.DataFrame'>\n",
      "Int64Index: 374 entries, 1 to 406\n",
      "Data columns (total 35 columns):\n",
      " #   Column                                         Non-Null Count  Dtype  \n",
      "---  ------                                         --------------  -----  \n",
      " 0   Aggregate absorption (%)                       217 non-null    float64\n",
      " 1   0.075                                          322 non-null    float64\n",
      " 2   0.3                                            369 non-null    float64\n",
      " 3   0.6                                            341 non-null    float64\n",
      " 4   2.36                                           352 non-null    float64\n",
      " 5   4.75                                           369 non-null    float64\n",
      " 6   9.5                                            341 non-null    float64\n",
      " 7   12.5                                           354 non-null    float64\n",
      " 8   19                                             369 non-null    float64\n",
      " 9   Plastic particle size (mm)                     304 non-null    float64\n",
      " 10  Mixing speed (RPM)                             343 non-null    float64\n",
      " 11  Mixing Temperature                             357 non-null    float64\n",
      " 12  Mixing Time (hours)                            344 non-null    float64\n",
      " 13  Plastic Addition by bitumen weight (%)         374 non-null    float64\n",
      " 14  Bitumen content in the sample                  374 non-null    float64\n",
      " 15  MS of the sample (kN)                          374 non-null    float64\n",
      " 16  New Plastic Type_Nylon                         374 non-null    uint8  \n",
      " 17  New Plastic Type_PE                            374 non-null    uint8  \n",
      " 18  New Plastic Type_PET                           374 non-null    uint8  \n",
      " 19  New Plastic Type_PP                            374 non-null    uint8  \n",
      " 20  New Plastic Type_PU                            374 non-null    uint8  \n",
      " 21  New Plastic Type_PVC                           374 non-null    uint8  \n",
      " 22  New Plastic Type_Plastic Mix                   374 non-null    uint8  \n",
      " 23  New Plastic Type_e-waste                       374 non-null    uint8  \n",
      " 24  Consolidated bitumen penetration grade_50/70   374 non-null    uint8  \n",
      " 25  Consolidated bitumen penetration grade_70/100  374 non-null    uint8  \n",
      " 26  Plastic pretreatment_Physical                  374 non-null    uint8  \n",
      " 27  Plastic pretreatment_Plastic Melted            374 non-null    uint8  \n",
      " 28  Plastic shape_Fibers                           374 non-null    uint8  \n",
      " 29  Plastic shape_Pellets                          374 non-null    uint8  \n",
      " 30  Plastic shape_Shredded                         374 non-null    uint8  \n",
      " 31  Mixing Process_Dry                             374 non-null    uint8  \n",
      " 32  Mixing Process_Wet                             374 non-null    uint8  \n",
      " 33  Aggregates replacement ?_Yes                   374 non-null    uint8  \n",
      " 34  Bitumen replacement?_Yes                       374 non-null    uint8  \n",
      "dtypes: float64(16), uint8(19)\n",
      "memory usage: 56.6 KB\n"
     ]
    }
   ],
   "metadata": {}
  },
  {
   "cell_type": "code",
   "execution_count": 9,
   "source": [
    "#IMPUTATION OF MISSING VALUES\r\n",
    "imputer = IterativeImputer (estimator = ExtraTreesRegressor(n_estimators=10, random_state=123), max_iter=50)\r\n",
    "n = imputer.fit_transform(dfMSCleaned)\r\n",
    "dfMSCleanedImputed = pd.DataFrame(n, columns = list(dfMSCleaned.columns))\r\n",
    "dfMSCleanedImputed.info()\r\n",
    "print ('There is '+str(sum(n < 0 for n in dfMSCleanedImputed.values.flatten()))+' negative values in the new Dataframe')"
   ],
   "outputs": [
    {
     "output_type": "stream",
     "name": "stdout",
     "text": [
      "<class 'pandas.core.frame.DataFrame'>\n",
      "RangeIndex: 374 entries, 0 to 373\n",
      "Data columns (total 35 columns):\n",
      " #   Column                                         Non-Null Count  Dtype  \n",
      "---  ------                                         --------------  -----  \n",
      " 0   Aggregate absorption (%)                       374 non-null    float64\n",
      " 1   0.075                                          374 non-null    float64\n",
      " 2   0.3                                            374 non-null    float64\n",
      " 3   0.6                                            374 non-null    float64\n",
      " 4   2.36                                           374 non-null    float64\n",
      " 5   4.75                                           374 non-null    float64\n",
      " 6   9.5                                            374 non-null    float64\n",
      " 7   12.5                                           374 non-null    float64\n",
      " 8   19                                             374 non-null    float64\n",
      " 9   Plastic particle size (mm)                     374 non-null    float64\n",
      " 10  Mixing speed (RPM)                             374 non-null    float64\n",
      " 11  Mixing Temperature                             374 non-null    float64\n",
      " 12  Mixing Time (hours)                            374 non-null    float64\n",
      " 13  Plastic Addition by bitumen weight (%)         374 non-null    float64\n",
      " 14  Bitumen content in the sample                  374 non-null    float64\n",
      " 15  MS of the sample (kN)                          374 non-null    float64\n",
      " 16  New Plastic Type_Nylon                         374 non-null    float64\n",
      " 17  New Plastic Type_PE                            374 non-null    float64\n",
      " 18  New Plastic Type_PET                           374 non-null    float64\n",
      " 19  New Plastic Type_PP                            374 non-null    float64\n",
      " 20  New Plastic Type_PU                            374 non-null    float64\n",
      " 21  New Plastic Type_PVC                           374 non-null    float64\n",
      " 22  New Plastic Type_Plastic Mix                   374 non-null    float64\n",
      " 23  New Plastic Type_e-waste                       374 non-null    float64\n",
      " 24  Consolidated bitumen penetration grade_50/70   374 non-null    float64\n",
      " 25  Consolidated bitumen penetration grade_70/100  374 non-null    float64\n",
      " 26  Plastic pretreatment_Physical                  374 non-null    float64\n",
      " 27  Plastic pretreatment_Plastic Melted            374 non-null    float64\n",
      " 28  Plastic shape_Fibers                           374 non-null    float64\n",
      " 29  Plastic shape_Pellets                          374 non-null    float64\n",
      " 30  Plastic shape_Shredded                         374 non-null    float64\n",
      " 31  Mixing Process_Dry                             374 non-null    float64\n",
      " 32  Mixing Process_Wet                             374 non-null    float64\n",
      " 33  Aggregates replacement ?_Yes                   374 non-null    float64\n",
      " 34  Bitumen replacement?_Yes                       374 non-null    float64\n",
      "dtypes: float64(35)\n",
      "memory usage: 102.4 KB\n",
      "There is 0 negative values in the new Dataframe\n"
     ]
    },
    {
     "output_type": "stream",
     "name": "stderr",
     "text": [
      "C:\\Users\\cavs1\\Anaconda3\\envs\\spyder\\lib\\site-packages\\sklearn\\impute\\_iterative.py:685: ConvergenceWarning: [IterativeImputer] Early stopping criterion not reached.\n",
      "  warnings.warn(\"[IterativeImputer] Early stopping criterion not\"\n"
     ]
    }
   ],
   "metadata": {}
  },
  {
   "cell_type": "code",
   "execution_count": 10,
   "source": [
    "dfMSCleanedImputed['New Plastic Type_Nylon'] = dfMSCleanedImputed['New Plastic Type_Nylon'] * dfMSCleanedImputed['Plastic Addition by bitumen weight (%)']\r\n",
    "dfMSCleanedImputed['New Plastic Type_PE'] = dfMSCleanedImputed['New Plastic Type_PE'] * dfMSCleanedImputed['Plastic Addition by bitumen weight (%)']\r\n",
    "dfMSCleanedImputed['New Plastic Type_PET'] = dfMSCleanedImputed['New Plastic Type_PET'] * dfMSCleanedImputed['Plastic Addition by bitumen weight (%)']\r\n",
    "dfMSCleanedImputed['New Plastic Type_PP'] = dfMSCleanedImputed['New Plastic Type_PP'] * dfMSCleanedImputed['Plastic Addition by bitumen weight (%)']\r\n",
    "dfMSCleanedImputed['New Plastic Type_PU'] = dfMSCleanedImputed['New Plastic Type_PU'] * dfMSCleanedImputed['Plastic Addition by bitumen weight (%)']\r\n",
    "dfMSCleanedImputed['New Plastic Type_PVC'] = dfMSCleanedImputed['New Plastic Type_PVC'] * dfMSCleanedImputed['Plastic Addition by bitumen weight (%)']\r\n",
    "dfMSCleanedImputed['New Plastic Type_Plastic Mix'] = dfMSCleanedImputed['New Plastic Type_Plastic Mix'] * dfMSCleanedImputed['Plastic Addition by bitumen weight (%)']\r\n",
    "dfMSCleanedImputed['New Plastic Type_e-waste'] = dfMSCleanedImputed['New Plastic Type_e-waste'] * dfMSCleanedImputed['Plastic Addition by bitumen weight (%)']\r\n",
    "dfMSCleanedImputed = dfMSCleanedImputed.drop(['Plastic Addition by bitumen weight (%)'], axis = 1)"
   ],
   "outputs": [],
   "metadata": {}
  },
  {
   "cell_type": "code",
   "execution_count": 11,
   "source": [
    "scaler = MinMaxScaler()\r\n",
    "dfMSCleanedImputedScaled = pd.DataFrame(scaler.fit_transform(dfMSCleanedImputed), columns = list(dfMSCleanedImputed.columns))\r\n",
    "dfMSCleanedImputedScaled.to_clipboard()"
   ],
   "outputs": [],
   "metadata": {}
  },
  {
   "cell_type": "markdown",
   "source": [
    "## 5. Model Training"
   ],
   "metadata": {}
  },
  {
   "cell_type": "code",
   "execution_count": 12,
   "source": [
    "min = dfMSCleanedImputed['MS of the sample (kN)'].min()\r\n",
    "max = dfMSCleanedImputed['MS of the sample (kN)'].max()\r\n",
    "print('The min value is: '+str(min)+'. The max value is: '+str(max))"
   ],
   "outputs": [
    {
     "output_type": "stream",
     "name": "stdout",
     "text": [
      "The min value is: 1.36784. The max value is: 26.9\n"
     ]
    }
   ],
   "metadata": {}
  },
  {
   "cell_type": "code",
   "execution_count": null,
   "source": [
    "#Method that print the best parameters, R2 and MSE based on a grid search.\r\n",
    "def printBestModelAdv (grid, estimator = n, advancedAnalysis = False):\r\n",
    "    min = dfMSCleanedImputed['MS of the sample (kN)'].min()\r\n",
    "    max = dfMSCleanedImputed['MS of the sample (kN)'].max()\r\n",
    "    mse = -grid.best_score_\r\n",
    "    print('Best Parameters:' , grid.best_params_)\r\n",
    "    print('Best Test MSE: ' + str(mse))\r\n",
    "    print('Std of the Test MSE:' + str(grid.cv_results_['std_test_neg_mean_squared_error'][grid.best_index_]))\r\n",
    "    print('Best Test RMSE: ' +str(math.sqrt(mse)))\r\n",
    "    print('Best Test scaled RMSE: ' +str((math.sqrt(mse)*(max-min))+min))\r\n",
    "    print('Best Test scaled MSE: ' +str(((math.sqrt(mse)*(max-min))+min)**2)) \r\n",
    "    print('Best Test R2: ' + str(grid.cv_results_['mean_test_r2'][grid.best_index_]))\r\n",
    "    if (advancedAnalysis):\r\n",
    "        bestEstimator = estimator\r\n",
    "        bestEstimator.fit(X_train, y_train)\r\n",
    "        predictionsTrain = bestEstimator.predict(X_train)\r\n",
    "        df = pd.DataFrame({'predictions':predictionsTrain, 'original': y_train})\r\n",
    "        df.plot.hist(bins=10, alpha=0.5)\r\n",
    "        unScaledDf = (df*(max-min))+min\r\n",
    "        print (unScaledDf.describe())"
   ],
   "outputs": [],
   "metadata": {}
  },
  {
   "cell_type": "code",
   "execution_count": 13,
   "source": [
    "X = dfMSCleanedImputedScaled.loc[:, dfMSCleanedImputedScaled.columns != 'MS of the sample (kN)']\r\n",
    "X.columns = X.columns.astype(str)\r\n",
    "y = dfMSCleanedImputedScaled.loc[:,'MS of the sample (kN)']\r\n",
    "X_train, X_test, y_train, y_test = train_test_split(X, y, test_size=0.2, random_state=123)\r\n",
    "cv = RepeatedKFold(n_splits = 5, n_repeats = 10, random_state = 123)"
   ],
   "outputs": [],
   "metadata": {}
  },
  {
   "cell_type": "code",
   "execution_count": 15,
   "source": [
    "y_train_new = y_train.to_frame()\r\n",
    "y_train_new['y_train_unscaled'] = (y_train*(max-min))+min"
   ],
   "outputs": [],
   "metadata": {}
  },
  {
   "cell_type": "code",
   "execution_count": 16,
   "source": [
    "y_train_new.describe()"
   ],
   "outputs": [
    {
     "output_type": "execute_result",
     "data": {
      "text/plain": [
       "       MS of the sample (kN)  y_train_unscaled\n",
       "count             299.000000        299.000000\n",
       "mean                0.495588         14.021276\n",
       "std                 0.179733          4.588971\n",
       "min                 0.011728          1.667280\n",
       "25%                 0.353580         10.395513\n",
       "50%                 0.491622         13.920000\n",
       "75%                 0.615975         17.095000\n",
       "max                 1.000000         26.900000"
      ],
      "text/html": [
       "<div>\n",
       "<style scoped>\n",
       "    .dataframe tbody tr th:only-of-type {\n",
       "        vertical-align: middle;\n",
       "    }\n",
       "\n",
       "    .dataframe tbody tr th {\n",
       "        vertical-align: top;\n",
       "    }\n",
       "\n",
       "    .dataframe thead th {\n",
       "        text-align: right;\n",
       "    }\n",
       "</style>\n",
       "<table border=\"1\" class=\"dataframe\">\n",
       "  <thead>\n",
       "    <tr style=\"text-align: right;\">\n",
       "      <th></th>\n",
       "      <th>MS of the sample (kN)</th>\n",
       "      <th>y_train_unscaled</th>\n",
       "    </tr>\n",
       "  </thead>\n",
       "  <tbody>\n",
       "    <tr>\n",
       "      <th>count</th>\n",
       "      <td>299.000000</td>\n",
       "      <td>299.000000</td>\n",
       "    </tr>\n",
       "    <tr>\n",
       "      <th>mean</th>\n",
       "      <td>0.495588</td>\n",
       "      <td>14.021276</td>\n",
       "    </tr>\n",
       "    <tr>\n",
       "      <th>std</th>\n",
       "      <td>0.179733</td>\n",
       "      <td>4.588971</td>\n",
       "    </tr>\n",
       "    <tr>\n",
       "      <th>min</th>\n",
       "      <td>0.011728</td>\n",
       "      <td>1.667280</td>\n",
       "    </tr>\n",
       "    <tr>\n",
       "      <th>25%</th>\n",
       "      <td>0.353580</td>\n",
       "      <td>10.395513</td>\n",
       "    </tr>\n",
       "    <tr>\n",
       "      <th>50%</th>\n",
       "      <td>0.491622</td>\n",
       "      <td>13.920000</td>\n",
       "    </tr>\n",
       "    <tr>\n",
       "      <th>75%</th>\n",
       "      <td>0.615975</td>\n",
       "      <td>17.095000</td>\n",
       "    </tr>\n",
       "    <tr>\n",
       "      <th>max</th>\n",
       "      <td>1.000000</td>\n",
       "      <td>26.900000</td>\n",
       "    </tr>\n",
       "  </tbody>\n",
       "</table>\n",
       "</div>"
      ]
     },
     "metadata": {},
     "execution_count": 16
    }
   ],
   "metadata": {}
  },
  {
   "cell_type": "code",
   "execution_count": 17,
   "source": [
    "sns.set_style('darkgrid')\r\n",
    "fig, ax = plt.subplots()\r\n",
    "sns.histplot(x=y_train_new[\"y_train_unscaled\"], bins=10, kde=True, ax = ax)\r\n",
    "ax.set(xlabel='Marshall Stability (kN)')\r\n",
    "ax.axvline(x=5.33, label='Minimum accepted value' , linestyle = '--', color='k')\r\n",
    "ax.set_title('(b)')\r\n",
    "ax.legend()\r\n",
    "plt.show()"
   ],
   "outputs": [
    {
     "output_type": "display_data",
     "data": {
      "text/plain": [
       "<Figure size 432x288 with 1 Axes>"
      ],
      "image/png": "[encoded data removed]"
     },
     "metadata": {}
    }
   ],
   "metadata": {}
  },
  {
   "cell_type": "markdown",
   "source": [
    "### 5.1 Model Evaluation\n",
    "#### Linear Model"
   ],
   "metadata": {}
  },
  {
   "cell_type": "code",
   "execution_count": null,
   "source": [
    "param_grid = {'fit_intercept': [True, False],\r\n",
    "            'positive': [True, False]}\r\n",
    "grid = GridSearchCV(LinearRegression(), param_grid, cv = cv, scoring=['neg_mean_squared_error', 'r2'], refit = 'neg_mean_squared_error', return_train_score= True)\r\n",
    "grid.fit(X_train, y_train)\r\n",
    "printBestModelAdv(grid) "
   ],
   "outputs": [],
   "metadata": {}
  },
  {
   "cell_type": "markdown",
   "source": [
    "#### Lasso Linear Model"
   ],
   "metadata": {}
  },
  {
   "cell_type": "code",
   "execution_count": null,
   "source": [
    "param_grid = {'alpha': [0.001,1, 10, 15, 30, 50, 100],\r\n",
    "            'fit_intercept':[True, False],\r\n",
    "            'positive': [True, False]}\r\n",
    "grid = GridSearchCV(Lasso(), param_grid, cv=cv, scoring=['neg_mean_squared_error', 'r2'], refit = 'neg_mean_squared_error', return_train_score= True)\r\n",
    "grid.fit(X_train, y_train)\r\n",
    "printBestModelAdv(grid)"
   ],
   "outputs": [],
   "metadata": {}
  },
  {
   "cell_type": "markdown",
   "source": [
    "#### Ridge Linear regression model"
   ],
   "metadata": {}
  },
  {
   "cell_type": "code",
   "execution_count": null,
   "source": [
    "param_grid = {'alpha': [7, 8, 10,100],\r\n",
    "'fit_intercept': [True, False],\r\n",
    "'solver': [ 'svd', 'cholesky', 'lsqr', 'sparse_cg', 'sag', 'saga']}\r\n",
    "grid = GridSearchCV(Ridge(), param_grid, cv=cv, scoring=['neg_mean_squared_error', 'r2'], refit = 'neg_mean_squared_error')\r\n",
    "grid.fit(X_train, y_train)\r\n",
    "printBestModelAdv(grid)"
   ],
   "outputs": [],
   "metadata": {}
  },
  {
   "cell_type": "markdown",
   "source": [
    "#### Linear Elastic net"
   ],
   "metadata": {}
  },
  {
   "cell_type": "code",
   "execution_count": null,
   "source": [
    "param_grid = {'alpha': [0.01,1,2,3,4],\r\n",
    "'fit_intercept': [True, False]}\r\n",
    "grid = GridSearchCV(ElasticNet(), param_grid, cv=cv, scoring=['neg_mean_squared_error', 'r2'], refit = 'neg_mean_squared_error')\r\n",
    "grid.fit(X_train, y_train)\r\n",
    "printBestModelAdv(grid)"
   ],
   "outputs": [],
   "metadata": {}
  },
  {
   "cell_type": "markdown",
   "source": [
    "#### Polynomial model"
   ],
   "metadata": {}
  },
  {
   "cell_type": "code",
   "execution_count": null,
   "source": [
    "def PolynomialRegression(degree=2, **kwargs):\r\n",
    "    return make_pipeline(PolynomialFeatures(degree), LinearRegression(**kwargs))\r\n",
    "\r\n",
    "param_grid = {'polynomialfeatures__degree': [2,3],\r\n",
    "'linearregression__fit_intercept': [True, False],\r\n",
    "'linearregression__positive':[True, False]}\r\n",
    "grid = GridSearchCV(PolynomialRegression(), param_grid, cv=cv, scoring=['neg_mean_squared_error', 'r2'], refit = 'neg_mean_squared_error')\r\n",
    "grid.fit(X_train, y_train)\r\n",
    "printBestModelAdv(grid)"
   ],
   "outputs": [],
   "metadata": {}
  },
  {
   "cell_type": "markdown",
   "source": [
    "#### Lasso Polynomial model"
   ],
   "metadata": {}
  },
  {
   "cell_type": "code",
   "execution_count": null,
   "source": [
    "def PolynomialRegression(degree=2, **kwargs):\r\n",
    "    return make_pipeline(PolynomialFeatures(degree), Lasso(**kwargs))\r\n",
    "\r\n",
    "param_grid = {'polynomialfeatures__degree': [2,3],\r\n",
    "            'lasso__alpha': [1,2, 3, 10, 15, 30],\r\n",
    "            'lasso__fit_intercept':[True, False],\r\n",
    "            'lasso__positive': [True, False],\r\n",
    "            'lasso__max_iter': [2000,3000, 3500]}\r\n",
    "grid = GridSearchCV(PolynomialRegression(), param_grid, cv=cv, scoring=['neg_mean_squared_error', 'r2'], refit = 'neg_mean_squared_error', return_train_score= True)\r\n",
    "grid.fit(X_train, y_train)\r\n",
    "printBestModelAdv(grid)"
   ],
   "outputs": [],
   "metadata": {}
  },
  {
   "cell_type": "markdown",
   "source": [
    "#### Ridge polynomial model"
   ],
   "metadata": {}
  },
  {
   "cell_type": "code",
   "execution_count": null,
   "source": [
    "def PolynomialRegression(degree=2, **kwargs):\r\n",
    "    return make_pipeline(PolynomialFeatures(degree), Ridge(**kwargs))\r\n",
    "\r\n",
    "param_grid = {'polynomialfeatures__degree': [2,3],\r\n",
    "'ridge__alpha':[20,30,50, 60],\r\n",
    "'ridge__fit_intercept': [True, False],\r\n",
    "'ridge__solver': [ 'lsqr', 'cholesky', 'sparse_cg', 'auto']}\r\n",
    "grid = GridSearchCV(PolynomialRegression(), param_grid, cv=cv, scoring=['neg_mean_squared_error', 'r2'], refit='neg_mean_squared_error')\r\n",
    "grid.fit(X_train, y_train)\r\n",
    "printBestModelAdv(grid)"
   ],
   "outputs": [],
   "metadata": {}
  },
  {
   "cell_type": "markdown",
   "source": [
    "#### Support vector regression"
   ],
   "metadata": {}
  },
  {
   "cell_type": "code",
   "execution_count": null,
   "source": [
    "param_grid = {\r\n",
    "    'kernel':['linear','rbf', 'sigmoid', 'poly'],\r\n",
    "    'degree':[2,3,4],\r\n",
    "    'C':[0.01,1,5,10],\r\n",
    "    'epsilon':[0.1,0.2, 1, 1.5]\r\n",
    "}\r\n",
    "grid = GridSearchCV(SVR(), param_grid, cv=cv, scoring=['neg_mean_squared_error', 'r2'], refit='neg_mean_squared_error')\r\n",
    "grid.fit(X_train, y_train)\r\n",
    "printBestModelAdv(grid)"
   ],
   "outputs": [],
   "metadata": {}
  },
  {
   "cell_type": "markdown",
   "source": [
    "#### Decision Tree regressor"
   ],
   "metadata": {}
  },
  {
   "cell_type": "code",
   "execution_count": null,
   "source": [
    "param_grid = {\r\n",
    "    'max_depth':[1,2,3,5,10,30],\r\n",
    "    'min_samples_split':[2,3,4],\r\n",
    "    'min_samples_leaf':[0.4,1,2]\r\n",
    "}\r\n",
    "grid = GridSearchCV(DecisionTreeRegressor(), param_grid, cv=cv, scoring=['neg_mean_squared_error', 'r2'], refit='neg_mean_squared_error')\r\n",
    "grid.fit(X_train, y_train)\r\n",
    "printBestModelAdv(grid)"
   ],
   "outputs": [],
   "metadata": {}
  },
  {
   "cell_type": "markdown",
   "source": [
    "#### Random Forest"
   ],
   "metadata": {}
  },
  {
   "cell_type": "code",
   "execution_count": null,
   "source": [
    "param_grid = {\r\n",
    "    'bootstrap': [True, False],\r\n",
    "    'max_depth': [10, 20, 30, 40, 50, 60, 70, 80, 90, 100, None],\r\n",
    "    'max_features': ['auto', 'sqrt'],\r\n",
    "    'min_samples_leaf': [1, 2, 4],\r\n",
    "    'min_samples_split': [2, 5, 10],\r\n",
    "    'n_estimators': [200, 400, 600, 800, 1000, 1200, 1400, 1600, 1800, 2000]\r\n",
    "}\r\n",
    "grid = RandomizedSearchCV(RandomForestRegressor(), param_grid, cv=cv, scoring=['r2','neg_mean_squared_error'], refit='neg_mean_squared_error', n_iter=10)\r\n",
    "grid.fit(X_train, y_train)\r\n",
    "printBestModelAdv(grid, RandomForestRegressor(**grid.best_params_), True)"
   ],
   "outputs": [],
   "metadata": {
    "tags": []
   }
  },
  {
   "cell_type": "markdown",
   "source": [
    "#### Extra tree regressor"
   ],
   "metadata": {}
  },
  {
   "cell_type": "code",
   "execution_count": null,
   "source": [
    "param_grid = {\r\n",
    "    'bootstrap': [True],\r\n",
    "    'max_depth': [50],\r\n",
    "    'max_features': ['auto'],\r\n",
    "    'min_samples_leaf': [1,2,4,5,10],\r\n",
    "    'min_samples_split': [2],\r\n",
    "    'n_estimators': [400]\r\n",
    "}\r\n",
    "grid = GridSearchCV(ExtraTreesRegressor(), param_grid, cv=cv, scoring=['r2','neg_mean_squared_error'], refit='neg_mean_squared_error')\r\n",
    "grid.fit(X_train, y_train)\r\n",
    "printBestModelAdv(grid, RandomForestRegressor(**grid.best_params_), True)"
   ],
   "outputs": [],
   "metadata": {}
  },
  {
   "cell_type": "code",
   "execution_count": null,
   "source": [
    "param_grid = {\r\n",
    "    'bootstrap': [True, False],\r\n",
    "    'max_depth': [10, 20, 30, 40, 50, 60, 70, 80, 90, 100, None],\r\n",
    "    'max_features': ['auto', 'sqrt'],\r\n",
    "    'min_samples_leaf': [1, 2, 4],\r\n",
    "    'min_samples_split': [2, 5, 10],\r\n",
    "    'n_estimators': [200, 400, 600, 800, 1000, 1200, 1400, 1600, 1800, 2000]\r\n",
    "}\r\n",
    "grid = RandomizedSearchCV(ExtraTreesRegressor(), param_grid, cv=cv, scoring=['r2','neg_mean_squared_error'], refit='neg_mean_squared_error', n_iter=10)\r\n",
    "grid.fit(X_train, y_train)\r\n",
    "printBestModelAdv(grid, RandomForestRegressor(**grid.best_params_), True)"
   ],
   "outputs": [],
   "metadata": {
    "tags": []
   }
  },
  {
   "cell_type": "markdown",
   "source": [
    "#### XG Boost Regressor"
   ],
   "metadata": {}
  },
  {
   "cell_type": "code",
   "execution_count": 20,
   "source": [
    "param_grid = {\r\n",
    "    'n_estimators': [100,300,500,1000]\r\n",
    "}\r\n",
    "grid = GridSearchCV(XGBRegressor(random_state=123), param_grid, cv=cv, scoring=['neg_mean_squared_error', 'r2'], refit='neg_mean_squared_error')\r\n",
    "grid.fit(X_train, y_train)\r\n",
    "printBestModelAdv(grid, XGBRegressor(**grid.best_params_), True)"
   ],
   "outputs": [
    {
     "output_type": "error",
     "ename": "KeyboardInterrupt",
     "evalue": "",
     "traceback": [
      "\u001b[1;31m---------------------------------------------------------------------------\u001b[0m",
      "\u001b[1;31mKeyboardInterrupt\u001b[0m                         Traceback (most recent call last)",
      "\u001b[1;32m<ipython-input-20-214ec12c0b1a>\u001b[0m in \u001b[0;36m<module>\u001b[1;34m\u001b[0m\n\u001b[0;32m      3\u001b[0m }\n\u001b[0;32m      4\u001b[0m \u001b[0mgrid\u001b[0m \u001b[1;33m=\u001b[0m \u001b[0mGridSearchCV\u001b[0m\u001b[1;33m(\u001b[0m\u001b[0mXGBRegressor\u001b[0m\u001b[1;33m(\u001b[0m\u001b[0mrandom_state\u001b[0m\u001b[1;33m=\u001b[0m\u001b[1;36m123\u001b[0m\u001b[1;33m)\u001b[0m\u001b[1;33m,\u001b[0m \u001b[0mparam_grid\u001b[0m\u001b[1;33m,\u001b[0m \u001b[0mcv\u001b[0m\u001b[1;33m=\u001b[0m\u001b[0mcv\u001b[0m\u001b[1;33m,\u001b[0m \u001b[0mscoring\u001b[0m\u001b[1;33m=\u001b[0m\u001b[1;33m[\u001b[0m\u001b[1;34m'neg_mean_squared_error'\u001b[0m\u001b[1;33m,\u001b[0m \u001b[1;34m'r2'\u001b[0m\u001b[1;33m]\u001b[0m\u001b[1;33m,\u001b[0m \u001b[0mrefit\u001b[0m\u001b[1;33m=\u001b[0m\u001b[1;34m'neg_mean_squared_error'\u001b[0m\u001b[1;33m)\u001b[0m\u001b[1;33m\u001b[0m\u001b[1;33m\u001b[0m\u001b[0m\n\u001b[1;32m----> 5\u001b[1;33m \u001b[0mgrid\u001b[0m\u001b[1;33m.\u001b[0m\u001b[0mfit\u001b[0m\u001b[1;33m(\u001b[0m\u001b[0mX_train\u001b[0m\u001b[1;33m,\u001b[0m \u001b[0my_train\u001b[0m\u001b[1;33m)\u001b[0m\u001b[1;33m\u001b[0m\u001b[1;33m\u001b[0m\u001b[0m\n\u001b[0m\u001b[0;32m      6\u001b[0m \u001b[0mprintBestModelAdv\u001b[0m\u001b[1;33m(\u001b[0m\u001b[0mgrid\u001b[0m\u001b[1;33m,\u001b[0m \u001b[0mXGBRegressor\u001b[0m\u001b[1;33m(\u001b[0m\u001b[1;33m**\u001b[0m\u001b[0mgrid\u001b[0m\u001b[1;33m.\u001b[0m\u001b[0mbest_params_\u001b[0m\u001b[1;33m)\u001b[0m\u001b[1;33m,\u001b[0m \u001b[1;32mTrue\u001b[0m\u001b[1;33m)\u001b[0m\u001b[1;33m\u001b[0m\u001b[1;33m\u001b[0m\u001b[0m\n",
      "\u001b[1;32m~\\Anaconda3\\envs\\spyder\\lib\\site-packages\\sklearn\\utils\\validation.py\u001b[0m in \u001b[0;36minner_f\u001b[1;34m(*args, **kwargs)\u001b[0m\n\u001b[0;32m     61\u001b[0m             \u001b[0mextra_args\u001b[0m \u001b[1;33m=\u001b[0m \u001b[0mlen\u001b[0m\u001b[1;33m(\u001b[0m\u001b[0margs\u001b[0m\u001b[1;33m)\u001b[0m \u001b[1;33m-\u001b[0m \u001b[0mlen\u001b[0m\u001b[1;33m(\u001b[0m\u001b[0mall_args\u001b[0m\u001b[1;33m)\u001b[0m\u001b[1;33m\u001b[0m\u001b[1;33m\u001b[0m\u001b[0m\n\u001b[0;32m     62\u001b[0m             \u001b[1;32mif\u001b[0m \u001b[0mextra_args\u001b[0m \u001b[1;33m<=\u001b[0m \u001b[1;36m0\u001b[0m\u001b[1;33m:\u001b[0m\u001b[1;33m\u001b[0m\u001b[1;33m\u001b[0m\u001b[0m\n\u001b[1;32m---> 63\u001b[1;33m                 \u001b[1;32mreturn\u001b[0m \u001b[0mf\u001b[0m\u001b[1;33m(\u001b[0m\u001b[1;33m*\u001b[0m\u001b[0margs\u001b[0m\u001b[1;33m,\u001b[0m \u001b[1;33m**\u001b[0m\u001b[0mkwargs\u001b[0m\u001b[1;33m)\u001b[0m\u001b[1;33m\u001b[0m\u001b[1;33m\u001b[0m\u001b[0m\n\u001b[0m\u001b[0;32m     64\u001b[0m \u001b[1;33m\u001b[0m\u001b[0m\n\u001b[0;32m     65\u001b[0m             \u001b[1;31m# extra_args > 0\u001b[0m\u001b[1;33m\u001b[0m\u001b[1;33m\u001b[0m\u001b[1;33m\u001b[0m\u001b[0m\n",
      "\u001b[1;32m~\\Anaconda3\\envs\\spyder\\lib\\site-packages\\sklearn\\model_selection\\_search.py\u001b[0m in \u001b[0;36mfit\u001b[1;34m(self, X, y, groups, **fit_params)\u001b[0m\n\u001b[0;32m    839\u001b[0m                 \u001b[1;32mreturn\u001b[0m \u001b[0mresults\u001b[0m\u001b[1;33m\u001b[0m\u001b[1;33m\u001b[0m\u001b[0m\n\u001b[0;32m    840\u001b[0m \u001b[1;33m\u001b[0m\u001b[0m\n\u001b[1;32m--> 841\u001b[1;33m             \u001b[0mself\u001b[0m\u001b[1;33m.\u001b[0m\u001b[0m_run_search\u001b[0m\u001b[1;33m(\u001b[0m\u001b[0mevaluate_candidates\u001b[0m\u001b[1;33m)\u001b[0m\u001b[1;33m\u001b[0m\u001b[1;33m\u001b[0m\u001b[0m\n\u001b[0m\u001b[0;32m    842\u001b[0m \u001b[1;33m\u001b[0m\u001b[0m\n\u001b[0;32m    843\u001b[0m             \u001b[1;31m# multimetric is determined here because in the case of a callable\u001b[0m\u001b[1;33m\u001b[0m\u001b[1;33m\u001b[0m\u001b[1;33m\u001b[0m\u001b[0m\n",
      "\u001b[1;32m~\\Anaconda3\\envs\\spyder\\lib\\site-packages\\sklearn\\model_selection\\_search.py\u001b[0m in \u001b[0;36m_run_search\u001b[1;34m(self, evaluate_candidates)\u001b[0m\n\u001b[0;32m   1294\u001b[0m     \u001b[1;32mdef\u001b[0m \u001b[0m_run_search\u001b[0m\u001b[1;33m(\u001b[0m\u001b[0mself\u001b[0m\u001b[1;33m,\u001b[0m \u001b[0mevaluate_candidates\u001b[0m\u001b[1;33m)\u001b[0m\u001b[1;33m:\u001b[0m\u001b[1;33m\u001b[0m\u001b[1;33m\u001b[0m\u001b[0m\n\u001b[0;32m   1295\u001b[0m         \u001b[1;34m\"\"\"Search all candidates in param_grid\"\"\"\u001b[0m\u001b[1;33m\u001b[0m\u001b[1;33m\u001b[0m\u001b[0m\n\u001b[1;32m-> 1296\u001b[1;33m         \u001b[0mevaluate_candidates\u001b[0m\u001b[1;33m(\u001b[0m\u001b[0mParameterGrid\u001b[0m\u001b[1;33m(\u001b[0m\u001b[0mself\u001b[0m\u001b[1;33m.\u001b[0m\u001b[0mparam_grid\u001b[0m\u001b[1;33m)\u001b[0m\u001b[1;33m)\u001b[0m\u001b[1;33m\u001b[0m\u001b[1;33m\u001b[0m\u001b[0m\n\u001b[0m\u001b[0;32m   1297\u001b[0m \u001b[1;33m\u001b[0m\u001b[0m\n\u001b[0;32m   1298\u001b[0m \u001b[1;33m\u001b[0m\u001b[0m\n",
      "\u001b[1;32m~\\Anaconda3\\envs\\spyder\\lib\\site-packages\\sklearn\\model_selection\\_search.py\u001b[0m in \u001b[0;36mevaluate_candidates\u001b[1;34m(candidate_params, cv, more_results)\u001b[0m\n\u001b[0;32m    793\u001b[0m                               n_splits, n_candidates, n_candidates * n_splits))\n\u001b[0;32m    794\u001b[0m \u001b[1;33m\u001b[0m\u001b[0m\n\u001b[1;32m--> 795\u001b[1;33m                 out = parallel(delayed(_fit_and_score)(clone(base_estimator),\n\u001b[0m\u001b[0;32m    796\u001b[0m                                                        \u001b[0mX\u001b[0m\u001b[1;33m,\u001b[0m \u001b[0my\u001b[0m\u001b[1;33m,\u001b[0m\u001b[1;33m\u001b[0m\u001b[1;33m\u001b[0m\u001b[0m\n\u001b[0;32m    797\u001b[0m                                                        \u001b[0mtrain\u001b[0m\u001b[1;33m=\u001b[0m\u001b[0mtrain\u001b[0m\u001b[1;33m,\u001b[0m \u001b[0mtest\u001b[0m\u001b[1;33m=\u001b[0m\u001b[0mtest\u001b[0m\u001b[1;33m,\u001b[0m\u001b[1;33m\u001b[0m\u001b[1;33m\u001b[0m\u001b[0m\n",
      "\u001b[1;32m~\\Anaconda3\\envs\\spyder\\lib\\site-packages\\joblib\\parallel.py\u001b[0m in \u001b[0;36m__call__\u001b[1;34m(self, iterable)\u001b[0m\n\u001b[0;32m   1042\u001b[0m                 \u001b[0mself\u001b[0m\u001b[1;33m.\u001b[0m\u001b[0m_iterating\u001b[0m \u001b[1;33m=\u001b[0m \u001b[0mself\u001b[0m\u001b[1;33m.\u001b[0m\u001b[0m_original_iterator\u001b[0m \u001b[1;32mis\u001b[0m \u001b[1;32mnot\u001b[0m \u001b[1;32mNone\u001b[0m\u001b[1;33m\u001b[0m\u001b[1;33m\u001b[0m\u001b[0m\n\u001b[0;32m   1043\u001b[0m \u001b[1;33m\u001b[0m\u001b[0m\n\u001b[1;32m-> 1044\u001b[1;33m             \u001b[1;32mwhile\u001b[0m \u001b[0mself\u001b[0m\u001b[1;33m.\u001b[0m\u001b[0mdispatch_one_batch\u001b[0m\u001b[1;33m(\u001b[0m\u001b[0miterator\u001b[0m\u001b[1;33m)\u001b[0m\u001b[1;33m:\u001b[0m\u001b[1;33m\u001b[0m\u001b[1;33m\u001b[0m\u001b[0m\n\u001b[0m\u001b[0;32m   1045\u001b[0m                 \u001b[1;32mpass\u001b[0m\u001b[1;33m\u001b[0m\u001b[1;33m\u001b[0m\u001b[0m\n\u001b[0;32m   1046\u001b[0m \u001b[1;33m\u001b[0m\u001b[0m\n",
      "\u001b[1;32m~\\Anaconda3\\envs\\spyder\\lib\\site-packages\\joblib\\parallel.py\u001b[0m in \u001b[0;36mdispatch_one_batch\u001b[1;34m(self, iterator)\u001b[0m\n\u001b[0;32m    857\u001b[0m                 \u001b[1;32mreturn\u001b[0m \u001b[1;32mFalse\u001b[0m\u001b[1;33m\u001b[0m\u001b[1;33m\u001b[0m\u001b[0m\n\u001b[0;32m    858\u001b[0m             \u001b[1;32melse\u001b[0m\u001b[1;33m:\u001b[0m\u001b[1;33m\u001b[0m\u001b[1;33m\u001b[0m\u001b[0m\n\u001b[1;32m--> 859\u001b[1;33m                 \u001b[0mself\u001b[0m\u001b[1;33m.\u001b[0m\u001b[0m_dispatch\u001b[0m\u001b[1;33m(\u001b[0m\u001b[0mtasks\u001b[0m\u001b[1;33m)\u001b[0m\u001b[1;33m\u001b[0m\u001b[1;33m\u001b[0m\u001b[0m\n\u001b[0m\u001b[0;32m    860\u001b[0m                 \u001b[1;32mreturn\u001b[0m \u001b[1;32mTrue\u001b[0m\u001b[1;33m\u001b[0m\u001b[1;33m\u001b[0m\u001b[0m\n\u001b[0;32m    861\u001b[0m \u001b[1;33m\u001b[0m\u001b[0m\n",
      "\u001b[1;32m~\\Anaconda3\\envs\\spyder\\lib\\site-packages\\joblib\\parallel.py\u001b[0m in \u001b[0;36m_dispatch\u001b[1;34m(self, batch)\u001b[0m\n\u001b[0;32m    775\u001b[0m         \u001b[1;32mwith\u001b[0m \u001b[0mself\u001b[0m\u001b[1;33m.\u001b[0m\u001b[0m_lock\u001b[0m\u001b[1;33m:\u001b[0m\u001b[1;33m\u001b[0m\u001b[1;33m\u001b[0m\u001b[0m\n\u001b[0;32m    776\u001b[0m             \u001b[0mjob_idx\u001b[0m \u001b[1;33m=\u001b[0m \u001b[0mlen\u001b[0m\u001b[1;33m(\u001b[0m\u001b[0mself\u001b[0m\u001b[1;33m.\u001b[0m\u001b[0m_jobs\u001b[0m\u001b[1;33m)\u001b[0m\u001b[1;33m\u001b[0m\u001b[1;33m\u001b[0m\u001b[0m\n\u001b[1;32m--> 777\u001b[1;33m             \u001b[0mjob\u001b[0m \u001b[1;33m=\u001b[0m \u001b[0mself\u001b[0m\u001b[1;33m.\u001b[0m\u001b[0m_backend\u001b[0m\u001b[1;33m.\u001b[0m\u001b[0mapply_async\u001b[0m\u001b[1;33m(\u001b[0m\u001b[0mbatch\u001b[0m\u001b[1;33m,\u001b[0m \u001b[0mcallback\u001b[0m\u001b[1;33m=\u001b[0m\u001b[0mcb\u001b[0m\u001b[1;33m)\u001b[0m\u001b[1;33m\u001b[0m\u001b[1;33m\u001b[0m\u001b[0m\n\u001b[0m\u001b[0;32m    778\u001b[0m             \u001b[1;31m# A job can complete so quickly than its callback is\u001b[0m\u001b[1;33m\u001b[0m\u001b[1;33m\u001b[0m\u001b[1;33m\u001b[0m\u001b[0m\n\u001b[0;32m    779\u001b[0m             \u001b[1;31m# called before we get here, causing self._jobs to\u001b[0m\u001b[1;33m\u001b[0m\u001b[1;33m\u001b[0m\u001b[1;33m\u001b[0m\u001b[0m\n",
      "\u001b[1;32m~\\Anaconda3\\envs\\spyder\\lib\\site-packages\\joblib\\_parallel_backends.py\u001b[0m in \u001b[0;36mapply_async\u001b[1;34m(self, func, callback)\u001b[0m\n\u001b[0;32m    206\u001b[0m     \u001b[1;32mdef\u001b[0m \u001b[0mapply_async\u001b[0m\u001b[1;33m(\u001b[0m\u001b[0mself\u001b[0m\u001b[1;33m,\u001b[0m \u001b[0mfunc\u001b[0m\u001b[1;33m,\u001b[0m \u001b[0mcallback\u001b[0m\u001b[1;33m=\u001b[0m\u001b[1;32mNone\u001b[0m\u001b[1;33m)\u001b[0m\u001b[1;33m:\u001b[0m\u001b[1;33m\u001b[0m\u001b[1;33m\u001b[0m\u001b[0m\n\u001b[0;32m    207\u001b[0m         \u001b[1;34m\"\"\"Schedule a func to be run\"\"\"\u001b[0m\u001b[1;33m\u001b[0m\u001b[1;33m\u001b[0m\u001b[0m\n\u001b[1;32m--> 208\u001b[1;33m         \u001b[0mresult\u001b[0m \u001b[1;33m=\u001b[0m \u001b[0mImmediateResult\u001b[0m\u001b[1;33m(\u001b[0m\u001b[0mfunc\u001b[0m\u001b[1;33m)\u001b[0m\u001b[1;33m\u001b[0m\u001b[1;33m\u001b[0m\u001b[0m\n\u001b[0m\u001b[0;32m    209\u001b[0m         \u001b[1;32mif\u001b[0m \u001b[0mcallback\u001b[0m\u001b[1;33m:\u001b[0m\u001b[1;33m\u001b[0m\u001b[1;33m\u001b[0m\u001b[0m\n\u001b[0;32m    210\u001b[0m             \u001b[0mcallback\u001b[0m\u001b[1;33m(\u001b[0m\u001b[0mresult\u001b[0m\u001b[1;33m)\u001b[0m\u001b[1;33m\u001b[0m\u001b[1;33m\u001b[0m\u001b[0m\n",
      "\u001b[1;32m~\\Anaconda3\\envs\\spyder\\lib\\site-packages\\joblib\\_parallel_backends.py\u001b[0m in \u001b[0;36m__init__\u001b[1;34m(self, batch)\u001b[0m\n\u001b[0;32m    570\u001b[0m         \u001b[1;31m# Don't delay the application, to avoid keeping the input\u001b[0m\u001b[1;33m\u001b[0m\u001b[1;33m\u001b[0m\u001b[1;33m\u001b[0m\u001b[0m\n\u001b[0;32m    571\u001b[0m         \u001b[1;31m# arguments in memory\u001b[0m\u001b[1;33m\u001b[0m\u001b[1;33m\u001b[0m\u001b[1;33m\u001b[0m\u001b[0m\n\u001b[1;32m--> 572\u001b[1;33m         \u001b[0mself\u001b[0m\u001b[1;33m.\u001b[0m\u001b[0mresults\u001b[0m \u001b[1;33m=\u001b[0m \u001b[0mbatch\u001b[0m\u001b[1;33m(\u001b[0m\u001b[1;33m)\u001b[0m\u001b[1;33m\u001b[0m\u001b[1;33m\u001b[0m\u001b[0m\n\u001b[0m\u001b[0;32m    573\u001b[0m \u001b[1;33m\u001b[0m\u001b[0m\n\u001b[0;32m    574\u001b[0m     \u001b[1;32mdef\u001b[0m \u001b[0mget\u001b[0m\u001b[1;33m(\u001b[0m\u001b[0mself\u001b[0m\u001b[1;33m)\u001b[0m\u001b[1;33m:\u001b[0m\u001b[1;33m\u001b[0m\u001b[1;33m\u001b[0m\u001b[0m\n",
      "\u001b[1;32m~\\Anaconda3\\envs\\spyder\\lib\\site-packages\\joblib\\parallel.py\u001b[0m in \u001b[0;36m__call__\u001b[1;34m(self)\u001b[0m\n\u001b[0;32m    260\u001b[0m         \u001b[1;31m# change the default number of processes to -1\u001b[0m\u001b[1;33m\u001b[0m\u001b[1;33m\u001b[0m\u001b[1;33m\u001b[0m\u001b[0m\n\u001b[0;32m    261\u001b[0m         \u001b[1;32mwith\u001b[0m \u001b[0mparallel_backend\u001b[0m\u001b[1;33m(\u001b[0m\u001b[0mself\u001b[0m\u001b[1;33m.\u001b[0m\u001b[0m_backend\u001b[0m\u001b[1;33m,\u001b[0m \u001b[0mn_jobs\u001b[0m\u001b[1;33m=\u001b[0m\u001b[0mself\u001b[0m\u001b[1;33m.\u001b[0m\u001b[0m_n_jobs\u001b[0m\u001b[1;33m)\u001b[0m\u001b[1;33m:\u001b[0m\u001b[1;33m\u001b[0m\u001b[1;33m\u001b[0m\u001b[0m\n\u001b[1;32m--> 262\u001b[1;33m             return [func(*args, **kwargs)\n\u001b[0m\u001b[0;32m    263\u001b[0m                     for func, args, kwargs in self.items]\n\u001b[0;32m    264\u001b[0m \u001b[1;33m\u001b[0m\u001b[0m\n",
      "\u001b[1;32m~\\Anaconda3\\envs\\spyder\\lib\\site-packages\\joblib\\parallel.py\u001b[0m in \u001b[0;36m<listcomp>\u001b[1;34m(.0)\u001b[0m\n\u001b[0;32m    260\u001b[0m         \u001b[1;31m# change the default number of processes to -1\u001b[0m\u001b[1;33m\u001b[0m\u001b[1;33m\u001b[0m\u001b[1;33m\u001b[0m\u001b[0m\n\u001b[0;32m    261\u001b[0m         \u001b[1;32mwith\u001b[0m \u001b[0mparallel_backend\u001b[0m\u001b[1;33m(\u001b[0m\u001b[0mself\u001b[0m\u001b[1;33m.\u001b[0m\u001b[0m_backend\u001b[0m\u001b[1;33m,\u001b[0m \u001b[0mn_jobs\u001b[0m\u001b[1;33m=\u001b[0m\u001b[0mself\u001b[0m\u001b[1;33m.\u001b[0m\u001b[0m_n_jobs\u001b[0m\u001b[1;33m)\u001b[0m\u001b[1;33m:\u001b[0m\u001b[1;33m\u001b[0m\u001b[1;33m\u001b[0m\u001b[0m\n\u001b[1;32m--> 262\u001b[1;33m             return [func(*args, **kwargs)\n\u001b[0m\u001b[0;32m    263\u001b[0m                     for func, args, kwargs in self.items]\n\u001b[0;32m    264\u001b[0m \u001b[1;33m\u001b[0m\u001b[0m\n",
      "\u001b[1;32m~\\Anaconda3\\envs\\spyder\\lib\\site-packages\\sklearn\\utils\\fixes.py\u001b[0m in \u001b[0;36m__call__\u001b[1;34m(self, *args, **kwargs)\u001b[0m\n\u001b[0;32m    220\u001b[0m     \u001b[1;32mdef\u001b[0m \u001b[0m__call__\u001b[0m\u001b[1;33m(\u001b[0m\u001b[0mself\u001b[0m\u001b[1;33m,\u001b[0m \u001b[1;33m*\u001b[0m\u001b[0margs\u001b[0m\u001b[1;33m,\u001b[0m \u001b[1;33m**\u001b[0m\u001b[0mkwargs\u001b[0m\u001b[1;33m)\u001b[0m\u001b[1;33m:\u001b[0m\u001b[1;33m\u001b[0m\u001b[1;33m\u001b[0m\u001b[0m\n\u001b[0;32m    221\u001b[0m         \u001b[1;32mwith\u001b[0m \u001b[0mconfig_context\u001b[0m\u001b[1;33m(\u001b[0m\u001b[1;33m**\u001b[0m\u001b[0mself\u001b[0m\u001b[1;33m.\u001b[0m\u001b[0mconfig\u001b[0m\u001b[1;33m)\u001b[0m\u001b[1;33m:\u001b[0m\u001b[1;33m\u001b[0m\u001b[1;33m\u001b[0m\u001b[0m\n\u001b[1;32m--> 222\u001b[1;33m             \u001b[1;32mreturn\u001b[0m \u001b[0mself\u001b[0m\u001b[1;33m.\u001b[0m\u001b[0mfunction\u001b[0m\u001b[1;33m(\u001b[0m\u001b[1;33m*\u001b[0m\u001b[0margs\u001b[0m\u001b[1;33m,\u001b[0m \u001b[1;33m**\u001b[0m\u001b[0mkwargs\u001b[0m\u001b[1;33m)\u001b[0m\u001b[1;33m\u001b[0m\u001b[1;33m\u001b[0m\u001b[0m\n\u001b[0m",
      "\u001b[1;32m~\\Anaconda3\\envs\\spyder\\lib\\site-packages\\sklearn\\model_selection\\_validation.py\u001b[0m in \u001b[0;36m_fit_and_score\u001b[1;34m(estimator, X, y, scorer, train, test, verbose, parameters, fit_params, return_train_score, return_parameters, return_n_test_samples, return_times, return_estimator, split_progress, candidate_progress, error_score)\u001b[0m\n\u001b[0;32m    596\u001b[0m             \u001b[0mestimator\u001b[0m\u001b[1;33m.\u001b[0m\u001b[0mfit\u001b[0m\u001b[1;33m(\u001b[0m\u001b[0mX_train\u001b[0m\u001b[1;33m,\u001b[0m \u001b[1;33m**\u001b[0m\u001b[0mfit_params\u001b[0m\u001b[1;33m)\u001b[0m\u001b[1;33m\u001b[0m\u001b[1;33m\u001b[0m\u001b[0m\n\u001b[0;32m    597\u001b[0m         \u001b[1;32melse\u001b[0m\u001b[1;33m:\u001b[0m\u001b[1;33m\u001b[0m\u001b[1;33m\u001b[0m\u001b[0m\n\u001b[1;32m--> 598\u001b[1;33m             \u001b[0mestimator\u001b[0m\u001b[1;33m.\u001b[0m\u001b[0mfit\u001b[0m\u001b[1;33m(\u001b[0m\u001b[0mX_train\u001b[0m\u001b[1;33m,\u001b[0m \u001b[0my_train\u001b[0m\u001b[1;33m,\u001b[0m \u001b[1;33m**\u001b[0m\u001b[0mfit_params\u001b[0m\u001b[1;33m)\u001b[0m\u001b[1;33m\u001b[0m\u001b[1;33m\u001b[0m\u001b[0m\n\u001b[0m\u001b[0;32m    599\u001b[0m \u001b[1;33m\u001b[0m\u001b[0m\n\u001b[0;32m    600\u001b[0m     \u001b[1;32mexcept\u001b[0m \u001b[0mException\u001b[0m \u001b[1;32mas\u001b[0m \u001b[0me\u001b[0m\u001b[1;33m:\u001b[0m\u001b[1;33m\u001b[0m\u001b[1;33m\u001b[0m\u001b[0m\n",
      "\u001b[1;32m~\\Anaconda3\\envs\\spyder\\lib\\site-packages\\xgboost\\core.py\u001b[0m in \u001b[0;36minner_f\u001b[1;34m(*args, **kwargs)\u001b[0m\n\u001b[0;32m    434\u001b[0m         \u001b[1;32mfor\u001b[0m \u001b[0mk\u001b[0m\u001b[1;33m,\u001b[0m \u001b[0marg\u001b[0m \u001b[1;32min\u001b[0m \u001b[0mzip\u001b[0m\u001b[1;33m(\u001b[0m\u001b[0msig\u001b[0m\u001b[1;33m.\u001b[0m\u001b[0mparameters\u001b[0m\u001b[1;33m,\u001b[0m \u001b[0margs\u001b[0m\u001b[1;33m)\u001b[0m\u001b[1;33m:\u001b[0m\u001b[1;33m\u001b[0m\u001b[1;33m\u001b[0m\u001b[0m\n\u001b[0;32m    435\u001b[0m             \u001b[0mkwargs\u001b[0m\u001b[1;33m[\u001b[0m\u001b[0mk\u001b[0m\u001b[1;33m]\u001b[0m \u001b[1;33m=\u001b[0m \u001b[0marg\u001b[0m\u001b[1;33m\u001b[0m\u001b[1;33m\u001b[0m\u001b[0m\n\u001b[1;32m--> 436\u001b[1;33m         \u001b[1;32mreturn\u001b[0m \u001b[0mf\u001b[0m\u001b[1;33m(\u001b[0m\u001b[1;33m**\u001b[0m\u001b[0mkwargs\u001b[0m\u001b[1;33m)\u001b[0m\u001b[1;33m\u001b[0m\u001b[1;33m\u001b[0m\u001b[0m\n\u001b[0m\u001b[0;32m    437\u001b[0m \u001b[1;33m\u001b[0m\u001b[0m\n\u001b[0;32m    438\u001b[0m     \u001b[1;32mreturn\u001b[0m \u001b[0minner_f\u001b[0m\u001b[1;33m\u001b[0m\u001b[1;33m\u001b[0m\u001b[0m\n",
      "\u001b[1;32m~\\Anaconda3\\envs\\spyder\\lib\\site-packages\\xgboost\\sklearn.py\u001b[0m in \u001b[0;36mfit\u001b[1;34m(self, X, y, sample_weight, base_margin, eval_set, eval_metric, early_stopping_rounds, verbose, xgb_model, sample_weight_eval_set, base_margin_eval_set, feature_weights, callbacks)\u001b[0m\n\u001b[0;32m    734\u001b[0m \u001b[1;33m\u001b[0m\u001b[0m\n\u001b[0;32m    735\u001b[0m         \u001b[0mmodel\u001b[0m\u001b[1;33m,\u001b[0m \u001b[0mfeval\u001b[0m\u001b[1;33m,\u001b[0m \u001b[0mparams\u001b[0m \u001b[1;33m=\u001b[0m \u001b[0mself\u001b[0m\u001b[1;33m.\u001b[0m\u001b[0m_configure_fit\u001b[0m\u001b[1;33m(\u001b[0m\u001b[0mxgb_model\u001b[0m\u001b[1;33m,\u001b[0m \u001b[0meval_metric\u001b[0m\u001b[1;33m,\u001b[0m \u001b[0mparams\u001b[0m\u001b[1;33m)\u001b[0m\u001b[1;33m\u001b[0m\u001b[1;33m\u001b[0m\u001b[0m\n\u001b[1;32m--> 736\u001b[1;33m         self._Booster = train(\n\u001b[0m\u001b[0;32m    737\u001b[0m             \u001b[0mparams\u001b[0m\u001b[1;33m,\u001b[0m\u001b[1;33m\u001b[0m\u001b[1;33m\u001b[0m\u001b[0m\n\u001b[0;32m    738\u001b[0m             \u001b[0mtrain_dmatrix\u001b[0m\u001b[1;33m,\u001b[0m\u001b[1;33m\u001b[0m\u001b[1;33m\u001b[0m\u001b[0m\n",
      "\u001b[1;32m~\\Anaconda3\\envs\\spyder\\lib\\site-packages\\xgboost\\training.py\u001b[0m in \u001b[0;36mtrain\u001b[1;34m(params, dtrain, num_boost_round, evals, obj, feval, maximize, early_stopping_rounds, evals_result, verbose_eval, xgb_model, callbacks)\u001b[0m\n\u001b[0;32m    187\u001b[0m     \u001b[0mBooster\u001b[0m \u001b[1;33m:\u001b[0m \u001b[0ma\u001b[0m \u001b[0mtrained\u001b[0m \u001b[0mbooster\u001b[0m \u001b[0mmodel\u001b[0m\u001b[1;33m\u001b[0m\u001b[1;33m\u001b[0m\u001b[0m\n\u001b[0;32m    188\u001b[0m     \"\"\"\n\u001b[1;32m--> 189\u001b[1;33m     bst = _train_internal(params, dtrain,\n\u001b[0m\u001b[0;32m    190\u001b[0m                           \u001b[0mnum_boost_round\u001b[0m\u001b[1;33m=\u001b[0m\u001b[0mnum_boost_round\u001b[0m\u001b[1;33m,\u001b[0m\u001b[1;33m\u001b[0m\u001b[1;33m\u001b[0m\u001b[0m\n\u001b[0;32m    191\u001b[0m                           \u001b[0mevals\u001b[0m\u001b[1;33m=\u001b[0m\u001b[0mevals\u001b[0m\u001b[1;33m,\u001b[0m\u001b[1;33m\u001b[0m\u001b[1;33m\u001b[0m\u001b[0m\n",
      "\u001b[1;32m~\\Anaconda3\\envs\\spyder\\lib\\site-packages\\xgboost\\training.py\u001b[0m in \u001b[0;36m_train_internal\u001b[1;34m(params, dtrain, num_boost_round, evals, obj, feval, xgb_model, callbacks, evals_result, maximize, verbose_eval, early_stopping_rounds)\u001b[0m\n\u001b[0;32m     79\u001b[0m         \u001b[1;32mif\u001b[0m \u001b[0mcallbacks\u001b[0m\u001b[1;33m.\u001b[0m\u001b[0mbefore_iteration\u001b[0m\u001b[1;33m(\u001b[0m\u001b[0mbst\u001b[0m\u001b[1;33m,\u001b[0m \u001b[0mi\u001b[0m\u001b[1;33m,\u001b[0m \u001b[0mdtrain\u001b[0m\u001b[1;33m,\u001b[0m \u001b[0mevals\u001b[0m\u001b[1;33m)\u001b[0m\u001b[1;33m:\u001b[0m\u001b[1;33m\u001b[0m\u001b[1;33m\u001b[0m\u001b[0m\n\u001b[0;32m     80\u001b[0m             \u001b[1;32mbreak\u001b[0m\u001b[1;33m\u001b[0m\u001b[1;33m\u001b[0m\u001b[0m\n\u001b[1;32m---> 81\u001b[1;33m         \u001b[0mbst\u001b[0m\u001b[1;33m.\u001b[0m\u001b[0mupdate\u001b[0m\u001b[1;33m(\u001b[0m\u001b[0mdtrain\u001b[0m\u001b[1;33m,\u001b[0m \u001b[0mi\u001b[0m\u001b[1;33m,\u001b[0m \u001b[0mobj\u001b[0m\u001b[1;33m)\u001b[0m\u001b[1;33m\u001b[0m\u001b[1;33m\u001b[0m\u001b[0m\n\u001b[0m\u001b[0;32m     82\u001b[0m         \u001b[1;32mif\u001b[0m \u001b[0mcallbacks\u001b[0m\u001b[1;33m.\u001b[0m\u001b[0mafter_iteration\u001b[0m\u001b[1;33m(\u001b[0m\u001b[0mbst\u001b[0m\u001b[1;33m,\u001b[0m \u001b[0mi\u001b[0m\u001b[1;33m,\u001b[0m \u001b[0mdtrain\u001b[0m\u001b[1;33m,\u001b[0m \u001b[0mevals\u001b[0m\u001b[1;33m)\u001b[0m\u001b[1;33m:\u001b[0m\u001b[1;33m\u001b[0m\u001b[1;33m\u001b[0m\u001b[0m\n\u001b[0;32m     83\u001b[0m             \u001b[1;32mbreak\u001b[0m\u001b[1;33m\u001b[0m\u001b[1;33m\u001b[0m\u001b[0m\n",
      "\u001b[1;32m~\\Anaconda3\\envs\\spyder\\lib\\site-packages\\xgboost\\core.py\u001b[0m in \u001b[0;36mupdate\u001b[1;34m(self, dtrain, iteration, fobj)\u001b[0m\n\u001b[0;32m   1497\u001b[0m \u001b[1;33m\u001b[0m\u001b[0m\n\u001b[0;32m   1498\u001b[0m         \u001b[1;32mif\u001b[0m \u001b[0mfobj\u001b[0m \u001b[1;32mis\u001b[0m \u001b[1;32mNone\u001b[0m\u001b[1;33m:\u001b[0m\u001b[1;33m\u001b[0m\u001b[1;33m\u001b[0m\u001b[0m\n\u001b[1;32m-> 1499\u001b[1;33m             _check_call(_LIB.XGBoosterUpdateOneIter(self.handle,\n\u001b[0m\u001b[0;32m   1500\u001b[0m                                                     \u001b[0mctypes\u001b[0m\u001b[1;33m.\u001b[0m\u001b[0mc_int\u001b[0m\u001b[1;33m(\u001b[0m\u001b[0miteration\u001b[0m\u001b[1;33m)\u001b[0m\u001b[1;33m,\u001b[0m\u001b[1;33m\u001b[0m\u001b[1;33m\u001b[0m\u001b[0m\n\u001b[0;32m   1501\u001b[0m                                                     dtrain.handle))\n",
      "\u001b[1;31mKeyboardInterrupt\u001b[0m: "
     ]
    }
   ],
   "metadata": {}
  },
  {
   "cell_type": "code",
   "execution_count": 21,
   "source": [
    "X_train.columns"
   ],
   "outputs": [
    {
     "output_type": "execute_result",
     "data": {
      "text/plain": [
       "Index(['Aggregate absorption (%)', '0.075', '0.3', '0.6', '2.36', '4.75',\n",
       "       '9.5', '12.5', '19', 'Plastic particle size (mm)', 'Mixing speed (RPM)',\n",
       "       'Mixing Temperature', 'Mixing Time (hours)',\n",
       "       'Bitumen content in the sample', 'New Plastic Type_Nylon',\n",
       "       'New Plastic Type_PE', 'New Plastic Type_PET', 'New Plastic Type_PP',\n",
       "       'New Plastic Type_PU', 'New Plastic Type_PVC',\n",
       "       'New Plastic Type_Plastic Mix', 'New Plastic Type_e-waste',\n",
       "       'Consolidated bitumen penetration grade_50/70',\n",
       "       'Consolidated bitumen penetration grade_70/100',\n",
       "       'Plastic pretreatment_Physical', 'Plastic pretreatment_Plastic Melted',\n",
       "       'Plastic shape_Fibers', 'Plastic shape_Pellets',\n",
       "       'Plastic shape_Shredded', 'Mixing Process_Dry', 'Mixing Process_Wet',\n",
       "       'Aggregates replacement ?_Yes', 'Bitumen replacement?_Yes'],\n",
       "      dtype='object')"
      ]
     },
     "metadata": {},
     "execution_count": 21
    }
   ],
   "metadata": {}
  },
  {
   "cell_type": "code",
   "execution_count": 22,
   "source": [
    "X_train2 = X_train.copy()\r\n",
    "X_train2.rename(columns={'0.075':'Grad. Sieve size 0.075', '0.3':'Grad. Sieve size 0.3', '0.6':'Grad. Sieve size 0.6', '2.36':'Grad. Sieve size 2.36',                                '4.75':'Grad. Sieve size 4.75','9.5':'Grad. Sieve size 9.5', '12.5':'Grad. Sieve size 12.5', '19':'Grad. Sieve size 19', \r\n",
    "                        'Plastic particle size (mm)':'Plastic size', 'Mixing speed (RPM)':'Mixing speed',\r\n",
    "                        'Mixing Time (hours)':'Mixing Time',\r\n",
    "                        'Bitumen content in the sample':'Bitumen content', 'New Plastic Type_Nylon':'Plastic Type_Nylon',\r\n",
    "                        'New Plastic Type_PE':'Plastic Type_PE', 'New Plastic Type_PET':'Plastic Type_PET', 'New Plastic Type_PP':'Plastic Type_PP',\r\n",
    "                         'New Plastic Type_PU':'Plastic Type_PU', 'New Plastic Type_PVC':'Plastic Type_PVC',\r\n",
    "                        'New Plastic Type_Plastic Mix':'Plastic Type_Plastic Mix', 'New Plastic Type_e-waste':'Plastic Type_e-waste' ,\r\n",
    "                        'Consolidated bitumen penetration grade_50/70':'Bitumen grade_50/70',\r\n",
    "                        'Consolidated bitumen penetration grade_70/100':'Bitumen grade_70/100',\r\n",
    "       }, inplace=True)"
   ],
   "outputs": [],
   "metadata": {}
  },
  {
   "cell_type": "code",
   "execution_count": 25,
   "source": [
    "#Graph employed for selecting important features during tunning\r\n",
    "XGBoostModel = XGBRegressor(random_state=123)\r\n",
    "XGBoostModel.fit(X_train2,y_train)\r\n",
    "ax = plot_importance(XGBoostModel, height=0.8, importance_type='weight', show_values=False, title=None, max_num_features = 20)\r\n",
    "fig = ax.figure\r\n",
    "plt.xlabel('Weight', fontsize=20)\r\n",
    "plt.ylabel('Features', fontsize=20)\r\n",
    "plt.title('(a)',fontsize= 22)\r\n",
    "fig.set_size_inches(8,8)"
   ],
   "outputs": [
    {
     "output_type": "display_data",
     "data": {
      "text/plain": [
       "<Figure size 576x576 with 1 Axes>"
      ],
      "image/png": "[encoded data removed]"
     },
     "metadata": {}
    }
   ],
   "metadata": {}
  },
  {
   "cell_type": "markdown",
   "source": [
    "## 6. Best Model Tunning"
   ],
   "metadata": {}
  },
  {
   "cell_type": "code",
   "execution_count": 26,
   "source": [
    "X_train.columns = X_train.columns.astype(str)\r\n",
    "cv = RepeatedKFold(n_splits = 10, n_repeats = 10, random_state = 123)"
   ],
   "outputs": [],
   "metadata": {}
  },
  {
   "cell_type": "markdown",
   "source": [
    "### 6.1. Feature selection"
   ],
   "metadata": {}
  },
  {
   "cell_type": "code",
   "execution_count": 27,
   "source": [
    "features_MSE = {}\r\n",
    "def addMSE (columns, string):\r\n",
    "    cv_results = cross_validate(XGBRegressor(random_state = 123), X_train[columns], y_train, cv = cv, scoring = ['neg_mean_squared_error'])\r\n",
    "    MSE = np.average(-cv_results['test_neg_mean_squared_error'])\r\n",
    "    features_MSE[string] = MSE"
   ],
   "outputs": [],
   "metadata": {}
  },
  {
   "cell_type": "code",
   "execution_count": 28,
   "source": [
    "X_train.columns"
   ],
   "outputs": [
    {
     "output_type": "execute_result",
     "data": {
      "text/plain": [
       "Index(['Aggregate absorption (%)', '0.075', '0.3', '0.6', '2.36', '4.75',\n",
       "       '9.5', '12.5', '19', 'Plastic particle size (mm)', 'Mixing speed (RPM)',\n",
       "       'Mixing Temperature', 'Mixing Time (hours)',\n",
       "       'Bitumen content in the sample', 'New Plastic Type_Nylon',\n",
       "       'New Plastic Type_PE', 'New Plastic Type_PET', 'New Plastic Type_PP',\n",
       "       'New Plastic Type_PU', 'New Plastic Type_PVC',\n",
       "       'New Plastic Type_Plastic Mix', 'New Plastic Type_e-waste',\n",
       "       'Consolidated bitumen penetration grade_50/70',\n",
       "       'Consolidated bitumen penetration grade_70/100',\n",
       "       'Plastic pretreatment_Physical', 'Plastic pretreatment_Plastic Melted',\n",
       "       'Plastic shape_Fibers', 'Plastic shape_Pellets',\n",
       "       'Plastic shape_Shredded', 'Mixing Process_Dry', 'Mixing Process_Wet',\n",
       "       'Aggregates replacement ?_Yes', 'Bitumen replacement?_Yes'],\n",
       "      dtype='object')"
      ]
     },
     "metadata": {},
     "execution_count": 28
    }
   ],
   "metadata": {}
  },
  {
   "cell_type": "code",
   "execution_count": 29,
   "source": [
    "addMSE(['New Plastic Type_Nylon','New Plastic Type_PE', 'New Plastic Type_PET', 'New Plastic Type_PP',\r\n",
    "       'New Plastic Type_PU', 'New Plastic Type_PVC','New Plastic Type_Plastic Mix', 'New Plastic Type_e-waste'], \r\n",
    "       'Plastic type')"
   ],
   "outputs": [],
   "metadata": {}
  },
  {
   "cell_type": "code",
   "execution_count": 30,
   "source": [
    "addMSE(['New Plastic Type_Nylon','New Plastic Type_PE', 'New Plastic Type_PET', 'New Plastic Type_PP',\r\n",
    "       'New Plastic Type_PU', 'New Plastic Type_PVC','New Plastic Type_Plastic Mix', 'New Plastic Type_e-waste',\r\n",
    "       'Bitumen content in the sample'], \r\n",
    "       'Plastic type \\n Bitument cont.')"
   ],
   "outputs": [],
   "metadata": {}
  },
  {
   "cell_type": "code",
   "execution_count": 31,
   "source": [
    "addMSE(['New Plastic Type_Nylon','New Plastic Type_PE', 'New Plastic Type_PET', 'New Plastic Type_PP',\r\n",
    "       'New Plastic Type_PU', 'New Plastic Type_PVC','New Plastic Type_Plastic Mix', 'New Plastic Type_e-waste',\r\n",
    "       'Bitumen content in the sample',\r\n",
    "       'Aggregate absorption (%)'], \r\n",
    "       'Plastic type \\n Bitument cont. \\n Aggregates abs.')"
   ],
   "outputs": [],
   "metadata": {}
  },
  {
   "cell_type": "code",
   "execution_count": 32,
   "source": [
    "addMSE(['New Plastic Type_Nylon','New Plastic Type_PE', 'New Plastic Type_PET', 'New Plastic Type_PP',\r\n",
    "       'New Plastic Type_PU', 'New Plastic Type_PVC','New Plastic Type_Plastic Mix', 'New Plastic Type_e-waste',\r\n",
    "       'Bitumen content in the sample',\r\n",
    "       'Aggregate absorption (%)',\r\n",
    "       'Plastic particle size (mm)'], \r\n",
    "       'Plastic type \\n Bitument cont. \\n Aggregates abs. \\n Plastic size')"
   ],
   "outputs": [],
   "metadata": {}
  },
  {
   "cell_type": "code",
   "execution_count": 33,
   "source": [
    "addMSE(['New Plastic Type_Nylon','New Plastic Type_PE', 'New Plastic Type_PET', 'New Plastic Type_PP',\r\n",
    "       'New Plastic Type_PU', 'New Plastic Type_PVC','New Plastic Type_Plastic Mix', 'New Plastic Type_e-waste',\r\n",
    "       'Bitumen content in the sample',\r\n",
    "       'Aggregate absorption (%)',\r\n",
    "       'Plastic particle size (mm)',\r\n",
    "       '0.075', '0.3', '0.6', '2.36', '4.75','9.5', '12.5', '19'], \r\n",
    "       'Plastic type \\n Bitument cont. \\n Aggregates abs. \\n Plastic size \\n Gradation')"
   ],
   "outputs": [],
   "metadata": {}
  },
  {
   "cell_type": "code",
   "execution_count": 34,
   "source": [
    "addMSE(['New Plastic Type_Nylon','New Plastic Type_PE', 'New Plastic Type_PET', 'New Plastic Type_PP',\r\n",
    "       'New Plastic Type_PU', 'New Plastic Type_PVC','New Plastic Type_Plastic Mix', 'New Plastic Type_e-waste',\r\n",
    "       'Bitumen content in the sample',\r\n",
    "       'Aggregate absorption (%)',\r\n",
    "       'Plastic particle size (mm)',\r\n",
    "       '0.075', '0.3', '0.6', '2.36', '4.75','9.5', '12.5', '19',\r\n",
    "       'Consolidated bitumen penetration grade_50/70','Consolidated bitumen penetration grade_70/100'], \r\n",
    "       'Plastic type \\n Bitument cont. \\n Aggregates abs. \\n Plastic size \\n Gradation \\n Bitumen type')"
   ],
   "outputs": [],
   "metadata": {}
  },
  {
   "cell_type": "code",
   "execution_count": 35,
   "source": [
    "addMSE(['New Plastic Type_Nylon','New Plastic Type_PE', 'New Plastic Type_PET', 'New Plastic Type_PP',\r\n",
    "       'New Plastic Type_PU', 'New Plastic Type_PVC','New Plastic Type_Plastic Mix', 'New Plastic Type_e-waste',\r\n",
    "       'Bitumen content in the sample',\r\n",
    "       'Aggregate absorption (%)',\r\n",
    "       'Plastic particle size (mm)',\r\n",
    "       '0.075', '0.3', '0.6', '2.36', '4.75','9.5', '12.5', '19',\r\n",
    "       'Consolidated bitumen penetration grade_50/70','Consolidated bitumen penetration grade_70/100',\r\n",
    "       'Mixing speed (RPM)', 'Mixing Temperature'], \r\n",
    "       'Plastic type \\n Bitument cont. \\n Aggregates abs. \\n Plastic size \\n Gradation \\n Bitumen type \\n Mixing speed \\n Mixing Temp.')"
   ],
   "outputs": [],
   "metadata": {}
  },
  {
   "cell_type": "code",
   "execution_count": 36,
   "source": [
    "addMSE(['Aggregate absorption (%)', '0.075', '0.3', '0.6', '2.36', '4.75',\r\n",
    "       '9.5', '12.5', '19', 'Plastic particle size (mm)', 'Mixing speed (RPM)',\r\n",
    "       'Mixing Temperature', 'Mixing Time (hours)',\r\n",
    "       'Bitumen content in the sample', 'New Plastic Type_Nylon',\r\n",
    "       'New Plastic Type_PE', 'New Plastic Type_PET', 'New Plastic Type_PP',\r\n",
    "       'New Plastic Type_PU', 'New Plastic Type_PVC',\r\n",
    "       'New Plastic Type_Plastic Mix', 'New Plastic Type_e-waste',\r\n",
    "       'Consolidated bitumen penetration grade_50/70',\r\n",
    "       'Consolidated bitumen penetration grade_70/100',\r\n",
    "       'Plastic pretreatment_Physical', 'Plastic pretreatment_Plastic Melted',\r\n",
    "       'Plastic shape_Fibers', 'Plastic shape_Pellets',\r\n",
    "       'Plastic shape_Shredded', 'Mixing Process_Dry', 'Mixing Process_Wet',\r\n",
    "       'Aggregates replacement ?_Yes', 'Bitumen replacement?_Yes'], \r\n",
    "        'All features')"
   ],
   "outputs": [],
   "metadata": {}
  },
  {
   "cell_type": "code",
   "execution_count": 39,
   "source": [
    "plt.rcParams[\"figure.figsize\"] = (20,5)\r\n",
    "plt.plot(features_MSE.keys(), features_MSE.values(), marker = '*') \r\n",
    "plt.ylim(ymin = 0)\r\n",
    "plt.axvline(x='Plastic type \\n Bitument cont. \\n Aggregates abs. \\n Plastic size \\n Gradation \\n Bitumen type', ymin=0, ymax=1, color = 'k', ls = '--' , label='Selected model')\r\n",
    "plt.ylabel('MSE', fontsize = 20)\r\n",
    "plt.xlabel('Features included in the model', fontsize = 20)\r\n",
    "plt.xticks(fontsize= 13)\r\n",
    "plt.title('(b)', fontsize=22)\r\n",
    "plt.legend()\r\n",
    "plt.show()"
   ],
   "outputs": [
    {
     "output_type": "display_data",
     "data": {
      "text/plain": [
       "<Figure size 1440x360 with 1 Axes>"
      ],
      "image/png": "[encoded data removed]"
     },
     "metadata": {}
    }
   ],
   "metadata": {}
  },
  {
   "cell_type": "markdown",
   "source": [
    "The features most approppiate for the model are aggregates gradation, bitumen content, plastic type, plastic addition.\n",
    "### 6.2 Model Tunning"
   ],
   "metadata": {}
  },
  {
   "cell_type": "code",
   "execution_count": null,
   "source": [
    "X_train =  X_train[['New Plastic Type_Nylon','New Plastic Type_PE', 'New Plastic Type_PET', 'New Plastic Type_PP',\r\n",
    "       'New Plastic Type_PU', 'New Plastic Type_PVC','New Plastic Type_Plastic Mix', 'New Plastic Type_e-waste',\r\n",
    "       'Bitumen content in the sample',\r\n",
    "       'Aggregate absorption (%)',\r\n",
    "       'Plastic particle size (mm)',\r\n",
    "       '0.075', '0.3', '0.6', '2.36', '4.75','9.5', '12.5', '19',\r\n",
    "       'Consolidated bitumen penetration grade_50/70','Consolidated bitumen penetration grade_70/100',\r\n",
    "        ]]\r\n",
    "X_test = X_test [['New Plastic Type_Nylon','New Plastic Type_PE', 'New Plastic Type_PET', 'New Plastic Type_PP',\r\n",
    "       'New Plastic Type_PU', 'New Plastic Type_PVC','New Plastic Type_Plastic Mix', 'New Plastic Type_e-waste',\r\n",
    "       'Bitumen content in the sample',\r\n",
    "       'Aggregate absorption (%)',\r\n",
    "       'Plastic particle size (mm)',\r\n",
    "       '0.075', '0.3', '0.6', '2.36', '4.75','9.5', '12.5', '19',\r\n",
    "       'Consolidated bitumen penetration grade_50/70','Consolidated bitumen penetration grade_70/100',\r\n",
    "        ]]"
   ],
   "outputs": [],
   "metadata": {}
  },
  {
   "cell_type": "markdown",
   "source": [
    "### 6.3 Final model evaluation on test set"
   ],
   "metadata": {}
  },
  {
   "cell_type": "code",
   "execution_count": null,
   "source": [
    "def modelEvaluation (model, Title):\r\n",
    "    min = dfMSCleanedImputed['MS of the sample (kN)'].min()\r\n",
    "    max = dfMSCleanedImputed['MS of the sample (kN)'].max()\r\n",
    "    #Model Fitting\r\n",
    "    model.fit(X_train, y_train)\r\n",
    "    predictions_test = model.predict(X_test)\r\n",
    "    #Model Evaluation\r\n",
    "    r2_test = r2_score(y_test, predictions_test)\r\n",
    "    mse_test = mean_squared_error(y_test, predictions_test)\r\n",
    "    rmse_test_unscaled = (math.sqrt(mse_test)*(max-min))+min\r\n",
    "    plt.figure(figsize=(7,7))\r\n",
    "    #Model Plotting\r\n",
    "    plt.scatter(y_test, predictions_test, c='crimson')\r\n",
    "    plt.plot([(1,1), (0,0)], [(1,1), (0,0)], 'b-')\r\n",
    "    plt.xlabel('True Values', fontsize=15)\r\n",
    "    plt.xlim (0,1)\r\n",
    "    plt.ylim (0,1)\r\n",
    "    plt.ylabel('Predictions - ' + Title, fontsize=18)\r\n",
    "    plt.annotate('R2 = '+str(round(r2_test,3)), xy = (0.6,0.3), fontweight = 'bold', fontsize = 'xx-large')\r\n",
    "    plt.annotate('RMSE = '+str(round(rmse_test_unscaled,3)), xy = (0.6,0.25), fontweight = 'bold', fontsize = 'xx-large')\r\n",
    "    plt.show()\r\n",
    "    return predictions_test"
   ],
   "outputs": [],
   "metadata": {}
  },
  {
   "cell_type": "code",
   "execution_count": null,
   "source": [
    "XGModel = XGBRegressor(random_state = 123)\r\n",
    "prediction_XGModel = modelEvaluation(XGModel, 'XGModel')"
   ],
   "outputs": [],
   "metadata": {}
  },
  {
   "cell_type": "code",
   "execution_count": null,
   "source": [
    "XGModel.get_params"
   ],
   "outputs": [],
   "metadata": {}
  },
  {
   "cell_type": "code",
   "execution_count": null,
   "source": [
    "extraTreeModel = ExtraTreesRegressor(n_estimators=400, min_samples_split=2,min_samples_leaf=1, max_features='auto', max_depth=90, random_state= 123, bootstrap=False)\r\n",
    "prediction_ExtraTrees = modelEvaluation(extraTreeModel, 'Extra Trees model')"
   ],
   "outputs": [],
   "metadata": {}
  },
  {
   "cell_type": "code",
   "execution_count": null,
   "source": [
    "RFModel = RandomForestRegressor(n_estimators=1000,min_samples_split=5, min_samples_leaf=1, max_features='auto', max_depth=None, random_state= 123, bootstrap=True)\r\n",
    "prediction_RandomForest = modelEvaluation(RFModel, 'Random Forest Model')"
   ],
   "outputs": [],
   "metadata": {}
  },
  {
   "cell_type": "markdown",
   "source": [
    "### Outliers inspection"
   ],
   "metadata": {}
  },
  {
   "cell_type": "code",
   "execution_count": null,
   "source": [
    "XGModel = XGBRegressor(random_state = 123)\r\n",
    "XGModel.fit(X_train, y_train)\r\n",
    "predictions_test = XGModel.predict(X_test)\r\n",
    "df = pd.DataFrame(data=[predictions_test,y_test], index=['prediction', 'y_test']).T\r\n",
    "df = df.sort_values(by='y_test')"
   ],
   "outputs": [],
   "metadata": {}
  },
  {
   "cell_type": "code",
   "execution_count": null,
   "source": [
    "min = dfMSCleanedImputed['MS of the sample (kN)'].min()\r\n",
    "max = dfMSCleanedImputed['MS of the sample (kN)'].max()\r\n",
    "df['prediction_uns'] = (df['prediction']*(max-min))+min\r\n",
    "df['y_test_uns'] = (df['y_test']*(max-min))+min"
   ],
   "outputs": [],
   "metadata": {}
  },
  {
   "cell_type": "markdown",
   "source": [
    "## 6.3 ANOVA Analysis"
   ],
   "metadata": {}
  },
  {
   "cell_type": "code",
   "execution_count": null,
   "source": [
    "df_predictions = y_test.to_frame(name='real_Y')\r\n",
    "df_predictions['XGModel_predictions'] = prediction_XGModel\r\n",
    "df_predictions['ExtraTrees_predictions'] = prediction_ExtraTrees\r\n",
    "df_predictions['RandomForest_predictions'] = prediction_RandomForest\r\n",
    "def normalityTest (model, data, alpha=0.05):\r\n",
    "    k2, p = stats.normaltest(data)\r\n",
    "    if p > alpha:\r\n",
    "        print ('The ' + model + ' is probably Gaussian. p-value = ' + str(p))\r\n",
    "    else:\r\n",
    "        print ('The ' + model +' is not probably Gaussian. p-value = '+ str(p))"
   ],
   "outputs": [],
   "metadata": {}
  },
  {
   "cell_type": "markdown",
   "source": [
    "### Normality evaluation"
   ],
   "metadata": {}
  },
  {
   "cell_type": "code",
   "execution_count": null,
   "source": [
    "normalityTest(data = df_predictions['real_Y'], model = 'real values')\r\n",
    "normalityTest(data = df_predictions['RandomForest_predictions'], model = 'Random Forest')\r\n",
    "normalityTest(data = df_predictions['XGModel_predictions'], model = 'XG model')\r\n",
    "normalityTest(data = df_predictions['ExtraTrees_predictions'], model = 'Extra trees')"
   ],
   "outputs": [],
   "metadata": {}
  },
  {
   "cell_type": "markdown",
   "source": [
    "### Variance homogeneity (Bartlett's test) "
   ],
   "metadata": {}
  },
  {
   "cell_type": "code",
   "execution_count": null,
   "source": [
    "stal, p = stats.bartlett(df_predictions['real_Y'], df_predictions['RandomForest_predictions'], df_predictions['XGModel_predictions'], df_predictions['ExtraTrees_predictions'])\r\n",
    "if p > 0.05:\r\n",
    "    print('There is not sufficient evidence to say that the variance of the real values and the predictors are differents. The p-value is ' + str(p))\r\n",
    "else:\r\n",
    "    print('There is non-homogeneity in the variance. The p-value is ' + str(p))"
   ],
   "outputs": [],
   "metadata": {}
  },
  {
   "cell_type": "code",
   "execution_count": null,
   "source": [
    "stats.f_oneway(df_predictions['real_Y'],\r\n",
    "               df_predictions['RandomForest_predictions'],\r\n",
    "               df_predictions['XGModel_predictions'],\r\n",
    "               df_predictions['ExtraTrees_predictions'])"
   ],
   "outputs": [],
   "metadata": {}
  },
  {
   "cell_type": "markdown",
   "source": [
    "There is not statistical differences between the predicted values by the three models and the observed values"
   ],
   "metadata": {}
  },
  {
   "cell_type": "markdown",
   "source": [
    "## 6.4 Goodness of fit Analysis"
   ],
   "metadata": {}
  },
  {
   "cell_type": "code",
   "execution_count": null,
   "source": [
    "def evaluateGOF (y_real, model_predictions, Model, alpha = 0.05):\r\n",
    "    stat, p_value  = stats.ks_2samp(y_real, model_predictions, alternative='two-sided')\r\n",
    "    if p_value > 0.05:\r\n",
    "        print ('The real values and the predictions of '+Model+' come from the same distribution according to the Kolmogorov-Smirnov test. The p-value is '+str(p_value))\r\n",
    "    else:\r\n",
    "        print ('The real values and the predictions of '+Model+'DO NOT come from the same distribution. The p-value is '+str(p_value))"
   ],
   "outputs": [],
   "metadata": {}
  },
  {
   "cell_type": "code",
   "execution_count": null,
   "source": [
    "evaluateGOF(y_real=df_predictions['real_Y'], model_predictions=df_predictions['RandomForest_predictions'], Model = 'Random Forest')\r\n",
    "evaluateGOF(y_real=df_predictions['real_Y'], model_predictions=df_predictions['XGModel_predictions'], Model = 'Boosted Tree')\r\n",
    "evaluateGOF(y_real=df_predictions['real_Y'], model_predictions=df_predictions['ExtraTrees_predictions'], Model = 'Extra treees')"
   ],
   "outputs": [],
   "metadata": {}
  },
  {
   "cell_type": "code",
   "execution_count": null,
   "source": [
    "df_predictions.to_clipboard()"
   ],
   "outputs": [],
   "metadata": {}
  },
  {
   "cell_type": "code",
   "execution_count": null,
   "source": [],
   "outputs": [],
   "metadata": {}
  }
 ]
}