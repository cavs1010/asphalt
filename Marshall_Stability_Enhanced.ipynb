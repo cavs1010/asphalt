{
 "cells": [
  {
   "cell_type": "markdown",
   "metadata": {},
   "source": [
    "# Marshall Stability"
   ]
  },
  {
   "cell_type": "code",
   "execution_count": 5,
   "metadata": {},
   "outputs": [],
   "source": [
    "#%% IMPORTS\n",
    "#BASICS\n",
    "import pandas as pd\n",
    "import numpy as np\n",
    "import matplotlib.pyplot as plt\n",
    "import seaborn as sns\n",
    "import math\n",
    "from numpy import absolute\n",
    "from pandas.plotting import scatter_matrix\n",
    "from sklearn.pipeline import make_pipeline\n",
    "from IPython.display import display, Markdown, Latex\n",
    "pd.options.display.max_columns = None\n",
    "\n",
    "#STATISTICS\n",
    "from scipy.stats import normaltest\n",
    "from scipy import stats\n",
    "\n",
    "#ML TRAINING AND DATA PREPROCESSING\n",
    "from sklearn.model_selection import train_test_split\n",
    "from sklearn.preprocessing import MinMaxScaler\n",
    "from sklearn.experimental import enable_iterative_imputer\n",
    "from sklearn.impute import IterativeImputer\n",
    "from sklearn.preprocessing import PolynomialFeatures\n",
    "\n",
    "#ML MODELS\n",
    "from sklearn.tree import DecisionTreeRegressor\n",
    "from sklearn.linear_model import BayesianRidge\n",
    "from sklearn.ensemble import ExtraTreesRegressor\n",
    "from sklearn.linear_model import LinearRegression\n",
    "from sklearn.linear_model import Ridge\n",
    "from sklearn.linear_model import SGDRegressor\n",
    "from sklearn.linear_model import Lasso\n",
    "from sklearn.linear_model import ElasticNet\n",
    "from sklearn.svm import SVR\n",
    "from sklearn.tree import DecisionTreeRegressor\n",
    "from sklearn.ensemble import RandomForestRegressor\n",
    "from sklearn.ensemble import ExtraTreesRegressor\n",
    "from xgboost import XGBRegressor\n",
    "import xgboost as xgb\n",
    "from xgboost import plot_importance\n",
    "\n",
    "#MODEL EVALUATION\n",
    "from sklearn.model_selection import cross_validate\n",
    "from sklearn.model_selection import cross_val_score\n",
    "from sklearn.model_selection import GridSearchCV \n",
    "from sklearn.model_selection import RandomizedSearchCV\n",
    "from sklearn.model_selection import RepeatedKFold\n",
    "\n",
    "#METRICS\n",
    "from sklearn.metrics import r2_score\n",
    "from sklearn.metrics import mean_absolute_error\n",
    "from sklearn.metrics import mean_squared_error"
   ]
  },
  {
   "cell_type": "markdown",
   "metadata": {},
   "source": [
    "## 1. Methods"
   ]
  },
  {
   "cell_type": "code",
   "execution_count": 2,
   "metadata": {},
   "outputs": [],
   "source": [
    "#Eliminate Outliers based on the interquantile\n",
    "#datFrame: Data frame where the outliers will be eliminated.\n",
    "#columnName: the name of the column where the outliers will be identified.\n",
    "def eliminateOutliers (dataFrame, columnName):\n",
    "    Q1 = dataFrame[columnName].quantile(0.25)\n",
    "    Q3 = dataFrame[columnName].quantile(0.75)\n",
    "    IQR = Q3 - Q1\n",
    "    print('Initial dataframe size: '+str(dataFrame.shape))\n",
    "    dataFrame = dataFrame[(dataFrame[columnName] < (Q3 + 1.5 * IQR)) & (dataFrame[columnName] > (Q1 - 1.5 * IQR))]\n",
    "    print('Final dataframe size: '+str(dataFrame.shape))\n",
    "    return dataFrame"
   ]
  },
  {
   "cell_type": "code",
   "execution_count": 3,
   "metadata": {},
   "outputs": [],
   "source": [
    "# Create the boxplot graphs for the categorical variables\n",
    "# dataFrame: Data frame associated to the property of interest (dfAirVoids, dfMS, dfMF, dfITS, dfTSR)\n",
    "# propertyOfInterest: the name of the column where the property of interest is located.\n",
    "# columnName1...4: The categorical columns to evaluate.\n",
    "def displayBoxPlotGraphs (dataFrame, propertyOfInterest, columnName1, columnName2, columnName3, columnName4):\n",
    "    f, ((ax1, ax2), (ax3, ax4)) = plt.subplots(2, 2, figsize=(15,10))\n",
    "    sns.boxplot(y = propertyOfInterest, x = columnName1, data=dataFrame,  orient='v' , ax=ax1)\n",
    "    sns.boxplot(y = propertyOfInterest, x = columnName2, data=dataFrame,  orient='v' , ax=ax2)\n",
    "    sns.boxplot(y = propertyOfInterest, x= columnName3, data=dataFrame,  orient='v' , ax=ax3)\n",
    "    sns.boxplot(y= propertyOfInterest, x= columnName4, data=dataFrame,  orient='v' , ax=ax4)"
   ]
  },
  {
   "cell_type": "markdown",
   "metadata": {},
   "source": [
    "## 2. Data Import"
   ]
  },
  {
   "cell_type": "code",
   "execution_count": 4,
   "metadata": {},
   "outputs": [],
   "source": [
    "#%%DATA READING AND INITIAL PREPROCESSING\n",
    "numericColumns = ['Aggregate absorption (%)',\n",
    "                  'Apparent specific gravity',\n",
    "                    0.075,\n",
    "                    0.3,\n",
    "                    0.6,\n",
    "                    2.36,\n",
    "                    4.75,\n",
    "                    9.5,\n",
    "                    12.5,\n",
    "                    19,\n",
    "                    'Plastic particle size (mm)',\n",
    "                    'Mixing speed (RPM)',\n",
    "                    'Mixing Temperature',\n",
    "                    'Mixing Time (hours)',\n",
    "                    'Plastic Addition by bitumen weight (%)',\n",
    "                    'Bitumen content in the sample'\n",
    "                    ]\n",
    "categoricalColumns = ['Modified asphalt Mix?',\n",
    "                      'Agreggate Type',\n",
    "                    'Aggregate absorption [%]',\n",
    "                    'Filler used',\n",
    "                    'Consolidated bitumen penetration grade',\n",
    "                    'New Plastic Type',\n",
    "                    'Plastic pretreatment',\n",
    "                    'Plastic shape',\n",
    "                    'Plastic Size',\n",
    "                    'Mixing Process',\n",
    "                    'Plastic melted previous to addition?',\n",
    "                    'Aggregates replacement ?',\n",
    "                    'Bitumen replacement?',\n",
    "                    'Filler replacement',\n",
    "                    'Property',\n",
    "                    'Units']\n",
    "#It returns the dataframe of interes based on the property - 'AirVoids', 'MS', 'MF', 'ITS', 'TSR'\n",
    "def returnDf (propertyOfInterest):\n",
    "    df = pd.read_excel('fileML.xlsx', sheet_name = propertyOfInterest, engine='openpyxl')\n",
    "    df = df.set_index(propertyOfInterest + ' ID')\n",
    "    df.loc[:,:'Units'] = df.loc[:,:'Units'].applymap(str)\n",
    "    df.loc[:,:'Units'] = df.loc[:,:'Units'] .applymap(str.strip)\n",
    "    df.replace('NS', np.nan, inplace = True)\n",
    "    df[numericColumns] = df[numericColumns].replace('N/a', 0).astype(float)\n",
    "    return df"
   ]
  },
  {
   "cell_type": "code",
   "execution_count": 5,
   "metadata": {},
   "outputs": [],
   "source": [
    "dfMS = returnDf('MS')"
   ]
  },
  {
   "cell_type": "markdown",
   "metadata": {},
   "source": [
    "## 3. Data Exploration\n",
    "###  3.1 Total Sample"
   ]
  },
  {
   "cell_type": "code",
   "execution_count": 6,
   "metadata": {},
   "outputs": [
    {
     "name": "stdout",
     "output_type": "stream",
     "text": [
      "Initial dataframe size: (406, 34)\n",
      "Final dataframe size: (402, 34)\n"
     ]
    }
   ],
   "source": [
    "dfMS = eliminateOutliers(dfMS, 'MS of the sample (kN)')"
   ]
  },
  {
   "cell_type": "code",
   "execution_count": null,
   "metadata": {},
   "outputs": [],
   "source": [
    "dfMS.iloc[:,2:].describe(include = 'all')"
   ]
  },
  {
   "cell_type": "markdown",
   "metadata": {},
   "source": [
    "I might have a problem with the $\\color{red}{\\text{Aggregate absorption}}$ because more than 20% of the data is missing. Regarding the $\\color{red}{\\text{MS}}$, there is a high dispersion ($\\sigma$ = 4.56), and the Mean seems normal. According to the Australian standards, the minimum value of the Marshall stability is between two and eigth."
   ]
  },
  {
   "cell_type": "code",
   "execution_count": null,
   "metadata": {},
   "outputs": [],
   "source": [
    "scatter_matrix(dfMS[['Aggregate absorption (%)', 'Apparent specific gravity', 'Bitumen content in the sample', 'MS of the sample (kN)']], figsize=(10, 10))\n",
    "plt.show()"
   ]
  },
  {
   "cell_type": "code",
   "execution_count": null,
   "metadata": {},
   "outputs": [],
   "source": [
    "plt.figure(figsize=(16, 6))\n",
    "heatmap = sns.heatmap(dfMS.corr(), vmin=-1, vmax=1, annot=True)\n",
    "heatmap.set_title('Correlation Heatmap MS', fontdict={'fontsize':12}, pad=12);"
   ]
  },
  {
   "cell_type": "markdown",
   "metadata": {},
   "source": [
    "Interestingly, there is positive correlation in $\\color{red}{\\text{MS-Apparent specific gravity}}$ and $\\color{red}{\\text{MS-plastic addition by bitumen content}}$."
   ]
  },
  {
   "cell_type": "code",
   "execution_count": null,
   "metadata": {},
   "outputs": [],
   "source": [
    "displayBoxPlotGraphs(dataFrame = dfMS, propertyOfInterest = \"MS of the sample (kN)\", columnName1 = \"Agreggate Type\", columnName2 = \"Filler used\", columnName3 = \"Consolidated bitumen penetration grade\", columnName4 = \"Modified asphalt Mix?\")"
   ]
  },
  {
   "cell_type": "markdown",
   "metadata": {},
   "source": [
    "*   As it happened with the Air Voids, it exists a MS difference among the samples that employed the bitumen 40/50; however, it is important to note that the sample size for this group was not representative enough.\n",
    "\n",
    "*   Samples with plastic modification tend to have higher MS. The glue effect of the plastic and the stiffness increase of the bitumen might serve as valid explanations.\n",
    "\n",
    "*   No signigicant difference among the aggregate types and fillers"
   ]
  },
  {
   "cell_type": "markdown",
   "metadata": {},
   "source": [
    "###  3.2 Modified mixtures"
   ]
  },
  {
   "cell_type": "code",
   "execution_count": null,
   "metadata": {},
   "outputs": [],
   "source": [
    "dfMSModvsUnmod = dfMS [['Modified asphalt Mix?', 'MS of the sample (kN)']]\n",
    "dfMSModvsUnmod.groupby(['Modified asphalt Mix?'], as_index=False).describe()"
   ]
  },
  {
   "cell_type": "code",
   "execution_count": null,
   "metadata": {},
   "outputs": [],
   "source": [
    "dfMSModified = dfMS[dfMS['Modified asphalt Mix?'] == 'Yes']\n",
    "dfMSModified.describe(include = \"all\")"
   ]
  },
  {
   "cell_type": "code",
   "execution_count": null,
   "metadata": {},
   "outputs": [],
   "source": [
    "columnsOfInteres = numericColumns[0:2]+numericColumns[10:]+['MS of the sample (kN)']\n",
    "scatter_matrix(dfMSModified[columnsOfInteres], figsize=(25, 20))\n",
    "plt.show()"
   ]
  },
  {
   "cell_type": "code",
   "execution_count": null,
   "metadata": {},
   "outputs": [],
   "source": [
    "plt.figure(figsize=(16, 6))\n",
    "heatmap = sns.heatmap(dfMSModified.corr(), vmin=-1, vmax=1, annot=True)\n",
    "heatmap.set_title('Correlation Heatmap MS', fontdict={'fontsize':12}, pad=12)"
   ]
  },
  {
   "cell_type": "markdown",
   "metadata": {},
   "source": [
    " $\\color{red}{\\text{MS-Apparent specific gravity}}$ presents the highest correlation with  $\\color{red}{\\text{MS}}$; however, it only has 66 observations, so it is not a convincing result. Other parameters such as  $\\color{red}{\\text{Plastic content}}$, and  $\\color{red}{\\text{gradation}}$ present an slight effect on the MS."
   ]
  },
  {
   "cell_type": "code",
   "execution_count": null,
   "metadata": {},
   "outputs": [],
   "source": [
    "displayBoxPlotGraphs(dataFrame = dfMSModified, propertyOfInterest = \"MS of the sample (kN)\", columnName1 = \"Agreggate Type\", columnName2 = \"Plastic shape\", columnName3 = \"New Plastic Type\", columnName4 = \"Mixing Process\")"
   ]
  },
  {
   "cell_type": "markdown",
   "metadata": {},
   "source": [
    "The mean of the **dry** and **wet** process are not significantly different."
   ]
  },
  {
   "cell_type": "markdown",
   "metadata": {},
   "source": [
    "###  3.3 Wet vs. Dry Mixing"
   ]
  },
  {
   "cell_type": "code",
   "execution_count": null,
   "metadata": {},
   "outputs": [],
   "source": [
    "dfMSWetvsDry = dfMSModified [['Mixing Process', 'MS of the sample (kN)']]\n",
    "dfMSWetvsDry.groupby(['Mixing Process'], as_index=False).describe()"
   ]
  },
  {
   "cell_type": "code",
   "execution_count": null,
   "metadata": {},
   "outputs": [],
   "source": [
    "sns.pairplot(dfMSModified[columnsOfInteres+['Mixing Process']], hue=\"Mixing Process\", height=2.5)"
   ]
  },
  {
   "cell_type": "markdown",
   "metadata": {},
   "source": [
    "##  **Marshall Stability summary:**\n",
    "\n",
    "*   There are missing values mainly in $\\color{red}{\\text{Apparent specific gravity}}$, $\\color{red}{\\text{Aggregate type}}$ and $\\color{red}{\\text{filler used}}$.\n",
    "*   Four outliers were eliminated. The final total sample included 402 data points ($\\mu$ = 14.47, $\\sigma$ = 4.6). \n",
    "*   $\\color{red}{\\text{Aggregate absorption}}$ seems to be a critical variable to include, but the percentage of missing values is more than 20%.\n",
    "*   $\\color{red}{\\text{Apparent specific gravity}}$ presents the strongest positive correlation with the Marshall stability, but it is not a reliable inference becasue it presents many missing points (318 missing points).\n",
    "* Although Marshall stability of modified asphalts is relatively higher than not modified, this is not certain because the high variances of both sample groups. $\\mu_{modified}$ = 15.12 vs. $\\mu_{unmodified}$ = 11.97\n",
    "*   $\\color{red}{\\text{Percentage of plastic addition}}$ has a noticeable possitive correlation with MS. (r = 0.39) \n",
    "*   MS of dry and wet are really similar -> $\\mu_{Dry}$ = 15.05 (200 observations) vs $\\mu_{Wet}$ = 15.2 (119 observations)\n",
    "\n",
    "## 4. Data Pre-processing"
   ]
  },
  {
   "cell_type": "code",
   "execution_count": 7,
   "metadata": {},
   "outputs": [
    {
     "name": "stdout",
     "output_type": "stream",
     "text": [
      "<class 'pandas.core.frame.DataFrame'>\n",
      "Int64Index: 402 entries, 1 to 406\n",
      "Data columns (total 34 columns):\n",
      " #   Column                                  Non-Null Count  Dtype  \n",
      "---  ------                                  --------------  -----  \n",
      " 0   Article ID                              402 non-null    object \n",
      " 1   Global ID                               402 non-null    object \n",
      " 2   Modified asphalt Mix?                   402 non-null    object \n",
      " 3   Agreggate Type                          262 non-null    object \n",
      " 4   Aggregate absorption (%)                242 non-null    float64\n",
      " 5   Apparent specific gravity               84 non-null     float64\n",
      " 6   0.075                                   325 non-null    float64\n",
      " 7   0.3                                     372 non-null    float64\n",
      " 8   0.6                                     344 non-null    float64\n",
      " 9   2.36                                    355 non-null    float64\n",
      " 10  4.75                                    372 non-null    float64\n",
      " 11  9.5                                     344 non-null    float64\n",
      " 12  12.5                                    357 non-null    float64\n",
      " 13  19                                      372 non-null    float64\n",
      " 14  Filler used                             161 non-null    object \n",
      " 15  Bitumen Type Penetration Grade          402 non-null    object \n",
      " 16  Consolidated bitumen penetration grade  402 non-null    object \n",
      " 17  New Plastic Type                        377 non-null    object \n",
      " 18  Plastic pretreatment                    402 non-null    object \n",
      " 19  Plastic shape                           402 non-null    object \n",
      " 20  Plastic Size                            320 non-null    object \n",
      " 21  Plastic particle size (mm)              307 non-null    float64\n",
      " 22  Mixing Process                          402 non-null    object \n",
      " 23  Mixing speed (RPM)                      371 non-null    float64\n",
      " 24  Mixing Temperature                      385 non-null    float64\n",
      " 25  Mixing Time (hours)                     372 non-null    float64\n",
      " 26  Aggregates replacement ?                402 non-null    object \n",
      " 27  Bitumen replacement?                    402 non-null    object \n",
      " 28  Filler replacement                      402 non-null    object \n",
      " 29  Plastic Addition by bitumen weight (%)  400 non-null    float64\n",
      " 30  Property                                402 non-null    object \n",
      " 31  Units                                   402 non-null    object \n",
      " 32  Bitumen content in the sample           399 non-null    float64\n",
      " 33  MS of the sample (kN)                   402 non-null    float64\n",
      "dtypes: float64(17), object(17)\n",
      "memory usage: 109.9+ KB\n"
     ]
    }
   ],
   "source": [
    "dfMS.info()"
   ]
  },
  {
   "cell_type": "markdown",
   "metadata": {},
   "source": [
    "###  Pre-processing:\n",
    "1.  Eliminate the columns $\\color{red}{\\text{Article ID}}$, $\\color{red}{\\text{Global ID}}$, $\\color{red}{\\text{Aggregate type}}$, $\\color{red}{\\text{Apparent specific gravity}}$, $\\color{red}{\\text{filler used}}$, $\\color{red}{\\text{Bitumen type penetration}}$, $\\color{red}{\\text{Property}}$, $\\color{red}{\\text{plastic size}}$ and $\\color{red}{\\text{Units}}$.\n",
    "2.  Change the N/a to zero. This is for the unmodified mixtures.\n",
    "3.  Eliminate rows with missing values in $\\color{red}{\\text{New Plastic Type}}$, $\\color{red}{\\text{Plastic addition by bitumen weight}}$ and $\\color{red}{\\text{bitumen}}$ content in sample\n",
    "4.  Change categorical columns to numeric.\n",
    "5.  Imputer to $\\color{red}{\\text{Aggregate absorption}}$, $\\color{red}{\\text{gradation}}$, $\\color{red}{\\text{plastic size(mm)}}$, and $\\color{red}{\\text{mixing parameters}}$."
   ]
  },
  {
   "cell_type": "code",
   "execution_count": 8,
   "metadata": {},
   "outputs": [
    {
     "name": "stdout",
     "output_type": "stream",
     "text": [
      "<class 'pandas.core.frame.DataFrame'>\n",
      "Int64Index: 374 entries, 1 to 406\n",
      "Data columns (total 35 columns):\n",
      " #   Column                                         Non-Null Count  Dtype  \n",
      "---  ------                                         --------------  -----  \n",
      " 0   Aggregate absorption (%)                       217 non-null    float64\n",
      " 1   0.075                                          322 non-null    float64\n",
      " 2   0.3                                            369 non-null    float64\n",
      " 3   0.6                                            341 non-null    float64\n",
      " 4   2.36                                           352 non-null    float64\n",
      " 5   4.75                                           369 non-null    float64\n",
      " 6   9.5                                            341 non-null    float64\n",
      " 7   12.5                                           354 non-null    float64\n",
      " 8   19                                             369 non-null    float64\n",
      " 9   Plastic particle size (mm)                     304 non-null    float64\n",
      " 10  Mixing speed (RPM)                             343 non-null    float64\n",
      " 11  Mixing Temperature                             357 non-null    float64\n",
      " 12  Mixing Time (hours)                            344 non-null    float64\n",
      " 13  Plastic Addition by bitumen weight (%)         374 non-null    float64\n",
      " 14  Bitumen content in the sample                  374 non-null    float64\n",
      " 15  MS of the sample (kN)                          374 non-null    float64\n",
      " 16  New Plastic Type_Nylon                         374 non-null    uint8  \n",
      " 17  New Plastic Type_PE                            374 non-null    uint8  \n",
      " 18  New Plastic Type_PET                           374 non-null    uint8  \n",
      " 19  New Plastic Type_PP                            374 non-null    uint8  \n",
      " 20  New Plastic Type_PU                            374 non-null    uint8  \n",
      " 21  New Plastic Type_PVC                           374 non-null    uint8  \n",
      " 22  New Plastic Type_Plastic Mix                   374 non-null    uint8  \n",
      " 23  New Plastic Type_e-waste                       374 non-null    uint8  \n",
      " 24  Consolidated bitumen penetration grade_50/70   374 non-null    uint8  \n",
      " 25  Consolidated bitumen penetration grade_70/100  374 non-null    uint8  \n",
      " 26  Plastic pretreatment_Physical                  374 non-null    uint8  \n",
      " 27  Plastic pretreatment_Plastic Melted            374 non-null    uint8  \n",
      " 28  Plastic shape_Fibers                           374 non-null    uint8  \n",
      " 29  Plastic shape_Pellets                          374 non-null    uint8  \n",
      " 30  Plastic shape_Shredded                         374 non-null    uint8  \n",
      " 31  Mixing Process_Dry                             374 non-null    uint8  \n",
      " 32  Mixing Process_Wet                             374 non-null    uint8  \n",
      " 33  Aggregates replacement ?_Yes                   374 non-null    uint8  \n",
      " 34  Bitumen replacement?_Yes                       374 non-null    uint8  \n",
      "dtypes: float64(16), uint8(19)\n",
      "memory usage: 56.6 KB\n"
     ]
    }
   ],
   "source": [
    "#Categorical Variables\n",
    "dfMSCleaned = dfMS.drop(['Article ID', \n",
    "                        'Global ID',\n",
    "                        'Modified asphalt Mix?',\n",
    "                        'Agreggate Type', \n",
    "                        'Apparent specific gravity', \n",
    "                        'Filler used', \n",
    "                        'Bitumen Type Penetration Grade', \n",
    "                        'Property', \n",
    "                        'Units', \n",
    "                        'Plastic Size' ], axis = 1)\n",
    "dfMSCleaned = dfMSCleaned.replace('N/a', 0)\n",
    "dfMSCleaned = dfMSCleaned.dropna(subset=['New Plastic Type', \n",
    "                                        'Plastic Addition by bitumen weight (%)', \n",
    "                                        'Bitumen content in the sample'])\n",
    "dfMSCleaned = pd.get_dummies(dfMSCleaned, columns=['New Plastic Type'], drop_first = False)\n",
    "dfMSCleaned = pd.get_dummies(dfMSCleaned, drop_first = True)\n",
    "dfMSCleaned = dfMSCleaned.drop(['New Plastic Type_0'], axis = 1)\n",
    "dfMSCleaned.info()"
   ]
  },
  {
   "cell_type": "code",
   "execution_count": 9,
   "metadata": {},
   "outputs": [
    {
     "name": "stdout",
     "output_type": "stream",
     "text": [
      "<class 'pandas.core.frame.DataFrame'>\n",
      "RangeIndex: 374 entries, 0 to 373\n",
      "Data columns (total 35 columns):\n",
      " #   Column                                         Non-Null Count  Dtype  \n",
      "---  ------                                         --------------  -----  \n",
      " 0   Aggregate absorption (%)                       374 non-null    float64\n",
      " 1   0.075                                          374 non-null    float64\n",
      " 2   0.3                                            374 non-null    float64\n",
      " 3   0.6                                            374 non-null    float64\n",
      " 4   2.36                                           374 non-null    float64\n",
      " 5   4.75                                           374 non-null    float64\n",
      " 6   9.5                                            374 non-null    float64\n",
      " 7   12.5                                           374 non-null    float64\n",
      " 8   19                                             374 non-null    float64\n",
      " 9   Plastic particle size (mm)                     374 non-null    float64\n",
      " 10  Mixing speed (RPM)                             374 non-null    float64\n",
      " 11  Mixing Temperature                             374 non-null    float64\n",
      " 12  Mixing Time (hours)                            374 non-null    float64\n",
      " 13  Plastic Addition by bitumen weight (%)         374 non-null    float64\n",
      " 14  Bitumen content in the sample                  374 non-null    float64\n",
      " 15  MS of the sample (kN)                          374 non-null    float64\n",
      " 16  New Plastic Type_Nylon                         374 non-null    float64\n",
      " 17  New Plastic Type_PE                            374 non-null    float64\n",
      " 18  New Plastic Type_PET                           374 non-null    float64\n",
      " 19  New Plastic Type_PP                            374 non-null    float64\n",
      " 20  New Plastic Type_PU                            374 non-null    float64\n",
      " 21  New Plastic Type_PVC                           374 non-null    float64\n",
      " 22  New Plastic Type_Plastic Mix                   374 non-null    float64\n",
      " 23  New Plastic Type_e-waste                       374 non-null    float64\n",
      " 24  Consolidated bitumen penetration grade_50/70   374 non-null    float64\n",
      " 25  Consolidated bitumen penetration grade_70/100  374 non-null    float64\n",
      " 26  Plastic pretreatment_Physical                  374 non-null    float64\n",
      " 27  Plastic pretreatment_Plastic Melted            374 non-null    float64\n",
      " 28  Plastic shape_Fibers                           374 non-null    float64\n",
      " 29  Plastic shape_Pellets                          374 non-null    float64\n",
      " 30  Plastic shape_Shredded                         374 non-null    float64\n",
      " 31  Mixing Process_Dry                             374 non-null    float64\n",
      " 32  Mixing Process_Wet                             374 non-null    float64\n",
      " 33  Aggregates replacement ?_Yes                   374 non-null    float64\n",
      " 34  Bitumen replacement?_Yes                       374 non-null    float64\n",
      "dtypes: float64(35)\n",
      "memory usage: 102.4 KB\n",
      "There is 0 negative values in the new Dataframe\n"
     ]
    },
    {
     "name": "stderr",
     "output_type": "stream",
     "text": [
      "C:\\Users\\cavs1\\Anaconda3\\envs\\spyder\\lib\\site-packages\\sklearn\\impute\\_iterative.py:685: ConvergenceWarning: [IterativeImputer] Early stopping criterion not reached.\n",
      "  warnings.warn(\"[IterativeImputer] Early stopping criterion not\"\n"
     ]
    }
   ],
   "source": [
    "#IMPUTATION OF MISSING VALUES\n",
    "imputer = IterativeImputer (estimator = ExtraTreesRegressor(n_estimators=10, random_state=123), max_iter=50)\n",
    "n = imputer.fit_transform(dfMSCleaned)\n",
    "dfMSCleanedImputed = pd.DataFrame(n, columns = list(dfMSCleaned.columns))\n",
    "dfMSCleanedImputed.info()\n",
    "print ('There is '+str(sum(n < 0 for n in dfMSCleanedImputed.values.flatten()))+' negative values in the new Dataframe')"
   ]
  },
  {
   "cell_type": "code",
   "execution_count": 10,
   "metadata": {},
   "outputs": [],
   "source": [
    "dfMSCleanedImputed['New Plastic Type_Nylon'] = dfMSCleanedImputed['New Plastic Type_Nylon'] * dfMSCleanedImputed['Plastic Addition by bitumen weight (%)']\n",
    "dfMSCleanedImputed['New Plastic Type_PE'] = dfMSCleanedImputed['New Plastic Type_PE'] * dfMSCleanedImputed['Plastic Addition by bitumen weight (%)']\n",
    "dfMSCleanedImputed['New Plastic Type_PET'] = dfMSCleanedImputed['New Plastic Type_PET'] * dfMSCleanedImputed['Plastic Addition by bitumen weight (%)']\n",
    "dfMSCleanedImputed['New Plastic Type_PP'] = dfMSCleanedImputed['New Plastic Type_PP'] * dfMSCleanedImputed['Plastic Addition by bitumen weight (%)']\n",
    "dfMSCleanedImputed['New Plastic Type_PU'] = dfMSCleanedImputed['New Plastic Type_PU'] * dfMSCleanedImputed['Plastic Addition by bitumen weight (%)']\n",
    "dfMSCleanedImputed['New Plastic Type_PVC'] = dfMSCleanedImputed['New Plastic Type_PVC'] * dfMSCleanedImputed['Plastic Addition by bitumen weight (%)']\n",
    "dfMSCleanedImputed['New Plastic Type_Plastic Mix'] = dfMSCleanedImputed['New Plastic Type_Plastic Mix'] * dfMSCleanedImputed['Plastic Addition by bitumen weight (%)']\n",
    "dfMSCleanedImputed['New Plastic Type_e-waste'] = dfMSCleanedImputed['New Plastic Type_e-waste'] * dfMSCleanedImputed['Plastic Addition by bitumen weight (%)']\n",
    "dfMSCleanedImputed = dfMSCleanedImputed.drop(['Plastic Addition by bitumen weight (%)'], axis = 1)"
   ]
  },
  {
   "cell_type": "code",
   "execution_count": 11,
   "metadata": {},
   "outputs": [],
   "source": [
    "scaler = MinMaxScaler()\n",
    "dfMSCleanedImputedScaled = pd.DataFrame(scaler.fit_transform(dfMSCleanedImputed), columns = list(dfMSCleanedImputed.columns))\n",
    "dfMSCleanedImputedScaled.to_clipboard()"
   ]
  },
  {
   "cell_type": "markdown",
   "metadata": {},
   "source": [
    "## 5. Model Training"
   ]
  },
  {
   "cell_type": "code",
   "execution_count": 12,
   "metadata": {},
   "outputs": [
    {
     "name": "stdout",
     "output_type": "stream",
     "text": [
      "The min value is: 1.36784. The max value is: 26.9\n"
     ]
    }
   ],
   "source": [
    "min = dfMSCleanedImputed['MS of the sample (kN)'].min()\n",
    "max = dfMSCleanedImputed['MS of the sample (kN)'].max()\n",
    "print('The min value is: '+str(min)+'. The max value is: '+str(max))"
   ]
  },
  {
   "cell_type": "code",
   "execution_count": null,
   "metadata": {},
   "outputs": [],
   "source": [
    "#Method that print the best parameters, R2 and MSE based on a grid search.\n",
    "def printBestModelAdv (grid, estimator = n, advancedAnalysis = False):\n",
    "    min = dfMSCleanedImputed['MS of the sample (kN)'].min()\n",
    "    max = dfMSCleanedImputed['MS of the sample (kN)'].max()\n",
    "    mse = -grid.best_score_\n",
    "    print('Best Parameters:' , grid.best_params_)\n",
    "    print('Best Test MSE: ' + str(mse))\n",
    "    print('Std of the Test MSE:' + str(grid.cv_results_['std_test_neg_mean_squared_error'][grid.best_index_]))\n",
    "    print('Best Test RMSE: ' +str(math.sqrt(mse)))\n",
    "    print('Best Test scaled RMSE: ' +str((math.sqrt(mse)*(max-min))+min))\n",
    "    print('Best Test scaled MSE: ' +str(((math.sqrt(mse)*(max-min))+min)**2)) \n",
    "    print('Best Test R2: ' + str(grid.cv_results_['mean_test_r2'][grid.best_index_]))\n",
    "    if (advancedAnalysis):\n",
    "        bestEstimator = estimator\n",
    "        bestEstimator.fit(X_train, y_train)\n",
    "        predictionsTrain = bestEstimator.predict(X_train)\n",
    "        df = pd.DataFrame({'predictions':predictionsTrain, 'original': y_train})\n",
    "        df.plot.hist(bins=10, alpha=0.5)\n",
    "        unScaledDf = (df*(max-min))+min\n",
    "        print (unScaledDf.describe())"
   ]
  },
  {
   "cell_type": "code",
   "execution_count": 13,
   "metadata": {},
   "outputs": [],
   "source": [
    "X = dfMSCleanedImputedScaled.loc[:, dfMSCleanedImputedScaled.columns != 'MS of the sample (kN)']\n",
    "X.columns = X.columns.astype(str)\n",
    "y = dfMSCleanedImputedScaled.loc[:,'MS of the sample (kN)']\n",
    "X_train, X_test, y_train, y_test = train_test_split(X, y, test_size=0.2, random_state=123)\n",
    "cv = RepeatedKFold(n_splits = 5, n_repeats = 10, random_state = 123)"
   ]
  },
  {
   "cell_type": "code",
   "execution_count": 15,
   "metadata": {},
   "outputs": [],
   "source": [
    "y_train_new = y_train.to_frame()\n",
    "y_train_new['y_train_unscaled'] = (y_train*(max-min))+min"
   ]
  },
  {
   "cell_type": "code",
   "execution_count": 16,
   "metadata": {},
   "outputs": [
    {
     "data": {
      "text/html": [
       "<div>\n",
       "<style scoped>\n",
       "    .dataframe tbody tr th:only-of-type {\n",
       "        vertical-align: middle;\n",
       "    }\n",
       "\n",
       "    .dataframe tbody tr th {\n",
       "        vertical-align: top;\n",
       "    }\n",
       "\n",
       "    .dataframe thead th {\n",
       "        text-align: right;\n",
       "    }\n",
       "</style>\n",
       "<table border=\"1\" class=\"dataframe\">\n",
       "  <thead>\n",
       "    <tr style=\"text-align: right;\">\n",
       "      <th></th>\n",
       "      <th>MS of the sample (kN)</th>\n",
       "      <th>y_train_unscaled</th>\n",
       "    </tr>\n",
       "  </thead>\n",
       "  <tbody>\n",
       "    <tr>\n",
       "      <th>count</th>\n",
       "      <td>299.000000</td>\n",
       "      <td>299.000000</td>\n",
       "    </tr>\n",
       "    <tr>\n",
       "      <th>mean</th>\n",
       "      <td>0.495588</td>\n",
       "      <td>14.021276</td>\n",
       "    </tr>\n",
       "    <tr>\n",
       "      <th>std</th>\n",
       "      <td>0.179733</td>\n",
       "      <td>4.588971</td>\n",
       "    </tr>\n",
       "    <tr>\n",
       "      <th>min</th>\n",
       "      <td>0.011728</td>\n",
       "      <td>1.667280</td>\n",
       "    </tr>\n",
       "    <tr>\n",
       "      <th>25%</th>\n",
       "      <td>0.353580</td>\n",
       "      <td>10.395513</td>\n",
       "    </tr>\n",
       "    <tr>\n",
       "      <th>50%</th>\n",
       "      <td>0.491622</td>\n",
       "      <td>13.920000</td>\n",
       "    </tr>\n",
       "    <tr>\n",
       "      <th>75%</th>\n",
       "      <td>0.615975</td>\n",
       "      <td>17.095000</td>\n",
       "    </tr>\n",
       "    <tr>\n",
       "      <th>max</th>\n",
       "      <td>1.000000</td>\n",
       "      <td>26.900000</td>\n",
       "    </tr>\n",
       "  </tbody>\n",
       "</table>\n",
       "</div>"
      ],
      "text/plain": [
       "       MS of the sample (kN)  y_train_unscaled\n",
       "count             299.000000        299.000000\n",
       "mean                0.495588         14.021276\n",
       "std                 0.179733          4.588971\n",
       "min                 0.011728          1.667280\n",
       "25%                 0.353580         10.395513\n",
       "50%                 0.491622         13.920000\n",
       "75%                 0.615975         17.095000\n",
       "max                 1.000000         26.900000"
      ]
     },
     "execution_count": 16,
     "metadata": {},
     "output_type": "execute_result"
    }
   ],
   "source": [
    "y_train_new.describe()"
   ]
  },
  {
   "cell_type": "code",
   "execution_count": 17,
   "metadata": {},
   "outputs": [
    {
     "data": {
      "image/png": "[encoded data removed]",
      "text/plain": [
       "<Figure size 432x288 with 1 Axes>"
      ]
     },
     "metadata": {},
     "output_type": "display_data"
    }
   ],
   "source": [
    "sns.set_style('darkgrid')\n",
    "fig, ax = plt.subplots()\n",
    "sns.histplot(x=y_train_new[\"y_train_unscaled\"], bins=10, kde=True, ax = ax)\n",
    "ax.set(xlabel='Marshall Stability (kN)')\n",
    "ax.axvline(x=5.33, label='Minimum accepted value' , linestyle = '--', color='k')\n",
    "ax.set_title('(b)')\n",
    "ax.legend()\n",
    "plt.show()"
   ]
  },
  {
   "cell_type": "markdown",
   "metadata": {},
   "source": [
    "### 5.1 Model Evaluation\n",
    "#### Linear Model"
   ]
  },
  {
   "cell_type": "code",
   "execution_count": null,
   "metadata": {},
   "outputs": [],
   "source": [
    "param_grid = {'fit_intercept': [True, False],\n",
    "            'positive': [True, False]}\n",
    "grid = GridSearchCV(LinearRegression(), param_grid, cv = cv, scoring=['neg_mean_squared_error', 'r2'], refit = 'neg_mean_squared_error', return_train_score= True)\n",
    "grid.fit(X_train, y_train)\n",
    "printBestModelAdv(grid) "
   ]
  },
  {
   "cell_type": "markdown",
   "metadata": {},
   "source": [
    "#### Lasso Linear Model"
   ]
  },
  {
   "cell_type": "code",
   "execution_count": null,
   "metadata": {},
   "outputs": [],
   "source": [
    "param_grid = {'alpha': [0.001,1, 10, 15, 30, 50, 100],\n",
    "            'fit_intercept':[True, False],\n",
    "            'positive': [True, False]}\n",
    "grid = GridSearchCV(Lasso(), param_grid, cv=cv, scoring=['neg_mean_squared_error', 'r2'], refit = 'neg_mean_squared_error', return_train_score= True)\n",
    "grid.fit(X_train, y_train)\n",
    "printBestModelAdv(grid)"
   ]
  },
  {
   "cell_type": "markdown",
   "metadata": {},
   "source": [
    "#### Ridge Linear regression model"
   ]
  },
  {
   "cell_type": "code",
   "execution_count": null,
   "metadata": {},
   "outputs": [],
   "source": [
    "param_grid = {'alpha': [7, 8, 10,100],\n",
    "'fit_intercept': [True, False],\n",
    "'solver': [ 'svd', 'cholesky', 'lsqr', 'sparse_cg', 'sag', 'saga']}\n",
    "grid = GridSearchCV(Ridge(), param_grid, cv=cv, scoring=['neg_mean_squared_error', 'r2'], refit = 'neg_mean_squared_error')\n",
    "grid.fit(X_train, y_train)\n",
    "printBestModelAdv(grid)"
   ]
  },
  {
   "cell_type": "markdown",
   "metadata": {},
   "source": [
    "#### Linear Elastic net"
   ]
  },
  {
   "cell_type": "code",
   "execution_count": null,
   "metadata": {},
   "outputs": [],
   "source": [
    "param_grid = {'alpha': [0.01,1,2,3,4],\n",
    "'fit_intercept': [True, False]}\n",
    "grid = GridSearchCV(ElasticNet(), param_grid, cv=cv, scoring=['neg_mean_squared_error', 'r2'], refit = 'neg_mean_squared_error')\n",
    "grid.fit(X_train, y_train)\n",
    "printBestModelAdv(grid)"
   ]
  },
  {
   "cell_type": "markdown",
   "metadata": {},
   "source": [
    "#### Polynomial model"
   ]
  },
  {
   "cell_type": "code",
   "execution_count": null,
   "metadata": {},
   "outputs": [],
   "source": [
    "def PolynomialRegression(degree=2, **kwargs):\n",
    "    return make_pipeline(PolynomialFeatures(degree), LinearRegression(**kwargs))\n",
    "\n",
    "param_grid = {'polynomialfeatures__degree': [2,3],\n",
    "'linearregression__fit_intercept': [True, False],\n",
    "'linearregression__positive':[True, False]}\n",
    "grid = GridSearchCV(PolynomialRegression(), param_grid, cv=cv, scoring=['neg_mean_squared_error', 'r2'], refit = 'neg_mean_squared_error')\n",
    "grid.fit(X_train, y_train)\n",
    "printBestModelAdv(grid)"
   ]
  },
  {
   "cell_type": "markdown",
   "metadata": {},
   "source": [
    "#### Lasso Polynomial model"
   ]
  },
  {
   "cell_type": "code",
   "execution_count": null,
   "metadata": {},
   "outputs": [],
   "source": [
    "def PolynomialRegression(degree=2, **kwargs):\n",
    "    return make_pipeline(PolynomialFeatures(degree), Lasso(**kwargs))\n",
    "\n",
    "param_grid = {'polynomialfeatures__degree': [2,3],\n",
    "            'lasso__alpha': [1,2, 3, 10, 15, 30],\n",
    "            'lasso__fit_intercept':[True, False],\n",
    "            'lasso__positive': [True, False],\n",
    "            'lasso__max_iter': [2000,3000, 3500]}\n",
    "grid = GridSearchCV(PolynomialRegression(), param_grid, cv=cv, scoring=['neg_mean_squared_error', 'r2'], refit = 'neg_mean_squared_error', return_train_score= True)\n",
    "grid.fit(X_train, y_train)\n",
    "printBestModelAdv(grid)"
   ]
  },
  {
   "cell_type": "markdown",
   "metadata": {},
   "source": [
    "#### Ridge polynomial model"
   ]
  },
  {
   "cell_type": "code",
   "execution_count": null,
   "metadata": {},
   "outputs": [],
   "source": [
    "def PolynomialRegression(degree=2, **kwargs):\n",
    "    return make_pipeline(PolynomialFeatures(degree), Ridge(**kwargs))\n",
    "\n",
    "param_grid = {'polynomialfeatures__degree': [2,3],\n",
    "'ridge__alpha':[20,30,50, 60],\n",
    "'ridge__fit_intercept': [True, False],\n",
    "'ridge__solver': [ 'lsqr', 'cholesky', 'sparse_cg', 'auto']}\n",
    "grid = GridSearchCV(PolynomialRegression(), param_grid, cv=cv, scoring=['neg_mean_squared_error', 'r2'], refit='neg_mean_squared_error')\n",
    "grid.fit(X_train, y_train)\n",
    "printBestModelAdv(grid)"
   ]
  },
  {
   "cell_type": "markdown",
   "metadata": {},
   "source": [
    "#### Support vector regression"
   ]
  },
  {
   "cell_type": "code",
   "execution_count": null,
   "metadata": {},
   "outputs": [],
   "source": [
    "param_grid = {\n",
    "    'kernel':['linear','rbf', 'sigmoid', 'poly'],\n",
    "    'degree':[2,3,4],\n",
    "    'C':[0.01,1,5,10],\n",
    "    'epsilon':[0.1,0.2, 1, 1.5]\n",
    "}\n",
    "grid = GridSearchCV(SVR(), param_grid, cv=cv, scoring=['neg_mean_squared_error', 'r2'], refit='neg_mean_squared_error')\n",
    "grid.fit(X_train, y_train)\n",
    "printBestModelAdv(grid)"
   ]
  },
  {
   "cell_type": "markdown",
   "metadata": {},
   "source": [
    "#### Decision Tree regressor"
   ]
  },
  {
   "cell_type": "code",
   "execution_count": null,
   "metadata": {},
   "outputs": [],
   "source": [
    "param_grid = {\n",
    "    'max_depth':[1,2,3,5,10,30],\n",
    "    'min_samples_split':[2,3,4],\n",
    "    'min_samples_leaf':[0.4,1,2]\n",
    "}\n",
    "grid = GridSearchCV(DecisionTreeRegressor(), param_grid, cv=cv, scoring=['neg_mean_squared_error', 'r2'], refit='neg_mean_squared_error')\n",
    "grid.fit(X_train, y_train)\n",
    "printBestModelAdv(grid)"
   ]
  },
  {
   "cell_type": "markdown",
   "metadata": {},
   "source": [
    "#### Random Forest"
   ]
  },
  {
   "cell_type": "code",
   "execution_count": null,
   "metadata": {
    "tags": []
   },
   "outputs": [],
   "source": [
    "param_grid = {\n",
    "    'bootstrap': [True, False],\n",
    "    'max_depth': [10, 20, 30, 40, 50, 60, 70, 80, 90, 100, None],\n",
    "    'max_features': ['auto', 'sqrt'],\n",
    "    'min_samples_leaf': [1, 2, 4],\n",
    "    'min_samples_split': [2, 5, 10],\n",
    "    'n_estimators': [200, 400, 600, 800, 1000, 1200, 1400, 1600, 1800, 2000]\n",
    "}\n",
    "grid = RandomizedSearchCV(RandomForestRegressor(), param_grid, cv=cv, scoring=['r2','neg_mean_squared_error'], refit='neg_mean_squared_error', n_iter=10)\n",
    "grid.fit(X_train, y_train)\n",
    "printBestModelAdv(grid, RandomForestRegressor(**grid.best_params_), True)"
   ]
  },
  {
   "cell_type": "markdown",
   "metadata": {},
   "source": [
    "#### Extra tree regressor"
   ]
  },
  {
   "cell_type": "code",
   "execution_count": null,
   "metadata": {},
   "outputs": [],
   "source": [
    "param_grid = {\n",
    "    'bootstrap': [True],\n",
    "    'max_depth': [50],\n",
    "    'max_features': ['auto'],\n",
    "    'min_samples_leaf': [1,2,4,5,10],\n",
    "    'min_samples_split': [2],\n",
    "    'n_estimators': [400]\n",
    "}\n",
    "grid = GridSearchCV(ExtraTreesRegressor(), param_grid, cv=cv, scoring=['r2','neg_mean_squared_error'], refit='neg_mean_squared_error')\n",
    "grid.fit(X_train, y_train)\n",
    "printBestModelAdv(grid, RandomForestRegressor(**grid.best_params_), True)"
   ]
  },
  {
   "cell_type": "code",
   "execution_count": null,
   "metadata": {
    "tags": []
   },
   "outputs": [],
   "source": [
    "param_grid = {\n",
    "    'bootstrap': [True, False],\n",
    "    'max_depth': [10, 20, 30, 40, 50, 60, 70, 80, 90, 100, None],\n",
    "    'max_features': ['auto', 'sqrt'],\n",
    "    'min_samples_leaf': [1, 2, 4],\n",
    "    'min_samples_split': [2, 5, 10],\n",
    "    'n_estimators': [200, 400, 600, 800, 1000, 1200, 1400, 1600, 1800, 2000]\n",
    "}\n",
    "grid = RandomizedSearchCV(ExtraTreesRegressor(), param_grid, cv=cv, scoring=['r2','neg_mean_squared_error'], refit='neg_mean_squared_error', n_iter=10)\n",
    "grid.fit(X_train, y_train)\n",
    "printBestModelAdv(grid, RandomForestRegressor(**grid.best_params_), True)"
   ]
  },
  {
   "cell_type": "markdown",
   "metadata": {},
   "source": [
    "#### XG Boost Regressor"
   ]
  },
  {
   "cell_type": "code",
   "execution_count": 20,
   "metadata": {},
   "outputs": [
    {
     "ename": "KeyboardInterrupt",
     "evalue": "",
     "output_type": "error",
     "traceback": [
      "\u001b[1;31m---------------------------------------------------------------------------\u001b[0m",
      "\u001b[1;31mKeyboardInterrupt\u001b[0m                         Traceback (most recent call last)",
      "\u001b[1;32m<ipython-input-20-214ec12c0b1a>\u001b[0m in \u001b[0;36m<module>\u001b[1;34m\u001b[0m\n\u001b[0;32m      3\u001b[0m }\n\u001b[0;32m      4\u001b[0m \u001b[0mgrid\u001b[0m \u001b[1;33m=\u001b[0m \u001b[0mGridSearchCV\u001b[0m\u001b[1;33m(\u001b[0m\u001b[0mXGBRegressor\u001b[0m\u001b[1;33m(\u001b[0m\u001b[0mrandom_state\u001b[0m\u001b[1;33m=\u001b[0m\u001b[1;36m123\u001b[0m\u001b[1;33m)\u001b[0m\u001b[1;33m,\u001b[0m \u001b[0mparam_grid\u001b[0m\u001b[1;33m,\u001b[0m \u001b[0mcv\u001b[0m\u001b[1;33m=\u001b[0m\u001b[0mcv\u001b[0m\u001b[1;33m,\u001b[0m \u001b[0mscoring\u001b[0m\u001b[1;33m=\u001b[0m\u001b[1;33m[\u001b[0m\u001b[1;34m'neg_mean_squared_error'\u001b[0m\u001b[1;33m,\u001b[0m \u001b[1;34m'r2'\u001b[0m\u001b[1;33m]\u001b[0m\u001b[1;33m,\u001b[0m \u001b[0mrefit\u001b[0m\u001b[1;33m=\u001b[0m\u001b[1;34m'neg_mean_squared_error'\u001b[0m\u001b[1;33m)\u001b[0m\u001b[1;33m\u001b[0m\u001b[1;33m\u001b[0m\u001b[0m\n\u001b[1;32m----> 5\u001b[1;33m \u001b[0mgrid\u001b[0m\u001b[1;33m.\u001b[0m\u001b[0mfit\u001b[0m\u001b[1;33m(\u001b[0m\u001b[0mX_train\u001b[0m\u001b[1;33m,\u001b[0m \u001b[0my_train\u001b[0m\u001b[1;33m)\u001b[0m\u001b[1;33m\u001b[0m\u001b[1;33m\u001b[0m\u001b[0m\n\u001b[0m\u001b[0;32m      6\u001b[0m \u001b[0mprintBestModelAdv\u001b[0m\u001b[1;33m(\u001b[0m\u001b[0mgrid\u001b[0m\u001b[1;33m,\u001b[0m \u001b[0mXGBRegressor\u001b[0m\u001b[1;33m(\u001b[0m\u001b[1;33m**\u001b[0m\u001b[0mgrid\u001b[0m\u001b[1;33m.\u001b[0m\u001b[0mbest_params_\u001b[0m\u001b[1;33m)\u001b[0m\u001b[1;33m,\u001b[0m \u001b[1;32mTrue\u001b[0m\u001b[1;33m)\u001b[0m\u001b[1;33m\u001b[0m\u001b[1;33m\u001b[0m\u001b[0m\n",
      "\u001b[1;32m~\\Anaconda3\\envs\\spyder\\lib\\site-packages\\sklearn\\utils\\validation.py\u001b[0m in \u001b[0;36minner_f\u001b[1;34m(*args, **kwargs)\u001b[0m\n\u001b[0;32m     61\u001b[0m             \u001b[0mextra_args\u001b[0m \u001b[1;33m=\u001b[0m \u001b[0mlen\u001b[0m\u001b[1;33m(\u001b[0m\u001b[0margs\u001b[0m\u001b[1;33m)\u001b[0m \u001b[1;33m-\u001b[0m \u001b[0mlen\u001b[0m\u001b[1;33m(\u001b[0m\u001b[0mall_args\u001b[0m\u001b[1;33m)\u001b[0m\u001b[1;33m\u001b[0m\u001b[1;33m\u001b[0m\u001b[0m\n\u001b[0;32m     62\u001b[0m             \u001b[1;32mif\u001b[0m \u001b[0mextra_args\u001b[0m \u001b[1;33m<=\u001b[0m \u001b[1;36m0\u001b[0m\u001b[1;33m:\u001b[0m\u001b[1;33m\u001b[0m\u001b[1;33m\u001b[0m\u001b[0m\n\u001b[1;32m---> 63\u001b[1;33m                 \u001b[1;32mreturn\u001b[0m \u001b[0mf\u001b[0m\u001b[1;33m(\u001b[0m\u001b[1;33m*\u001b[0m\u001b[0margs\u001b[0m\u001b[1;33m,\u001b[0m \u001b[1;33m**\u001b[0m\u001b[0mkwargs\u001b[0m\u001b[1;33m)\u001b[0m\u001b[1;33m\u001b[0m\u001b[1;33m\u001b[0m\u001b[0m\n\u001b[0m\u001b[0;32m     64\u001b[0m \u001b[1;33m\u001b[0m\u001b[0m\n\u001b[0;32m     65\u001b[0m             \u001b[1;31m# extra_args > 0\u001b[0m\u001b[1;33m\u001b[0m\u001b[1;33m\u001b[0m\u001b[1;33m\u001b[0m\u001b[0m\n",
      "\u001b[1;32m~\\Anaconda3\\envs\\spyder\\lib\\site-packages\\sklearn\\model_selection\\_search.py\u001b[0m in \u001b[0;36mfit\u001b[1;34m(self, X, y, groups, **fit_params)\u001b[0m\n\u001b[0;32m    839\u001b[0m                 \u001b[1;32mreturn\u001b[0m \u001b[0mresults\u001b[0m\u001b[1;33m\u001b[0m\u001b[1;33m\u001b[0m\u001b[0m\n\u001b[0;32m    840\u001b[0m \u001b[1;33m\u001b[0m\u001b[0m\n\u001b[1;32m--> 841\u001b[1;33m             \u001b[0mself\u001b[0m\u001b[1;33m.\u001b[0m\u001b[0m_run_search\u001b[0m\u001b[1;33m(\u001b[0m\u001b[0mevaluate_candidates\u001b[0m\u001b[1;33m)\u001b[0m\u001b[1;33m\u001b[0m\u001b[1;33m\u001b[0m\u001b[0m\n\u001b[0m\u001b[0;32m    842\u001b[0m \u001b[1;33m\u001b[0m\u001b[0m\n\u001b[0;32m    843\u001b[0m             \u001b[1;31m# multimetric is determined here because in the case of a callable\u001b[0m\u001b[1;33m\u001b[0m\u001b[1;33m\u001b[0m\u001b[1;33m\u001b[0m\u001b[0m\n",
      "\u001b[1;32m~\\Anaconda3\\envs\\spyder\\lib\\site-packages\\sklearn\\model_selection\\_search.py\u001b[0m in \u001b[0;36m_run_search\u001b[1;34m(self, evaluate_candidates)\u001b[0m\n\u001b[0;32m   1294\u001b[0m     \u001b[1;32mdef\u001b[0m \u001b[0m_run_search\u001b[0m\u001b[1;33m(\u001b[0m\u001b[0mself\u001b[0m\u001b[1;33m,\u001b[0m \u001b[0mevaluate_candidates\u001b[0m\u001b[1;33m)\u001b[0m\u001b[1;33m:\u001b[0m\u001b[1;33m\u001b[0m\u001b[1;33m\u001b[0m\u001b[0m\n\u001b[0;32m   1295\u001b[0m         \u001b[1;34m\"\"\"Search all candidates in param_grid\"\"\"\u001b[0m\u001b[1;33m\u001b[0m\u001b[1;33m\u001b[0m\u001b[0m\n\u001b[1;32m-> 1296\u001b[1;33m         \u001b[0mevaluate_candidates\u001b[0m\u001b[1;33m(\u001b[0m\u001b[0mParameterGrid\u001b[0m\u001b[1;33m(\u001b[0m\u001b[0mself\u001b[0m\u001b[1;33m.\u001b[0m\u001b[0mparam_grid\u001b[0m\u001b[1;33m)\u001b[0m\u001b[1;33m)\u001b[0m\u001b[1;33m\u001b[0m\u001b[1;33m\u001b[0m\u001b[0m\n\u001b[0m\u001b[0;32m   1297\u001b[0m \u001b[1;33m\u001b[0m\u001b[0m\n\u001b[0;32m   1298\u001b[0m \u001b[1;33m\u001b[0m\u001b[0m\n",
      "\u001b[1;32m~\\Anaconda3\\envs\\spyder\\lib\\site-packages\\sklearn\\model_selection\\_search.py\u001b[0m in \u001b[0;36mevaluate_candidates\u001b[1;34m(candidate_params, cv, more_results)\u001b[0m\n\u001b[0;32m    793\u001b[0m                               n_splits, n_candidates, n_candidates * n_splits))\n\u001b[0;32m    794\u001b[0m \u001b[1;33m\u001b[0m\u001b[0m\n\u001b[1;32m--> 795\u001b[1;33m                 out = parallel(delayed(_fit_and_score)(clone(base_estimator),\n\u001b[0m\u001b[0;32m    796\u001b[0m                                                        \u001b[0mX\u001b[0m\u001b[1;33m,\u001b[0m \u001b[0my\u001b[0m\u001b[1;33m,\u001b[0m\u001b[1;33m\u001b[0m\u001b[1;33m\u001b[0m\u001b[0m\n\u001b[0;32m    797\u001b[0m                                                        \u001b[0mtrain\u001b[0m\u001b[1;33m=\u001b[0m\u001b[0mtrain\u001b[0m\u001b[1;33m,\u001b[0m \u001b[0mtest\u001b[0m\u001b[1;33m=\u001b[0m\u001b[0mtest\u001b[0m\u001b[1;33m,\u001b[0m\u001b[1;33m\u001b[0m\u001b[1;33m\u001b[0m\u001b[0m\n",
      "\u001b[1;32m~\\Anaconda3\\envs\\spyder\\lib\\site-packages\\joblib\\parallel.py\u001b[0m in \u001b[0;36m__call__\u001b[1;34m(self, iterable)\u001b[0m\n\u001b[0;32m   1042\u001b[0m                 \u001b[0mself\u001b[0m\u001b[1;33m.\u001b[0m\u001b[0m_iterating\u001b[0m \u001b[1;33m=\u001b[0m \u001b[0mself\u001b[0m\u001b[1;33m.\u001b[0m\u001b[0m_original_iterator\u001b[0m \u001b[1;32mis\u001b[0m \u001b[1;32mnot\u001b[0m \u001b[1;32mNone\u001b[0m\u001b[1;33m\u001b[0m\u001b[1;33m\u001b[0m\u001b[0m\n\u001b[0;32m   1043\u001b[0m \u001b[1;33m\u001b[0m\u001b[0m\n\u001b[1;32m-> 1044\u001b[1;33m             \u001b[1;32mwhile\u001b[0m \u001b[0mself\u001b[0m\u001b[1;33m.\u001b[0m\u001b[0mdispatch_one_batch\u001b[0m\u001b[1;33m(\u001b[0m\u001b[0miterator\u001b[0m\u001b[1;33m)\u001b[0m\u001b[1;33m:\u001b[0m\u001b[1;33m\u001b[0m\u001b[1;33m\u001b[0m\u001b[0m\n\u001b[0m\u001b[0;32m   1045\u001b[0m                 \u001b[1;32mpass\u001b[0m\u001b[1;33m\u001b[0m\u001b[1;33m\u001b[0m\u001b[0m\n\u001b[0;32m   1046\u001b[0m \u001b[1;33m\u001b[0m\u001b[0m\n",
      "\u001b[1;32m~\\Anaconda3\\envs\\spyder\\lib\\site-packages\\joblib\\parallel.py\u001b[0m in \u001b[0;36mdispatch_one_batch\u001b[1;34m(self, iterator)\u001b[0m\n\u001b[0;32m    857\u001b[0m                 \u001b[1;32mreturn\u001b[0m \u001b[1;32mFalse\u001b[0m\u001b[1;33m\u001b[0m\u001b[1;33m\u001b[0m\u001b[0m\n\u001b[0;32m    858\u001b[0m             \u001b[1;32melse\u001b[0m\u001b[1;33m:\u001b[0m\u001b[1;33m\u001b[0m\u001b[1;33m\u001b[0m\u001b[0m\n\u001b[1;32m--> 859\u001b[1;33m                 \u001b[0mself\u001b[0m\u001b[1;33m.\u001b[0m\u001b[0m_dispatch\u001b[0m\u001b[1;33m(\u001b[0m\u001b[0mtasks\u001b[0m\u001b[1;33m)\u001b[0m\u001b[1;33m\u001b[0m\u001b[1;33m\u001b[0m\u001b[0m\n\u001b[0m\u001b[0;32m    860\u001b[0m                 \u001b[1;32mreturn\u001b[0m \u001b[1;32mTrue\u001b[0m\u001b[1;33m\u001b[0m\u001b[1;33m\u001b[0m\u001b[0m\n\u001b[0;32m    861\u001b[0m \u001b[1;33m\u001b[0m\u001b[0m\n",
      "\u001b[1;32m~\\Anaconda3\\envs\\spyder\\lib\\site-packages\\joblib\\parallel.py\u001b[0m in \u001b[0;36m_dispatch\u001b[1;34m(self, batch)\u001b[0m\n\u001b[0;32m    775\u001b[0m         \u001b[1;32mwith\u001b[0m \u001b[0mself\u001b[0m\u001b[1;33m.\u001b[0m\u001b[0m_lock\u001b[0m\u001b[1;33m:\u001b[0m\u001b[1;33m\u001b[0m\u001b[1;33m\u001b[0m\u001b[0m\n\u001b[0;32m    776\u001b[0m             \u001b[0mjob_idx\u001b[0m \u001b[1;33m=\u001b[0m \u001b[0mlen\u001b[0m\u001b[1;33m(\u001b[0m\u001b[0mself\u001b[0m\u001b[1;33m.\u001b[0m\u001b[0m_jobs\u001b[0m\u001b[1;33m)\u001b[0m\u001b[1;33m\u001b[0m\u001b[1;33m\u001b[0m\u001b[0m\n\u001b[1;32m--> 777\u001b[1;33m             \u001b[0mjob\u001b[0m \u001b[1;33m=\u001b[0m \u001b[0mself\u001b[0m\u001b[1;33m.\u001b[0m\u001b[0m_backend\u001b[0m\u001b[1;33m.\u001b[0m\u001b[0mapply_async\u001b[0m\u001b[1;33m(\u001b[0m\u001b[0mbatch\u001b[0m\u001b[1;33m,\u001b[0m \u001b[0mcallback\u001b[0m\u001b[1;33m=\u001b[0m\u001b[0mcb\u001b[0m\u001b[1;33m)\u001b[0m\u001b[1;33m\u001b[0m\u001b[1;33m\u001b[0m\u001b[0m\n\u001b[0m\u001b[0;32m    778\u001b[0m             \u001b[1;31m# A job can complete so quickly than its callback is\u001b[0m\u001b[1;33m\u001b[0m\u001b[1;33m\u001b[0m\u001b[1;33m\u001b[0m\u001b[0m\n\u001b[0;32m    779\u001b[0m             \u001b[1;31m# called before we get here, causing self._jobs to\u001b[0m\u001b[1;33m\u001b[0m\u001b[1;33m\u001b[0m\u001b[1;33m\u001b[0m\u001b[0m\n",
      "\u001b[1;32m~\\Anaconda3\\envs\\spyder\\lib\\site-packages\\joblib\\_parallel_backends.py\u001b[0m in \u001b[0;36mapply_async\u001b[1;34m(self, func, callback)\u001b[0m\n\u001b[0;32m    206\u001b[0m     \u001b[1;32mdef\u001b[0m \u001b[0mapply_async\u001b[0m\u001b[1;33m(\u001b[0m\u001b[0mself\u001b[0m\u001b[1;33m,\u001b[0m \u001b[0mfunc\u001b[0m\u001b[1;33m,\u001b[0m \u001b[0mcallback\u001b[0m\u001b[1;33m=\u001b[0m\u001b[1;32mNone\u001b[0m\u001b[1;33m)\u001b[0m\u001b[1;33m:\u001b[0m\u001b[1;33m\u001b[0m\u001b[1;33m\u001b[0m\u001b[0m\n\u001b[0;32m    207\u001b[0m         \u001b[1;34m\"\"\"Schedule a func to be run\"\"\"\u001b[0m\u001b[1;33m\u001b[0m\u001b[1;33m\u001b[0m\u001b[0m\n\u001b[1;32m--> 208\u001b[1;33m         \u001b[0mresult\u001b[0m \u001b[1;33m=\u001b[0m \u001b[0mImmediateResult\u001b[0m\u001b[1;33m(\u001b[0m\u001b[0mfunc\u001b[0m\u001b[1;33m)\u001b[0m\u001b[1;33m\u001b[0m\u001b[1;33m\u001b[0m\u001b[0m\n\u001b[0m\u001b[0;32m    209\u001b[0m         \u001b[1;32mif\u001b[0m \u001b[0mcallback\u001b[0m\u001b[1;33m:\u001b[0m\u001b[1;33m\u001b[0m\u001b[1;33m\u001b[0m\u001b[0m\n\u001b[0;32m    210\u001b[0m             \u001b[0mcallback\u001b[0m\u001b[1;33m(\u001b[0m\u001b[0mresult\u001b[0m\u001b[1;33m)\u001b[0m\u001b[1;33m\u001b[0m\u001b[1;33m\u001b[0m\u001b[0m\n",
      "\u001b[1;32m~\\Anaconda3\\envs\\spyder\\lib\\site-packages\\joblib\\_parallel_backends.py\u001b[0m in \u001b[0;36m__init__\u001b[1;34m(self, batch)\u001b[0m\n\u001b[0;32m    570\u001b[0m         \u001b[1;31m# Don't delay the application, to avoid keeping the input\u001b[0m\u001b[1;33m\u001b[0m\u001b[1;33m\u001b[0m\u001b[1;33m\u001b[0m\u001b[0m\n\u001b[0;32m    571\u001b[0m         \u001b[1;31m# arguments in memory\u001b[0m\u001b[1;33m\u001b[0m\u001b[1;33m\u001b[0m\u001b[1;33m\u001b[0m\u001b[0m\n\u001b[1;32m--> 572\u001b[1;33m         \u001b[0mself\u001b[0m\u001b[1;33m.\u001b[0m\u001b[0mresults\u001b[0m \u001b[1;33m=\u001b[0m \u001b[0mbatch\u001b[0m\u001b[1;33m(\u001b[0m\u001b[1;33m)\u001b[0m\u001b[1;33m\u001b[0m\u001b[1;33m\u001b[0m\u001b[0m\n\u001b[0m\u001b[0;32m    573\u001b[0m \u001b[1;33m\u001b[0m\u001b[0m\n\u001b[0;32m    574\u001b[0m     \u001b[1;32mdef\u001b[0m \u001b[0mget\u001b[0m\u001b[1;33m(\u001b[0m\u001b[0mself\u001b[0m\u001b[1;33m)\u001b[0m\u001b[1;33m:\u001b[0m\u001b[1;33m\u001b[0m\u001b[1;33m\u001b[0m\u001b[0m\n",
      "\u001b[1;32m~\\Anaconda3\\envs\\spyder\\lib\\site-packages\\joblib\\parallel.py\u001b[0m in \u001b[0;36m__call__\u001b[1;34m(self)\u001b[0m\n\u001b[0;32m    260\u001b[0m         \u001b[1;31m# change the default number of processes to -1\u001b[0m\u001b[1;33m\u001b[0m\u001b[1;33m\u001b[0m\u001b[1;33m\u001b[0m\u001b[0m\n\u001b[0;32m    261\u001b[0m         \u001b[1;32mwith\u001b[0m \u001b[0mparallel_backend\u001b[0m\u001b[1;33m(\u001b[0m\u001b[0mself\u001b[0m\u001b[1;33m.\u001b[0m\u001b[0m_backend\u001b[0m\u001b[1;33m,\u001b[0m \u001b[0mn_jobs\u001b[0m\u001b[1;33m=\u001b[0m\u001b[0mself\u001b[0m\u001b[1;33m.\u001b[0m\u001b[0m_n_jobs\u001b[0m\u001b[1;33m)\u001b[0m\u001b[1;33m:\u001b[0m\u001b[1;33m\u001b[0m\u001b[1;33m\u001b[0m\u001b[0m\n\u001b[1;32m--> 262\u001b[1;33m             return [func(*args, **kwargs)\n\u001b[0m\u001b[0;32m    263\u001b[0m                     for func, args, kwargs in self.items]\n\u001b[0;32m    264\u001b[0m \u001b[1;33m\u001b[0m\u001b[0m\n",
      "\u001b[1;32m~\\Anaconda3\\envs\\spyder\\lib\\site-packages\\joblib\\parallel.py\u001b[0m in \u001b[0;36m<listcomp>\u001b[1;34m(.0)\u001b[0m\n\u001b[0;32m    260\u001b[0m         \u001b[1;31m# change the default number of processes to -1\u001b[0m\u001b[1;33m\u001b[0m\u001b[1;33m\u001b[0m\u001b[1;33m\u001b[0m\u001b[0m\n\u001b[0;32m    261\u001b[0m         \u001b[1;32mwith\u001b[0m \u001b[0mparallel_backend\u001b[0m\u001b[1;33m(\u001b[0m\u001b[0mself\u001b[0m\u001b[1;33m.\u001b[0m\u001b[0m_backend\u001b[0m\u001b[1;33m,\u001b[0m \u001b[0mn_jobs\u001b[0m\u001b[1;33m=\u001b[0m\u001b[0mself\u001b[0m\u001b[1;33m.\u001b[0m\u001b[0m_n_jobs\u001b[0m\u001b[1;33m)\u001b[0m\u001b[1;33m:\u001b[0m\u001b[1;33m\u001b[0m\u001b[1;33m\u001b[0m\u001b[0m\n\u001b[1;32m--> 262\u001b[1;33m             return [func(*args, **kwargs)\n\u001b[0m\u001b[0;32m    263\u001b[0m                     for func, args, kwargs in self.items]\n\u001b[0;32m    264\u001b[0m \u001b[1;33m\u001b[0m\u001b[0m\n",
      "\u001b[1;32m~\\Anaconda3\\envs\\spyder\\lib\\site-packages\\sklearn\\utils\\fixes.py\u001b[0m in \u001b[0;36m__call__\u001b[1;34m(self, *args, **kwargs)\u001b[0m\n\u001b[0;32m    220\u001b[0m     \u001b[1;32mdef\u001b[0m \u001b[0m__call__\u001b[0m\u001b[1;33m(\u001b[0m\u001b[0mself\u001b[0m\u001b[1;33m,\u001b[0m \u001b[1;33m*\u001b[0m\u001b[0margs\u001b[0m\u001b[1;33m,\u001b[0m \u001b[1;33m**\u001b[0m\u001b[0mkwargs\u001b[0m\u001b[1;33m)\u001b[0m\u001b[1;33m:\u001b[0m\u001b[1;33m\u001b[0m\u001b[1;33m\u001b[0m\u001b[0m\n\u001b[0;32m    221\u001b[0m         \u001b[1;32mwith\u001b[0m \u001b[0mconfig_context\u001b[0m\u001b[1;33m(\u001b[0m\u001b[1;33m**\u001b[0m\u001b[0mself\u001b[0m\u001b[1;33m.\u001b[0m\u001b[0mconfig\u001b[0m\u001b[1;33m)\u001b[0m\u001b[1;33m:\u001b[0m\u001b[1;33m\u001b[0m\u001b[1;33m\u001b[0m\u001b[0m\n\u001b[1;32m--> 222\u001b[1;33m             \u001b[1;32mreturn\u001b[0m \u001b[0mself\u001b[0m\u001b[1;33m.\u001b[0m\u001b[0mfunction\u001b[0m\u001b[1;33m(\u001b[0m\u001b[1;33m*\u001b[0m\u001b[0margs\u001b[0m\u001b[1;33m,\u001b[0m \u001b[1;33m**\u001b[0m\u001b[0mkwargs\u001b[0m\u001b[1;33m)\u001b[0m\u001b[1;33m\u001b[0m\u001b[1;33m\u001b[0m\u001b[0m\n\u001b[0m",
      "\u001b[1;32m~\\Anaconda3\\envs\\spyder\\lib\\site-packages\\sklearn\\model_selection\\_validation.py\u001b[0m in \u001b[0;36m_fit_and_score\u001b[1;34m(estimator, X, y, scorer, train, test, verbose, parameters, fit_params, return_train_score, return_parameters, return_n_test_samples, return_times, return_estimator, split_progress, candidate_progress, error_score)\u001b[0m\n\u001b[0;32m    596\u001b[0m             \u001b[0mestimator\u001b[0m\u001b[1;33m.\u001b[0m\u001b[0mfit\u001b[0m\u001b[1;33m(\u001b[0m\u001b[0mX_train\u001b[0m\u001b[1;33m,\u001b[0m \u001b[1;33m**\u001b[0m\u001b[0mfit_params\u001b[0m\u001b[1;33m)\u001b[0m\u001b[1;33m\u001b[0m\u001b[1;33m\u001b[0m\u001b[0m\n\u001b[0;32m    597\u001b[0m         \u001b[1;32melse\u001b[0m\u001b[1;33m:\u001b[0m\u001b[1;33m\u001b[0m\u001b[1;33m\u001b[0m\u001b[0m\n\u001b[1;32m--> 598\u001b[1;33m             \u001b[0mestimator\u001b[0m\u001b[1;33m.\u001b[0m\u001b[0mfit\u001b[0m\u001b[1;33m(\u001b[0m\u001b[0mX_train\u001b[0m\u001b[1;33m,\u001b[0m \u001b[0my_train\u001b[0m\u001b[1;33m,\u001b[0m \u001b[1;33m**\u001b[0m\u001b[0mfit_params\u001b[0m\u001b[1;33m)\u001b[0m\u001b[1;33m\u001b[0m\u001b[1;33m\u001b[0m\u001b[0m\n\u001b[0m\u001b[0;32m    599\u001b[0m \u001b[1;33m\u001b[0m\u001b[0m\n\u001b[0;32m    600\u001b[0m     \u001b[1;32mexcept\u001b[0m \u001b[0mException\u001b[0m \u001b[1;32mas\u001b[0m \u001b[0me\u001b[0m\u001b[1;33m:\u001b[0m\u001b[1;33m\u001b[0m\u001b[1;33m\u001b[0m\u001b[0m\n",
      "\u001b[1;32m~\\Anaconda3\\envs\\spyder\\lib\\site-packages\\xgboost\\core.py\u001b[0m in \u001b[0;36minner_f\u001b[1;34m(*args, **kwargs)\u001b[0m\n\u001b[0;32m    434\u001b[0m         \u001b[1;32mfor\u001b[0m \u001b[0mk\u001b[0m\u001b[1;33m,\u001b[0m \u001b[0marg\u001b[0m \u001b[1;32min\u001b[0m \u001b[0mzip\u001b[0m\u001b[1;33m(\u001b[0m\u001b[0msig\u001b[0m\u001b[1;33m.\u001b[0m\u001b[0mparameters\u001b[0m\u001b[1;33m,\u001b[0m \u001b[0margs\u001b[0m\u001b[1;33m)\u001b[0m\u001b[1;33m:\u001b[0m\u001b[1;33m\u001b[0m\u001b[1;33m\u001b[0m\u001b[0m\n\u001b[0;32m    435\u001b[0m             \u001b[0mkwargs\u001b[0m\u001b[1;33m[\u001b[0m\u001b[0mk\u001b[0m\u001b[1;33m]\u001b[0m \u001b[1;33m=\u001b[0m \u001b[0marg\u001b[0m\u001b[1;33m\u001b[0m\u001b[1;33m\u001b[0m\u001b[0m\n\u001b[1;32m--> 436\u001b[1;33m         \u001b[1;32mreturn\u001b[0m \u001b[0mf\u001b[0m\u001b[1;33m(\u001b[0m\u001b[1;33m**\u001b[0m\u001b[0mkwargs\u001b[0m\u001b[1;33m)\u001b[0m\u001b[1;33m\u001b[0m\u001b[1;33m\u001b[0m\u001b[0m\n\u001b[0m\u001b[0;32m    437\u001b[0m \u001b[1;33m\u001b[0m\u001b[0m\n\u001b[0;32m    438\u001b[0m     \u001b[1;32mreturn\u001b[0m \u001b[0minner_f\u001b[0m\u001b[1;33m\u001b[0m\u001b[1;33m\u001b[0m\u001b[0m\n",
      "\u001b[1;32m~\\Anaconda3\\envs\\spyder\\lib\\site-packages\\xgboost\\sklearn.py\u001b[0m in \u001b[0;36mfit\u001b[1;34m(self, X, y, sample_weight, base_margin, eval_set, eval_metric, early_stopping_rounds, verbose, xgb_model, sample_weight_eval_set, base_margin_eval_set, feature_weights, callbacks)\u001b[0m\n\u001b[0;32m    734\u001b[0m \u001b[1;33m\u001b[0m\u001b[0m\n\u001b[0;32m    735\u001b[0m         \u001b[0mmodel\u001b[0m\u001b[1;33m,\u001b[0m \u001b[0mfeval\u001b[0m\u001b[1;33m,\u001b[0m \u001b[0mparams\u001b[0m \u001b[1;33m=\u001b[0m \u001b[0mself\u001b[0m\u001b[1;33m.\u001b[0m\u001b[0m_configure_fit\u001b[0m\u001b[1;33m(\u001b[0m\u001b[0mxgb_model\u001b[0m\u001b[1;33m,\u001b[0m \u001b[0meval_metric\u001b[0m\u001b[1;33m,\u001b[0m \u001b[0mparams\u001b[0m\u001b[1;33m)\u001b[0m\u001b[1;33m\u001b[0m\u001b[1;33m\u001b[0m\u001b[0m\n\u001b[1;32m--> 736\u001b[1;33m         self._Booster = train(\n\u001b[0m\u001b[0;32m    737\u001b[0m             \u001b[0mparams\u001b[0m\u001b[1;33m,\u001b[0m\u001b[1;33m\u001b[0m\u001b[1;33m\u001b[0m\u001b[0m\n\u001b[0;32m    738\u001b[0m             \u001b[0mtrain_dmatrix\u001b[0m\u001b[1;33m,\u001b[0m\u001b[1;33m\u001b[0m\u001b[1;33m\u001b[0m\u001b[0m\n",
      "\u001b[1;32m~\\Anaconda3\\envs\\spyder\\lib\\site-packages\\xgboost\\training.py\u001b[0m in \u001b[0;36mtrain\u001b[1;34m(params, dtrain, num_boost_round, evals, obj, feval, maximize, early_stopping_rounds, evals_result, verbose_eval, xgb_model, callbacks)\u001b[0m\n\u001b[0;32m    187\u001b[0m     \u001b[0mBooster\u001b[0m \u001b[1;33m:\u001b[0m \u001b[0ma\u001b[0m \u001b[0mtrained\u001b[0m \u001b[0mbooster\u001b[0m \u001b[0mmodel\u001b[0m\u001b[1;33m\u001b[0m\u001b[1;33m\u001b[0m\u001b[0m\n\u001b[0;32m    188\u001b[0m     \"\"\"\n\u001b[1;32m--> 189\u001b[1;33m     bst = _train_internal(params, dtrain,\n\u001b[0m\u001b[0;32m    190\u001b[0m                           \u001b[0mnum_boost_round\u001b[0m\u001b[1;33m=\u001b[0m\u001b[0mnum_boost_round\u001b[0m\u001b[1;33m,\u001b[0m\u001b[1;33m\u001b[0m\u001b[1;33m\u001b[0m\u001b[0m\n\u001b[0;32m    191\u001b[0m                           \u001b[0mevals\u001b[0m\u001b[1;33m=\u001b[0m\u001b[0mevals\u001b[0m\u001b[1;33m,\u001b[0m\u001b[1;33m\u001b[0m\u001b[1;33m\u001b[0m\u001b[0m\n",
      "\u001b[1;32m~\\Anaconda3\\envs\\spyder\\lib\\site-packages\\xgboost\\training.py\u001b[0m in \u001b[0;36m_train_internal\u001b[1;34m(params, dtrain, num_boost_round, evals, obj, feval, xgb_model, callbacks, evals_result, maximize, verbose_eval, early_stopping_rounds)\u001b[0m\n\u001b[0;32m     79\u001b[0m         \u001b[1;32mif\u001b[0m \u001b[0mcallbacks\u001b[0m\u001b[1;33m.\u001b[0m\u001b[0mbefore_iteration\u001b[0m\u001b[1;33m(\u001b[0m\u001b[0mbst\u001b[0m\u001b[1;33m,\u001b[0m \u001b[0mi\u001b[0m\u001b[1;33m,\u001b[0m \u001b[0mdtrain\u001b[0m\u001b[1;33m,\u001b[0m \u001b[0mevals\u001b[0m\u001b[1;33m)\u001b[0m\u001b[1;33m:\u001b[0m\u001b[1;33m\u001b[0m\u001b[1;33m\u001b[0m\u001b[0m\n\u001b[0;32m     80\u001b[0m             \u001b[1;32mbreak\u001b[0m\u001b[1;33m\u001b[0m\u001b[1;33m\u001b[0m\u001b[0m\n\u001b[1;32m---> 81\u001b[1;33m         \u001b[0mbst\u001b[0m\u001b[1;33m.\u001b[0m\u001b[0mupdate\u001b[0m\u001b[1;33m(\u001b[0m\u001b[0mdtrain\u001b[0m\u001b[1;33m,\u001b[0m \u001b[0mi\u001b[0m\u001b[1;33m,\u001b[0m \u001b[0mobj\u001b[0m\u001b[1;33m)\u001b[0m\u001b[1;33m\u001b[0m\u001b[1;33m\u001b[0m\u001b[0m\n\u001b[0m\u001b[0;32m     82\u001b[0m         \u001b[1;32mif\u001b[0m \u001b[0mcallbacks\u001b[0m\u001b[1;33m.\u001b[0m\u001b[0mafter_iteration\u001b[0m\u001b[1;33m(\u001b[0m\u001b[0mbst\u001b[0m\u001b[1;33m,\u001b[0m \u001b[0mi\u001b[0m\u001b[1;33m,\u001b[0m \u001b[0mdtrain\u001b[0m\u001b[1;33m,\u001b[0m \u001b[0mevals\u001b[0m\u001b[1;33m)\u001b[0m\u001b[1;33m:\u001b[0m\u001b[1;33m\u001b[0m\u001b[1;33m\u001b[0m\u001b[0m\n\u001b[0;32m     83\u001b[0m             \u001b[1;32mbreak\u001b[0m\u001b[1;33m\u001b[0m\u001b[1;33m\u001b[0m\u001b[0m\n",
      "\u001b[1;32m~\\Anaconda3\\envs\\spyder\\lib\\site-packages\\xgboost\\core.py\u001b[0m in \u001b[0;36mupdate\u001b[1;34m(self, dtrain, iteration, fobj)\u001b[0m\n\u001b[0;32m   1497\u001b[0m \u001b[1;33m\u001b[0m\u001b[0m\n\u001b[0;32m   1498\u001b[0m         \u001b[1;32mif\u001b[0m \u001b[0mfobj\u001b[0m \u001b[1;32mis\u001b[0m \u001b[1;32mNone\u001b[0m\u001b[1;33m:\u001b[0m\u001b[1;33m\u001b[0m\u001b[1;33m\u001b[0m\u001b[0m\n\u001b[1;32m-> 1499\u001b[1;33m             _check_call(_LIB.XGBoosterUpdateOneIter(self.handle,\n\u001b[0m\u001b[0;32m   1500\u001b[0m                                                     \u001b[0mctypes\u001b[0m\u001b[1;33m.\u001b[0m\u001b[0mc_int\u001b[0m\u001b[1;33m(\u001b[0m\u001b[0miteration\u001b[0m\u001b[1;33m)\u001b[0m\u001b[1;33m,\u001b[0m\u001b[1;33m\u001b[0m\u001b[1;33m\u001b[0m\u001b[0m\n\u001b[0;32m   1501\u001b[0m                                                     dtrain.handle))\n",
      "\u001b[1;31mKeyboardInterrupt\u001b[0m: "
     ]
    }
   ],
   "source": [
    "param_grid = {\n",
    "    'n_estimators': [100,300,500,1000]\n",
    "}\n",
    "grid = GridSearchCV(XGBRegressor(random_state=123), param_grid, cv=cv, scoring=['neg_mean_squared_error', 'r2'], refit='neg_mean_squared_error')\n",
    "grid.fit(X_train, y_train)\n",
    "printBestModelAdv(grid, XGBRegressor(**grid.best_params_), True)"
   ]
  },
  {
   "cell_type": "code",
   "execution_count": 21,
   "metadata": {},
   "outputs": [
    {
     "data": {
      "text/plain": [
       "Index(['Aggregate absorption (%)', '0.075', '0.3', '0.6', '2.36', '4.75',\n",
       "       '9.5', '12.5', '19', 'Plastic particle size (mm)', 'Mixing speed (RPM)',\n",
       "       'Mixing Temperature', 'Mixing Time (hours)',\n",
       "       'Bitumen content in the sample', 'New Plastic Type_Nylon',\n",
       "       'New Plastic Type_PE', 'New Plastic Type_PET', 'New Plastic Type_PP',\n",
       "       'New Plastic Type_PU', 'New Plastic Type_PVC',\n",
       "       'New Plastic Type_Plastic Mix', 'New Plastic Type_e-waste',\n",
       "       'Consolidated bitumen penetration grade_50/70',\n",
       "       'Consolidated bitumen penetration grade_70/100',\n",
       "       'Plastic pretreatment_Physical', 'Plastic pretreatment_Plastic Melted',\n",
       "       'Plastic shape_Fibers', 'Plastic shape_Pellets',\n",
       "       'Plastic shape_Shredded', 'Mixing Process_Dry', 'Mixing Process_Wet',\n",
       "       'Aggregates replacement ?_Yes', 'Bitumen replacement?_Yes'],\n",
       "      dtype='object')"
      ]
     },
     "execution_count": 21,
     "metadata": {},
     "output_type": "execute_result"
    }
   ],
   "source": [
    "X_train.columns"
   ]
  },
  {
   "cell_type": "code",
   "execution_count": 22,
   "metadata": {},
   "outputs": [],
   "source": [
    "X_train2 = X_train.copy()\n",
    "X_train2.rename(columns={'0.075':'Grad. Sieve size 0.075', '0.3':'Grad. Sieve size 0.3', '0.6':'Grad. Sieve size 0.6', '2.36':'Grad. Sieve size 2.36',                                '4.75':'Grad. Sieve size 4.75','9.5':'Grad. Sieve size 9.5', '12.5':'Grad. Sieve size 12.5', '19':'Grad. Sieve size 19', \n",
    "                        'Plastic particle size (mm)':'Plastic size', 'Mixing speed (RPM)':'Mixing speed',\n",
    "                        'Mixing Time (hours)':'Mixing Time',\n",
    "                        'Bitumen content in the sample':'Bitumen content', 'New Plastic Type_Nylon':'Plastic Type_Nylon',\n",
    "                        'New Plastic Type_PE':'Plastic Type_PE', 'New Plastic Type_PET':'Plastic Type_PET', 'New Plastic Type_PP':'Plastic Type_PP',\n",
    "                         'New Plastic Type_PU':'Plastic Type_PU', 'New Plastic Type_PVC':'Plastic Type_PVC',\n",
    "                        'New Plastic Type_Plastic Mix':'Plastic Type_Plastic Mix', 'New Plastic Type_e-waste':'Plastic Type_e-waste' ,\n",
    "                        'Consolidated bitumen penetration grade_50/70':'Bitumen grade_50/70',\n",
    "                        'Consolidated bitumen penetration grade_70/100':'Bitumen grade_70/100',\n",
    "       }, inplace=True)"
   ]
  },
  {
   "cell_type": "code",
   "execution_count": 25,
   "metadata": {},
   "outputs": [
    {
     "data": {
      "image/png": "[encoded data removed]",
      "text/plain": [
       "<Figure size 576x576 with 1 Axes>"
      ]
     },
     "metadata": {},
     "output_type": "display_data"
    }
   ],
   "source": [
    "#Graph employed for selecting important features during tunning\n",
    "XGBoostModel = XGBRegressor(random_state=123)\n",
    "XGBoostModel.fit(X_train2,y_train)\n",
    "ax = plot_importance(XGBoostModel, height=0.8, importance_type='weight', show_values=False, title=None, max_num_features = 20)\n",
    "fig = ax.figure\n",
    "plt.xlabel('Weight', fontsize=20)\n",
    "plt.ylabel('Features', fontsize=20)\n",
    "plt.title('(a)',fontsize= 22)\n",
    "fig.set_size_inches(8,8)"
   ]
  },
  {
   "cell_type": "markdown",
   "metadata": {},
   "source": [
    "## 6. Best Model Tunning"
   ]
  },
  {
   "cell_type": "code",
   "execution_count": 26,
   "metadata": {},
   "outputs": [],
   "source": [
    "X_train.columns = X_train.columns.astype(str)\n",
    "cv = RepeatedKFold(n_splits = 10, n_repeats = 10, random_state = 123)"
   ]
  },
  {
   "cell_type": "markdown",
   "metadata": {},
   "source": [
    "### 6.1. Feature selection"
   ]
  },
  {
   "cell_type": "code",
   "execution_count": 27,
   "metadata": {},
   "outputs": [],
   "source": [
    "features_MSE = {}\n",
    "def addMSE (columns, string):\n",
    "    cv_results = cross_validate(XGBRegressor(random_state = 123), X_train[columns], y_train, cv = cv, scoring = ['neg_mean_squared_error'])\n",
    "    MSE = np.average(-cv_results['test_neg_mean_squared_error'])\n",
    "    features_MSE[string] = MSE"
   ]
  },
  {
   "cell_type": "code",
   "execution_count": 28,
   "metadata": {},
   "outputs": [
    {
     "data": {
      "text/plain": [
       "Index(['Aggregate absorption (%)', '0.075', '0.3', '0.6', '2.36', '4.75',\n",
       "       '9.5', '12.5', '19', 'Plastic particle size (mm)', 'Mixing speed (RPM)',\n",
       "       'Mixing Temperature', 'Mixing Time (hours)',\n",
       "       'Bitumen content in the sample', 'New Plastic Type_Nylon',\n",
       "       'New Plastic Type_PE', 'New Plastic Type_PET', 'New Plastic Type_PP',\n",
       "       'New Plastic Type_PU', 'New Plastic Type_PVC',\n",
       "       'New Plastic Type_Plastic Mix', 'New Plastic Type_e-waste',\n",
       "       'Consolidated bitumen penetration grade_50/70',\n",
       "       'Consolidated bitumen penetration grade_70/100',\n",
       "       'Plastic pretreatment_Physical', 'Plastic pretreatment_Plastic Melted',\n",
       "       'Plastic shape_Fibers', 'Plastic shape_Pellets',\n",
       "       'Plastic shape_Shredded', 'Mixing Process_Dry', 'Mixing Process_Wet',\n",
       "       'Aggregates replacement ?_Yes', 'Bitumen replacement?_Yes'],\n",
       "      dtype='object')"
      ]
     },
     "execution_count": 28,
     "metadata": {},
     "output_type": "execute_result"
    }
   ],
   "source": [
    "X_train.columns"
   ]
  },
  {
   "cell_type": "code",
   "execution_count": 29,
   "metadata": {},
   "outputs": [],
   "source": [
    "addMSE(['New Plastic Type_Nylon','New Plastic Type_PE', 'New Plastic Type_PET', 'New Plastic Type_PP',\n",
    "       'New Plastic Type_PU', 'New Plastic Type_PVC','New Plastic Type_Plastic Mix', 'New Plastic Type_e-waste'], \n",
    "       'Plastic type')"
   ]
  },
  {
   "cell_type": "code",
   "execution_count": 30,
   "metadata": {},
   "outputs": [],
   "source": [
    "addMSE(['New Plastic Type_Nylon','New Plastic Type_PE', 'New Plastic Type_PET', 'New Plastic Type_PP',\n",
    "       'New Plastic Type_PU', 'New Plastic Type_PVC','New Plastic Type_Plastic Mix', 'New Plastic Type_e-waste',\n",
    "       'Bitumen content in the sample'], \n",
    "       'Plastic type \\n Bitument cont.')"
   ]
  },
  {
   "cell_type": "code",
   "execution_count": 31,
   "metadata": {},
   "outputs": [],
   "source": [
    "addMSE(['New Plastic Type_Nylon','New Plastic Type_PE', 'New Plastic Type_PET', 'New Plastic Type_PP',\n",
    "       'New Plastic Type_PU', 'New Plastic Type_PVC','New Plastic Type_Plastic Mix', 'New Plastic Type_e-waste',\n",
    "       'Bitumen content in the sample',\n",
    "       'Aggregate absorption (%)'], \n",
    "       'Plastic type \\n Bitument cont. \\n Aggregates abs.')"
   ]
  },
  {
   "cell_type": "code",
   "execution_count": 32,
   "metadata": {},
   "outputs": [],
   "source": [
    "addMSE(['New Plastic Type_Nylon','New Plastic Type_PE', 'New Plastic Type_PET', 'New Plastic Type_PP',\n",
    "       'New Plastic Type_PU', 'New Plastic Type_PVC','New Plastic Type_Plastic Mix', 'New Plastic Type_e-waste',\n",
    "       'Bitumen content in the sample',\n",
    "       'Aggregate absorption (%)',\n",
    "       'Plastic particle size (mm)'], \n",
    "       'Plastic type \\n Bitument cont. \\n Aggregates abs. \\n Plastic size')"
   ]
  },
  {
   "cell_type": "code",
   "execution_count": 33,
   "metadata": {},
   "outputs": [],
   "source": [
    "addMSE(['New Plastic Type_Nylon','New Plastic Type_PE', 'New Plastic Type_PET', 'New Plastic Type_PP',\n",
    "       'New Plastic Type_PU', 'New Plastic Type_PVC','New Plastic Type_Plastic Mix', 'New Plastic Type_e-waste',\n",
    "       'Bitumen content in the sample',\n",
    "       'Aggregate absorption (%)',\n",
    "       'Plastic particle size (mm)',\n",
    "       '0.075', '0.3', '0.6', '2.36', '4.75','9.5', '12.5', '19'], \n",
    "       'Plastic type \\n Bitument cont. \\n Aggregates abs. \\n Plastic size \\n Gradation')"
   ]
  },
  {
   "cell_type": "code",
   "execution_count": 34,
   "metadata": {},
   "outputs": [],
   "source": [
    "addMSE(['New Plastic Type_Nylon','New Plastic Type_PE', 'New Plastic Type_PET', 'New Plastic Type_PP',\n",
    "       'New Plastic Type_PU', 'New Plastic Type_PVC','New Plastic Type_Plastic Mix', 'New Plastic Type_e-waste',\n",
    "       'Bitumen content in the sample',\n",
    "       'Aggregate absorption (%)',\n",
    "       'Plastic particle size (mm)',\n",
    "       '0.075', '0.3', '0.6', '2.36', '4.75','9.5', '12.5', '19',\n",
    "       'Consolidated bitumen penetration grade_50/70','Consolidated bitumen penetration grade_70/100'], \n",
    "       'Plastic type \\n Bitument cont. \\n Aggregates abs. \\n Plastic size \\n Gradation \\n Bitumen type')"
   ]
  },
  {
   "cell_type": "code",
   "execution_count": 35,
   "metadata": {},
   "outputs": [],
   "source": [
    "addMSE(['New Plastic Type_Nylon','New Plastic Type_PE', 'New Plastic Type_PET', 'New Plastic Type_PP',\n",
    "       'New Plastic Type_PU', 'New Plastic Type_PVC','New Plastic Type_Plastic Mix', 'New Plastic Type_e-waste',\n",
    "       'Bitumen content in the sample',\n",
    "       'Aggregate absorption (%)',\n",
    "       'Plastic particle size (mm)',\n",
    "       '0.075', '0.3', '0.6', '2.36', '4.75','9.5', '12.5', '19',\n",
    "       'Consolidated bitumen penetration grade_50/70','Consolidated bitumen penetration grade_70/100',\n",
    "       'Mixing speed (RPM)', 'Mixing Temperature'], \n",
    "       'Plastic type \\n Bitument cont. \\n Aggregates abs. \\n Plastic size \\n Gradation \\n Bitumen type \\n Mixing speed \\n Mixing Temp.')"
   ]
  },
  {
   "cell_type": "code",
   "execution_count": 36,
   "metadata": {},
   "outputs": [],
   "source": [
    "addMSE(['Aggregate absorption (%)', '0.075', '0.3', '0.6', '2.36', '4.75',\n",
    "       '9.5', '12.5', '19', 'Plastic particle size (mm)', 'Mixing speed (RPM)',\n",
    "       'Mixing Temperature', 'Mixing Time (hours)',\n",
    "       'Bitumen content in the sample', 'New Plastic Type_Nylon',\n",
    "       'New Plastic Type_PE', 'New Plastic Type_PET', 'New Plastic Type_PP',\n",
    "       'New Plastic Type_PU', 'New Plastic Type_PVC',\n",
    "       'New Plastic Type_Plastic Mix', 'New Plastic Type_e-waste',\n",
    "       'Consolidated bitumen penetration grade_50/70',\n",
    "       'Consolidated bitumen penetration grade_70/100',\n",
    "       'Plastic pretreatment_Physical', 'Plastic pretreatment_Plastic Melted',\n",
    "       'Plastic shape_Fibers', 'Plastic shape_Pellets',\n",
    "       'Plastic shape_Shredded', 'Mixing Process_Dry', 'Mixing Process_Wet',\n",
    "       'Aggregates replacement ?_Yes', 'Bitumen replacement?_Yes'], \n",
    "        'All features')"
   ]
  },
  {
   "cell_type": "code",
   "execution_count": 39,
   "metadata": {},
   "outputs": [
    {
     "data": {
      "image/png": "[encoded data removed]",
      "text/plain": [
       "<Figure size 1440x360 with 1 Axes>"
      ]
     },
     "metadata": {},
     "output_type": "display_data"
    }
   ],
   "source": [
    "plt.rcParams[\"figure.figsize\"] = (20,5)\n",
    "plt.plot(features_MSE.keys(), features_MSE.values(), marker = '*') \n",
    "plt.ylim(ymin = 0)\n",
    "plt.axvline(x='Plastic type \\n Bitument cont. \\n Aggregates abs. \\n Plastic size \\n Gradation \\n Bitumen type', ymin=0, ymax=1, color = 'k', ls = '--' , label='Selected model')\n",
    "plt.ylabel('MSE', fontsize = 20)\n",
    "plt.xlabel('Features included in the model', fontsize = 20)\n",
    "plt.xticks(fontsize= 13)\n",
    "plt.title('(b)', fontsize=22)\n",
    "plt.legend()\n",
    "plt.show()"
   ]
  },
  {
   "cell_type": "markdown",
   "metadata": {},
   "source": [
    "The features most approppiate for the model are aggregates gradation, bitumen content, plastic type, plastic addition.\n",
    "### 6.2 Model Tunning"
   ]
  },
  {
   "cell_type": "code",
   "execution_count": null,
   "metadata": {},
   "outputs": [],
   "source": [
    "X_train =  X_train[['New Plastic Type_Nylon','New Plastic Type_PE', 'New Plastic Type_PET', 'New Plastic Type_PP',\n",
    "       'New Plastic Type_PU', 'New Plastic Type_PVC','New Plastic Type_Plastic Mix', 'New Plastic Type_e-waste',\n",
    "       'Bitumen content in the sample',\n",
    "       'Aggregate absorption (%)',\n",
    "       'Plastic particle size (mm)',\n",
    "       '0.075', '0.3', '0.6', '2.36', '4.75','9.5', '12.5', '19',\n",
    "       'Consolidated bitumen penetration grade_50/70','Consolidated bitumen penetration grade_70/100',\n",
    "        ]]\n",
    "X_test = X_test [['New Plastic Type_Nylon','New Plastic Type_PE', 'New Plastic Type_PET', 'New Plastic Type_PP',\n",
    "       'New Plastic Type_PU', 'New Plastic Type_PVC','New Plastic Type_Plastic Mix', 'New Plastic Type_e-waste',\n",
    "       'Bitumen content in the sample',\n",
    "       'Aggregate absorption (%)',\n",
    "       'Plastic particle size (mm)',\n",
    "       '0.075', '0.3', '0.6', '2.36', '4.75','9.5', '12.5', '19',\n",
    "       'Consolidated bitumen penetration grade_50/70','Consolidated bitumen penetration grade_70/100',\n",
    "        ]]"
   ]
  },
  {
   "cell_type": "markdown",
   "metadata": {},
   "source": [
    "### 6.3 Final model evaluation on test set"
   ]
  },
  {
   "cell_type": "code",
   "execution_count": null,
   "metadata": {},
   "outputs": [],
   "source": [
    "def modelEvaluation (model, Title):\n",
    "    min = dfMSCleanedImputed['MS of the sample (kN)'].min()\n",
    "    max = dfMSCleanedImputed['MS of the sample (kN)'].max()\n",
    "    #Model Fitting\n",
    "    model.fit(X_train, y_train)\n",
    "    predictions_test = model.predict(X_test)\n",
    "    #Model Evaluation\n",
    "    r2_test = r2_score(y_test, predictions_test)\n",
    "    mse_test = mean_squared_error(y_test, predictions_test)\n",
    "    rmse_test_unscaled = (math.sqrt(mse_test)*(max-min))+min\n",
    "    plt.figure(figsize=(7,7))\n",
    "    #Model Plotting\n",
    "    plt.scatter(y_test, predictions_test, c='crimson')\n",
    "    plt.plot([(1,1), (0,0)], [(1,1), (0,0)], 'b-')\n",
    "    plt.xlabel('True Values', fontsize=15)\n",
    "    plt.xlim (0,1)\n",
    "    plt.ylim (0,1)\n",
    "    plt.ylabel('Predictions - ' + Title, fontsize=18)\n",
    "    plt.annotate('R2 = '+str(round(r2_test,3)), xy = (0.6,0.3), fontweight = 'bold', fontsize = 'xx-large')\n",
    "    plt.annotate('RMSE = '+str(round(rmse_test_unscaled,3)), xy = (0.6,0.25), fontweight = 'bold', fontsize = 'xx-large')\n",
    "    plt.show()\n",
    "    return predictions_test"
   ]
  },
  {
   "cell_type": "code",
   "execution_count": null,
   "metadata": {},
   "outputs": [],
   "source": [
    "XGModel = XGBRegressor(random_state = 123)\n",
    "prediction_XGModel = modelEvaluation(XGModel, 'XGModel')"
   ]
  },
  {
   "cell_type": "code",
   "execution_count": null,
   "metadata": {},
   "outputs": [],
   "source": [
    "XGModel.get_params"
   ]
  },
  {
   "cell_type": "code",
   "execution_count": null,
   "metadata": {},
   "outputs": [],
   "source": [
    "extraTreeModel = ExtraTreesRegressor(n_estimators=400, min_samples_split=2,min_samples_leaf=1, max_features='auto', max_depth=90, random_state= 123, bootstrap=False)\n",
    "prediction_ExtraTrees = modelEvaluation(extraTreeModel, 'Extra Trees model')"
   ]
  },
  {
   "cell_type": "code",
   "execution_count": null,
   "metadata": {},
   "outputs": [],
   "source": [
    "RFModel = RandomForestRegressor(n_estimators=1000,min_samples_split=5, min_samples_leaf=1, max_features='auto', max_depth=None, random_state= 123, bootstrap=True)\n",
    "prediction_RandomForest = modelEvaluation(RFModel, 'Random Forest Model')"
   ]
  },
  {
   "cell_type": "markdown",
   "metadata": {},
   "source": [
    "### Outliers inspection"
   ]
  },
  {
   "cell_type": "code",
   "execution_count": null,
   "metadata": {},
   "outputs": [],
   "source": [
    "XGModel = XGBRegressor(random_state = 123)\n",
    "XGModel.fit(X_train, y_train)\n",
    "predictions_test = XGModel.predict(X_test)\n",
    "df = pd.DataFrame(data=[predictions_test,y_test], index=['prediction', 'y_test']).T\n",
    "df = df.sort_values(by='y_test')"
   ]
  },
  {
   "cell_type": "code",
   "execution_count": null,
   "metadata": {},
   "outputs": [],
   "source": [
    "min = dfMSCleanedImputed['MS of the sample (kN)'].min()\n",
    "max = dfMSCleanedImputed['MS of the sample (kN)'].max()\n",
    "df['prediction_uns'] = (df['prediction']*(max-min))+min\n",
    "df['y_test_uns'] = (df['y_test']*(max-min))+min"
   ]
  },
  {
   "cell_type": "markdown",
   "metadata": {},
   "source": [
    "## 6.3 ANOVA Analysis"
   ]
  },
  {
   "cell_type": "code",
   "execution_count": null,
   "metadata": {},
   "outputs": [],
   "source": [
    "df_predictions = y_test.to_frame(name='real_Y')\n",
    "df_predictions['XGModel_predictions'] = prediction_XGModel\n",
    "df_predictions['ExtraTrees_predictions'] = prediction_ExtraTrees\n",
    "df_predictions['RandomForest_predictions'] = prediction_RandomForest\n",
    "def normalityTest (model, data, alpha=0.05):\n",
    "    k2, p = stats.normaltest(data)\n",
    "    if p > alpha:\n",
    "        print ('The ' + model + ' is probably Gaussian. p-value = ' + str(p))\n",
    "    else:\n",
    "        print ('The ' + model +' is not probably Gaussian. p-value = '+ str(p))"
   ]
  },
  {
   "cell_type": "markdown",
   "metadata": {},
   "source": [
    "### Normality evaluation"
   ]
  },
  {
   "cell_type": "code",
   "execution_count": null,
   "metadata": {},
   "outputs": [],
   "source": [
    "normalityTest(data = df_predictions['real_Y'], model = 'real values')\n",
    "normalityTest(data = df_predictions['RandomForest_predictions'], model = 'Random Forest')\n",
    "normalityTest(data = df_predictions['XGModel_predictions'], model = 'XG model')\n",
    "normalityTest(data = df_predictions['ExtraTrees_predictions'], model = 'Extra trees')"
   ]
  },
  {
   "cell_type": "markdown",
   "metadata": {},
   "source": [
    "### Variance homogeneity (Bartlett's test) "
   ]
  },
  {
   "cell_type": "code",
   "execution_count": null,
   "metadata": {},
   "outputs": [],
   "source": [
    "stal, p = stats.bartlett(df_predictions['real_Y'], df_predictions['RandomForest_predictions'], df_predictions['XGModel_predictions'], df_predictions['ExtraTrees_predictions'])\n",
    "if p > 0.05:\n",
    "    print('There is not sufficient evidence to say that the variance of the real values and the predictors are differents. The p-value is ' + str(p))\n",
    "else:\n",
    "    print('There is non-homogeneity in the variance. The p-value is ' + str(p))"
   ]
  },
  {
   "cell_type": "code",
   "execution_count": null,
   "metadata": {},
   "outputs": [],
   "source": [
    "stats.f_oneway(df_predictions['real_Y'],\n",
    "               df_predictions['RandomForest_predictions'],\n",
    "               df_predictions['XGModel_predictions'],\n",
    "               df_predictions['ExtraTrees_predictions'])"
   ]
  },
  {
   "cell_type": "markdown",
   "metadata": {},
   "source": [
    "There is not statistical differences between the predicted values by the three models and the observed values"
   ]
  },
  {
   "cell_type": "markdown",
   "metadata": {},
   "source": [
    "## 6.4 Goodness of fit Analysis"
   ]
  },
  {
   "cell_type": "code",
   "execution_count": null,
   "metadata": {},
   "outputs": [],
   "source": [
    "def evaluateGOF (y_real, model_predictions, Model, alpha = 0.05):\n",
    "    stat, p_value  = stats.ks_2samp(y_real, model_predictions, alternative='two-sided')\n",
    "    if p_value > 0.05:\n",
    "        print ('The real values and the predictions of '+Model+' come from the same distribution according to the Kolmogorov-Smirnov test. The p-value is '+str(p_value))\n",
    "    else:\n",
    "        print ('The real values and the predictions of '+Model+'DO NOT come from the same distribution. The p-value is '+str(p_value))"
   ]
  },
  {
   "cell_type": "code",
   "execution_count": null,
   "metadata": {},
   "outputs": [],
   "source": [
    "evaluateGOF(y_real=df_predictions['real_Y'], model_predictions=df_predictions['RandomForest_predictions'], Model = 'Random Forest')\n",
    "evaluateGOF(y_real=df_predictions['real_Y'], model_predictions=df_predictions['XGModel_predictions'], Model = 'Boosted Tree')\n",
    "evaluateGOF(y_real=df_predictions['real_Y'], model_predictions=df_predictions['ExtraTrees_predictions'], Model = 'Extra treees')"
   ]
  },
  {
   "cell_type": "code",
   "execution_count": null,
   "metadata": {},
   "outputs": [],
   "source": [
    "df_predictions.to_clipboard()"
   ]
  },
  {
   "cell_type": "markdown",
   "metadata": {},
   "source": [
    "# 🚨 Marshall Stability Effect and Shap values"
   ]
  },
  {
   "cell_type": "code",
   "execution_count": 6,
   "metadata": {},
   "outputs": [],
   "source": [
    "dfMSEffect = returnDf('MSEffect')"
   ]
  },
  {
   "cell_type": "code",
   "execution_count": 7,
   "metadata": {},
   "outputs": [
    {
     "name": "stdout",
     "output_type": "stream",
     "text": [
      "Initial dataframe size: (263, 37)\n",
      "Final dataframe size: (242, 37)\n"
     ]
    }
   ],
   "source": [
    "dfMSEffectNoOutliers = eliminateOutliers(dfMSEffect, 'Effect(%)')"
   ]
  },
  {
   "cell_type": "code",
   "execution_count": 8,
   "metadata": {},
   "outputs": [
    {
     "name": "stderr",
     "output_type": "stream",
     "text": [
      "<ipython-input-8-3484696dfbd3>:1: SettingWithCopyWarning: \n",
      "A value is trying to be set on a copy of a slice from a DataFrame.\n",
      "Try using .loc[row_indexer,col_indexer] = value instead\n",
      "\n",
      "See the caveats in the documentation: https://pandas.pydata.org/pandas-docs/stable/user_guide/indexing.html#returning-a-view-versus-a-copy\n",
      "  dfMSEffectNoOutliers['Virgin Bitumen Penetration'] = pd.to_numeric(dfMSEffectNoOutliers['Virgin Bitumen Penetration'])\n"
     ]
    }
   ],
   "source": [
    "dfMSEffectNoOutliers['Virgin Bitumen Penetration'] = pd.to_numeric(dfMSEffectNoOutliers['Virgin Bitumen Penetration'])"
   ]
  },
  {
   "cell_type": "code",
   "execution_count": 9,
   "metadata": {},
   "outputs": [
    {
     "name": "stdout",
     "output_type": "stream",
     "text": [
      "<class 'pandas.core.frame.DataFrame'>\n",
      "Int64Index: 242 entries, 1 to 402\n",
      "Data columns (total 37 columns):\n",
      " #   Column                                  Non-Null Count  Dtype  \n",
      "---  ------                                  --------------  -----  \n",
      " 0   Article ID                              242 non-null    object \n",
      " 1   Global ID                               242 non-null    object \n",
      " 2   Modified asphalt Mix?                   242 non-null    object \n",
      " 3   Agreggate Type                          154 non-null    object \n",
      " 4   Aggregate absorption (%)                142 non-null    float64\n",
      " 5   Apparent specific gravity               44 non-null     float64\n",
      " 6   0.075                                   184 non-null    float64\n",
      " 7   0.3                                     217 non-null    float64\n",
      " 8   0.6                                     203 non-null    float64\n",
      " 9   2.36                                    209 non-null    float64\n",
      " 10  4.75                                    217 non-null    float64\n",
      " 11  9.5                                     203 non-null    float64\n",
      " 12  12.5                                    211 non-null    float64\n",
      " 13  19                                      217 non-null    float64\n",
      " 14  Filler used                             77 non-null     object \n",
      " 15  Bitumen Type Penetration Grade          242 non-null    object \n",
      " 16  Consolidated bitumen penetration grade  242 non-null    object \n",
      " 17  Virgin Bitumen Penetration              242 non-null    float64\n",
      " 18  New Plastic Type                        217 non-null    object \n",
      " 19  Plastic pretreatment                    242 non-null    object \n",
      " 20  Plastic shape                           242 non-null    object \n",
      " 21  Plastic Size                            181 non-null    object \n",
      " 22  Plastic particle size (mm)              171 non-null    float64\n",
      " 23  Mixing Process                          242 non-null    object \n",
      " 24  Mixing speed (RPM)                      215 non-null    float64\n",
      " 25  Mixing Temperature                      225 non-null    float64\n",
      " 26  Mixing Time (hours)                     216 non-null    float64\n",
      " 27  Aggregates replacement ?                242 non-null    object \n",
      " 28  Bitumen replacement?                    242 non-null    object \n",
      " 29  Filler replacement                      242 non-null    object \n",
      " 30  Plastic Addition by bitumen weight (%)  241 non-null    float64\n",
      " 31  Property                                242 non-null    object \n",
      " 32  Units                                   242 non-null    object \n",
      " 33  Bitumen content in the sample           241 non-null    float64\n",
      " 34  MS Control kN)                          242 non-null    float64\n",
      " 35  MS of the sample (kN)                   242 non-null    float64\n",
      " 36  Effect(%)                               242 non-null    float64\n",
      "dtypes: float64(20), object(17)\n",
      "memory usage: 71.8+ KB\n"
     ]
    }
   ],
   "source": [
    "dfMSEffectNoOutliers.info()"
   ]
  },
  {
   "cell_type": "markdown",
   "metadata": {},
   "source": [
    "## 🛀 Data Preprocessing"
   ]
  },
  {
   "cell_type": "code",
   "execution_count": 10,
   "metadata": {},
   "outputs": [],
   "source": [
    "#Categorical Variables\n",
    "dfMSEffectNoOutliers = dfMSEffectNoOutliers.drop(['Article ID', \n",
    "                                    'Global ID',\n",
    "                                    'Modified asphalt Mix?',\n",
    "                                    'Agreggate Type', \n",
    "                                    'Apparent specific gravity', \n",
    "                                    'Filler used', \n",
    "                                    'Bitumen Type Penetration Grade', \n",
    "                                    'Property', \n",
    "                                    'Units', \n",
    "                                    'Plastic Size',\n",
    "                                    'Consolidated bitumen penetration grade' ], axis = 1)\n",
    "dfMSEffectNoOutliers = dfMSEffectNoOutliers.dropna(subset=['New Plastic Type'])\n",
    "dfMSEffectNoOutliers = pd.get_dummies(dfMSEffectNoOutliers, columns=['New Plastic Type'], drop_first=True)\n",
    "dfMSEffectNoOutliers = pd.get_dummies(dfMSEffectNoOutliers, drop_first=True)"
   ]
  },
  {
   "cell_type": "code",
   "execution_count": 11,
   "metadata": {},
   "outputs": [
    {
     "data": {
      "text/html": [
       "<div>\n",
       "<style scoped>\n",
       "    .dataframe tbody tr th:only-of-type {\n",
       "        vertical-align: middle;\n",
       "    }\n",
       "\n",
       "    .dataframe tbody tr th {\n",
       "        vertical-align: top;\n",
       "    }\n",
       "\n",
       "    .dataframe thead th {\n",
       "        text-align: right;\n",
       "    }\n",
       "</style>\n",
       "<table border=\"1\" class=\"dataframe\">\n",
       "  <thead>\n",
       "    <tr style=\"text-align: right;\">\n",
       "      <th></th>\n",
       "      <th>Aggregate absorption (%)</th>\n",
       "      <th>0.075</th>\n",
       "      <th>0.3</th>\n",
       "      <th>0.6</th>\n",
       "      <th>2.36</th>\n",
       "      <th>4.75</th>\n",
       "      <th>9.5</th>\n",
       "      <th>12.5</th>\n",
       "      <th>19</th>\n",
       "      <th>Virgin Bitumen Penetration</th>\n",
       "      <th>Plastic particle size (mm)</th>\n",
       "      <th>Mixing speed (RPM)</th>\n",
       "      <th>Mixing Temperature</th>\n",
       "      <th>Mixing Time (hours)</th>\n",
       "      <th>Plastic Addition by bitumen weight (%)</th>\n",
       "      <th>Bitumen content in the sample</th>\n",
       "      <th>MS Control kN)</th>\n",
       "      <th>MS of the sample (kN)</th>\n",
       "      <th>Effect(%)</th>\n",
       "      <th>New Plastic Type_PE</th>\n",
       "      <th>New Plastic Type_PET</th>\n",
       "      <th>New Plastic Type_PP</th>\n",
       "      <th>New Plastic Type_PU</th>\n",
       "      <th>New Plastic Type_Plastic Mix</th>\n",
       "      <th>New Plastic Type_e-waste</th>\n",
       "      <th>Plastic pretreatment_Plastic Melted</th>\n",
       "      <th>Plastic shape_Pellets</th>\n",
       "      <th>Plastic shape_Shredded</th>\n",
       "      <th>Mixing Process_Wet</th>\n",
       "      <th>Aggregates replacement ?_Yes</th>\n",
       "      <th>Bitumen replacement?_Yes</th>\n",
       "      <th>Filler replacement_Yes</th>\n",
       "    </tr>\n",
       "    <tr>\n",
       "      <th>MSEffect ID</th>\n",
       "      <th></th>\n",
       "      <th></th>\n",
       "      <th></th>\n",
       "      <th></th>\n",
       "      <th></th>\n",
       "      <th></th>\n",
       "      <th></th>\n",
       "      <th></th>\n",
       "      <th></th>\n",
       "      <th></th>\n",
       "      <th></th>\n",
       "      <th></th>\n",
       "      <th></th>\n",
       "      <th></th>\n",
       "      <th></th>\n",
       "      <th></th>\n",
       "      <th></th>\n",
       "      <th></th>\n",
       "      <th></th>\n",
       "      <th></th>\n",
       "      <th></th>\n",
       "      <th></th>\n",
       "      <th></th>\n",
       "      <th></th>\n",
       "      <th></th>\n",
       "      <th></th>\n",
       "      <th></th>\n",
       "      <th></th>\n",
       "      <th></th>\n",
       "      <th></th>\n",
       "      <th></th>\n",
       "      <th></th>\n",
       "    </tr>\n",
       "  </thead>\n",
       "  <tbody>\n",
       "    <tr>\n",
       "      <th>1</th>\n",
       "      <td>0.40</td>\n",
       "      <td>2.99</td>\n",
       "      <td>5.30</td>\n",
       "      <td>21.8</td>\n",
       "      <td>35.75</td>\n",
       "      <td>38.90</td>\n",
       "      <td>57.35</td>\n",
       "      <td>73.04</td>\n",
       "      <td>97.23</td>\n",
       "      <td>40.0</td>\n",
       "      <td>2.50</td>\n",
       "      <td>0.0</td>\n",
       "      <td>0.0</td>\n",
       "      <td>0.0</td>\n",
       "      <td>15.000000</td>\n",
       "      <td>5.50</td>\n",
       "      <td>12.954</td>\n",
       "      <td>15.0822</td>\n",
       "      <td>-0.164289</td>\n",
       "      <td>0</td>\n",
       "      <td>0</td>\n",
       "      <td>1</td>\n",
       "      <td>0</td>\n",
       "      <td>0</td>\n",
       "      <td>0</td>\n",
       "      <td>0</td>\n",
       "      <td>0</td>\n",
       "      <td>1</td>\n",
       "      <td>0</td>\n",
       "      <td>0</td>\n",
       "      <td>0</td>\n",
       "      <td>0</td>\n",
       "    </tr>\n",
       "    <tr>\n",
       "      <th>2</th>\n",
       "      <td>0.40</td>\n",
       "      <td>2.99</td>\n",
       "      <td>5.30</td>\n",
       "      <td>21.8</td>\n",
       "      <td>35.75</td>\n",
       "      <td>38.90</td>\n",
       "      <td>57.35</td>\n",
       "      <td>73.04</td>\n",
       "      <td>97.23</td>\n",
       "      <td>40.0</td>\n",
       "      <td>2.50</td>\n",
       "      <td>0.0</td>\n",
       "      <td>0.0</td>\n",
       "      <td>0.0</td>\n",
       "      <td>8.000000</td>\n",
       "      <td>5.50</td>\n",
       "      <td>12.954</td>\n",
       "      <td>15.3566</td>\n",
       "      <td>-0.185472</td>\n",
       "      <td>0</td>\n",
       "      <td>0</td>\n",
       "      <td>1</td>\n",
       "      <td>0</td>\n",
       "      <td>0</td>\n",
       "      <td>0</td>\n",
       "      <td>0</td>\n",
       "      <td>0</td>\n",
       "      <td>1</td>\n",
       "      <td>0</td>\n",
       "      <td>0</td>\n",
       "      <td>0</td>\n",
       "      <td>0</td>\n",
       "    </tr>\n",
       "    <tr>\n",
       "      <th>6</th>\n",
       "      <td>0.50</td>\n",
       "      <td>9.00</td>\n",
       "      <td>13.00</td>\n",
       "      <td>14.0</td>\n",
       "      <td>20.00</td>\n",
       "      <td>24.00</td>\n",
       "      <td>47.00</td>\n",
       "      <td>90.00</td>\n",
       "      <td>100.00</td>\n",
       "      <td>40.0</td>\n",
       "      <td>2.50</td>\n",
       "      <td>0.0</td>\n",
       "      <td>0.0</td>\n",
       "      <td>0.0</td>\n",
       "      <td>90.497738</td>\n",
       "      <td>6.63</td>\n",
       "      <td>10.250</td>\n",
       "      <td>13.9200</td>\n",
       "      <td>-0.358049</td>\n",
       "      <td>0</td>\n",
       "      <td>0</td>\n",
       "      <td>0</td>\n",
       "      <td>0</td>\n",
       "      <td>1</td>\n",
       "      <td>0</td>\n",
       "      <td>0</td>\n",
       "      <td>0</td>\n",
       "      <td>1</td>\n",
       "      <td>0</td>\n",
       "      <td>0</td>\n",
       "      <td>0</td>\n",
       "      <td>0</td>\n",
       "    </tr>\n",
       "    <tr>\n",
       "      <th>7</th>\n",
       "      <td>0.50</td>\n",
       "      <td>9.00</td>\n",
       "      <td>13.00</td>\n",
       "      <td>14.0</td>\n",
       "      <td>20.00</td>\n",
       "      <td>24.00</td>\n",
       "      <td>47.00</td>\n",
       "      <td>90.00</td>\n",
       "      <td>100.00</td>\n",
       "      <td>40.0</td>\n",
       "      <td>2.50</td>\n",
       "      <td>0.0</td>\n",
       "      <td>0.0</td>\n",
       "      <td>0.0</td>\n",
       "      <td>105.580694</td>\n",
       "      <td>6.63</td>\n",
       "      <td>10.250</td>\n",
       "      <td>14.1200</td>\n",
       "      <td>-0.377561</td>\n",
       "      <td>0</td>\n",
       "      <td>0</td>\n",
       "      <td>0</td>\n",
       "      <td>0</td>\n",
       "      <td>1</td>\n",
       "      <td>0</td>\n",
       "      <td>0</td>\n",
       "      <td>0</td>\n",
       "      <td>1</td>\n",
       "      <td>0</td>\n",
       "      <td>0</td>\n",
       "      <td>0</td>\n",
       "      <td>0</td>\n",
       "    </tr>\n",
       "    <tr>\n",
       "      <th>8</th>\n",
       "      <td>0.50</td>\n",
       "      <td>9.00</td>\n",
       "      <td>13.00</td>\n",
       "      <td>14.0</td>\n",
       "      <td>20.00</td>\n",
       "      <td>24.00</td>\n",
       "      <td>47.00</td>\n",
       "      <td>90.00</td>\n",
       "      <td>100.00</td>\n",
       "      <td>40.0</td>\n",
       "      <td>2.50</td>\n",
       "      <td>0.0</td>\n",
       "      <td>0.0</td>\n",
       "      <td>0.0</td>\n",
       "      <td>120.663650</td>\n",
       "      <td>6.63</td>\n",
       "      <td>10.250</td>\n",
       "      <td>14.8400</td>\n",
       "      <td>-0.447805</td>\n",
       "      <td>0</td>\n",
       "      <td>0</td>\n",
       "      <td>0</td>\n",
       "      <td>0</td>\n",
       "      <td>1</td>\n",
       "      <td>0</td>\n",
       "      <td>0</td>\n",
       "      <td>0</td>\n",
       "      <td>1</td>\n",
       "      <td>0</td>\n",
       "      <td>0</td>\n",
       "      <td>0</td>\n",
       "      <td>0</td>\n",
       "    </tr>\n",
       "    <tr>\n",
       "      <th>...</th>\n",
       "      <td>...</td>\n",
       "      <td>...</td>\n",
       "      <td>...</td>\n",
       "      <td>...</td>\n",
       "      <td>...</td>\n",
       "      <td>...</td>\n",
       "      <td>...</td>\n",
       "      <td>...</td>\n",
       "      <td>...</td>\n",
       "      <td>...</td>\n",
       "      <td>...</td>\n",
       "      <td>...</td>\n",
       "      <td>...</td>\n",
       "      <td>...</td>\n",
       "      <td>...</td>\n",
       "      <td>...</td>\n",
       "      <td>...</td>\n",
       "      <td>...</td>\n",
       "      <td>...</td>\n",
       "      <td>...</td>\n",
       "      <td>...</td>\n",
       "      <td>...</td>\n",
       "      <td>...</td>\n",
       "      <td>...</td>\n",
       "      <td>...</td>\n",
       "      <td>...</td>\n",
       "      <td>...</td>\n",
       "      <td>...</td>\n",
       "      <td>...</td>\n",
       "      <td>...</td>\n",
       "      <td>...</td>\n",
       "      <td>...</td>\n",
       "    </tr>\n",
       "    <tr>\n",
       "      <th>390</th>\n",
       "      <td>0.13</td>\n",
       "      <td>5.28</td>\n",
       "      <td>14.47</td>\n",
       "      <td>20.8</td>\n",
       "      <td>35.37</td>\n",
       "      <td>46.15</td>\n",
       "      <td>60.51</td>\n",
       "      <td>66.84</td>\n",
       "      <td>83.32</td>\n",
       "      <td>63.0</td>\n",
       "      <td>4.75</td>\n",
       "      <td>0.0</td>\n",
       "      <td>0.0</td>\n",
       "      <td>0.0</td>\n",
       "      <td>10.000000</td>\n",
       "      <td>5.00</td>\n",
       "      <td>12.970</td>\n",
       "      <td>11.6100</td>\n",
       "      <td>0.104857</td>\n",
       "      <td>1</td>\n",
       "      <td>0</td>\n",
       "      <td>0</td>\n",
       "      <td>0</td>\n",
       "      <td>0</td>\n",
       "      <td>0</td>\n",
       "      <td>0</td>\n",
       "      <td>0</td>\n",
       "      <td>1</td>\n",
       "      <td>0</td>\n",
       "      <td>0</td>\n",
       "      <td>0</td>\n",
       "      <td>0</td>\n",
       "    </tr>\n",
       "    <tr>\n",
       "      <th>393</th>\n",
       "      <td>0.13</td>\n",
       "      <td>5.28</td>\n",
       "      <td>14.47</td>\n",
       "      <td>20.8</td>\n",
       "      <td>35.37</td>\n",
       "      <td>46.15</td>\n",
       "      <td>60.51</td>\n",
       "      <td>66.84</td>\n",
       "      <td>83.32</td>\n",
       "      <td>63.0</td>\n",
       "      <td>4.75</td>\n",
       "      <td>0.0</td>\n",
       "      <td>0.0</td>\n",
       "      <td>0.0</td>\n",
       "      <td>22.222222</td>\n",
       "      <td>4.50</td>\n",
       "      <td>11.660</td>\n",
       "      <td>12.7400</td>\n",
       "      <td>-0.092624</td>\n",
       "      <td>1</td>\n",
       "      <td>0</td>\n",
       "      <td>0</td>\n",
       "      <td>0</td>\n",
       "      <td>0</td>\n",
       "      <td>0</td>\n",
       "      <td>0</td>\n",
       "      <td>0</td>\n",
       "      <td>1</td>\n",
       "      <td>0</td>\n",
       "      <td>0</td>\n",
       "      <td>0</td>\n",
       "      <td>0</td>\n",
       "    </tr>\n",
       "    <tr>\n",
       "      <th>394</th>\n",
       "      <td>0.13</td>\n",
       "      <td>5.28</td>\n",
       "      <td>14.47</td>\n",
       "      <td>20.8</td>\n",
       "      <td>35.37</td>\n",
       "      <td>46.15</td>\n",
       "      <td>60.51</td>\n",
       "      <td>66.84</td>\n",
       "      <td>83.32</td>\n",
       "      <td>63.0</td>\n",
       "      <td>4.75</td>\n",
       "      <td>0.0</td>\n",
       "      <td>0.0</td>\n",
       "      <td>0.0</td>\n",
       "      <td>20.000000</td>\n",
       "      <td>5.00</td>\n",
       "      <td>12.970</td>\n",
       "      <td>11.5600</td>\n",
       "      <td>0.108712</td>\n",
       "      <td>1</td>\n",
       "      <td>0</td>\n",
       "      <td>0</td>\n",
       "      <td>0</td>\n",
       "      <td>0</td>\n",
       "      <td>0</td>\n",
       "      <td>0</td>\n",
       "      <td>0</td>\n",
       "      <td>1</td>\n",
       "      <td>0</td>\n",
       "      <td>0</td>\n",
       "      <td>0</td>\n",
       "      <td>0</td>\n",
       "    </tr>\n",
       "    <tr>\n",
       "      <th>398</th>\n",
       "      <td>0.13</td>\n",
       "      <td>5.28</td>\n",
       "      <td>14.47</td>\n",
       "      <td>20.8</td>\n",
       "      <td>35.37</td>\n",
       "      <td>46.15</td>\n",
       "      <td>60.51</td>\n",
       "      <td>66.84</td>\n",
       "      <td>83.32</td>\n",
       "      <td>63.0</td>\n",
       "      <td>4.75</td>\n",
       "      <td>0.0</td>\n",
       "      <td>0.0</td>\n",
       "      <td>0.0</td>\n",
       "      <td>33.333333</td>\n",
       "      <td>4.50</td>\n",
       "      <td>11.660</td>\n",
       "      <td>12.7700</td>\n",
       "      <td>-0.095197</td>\n",
       "      <td>1</td>\n",
       "      <td>0</td>\n",
       "      <td>0</td>\n",
       "      <td>0</td>\n",
       "      <td>0</td>\n",
       "      <td>0</td>\n",
       "      <td>0</td>\n",
       "      <td>0</td>\n",
       "      <td>1</td>\n",
       "      <td>0</td>\n",
       "      <td>0</td>\n",
       "      <td>0</td>\n",
       "      <td>0</td>\n",
       "    </tr>\n",
       "    <tr>\n",
       "      <th>402</th>\n",
       "      <td>0.13</td>\n",
       "      <td>5.28</td>\n",
       "      <td>14.47</td>\n",
       "      <td>20.8</td>\n",
       "      <td>35.37</td>\n",
       "      <td>46.15</td>\n",
       "      <td>60.51</td>\n",
       "      <td>66.84</td>\n",
       "      <td>83.32</td>\n",
       "      <td>63.0</td>\n",
       "      <td>4.75</td>\n",
       "      <td>0.0</td>\n",
       "      <td>0.0</td>\n",
       "      <td>0.0</td>\n",
       "      <td>44.444444</td>\n",
       "      <td>4.50</td>\n",
       "      <td>11.660</td>\n",
       "      <td>15.4700</td>\n",
       "      <td>-0.326758</td>\n",
       "      <td>1</td>\n",
       "      <td>0</td>\n",
       "      <td>0</td>\n",
       "      <td>0</td>\n",
       "      <td>0</td>\n",
       "      <td>0</td>\n",
       "      <td>0</td>\n",
       "      <td>0</td>\n",
       "      <td>1</td>\n",
       "      <td>0</td>\n",
       "      <td>0</td>\n",
       "      <td>0</td>\n",
       "      <td>0</td>\n",
       "    </tr>\n",
       "  </tbody>\n",
       "</table>\n",
       "<p>217 rows × 32 columns</p>\n",
       "</div>"
      ],
      "text/plain": [
       "             Aggregate absorption (%)  0.075    0.3   0.6   2.36   4.75  \\\n",
       "MSEffect ID                                                               \n",
       "1                                0.40   2.99   5.30  21.8  35.75  38.90   \n",
       "2                                0.40   2.99   5.30  21.8  35.75  38.90   \n",
       "6                                0.50   9.00  13.00  14.0  20.00  24.00   \n",
       "7                                0.50   9.00  13.00  14.0  20.00  24.00   \n",
       "8                                0.50   9.00  13.00  14.0  20.00  24.00   \n",
       "...                               ...    ...    ...   ...    ...    ...   \n",
       "390                              0.13   5.28  14.47  20.8  35.37  46.15   \n",
       "393                              0.13   5.28  14.47  20.8  35.37  46.15   \n",
       "394                              0.13   5.28  14.47  20.8  35.37  46.15   \n",
       "398                              0.13   5.28  14.47  20.8  35.37  46.15   \n",
       "402                              0.13   5.28  14.47  20.8  35.37  46.15   \n",
       "\n",
       "               9.5   12.5      19  Virgin Bitumen Penetration  \\\n",
       "MSEffect ID                                                     \n",
       "1            57.35  73.04   97.23                        40.0   \n",
       "2            57.35  73.04   97.23                        40.0   \n",
       "6            47.00  90.00  100.00                        40.0   \n",
       "7            47.00  90.00  100.00                        40.0   \n",
       "8            47.00  90.00  100.00                        40.0   \n",
       "...            ...    ...     ...                         ...   \n",
       "390          60.51  66.84   83.32                        63.0   \n",
       "393          60.51  66.84   83.32                        63.0   \n",
       "394          60.51  66.84   83.32                        63.0   \n",
       "398          60.51  66.84   83.32                        63.0   \n",
       "402          60.51  66.84   83.32                        63.0   \n",
       "\n",
       "             Plastic particle size (mm)  Mixing speed (RPM)  \\\n",
       "MSEffect ID                                                   \n",
       "1                                  2.50                 0.0   \n",
       "2                                  2.50                 0.0   \n",
       "6                                  2.50                 0.0   \n",
       "7                                  2.50                 0.0   \n",
       "8                                  2.50                 0.0   \n",
       "...                                 ...                 ...   \n",
       "390                                4.75                 0.0   \n",
       "393                                4.75                 0.0   \n",
       "394                                4.75                 0.0   \n",
       "398                                4.75                 0.0   \n",
       "402                                4.75                 0.0   \n",
       "\n",
       "             Mixing Temperature  Mixing Time (hours)  \\\n",
       "MSEffect ID                                            \n",
       "1                           0.0                  0.0   \n",
       "2                           0.0                  0.0   \n",
       "6                           0.0                  0.0   \n",
       "7                           0.0                  0.0   \n",
       "8                           0.0                  0.0   \n",
       "...                         ...                  ...   \n",
       "390                         0.0                  0.0   \n",
       "393                         0.0                  0.0   \n",
       "394                         0.0                  0.0   \n",
       "398                         0.0                  0.0   \n",
       "402                         0.0                  0.0   \n",
       "\n",
       "             Plastic Addition by bitumen weight (%)  \\\n",
       "MSEffect ID                                           \n",
       "1                                         15.000000   \n",
       "2                                          8.000000   \n",
       "6                                         90.497738   \n",
       "7                                        105.580694   \n",
       "8                                        120.663650   \n",
       "...                                             ...   \n",
       "390                                       10.000000   \n",
       "393                                       22.222222   \n",
       "394                                       20.000000   \n",
       "398                                       33.333333   \n",
       "402                                       44.444444   \n",
       "\n",
       "             Bitumen content in the sample  MS Control kN)  \\\n",
       "MSEffect ID                                                  \n",
       "1                                     5.50          12.954   \n",
       "2                                     5.50          12.954   \n",
       "6                                     6.63          10.250   \n",
       "7                                     6.63          10.250   \n",
       "8                                     6.63          10.250   \n",
       "...                                    ...             ...   \n",
       "390                                   5.00          12.970   \n",
       "393                                   4.50          11.660   \n",
       "394                                   5.00          12.970   \n",
       "398                                   4.50          11.660   \n",
       "402                                   4.50          11.660   \n",
       "\n",
       "             MS of the sample (kN)  Effect(%)  New Plastic Type_PE  \\\n",
       "MSEffect ID                                                          \n",
       "1                          15.0822  -0.164289                    0   \n",
       "2                          15.3566  -0.185472                    0   \n",
       "6                          13.9200  -0.358049                    0   \n",
       "7                          14.1200  -0.377561                    0   \n",
       "8                          14.8400  -0.447805                    0   \n",
       "...                            ...        ...                  ...   \n",
       "390                        11.6100   0.104857                    1   \n",
       "393                        12.7400  -0.092624                    1   \n",
       "394                        11.5600   0.108712                    1   \n",
       "398                        12.7700  -0.095197                    1   \n",
       "402                        15.4700  -0.326758                    1   \n",
       "\n",
       "             New Plastic Type_PET  New Plastic Type_PP  New Plastic Type_PU  \\\n",
       "MSEffect ID                                                                   \n",
       "1                               0                    1                    0   \n",
       "2                               0                    1                    0   \n",
       "6                               0                    0                    0   \n",
       "7                               0                    0                    0   \n",
       "8                               0                    0                    0   \n",
       "...                           ...                  ...                  ...   \n",
       "390                             0                    0                    0   \n",
       "393                             0                    0                    0   \n",
       "394                             0                    0                    0   \n",
       "398                             0                    0                    0   \n",
       "402                             0                    0                    0   \n",
       "\n",
       "             New Plastic Type_Plastic Mix  New Plastic Type_e-waste  \\\n",
       "MSEffect ID                                                           \n",
       "1                                       0                         0   \n",
       "2                                       0                         0   \n",
       "6                                       1                         0   \n",
       "7                                       1                         0   \n",
       "8                                       1                         0   \n",
       "...                                   ...                       ...   \n",
       "390                                     0                         0   \n",
       "393                                     0                         0   \n",
       "394                                     0                         0   \n",
       "398                                     0                         0   \n",
       "402                                     0                         0   \n",
       "\n",
       "             Plastic pretreatment_Plastic Melted  Plastic shape_Pellets  \\\n",
       "MSEffect ID                                                               \n",
       "1                                              0                      0   \n",
       "2                                              0                      0   \n",
       "6                                              0                      0   \n",
       "7                                              0                      0   \n",
       "8                                              0                      0   \n",
       "...                                          ...                    ...   \n",
       "390                                            0                      0   \n",
       "393                                            0                      0   \n",
       "394                                            0                      0   \n",
       "398                                            0                      0   \n",
       "402                                            0                      0   \n",
       "\n",
       "             Plastic shape_Shredded  Mixing Process_Wet  \\\n",
       "MSEffect ID                                               \n",
       "1                                 1                   0   \n",
       "2                                 1                   0   \n",
       "6                                 1                   0   \n",
       "7                                 1                   0   \n",
       "8                                 1                   0   \n",
       "...                             ...                 ...   \n",
       "390                               1                   0   \n",
       "393                               1                   0   \n",
       "394                               1                   0   \n",
       "398                               1                   0   \n",
       "402                               1                   0   \n",
       "\n",
       "             Aggregates replacement ?_Yes  Bitumen replacement?_Yes  \\\n",
       "MSEffect ID                                                           \n",
       "1                                       0                         0   \n",
       "2                                       0                         0   \n",
       "6                                       0                         0   \n",
       "7                                       0                         0   \n",
       "8                                       0                         0   \n",
       "...                                   ...                       ...   \n",
       "390                                     0                         0   \n",
       "393                                     0                         0   \n",
       "394                                     0                         0   \n",
       "398                                     0                         0   \n",
       "402                                     0                         0   \n",
       "\n",
       "             Filler replacement_Yes  \n",
       "MSEffect ID                          \n",
       "1                                 0  \n",
       "2                                 0  \n",
       "6                                 0  \n",
       "7                                 0  \n",
       "8                                 0  \n",
       "...                             ...  \n",
       "390                               0  \n",
       "393                               0  \n",
       "394                               0  \n",
       "398                               0  \n",
       "402                               0  \n",
       "\n",
       "[217 rows x 32 columns]"
      ]
     },
     "execution_count": 11,
     "metadata": {},
     "output_type": "execute_result"
    }
   ],
   "source": [
    "dfMSEffectNoOutliers"
   ]
  },
  {
   "cell_type": "code",
   "execution_count": null,
   "metadata": {},
   "outputs": [],
   "source": []
  },
  {
   "cell_type": "code",
   "execution_count": 12,
   "metadata": {},
   "outputs": [
    {
     "data": {
      "text/html": [
       "<div>\n",
       "<style scoped>\n",
       "    .dataframe tbody tr th:only-of-type {\n",
       "        vertical-align: middle;\n",
       "    }\n",
       "\n",
       "    .dataframe tbody tr th {\n",
       "        vertical-align: top;\n",
       "    }\n",
       "\n",
       "    .dataframe thead th {\n",
       "        text-align: right;\n",
       "    }\n",
       "</style>\n",
       "<table border=\"1\" class=\"dataframe\">\n",
       "  <thead>\n",
       "    <tr style=\"text-align: right;\">\n",
       "      <th></th>\n",
       "      <th>0.075</th>\n",
       "      <th>0.3</th>\n",
       "      <th>0.6</th>\n",
       "      <th>2.36</th>\n",
       "      <th>4.75</th>\n",
       "      <th>9.5</th>\n",
       "      <th>12.5</th>\n",
       "      <th>19</th>\n",
       "      <th>Aggregate absorption (%)</th>\n",
       "      <th>Aggregates replacement ?_Yes</th>\n",
       "      <th>Bitumen content in the sample</th>\n",
       "      <th>Bitumen replacement?_Yes</th>\n",
       "      <th>Filler replacement_Yes</th>\n",
       "      <th>Mixing Process_Wet</th>\n",
       "      <th>Mixing Temperature</th>\n",
       "      <th>Mixing Time (hours)</th>\n",
       "      <th>Mixing speed (RPM)</th>\n",
       "      <th>New Plastic Type_PE</th>\n",
       "      <th>New Plastic Type_PET</th>\n",
       "      <th>New Plastic Type_PP</th>\n",
       "      <th>New Plastic Type_PU</th>\n",
       "      <th>New Plastic Type_Plastic Mix</th>\n",
       "      <th>New Plastic Type_e-waste</th>\n",
       "      <th>Plastic Addition by bitumen weight (%)</th>\n",
       "      <th>Plastic particle size (mm)</th>\n",
       "      <th>Plastic pretreatment_Plastic Melted</th>\n",
       "      <th>Plastic shape_Pellets</th>\n",
       "      <th>Plastic shape_Shredded</th>\n",
       "      <th>Virgin Bitumen Penetration</th>\n",
       "    </tr>\n",
       "    <tr>\n",
       "      <th>MSEffect ID</th>\n",
       "      <th></th>\n",
       "      <th></th>\n",
       "      <th></th>\n",
       "      <th></th>\n",
       "      <th></th>\n",
       "      <th></th>\n",
       "      <th></th>\n",
       "      <th></th>\n",
       "      <th></th>\n",
       "      <th></th>\n",
       "      <th></th>\n",
       "      <th></th>\n",
       "      <th></th>\n",
       "      <th></th>\n",
       "      <th></th>\n",
       "      <th></th>\n",
       "      <th></th>\n",
       "      <th></th>\n",
       "      <th></th>\n",
       "      <th></th>\n",
       "      <th></th>\n",
       "      <th></th>\n",
       "      <th></th>\n",
       "      <th></th>\n",
       "      <th></th>\n",
       "      <th></th>\n",
       "      <th></th>\n",
       "      <th></th>\n",
       "      <th></th>\n",
       "    </tr>\n",
       "  </thead>\n",
       "  <tbody>\n",
       "    <tr>\n",
       "      <th>1</th>\n",
       "      <td>2.99</td>\n",
       "      <td>5.3</td>\n",
       "      <td>21.8</td>\n",
       "      <td>35.75</td>\n",
       "      <td>38.9</td>\n",
       "      <td>57.35</td>\n",
       "      <td>73.04</td>\n",
       "      <td>97.23</td>\n",
       "      <td>0.4</td>\n",
       "      <td>0</td>\n",
       "      <td>5.50</td>\n",
       "      <td>0</td>\n",
       "      <td>0</td>\n",
       "      <td>0</td>\n",
       "      <td>0.0</td>\n",
       "      <td>0.0</td>\n",
       "      <td>0.0</td>\n",
       "      <td>0</td>\n",
       "      <td>0</td>\n",
       "      <td>1</td>\n",
       "      <td>0</td>\n",
       "      <td>0</td>\n",
       "      <td>0</td>\n",
       "      <td>15.000000</td>\n",
       "      <td>2.5</td>\n",
       "      <td>0</td>\n",
       "      <td>0</td>\n",
       "      <td>1</td>\n",
       "      <td>40.0</td>\n",
       "    </tr>\n",
       "    <tr>\n",
       "      <th>2</th>\n",
       "      <td>2.99</td>\n",
       "      <td>5.3</td>\n",
       "      <td>21.8</td>\n",
       "      <td>35.75</td>\n",
       "      <td>38.9</td>\n",
       "      <td>57.35</td>\n",
       "      <td>73.04</td>\n",
       "      <td>97.23</td>\n",
       "      <td>0.4</td>\n",
       "      <td>0</td>\n",
       "      <td>5.50</td>\n",
       "      <td>0</td>\n",
       "      <td>0</td>\n",
       "      <td>0</td>\n",
       "      <td>0.0</td>\n",
       "      <td>0.0</td>\n",
       "      <td>0.0</td>\n",
       "      <td>0</td>\n",
       "      <td>0</td>\n",
       "      <td>1</td>\n",
       "      <td>0</td>\n",
       "      <td>0</td>\n",
       "      <td>0</td>\n",
       "      <td>8.000000</td>\n",
       "      <td>2.5</td>\n",
       "      <td>0</td>\n",
       "      <td>0</td>\n",
       "      <td>1</td>\n",
       "      <td>40.0</td>\n",
       "    </tr>\n",
       "    <tr>\n",
       "      <th>6</th>\n",
       "      <td>9.00</td>\n",
       "      <td>13.0</td>\n",
       "      <td>14.0</td>\n",
       "      <td>20.00</td>\n",
       "      <td>24.0</td>\n",
       "      <td>47.00</td>\n",
       "      <td>90.00</td>\n",
       "      <td>100.00</td>\n",
       "      <td>0.5</td>\n",
       "      <td>0</td>\n",
       "      <td>6.63</td>\n",
       "      <td>0</td>\n",
       "      <td>0</td>\n",
       "      <td>0</td>\n",
       "      <td>0.0</td>\n",
       "      <td>0.0</td>\n",
       "      <td>0.0</td>\n",
       "      <td>0</td>\n",
       "      <td>0</td>\n",
       "      <td>0</td>\n",
       "      <td>0</td>\n",
       "      <td>1</td>\n",
       "      <td>0</td>\n",
       "      <td>90.497738</td>\n",
       "      <td>2.5</td>\n",
       "      <td>0</td>\n",
       "      <td>0</td>\n",
       "      <td>1</td>\n",
       "      <td>40.0</td>\n",
       "    </tr>\n",
       "    <tr>\n",
       "      <th>7</th>\n",
       "      <td>9.00</td>\n",
       "      <td>13.0</td>\n",
       "      <td>14.0</td>\n",
       "      <td>20.00</td>\n",
       "      <td>24.0</td>\n",
       "      <td>47.00</td>\n",
       "      <td>90.00</td>\n",
       "      <td>100.00</td>\n",
       "      <td>0.5</td>\n",
       "      <td>0</td>\n",
       "      <td>6.63</td>\n",
       "      <td>0</td>\n",
       "      <td>0</td>\n",
       "      <td>0</td>\n",
       "      <td>0.0</td>\n",
       "      <td>0.0</td>\n",
       "      <td>0.0</td>\n",
       "      <td>0</td>\n",
       "      <td>0</td>\n",
       "      <td>0</td>\n",
       "      <td>0</td>\n",
       "      <td>1</td>\n",
       "      <td>0</td>\n",
       "      <td>105.580694</td>\n",
       "      <td>2.5</td>\n",
       "      <td>0</td>\n",
       "      <td>0</td>\n",
       "      <td>1</td>\n",
       "      <td>40.0</td>\n",
       "    </tr>\n",
       "    <tr>\n",
       "      <th>8</th>\n",
       "      <td>9.00</td>\n",
       "      <td>13.0</td>\n",
       "      <td>14.0</td>\n",
       "      <td>20.00</td>\n",
       "      <td>24.0</td>\n",
       "      <td>47.00</td>\n",
       "      <td>90.00</td>\n",
       "      <td>100.00</td>\n",
       "      <td>0.5</td>\n",
       "      <td>0</td>\n",
       "      <td>6.63</td>\n",
       "      <td>0</td>\n",
       "      <td>0</td>\n",
       "      <td>0</td>\n",
       "      <td>0.0</td>\n",
       "      <td>0.0</td>\n",
       "      <td>0.0</td>\n",
       "      <td>0</td>\n",
       "      <td>0</td>\n",
       "      <td>0</td>\n",
       "      <td>0</td>\n",
       "      <td>1</td>\n",
       "      <td>0</td>\n",
       "      <td>120.663650</td>\n",
       "      <td>2.5</td>\n",
       "      <td>0</td>\n",
       "      <td>0</td>\n",
       "      <td>1</td>\n",
       "      <td>40.0</td>\n",
       "    </tr>\n",
       "  </tbody>\n",
       "</table>\n",
       "</div>"
      ],
      "text/plain": [
       "             0.075   0.3   0.6   2.36  4.75    9.5   12.5      19  \\\n",
       "MSEffect ID                                                         \n",
       "1             2.99   5.3  21.8  35.75  38.9  57.35  73.04   97.23   \n",
       "2             2.99   5.3  21.8  35.75  38.9  57.35  73.04   97.23   \n",
       "6             9.00  13.0  14.0  20.00  24.0  47.00  90.00  100.00   \n",
       "7             9.00  13.0  14.0  20.00  24.0  47.00  90.00  100.00   \n",
       "8             9.00  13.0  14.0  20.00  24.0  47.00  90.00  100.00   \n",
       "\n",
       "             Aggregate absorption (%)  Aggregates replacement ?_Yes  \\\n",
       "MSEffect ID                                                           \n",
       "1                                 0.4                             0   \n",
       "2                                 0.4                             0   \n",
       "6                                 0.5                             0   \n",
       "7                                 0.5                             0   \n",
       "8                                 0.5                             0   \n",
       "\n",
       "             Bitumen content in the sample  Bitumen replacement?_Yes  \\\n",
       "MSEffect ID                                                            \n",
       "1                                     5.50                         0   \n",
       "2                                     5.50                         0   \n",
       "6                                     6.63                         0   \n",
       "7                                     6.63                         0   \n",
       "8                                     6.63                         0   \n",
       "\n",
       "             Filler replacement_Yes  Mixing Process_Wet  Mixing Temperature  \\\n",
       "MSEffect ID                                                                   \n",
       "1                                 0                   0                 0.0   \n",
       "2                                 0                   0                 0.0   \n",
       "6                                 0                   0                 0.0   \n",
       "7                                 0                   0                 0.0   \n",
       "8                                 0                   0                 0.0   \n",
       "\n",
       "             Mixing Time (hours)  Mixing speed (RPM)  New Plastic Type_PE  \\\n",
       "MSEffect ID                                                                 \n",
       "1                            0.0                 0.0                    0   \n",
       "2                            0.0                 0.0                    0   \n",
       "6                            0.0                 0.0                    0   \n",
       "7                            0.0                 0.0                    0   \n",
       "8                            0.0                 0.0                    0   \n",
       "\n",
       "             New Plastic Type_PET  New Plastic Type_PP  New Plastic Type_PU  \\\n",
       "MSEffect ID                                                                   \n",
       "1                               0                    1                    0   \n",
       "2                               0                    1                    0   \n",
       "6                               0                    0                    0   \n",
       "7                               0                    0                    0   \n",
       "8                               0                    0                    0   \n",
       "\n",
       "             New Plastic Type_Plastic Mix  New Plastic Type_e-waste  \\\n",
       "MSEffect ID                                                           \n",
       "1                                       0                         0   \n",
       "2                                       0                         0   \n",
       "6                                       1                         0   \n",
       "7                                       1                         0   \n",
       "8                                       1                         0   \n",
       "\n",
       "             Plastic Addition by bitumen weight (%)  \\\n",
       "MSEffect ID                                           \n",
       "1                                         15.000000   \n",
       "2                                          8.000000   \n",
       "6                                         90.497738   \n",
       "7                                        105.580694   \n",
       "8                                        120.663650   \n",
       "\n",
       "             Plastic particle size (mm)  Plastic pretreatment_Plastic Melted  \\\n",
       "MSEffect ID                                                                    \n",
       "1                                   2.5                                    0   \n",
       "2                                   2.5                                    0   \n",
       "6                                   2.5                                    0   \n",
       "7                                   2.5                                    0   \n",
       "8                                   2.5                                    0   \n",
       "\n",
       "             Plastic shape_Pellets  Plastic shape_Shredded  \\\n",
       "MSEffect ID                                                  \n",
       "1                                0                       1   \n",
       "2                                0                       1   \n",
       "6                                0                       1   \n",
       "7                                0                       1   \n",
       "8                                0                       1   \n",
       "\n",
       "             Virgin Bitumen Penetration  \n",
       "MSEffect ID                              \n",
       "1                                  40.0  \n",
       "2                                  40.0  \n",
       "6                                  40.0  \n",
       "7                                  40.0  \n",
       "8                                  40.0  "
      ]
     },
     "execution_count": 12,
     "metadata": {},
     "output_type": "execute_result"
    }
   ],
   "source": [
    "# Split X and Y\n",
    "X = dfMSEffectNoOutliers[dfMSEffectNoOutliers.columns.difference(['Effect(%)','MS Control kN)', 'MS of the sample (kN)'])]\n",
    "y = dfMSEffectNoOutliers[['Effect(%)']]\n",
    "X.head()"
   ]
  },
  {
   "cell_type": "code",
   "execution_count": 13,
   "metadata": {},
   "outputs": [
    {
     "name": "stdout",
     "output_type": "stream",
     "text": [
      "There is 0 negative values in the new DataFrame\n"
     ]
    }
   ],
   "source": [
    "#IMPUTATION OF MISSING VALUES\n",
    "imputer = IterativeImputer (estimator = ExtraTreesRegressor(n_estimators=10, random_state = 123), max_iter=50,random_state = 123)\n",
    "n = imputer.fit_transform(X)\n",
    "X_Imputed = pd.DataFrame(n, columns = list(X.columns))\n",
    "print ('There is '+ \n",
    "str(sum(n < 0 for n in X_Imputed.loc[:,X_Imputed.columns].values.flatten()))+\n",
    "' negative values in the new DataFrame')"
   ]
  },
  {
   "cell_type": "code",
   "execution_count": 14,
   "metadata": {},
   "outputs": [],
   "source": [
    "X_Imputed['New Plastic Type_PE'] = X_Imputed['New Plastic Type_PE'] * X_Imputed['Plastic Addition by bitumen weight (%)']\n",
    "X_Imputed['New Plastic Type_PET'] = X_Imputed['New Plastic Type_PET'] * X_Imputed['Plastic Addition by bitumen weight (%)']\n",
    "X_Imputed['New Plastic Type_PP'] = X_Imputed['New Plastic Type_PP'] * X_Imputed['Plastic Addition by bitumen weight (%)']\n",
    "X_Imputed['New Plastic Type_PU'] = X_Imputed['New Plastic Type_PU'] * X_Imputed['Plastic Addition by bitumen weight (%)']\n",
    "X_Imputed['New Plastic Type_Plastic Mix'] = X_Imputed['New Plastic Type_Plastic Mix'] * X_Imputed['Plastic Addition by bitumen weight (%)']\n",
    "X_Imputed['New Plastic Type_e-waste'] = X_Imputed['New Plastic Type_e-waste'] * X_Imputed['Plastic Addition by bitumen weight (%)']\n",
    "X_Imputed = X_Imputed.drop(['Plastic Addition by bitumen weight (%)' ], axis = 1)"
   ]
  },
  {
   "cell_type": "code",
   "execution_count": 15,
   "metadata": {},
   "outputs": [
    {
     "data": {
      "text/html": [
       "<div>\n",
       "<style scoped>\n",
       "    .dataframe tbody tr th:only-of-type {\n",
       "        vertical-align: middle;\n",
       "    }\n",
       "\n",
       "    .dataframe tbody tr th {\n",
       "        vertical-align: top;\n",
       "    }\n",
       "\n",
       "    .dataframe thead th {\n",
       "        text-align: right;\n",
       "    }\n",
       "</style>\n",
       "<table border=\"1\" class=\"dataframe\">\n",
       "  <thead>\n",
       "    <tr style=\"text-align: right;\">\n",
       "      <th></th>\n",
       "      <th>0.075</th>\n",
       "      <th>0.3</th>\n",
       "      <th>0.6</th>\n",
       "      <th>2.36</th>\n",
       "      <th>4.75</th>\n",
       "      <th>9.5</th>\n",
       "      <th>12.5</th>\n",
       "      <th>19</th>\n",
       "      <th>Aggregate absorption (%)</th>\n",
       "      <th>Aggregates replacement ?_Yes</th>\n",
       "      <th>Bitumen content in the sample</th>\n",
       "      <th>Bitumen replacement?_Yes</th>\n",
       "      <th>Filler replacement_Yes</th>\n",
       "      <th>Mixing Process_Wet</th>\n",
       "      <th>Mixing Temperature</th>\n",
       "      <th>Mixing Time (hours)</th>\n",
       "      <th>Mixing speed (RPM)</th>\n",
       "      <th>New Plastic Type_PE</th>\n",
       "      <th>New Plastic Type_PET</th>\n",
       "      <th>New Plastic Type_PP</th>\n",
       "      <th>New Plastic Type_PU</th>\n",
       "      <th>New Plastic Type_Plastic Mix</th>\n",
       "      <th>New Plastic Type_e-waste</th>\n",
       "      <th>Plastic particle size (mm)</th>\n",
       "      <th>Plastic pretreatment_Plastic Melted</th>\n",
       "      <th>Plastic shape_Pellets</th>\n",
       "      <th>Plastic shape_Shredded</th>\n",
       "      <th>Virgin Bitumen Penetration</th>\n",
       "    </tr>\n",
       "  </thead>\n",
       "  <tbody>\n",
       "    <tr>\n",
       "      <th>0</th>\n",
       "      <td>0.025740</td>\n",
       "      <td>0.000000</td>\n",
       "      <td>0.432432</td>\n",
       "      <td>0.420448</td>\n",
       "      <td>0.313684</td>\n",
       "      <td>0.21473</td>\n",
       "      <td>0.186972</td>\n",
       "      <td>0.832934</td>\n",
       "      <td>0.092784</td>\n",
       "      <td>0.0</td>\n",
       "      <td>0.500000</td>\n",
       "      <td>0.0</td>\n",
       "      <td>0.0</td>\n",
       "      <td>0.0</td>\n",
       "      <td>0.0</td>\n",
       "      <td>0.0</td>\n",
       "      <td>0.0</td>\n",
       "      <td>0.0</td>\n",
       "      <td>0.0</td>\n",
       "      <td>0.125000</td>\n",
       "      <td>0.0</td>\n",
       "      <td>0.000000</td>\n",
       "      <td>0.0</td>\n",
       "      <td>0.046185</td>\n",
       "      <td>0.0</td>\n",
       "      <td>0.0</td>\n",
       "      <td>1.0</td>\n",
       "      <td>0.0</td>\n",
       "    </tr>\n",
       "    <tr>\n",
       "      <th>1</th>\n",
       "      <td>0.025740</td>\n",
       "      <td>0.000000</td>\n",
       "      <td>0.432432</td>\n",
       "      <td>0.420448</td>\n",
       "      <td>0.313684</td>\n",
       "      <td>0.21473</td>\n",
       "      <td>0.186972</td>\n",
       "      <td>0.832934</td>\n",
       "      <td>0.092784</td>\n",
       "      <td>0.0</td>\n",
       "      <td>0.500000</td>\n",
       "      <td>0.0</td>\n",
       "      <td>0.0</td>\n",
       "      <td>0.0</td>\n",
       "      <td>0.0</td>\n",
       "      <td>0.0</td>\n",
       "      <td>0.0</td>\n",
       "      <td>0.0</td>\n",
       "      <td>0.0</td>\n",
       "      <td>0.066667</td>\n",
       "      <td>0.0</td>\n",
       "      <td>0.000000</td>\n",
       "      <td>0.0</td>\n",
       "      <td>0.046185</td>\n",
       "      <td>0.0</td>\n",
       "      <td>0.0</td>\n",
       "      <td>1.0</td>\n",
       "      <td>0.0</td>\n",
       "    </tr>\n",
       "    <tr>\n",
       "      <th>2</th>\n",
       "      <td>0.219112</td>\n",
       "      <td>0.251305</td>\n",
       "      <td>0.168919</td>\n",
       "      <td>0.000000</td>\n",
       "      <td>0.000000</td>\n",
       "      <td>0.00000</td>\n",
       "      <td>0.698432</td>\n",
       "      <td>0.998802</td>\n",
       "      <td>0.127148</td>\n",
       "      <td>0.0</td>\n",
       "      <td>0.876667</td>\n",
       "      <td>0.0</td>\n",
       "      <td>0.0</td>\n",
       "      <td>0.0</td>\n",
       "      <td>0.0</td>\n",
       "      <td>0.0</td>\n",
       "      <td>0.0</td>\n",
       "      <td>0.0</td>\n",
       "      <td>0.0</td>\n",
       "      <td>0.000000</td>\n",
       "      <td>0.0</td>\n",
       "      <td>0.500000</td>\n",
       "      <td>0.0</td>\n",
       "      <td>0.046185</td>\n",
       "      <td>0.0</td>\n",
       "      <td>0.0</td>\n",
       "      <td>1.0</td>\n",
       "      <td>0.0</td>\n",
       "    </tr>\n",
       "    <tr>\n",
       "      <th>3</th>\n",
       "      <td>0.219112</td>\n",
       "      <td>0.251305</td>\n",
       "      <td>0.168919</td>\n",
       "      <td>0.000000</td>\n",
       "      <td>0.000000</td>\n",
       "      <td>0.00000</td>\n",
       "      <td>0.698432</td>\n",
       "      <td>0.998802</td>\n",
       "      <td>0.127148</td>\n",
       "      <td>0.0</td>\n",
       "      <td>0.876667</td>\n",
       "      <td>0.0</td>\n",
       "      <td>0.0</td>\n",
       "      <td>0.0</td>\n",
       "      <td>0.0</td>\n",
       "      <td>0.0</td>\n",
       "      <td>0.0</td>\n",
       "      <td>0.0</td>\n",
       "      <td>0.0</td>\n",
       "      <td>0.000000</td>\n",
       "      <td>0.0</td>\n",
       "      <td>0.583333</td>\n",
       "      <td>0.0</td>\n",
       "      <td>0.046185</td>\n",
       "      <td>0.0</td>\n",
       "      <td>0.0</td>\n",
       "      <td>1.0</td>\n",
       "      <td>0.0</td>\n",
       "    </tr>\n",
       "    <tr>\n",
       "      <th>4</th>\n",
       "      <td>0.219112</td>\n",
       "      <td>0.251305</td>\n",
       "      <td>0.168919</td>\n",
       "      <td>0.000000</td>\n",
       "      <td>0.000000</td>\n",
       "      <td>0.00000</td>\n",
       "      <td>0.698432</td>\n",
       "      <td>0.998802</td>\n",
       "      <td>0.127148</td>\n",
       "      <td>0.0</td>\n",
       "      <td>0.876667</td>\n",
       "      <td>0.0</td>\n",
       "      <td>0.0</td>\n",
       "      <td>0.0</td>\n",
       "      <td>0.0</td>\n",
       "      <td>0.0</td>\n",
       "      <td>0.0</td>\n",
       "      <td>0.0</td>\n",
       "      <td>0.0</td>\n",
       "      <td>0.000000</td>\n",
       "      <td>0.0</td>\n",
       "      <td>0.666667</td>\n",
       "      <td>0.0</td>\n",
       "      <td>0.046185</td>\n",
       "      <td>0.0</td>\n",
       "      <td>0.0</td>\n",
       "      <td>1.0</td>\n",
       "      <td>0.0</td>\n",
       "    </tr>\n",
       "  </tbody>\n",
       "</table>\n",
       "</div>"
      ],
      "text/plain": [
       "      0.075       0.3       0.6      2.36      4.75      9.5      12.5  \\\n",
       "0  0.025740  0.000000  0.432432  0.420448  0.313684  0.21473  0.186972   \n",
       "1  0.025740  0.000000  0.432432  0.420448  0.313684  0.21473  0.186972   \n",
       "2  0.219112  0.251305  0.168919  0.000000  0.000000  0.00000  0.698432   \n",
       "3  0.219112  0.251305  0.168919  0.000000  0.000000  0.00000  0.698432   \n",
       "4  0.219112  0.251305  0.168919  0.000000  0.000000  0.00000  0.698432   \n",
       "\n",
       "         19  Aggregate absorption (%)  Aggregates replacement ?_Yes  \\\n",
       "0  0.832934                  0.092784                           0.0   \n",
       "1  0.832934                  0.092784                           0.0   \n",
       "2  0.998802                  0.127148                           0.0   \n",
       "3  0.998802                  0.127148                           0.0   \n",
       "4  0.998802                  0.127148                           0.0   \n",
       "\n",
       "   Bitumen content in the sample  Bitumen replacement?_Yes  \\\n",
       "0                       0.500000                       0.0   \n",
       "1                       0.500000                       0.0   \n",
       "2                       0.876667                       0.0   \n",
       "3                       0.876667                       0.0   \n",
       "4                       0.876667                       0.0   \n",
       "\n",
       "   Filler replacement_Yes  Mixing Process_Wet  Mixing Temperature  \\\n",
       "0                     0.0                 0.0                 0.0   \n",
       "1                     0.0                 0.0                 0.0   \n",
       "2                     0.0                 0.0                 0.0   \n",
       "3                     0.0                 0.0                 0.0   \n",
       "4                     0.0                 0.0                 0.0   \n",
       "\n",
       "   Mixing Time (hours)  Mixing speed (RPM)  New Plastic Type_PE  \\\n",
       "0                  0.0                 0.0                  0.0   \n",
       "1                  0.0                 0.0                  0.0   \n",
       "2                  0.0                 0.0                  0.0   \n",
       "3                  0.0                 0.0                  0.0   \n",
       "4                  0.0                 0.0                  0.0   \n",
       "\n",
       "   New Plastic Type_PET  New Plastic Type_PP  New Plastic Type_PU  \\\n",
       "0                   0.0             0.125000                  0.0   \n",
       "1                   0.0             0.066667                  0.0   \n",
       "2                   0.0             0.000000                  0.0   \n",
       "3                   0.0             0.000000                  0.0   \n",
       "4                   0.0             0.000000                  0.0   \n",
       "\n",
       "   New Plastic Type_Plastic Mix  New Plastic Type_e-waste  \\\n",
       "0                      0.000000                       0.0   \n",
       "1                      0.000000                       0.0   \n",
       "2                      0.500000                       0.0   \n",
       "3                      0.583333                       0.0   \n",
       "4                      0.666667                       0.0   \n",
       "\n",
       "   Plastic particle size (mm)  Plastic pretreatment_Plastic Melted  \\\n",
       "0                    0.046185                                  0.0   \n",
       "1                    0.046185                                  0.0   \n",
       "2                    0.046185                                  0.0   \n",
       "3                    0.046185                                  0.0   \n",
       "4                    0.046185                                  0.0   \n",
       "\n",
       "   Plastic shape_Pellets  Plastic shape_Shredded  Virgin Bitumen Penetration  \n",
       "0                    0.0                     1.0                         0.0  \n",
       "1                    0.0                     1.0                         0.0  \n",
       "2                    0.0                     1.0                         0.0  \n",
       "3                    0.0                     1.0                         0.0  \n",
       "4                    0.0                     1.0                         0.0  "
      ]
     },
     "execution_count": 15,
     "metadata": {},
     "output_type": "execute_result"
    }
   ],
   "source": [
    "# Scaling\n",
    " #Feature Scaling\n",
    "scaler = MinMaxScaler()\n",
    "X = pd.DataFrame(scaler.fit_transform(X_Imputed), columns = list(X_Imputed))\n",
    "X.head()"
   ]
  },
  {
   "cell_type": "markdown",
   "metadata": {},
   "source": [
    "## 🧠Model Training"
   ]
  },
  {
   "cell_type": "code",
   "execution_count": 16,
   "metadata": {},
   "outputs": [],
   "source": [
    "cv = RepeatedKFold(n_splits = 10, n_repeats = 10, random_state = 123)"
   ]
  },
  {
   "cell_type": "code",
   "execution_count": 23,
   "metadata": {},
   "outputs": [
    {
     "data": {
      "text/plain": [
       "0.599179903219964"
      ]
     },
     "execution_count": 23,
     "metadata": {},
     "output_type": "execute_result"
    }
   ],
   "source": [
    "scores = cross_validate(XGBRegressor(random_state=123, n_estimators=500), X, y, cv=cv,scoring=('r2', 'neg_mean_squared_error'),return_train_score=True)\n",
    "np.average(scores['test_r2'])"
   ]
  },
  {
   "cell_type": "markdown",
   "metadata": {},
   "source": [
    "## 🔪SHAP Values"
   ]
  },
  {
   "cell_type": "code",
   "execution_count": 17,
   "metadata": {},
   "outputs": [],
   "source": [
    "import shap"
   ]
  },
  {
   "cell_type": "code",
   "execution_count": 19,
   "metadata": {},
   "outputs": [
    {
     "name": "stderr",
     "output_type": "stream",
     "text": [
      "ntree_limit is deprecated, use `iteration_range` or model slicing instead.\n"
     ]
    }
   ],
   "source": [
    "model = XGBRegressor().fit(X, y)\n",
    "explainer = shap.Explainer(model)\n",
    "shap_values = explainer(X)"
   ]
  },
  {
   "cell_type": "code",
   "execution_count": 20,
   "metadata": {},
   "outputs": [
    {
     "data": {
      "image/png": "[encoded data removed]",
      "text/plain": [
       "<Figure size 576x914.4 with 2 Axes>"
      ]
     },
     "metadata": {
      "needs_background": "light"
     },
     "output_type": "display_data"
    }
   ],
   "source": [
    "# summarize the effects of all the features\n",
    "shap.plots.beeswarm(shap_values, max_display=28)"
   ]
  },
  {
   "cell_type": "code",
   "execution_count": 21,
   "metadata": {},
   "outputs": [
    {
     "data": {
      "image/png": "[encoded data removed]",
      "text/plain": [
       "<Figure size 432x360 with 2 Axes>"
      ]
     },
     "metadata": {
      "needs_background": "light"
     },
     "output_type": "display_data"
    }
   ],
   "source": [
    "shap.plots.scatter(shap_values[:,'Mixing Process_Wet'])"
   ]
  },
  {
   "cell_type": "code",
   "execution_count": 24,
   "metadata": {},
   "outputs": [
    {
     "name": "stderr",
     "output_type": "stream",
     "text": [
      "ntree_limit is deprecated, use `iteration_range` or model slicing instead.\n"
     ]
    },
    {
     "data": {
      "image/png": "[encoded data removed]",
      "text/plain": [
       "<Figure size 576x540 with 2 Axes>"
      ]
     },
     "metadata": {
      "needs_background": "light"
     },
     "output_type": "display_data"
    }
   ],
   "source": [
    "shap_values_wet = explainer(X[X['Mixing Process_Wet'] == 1])\n",
    "# summarize the effects of all the features\n",
    "shap.plots.beeswarm(shap_values_wet, max_display=15)"
   ]
  },
  {
   "cell_type": "code",
   "execution_count": 25,
   "metadata": {},
   "outputs": [
    {
     "data": {
      "image/png": "[encoded data removed]",
      "text/plain": [
       "<Figure size 576x540 with 2 Axes>"
      ]
     },
     "metadata": {
      "needs_background": "light"
     },
     "output_type": "display_data"
    }
   ],
   "source": [
    "shap_values_dry = explainer(X[X['Mixing Process_Dry'] == 0])\n",
    "# summarize the effects of all the features\n",
    "shap.plots.beeswarm(shap_values_dry, max_display=15)"
   ]
  }
 ],
 "metadata": {
  "interpreter": {
   "hash": "fc22dc884bcedff190aa0e4687df8895271c55103986e14a4799605b50a1eed1"
  },
  "kernelspec": {
   "display_name": "Python 3.8.5 64-bit ('spyder': conda)",
   "name": "python3"
  },
  "language_info": {
   "codemirror_mode": {
    "name": "ipython",
    "version": 3
   },
   "file_extension": ".py",
   "mimetype": "text/x-python",
   "name": "python",
   "nbconvert_exporter": "python",
   "pygments_lexer": "ipython3",
   "version": "3.8.5"
  },
  "orig_nbformat": 2
 },
 "nbformat": 4,
 "nbformat_minor": 2
}
