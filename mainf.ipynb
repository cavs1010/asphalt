{
 "metadata": {
  "language_info": {
   "codemirror_mode": {
    "name": "ipython",
    "version": 3
   },
   "file_extension": ".py",
   "mimetype": "text/x-python",
   "name": "python",
   "nbconvert_exporter": "python",
   "pygments_lexer": "ipython3",
   "version": "3.8.5"
  },
  "orig_nbformat": 2,
  "kernelspec": {
   "name": "python385jvsc74a57bd0fc22dc884bcedff190aa0e4687df8895271c55103986e14a4799605b50a1eed1",
   "display_name": "Python 3.8.5 64-bit ('spyder': conda)"
  },
  "metadata": {
   "interpreter": {
    "hash": "c84dbb84446594c7c33060e8d4d00ab472a22f3e722bb969e9e6b8b01c6ee377"
   }
  }
 },
 "nbformat": 4,
 "nbformat_minor": 2,
 "cells": [
  {
   "source": [
    "# Asphalt mix prediction after plastic addition"
   ],
   "cell_type": "markdown",
   "metadata": {}
  },
  {
   "cell_type": "code",
   "execution_count": 283,
   "metadata": {},
   "outputs": [],
   "source": [
    "#%% IMPORTS\n",
    "import pandas as pd\n",
    "import numpy as np\n",
    "import matplotlib.pyplot as plt\n",
    "from pandas.plotting import scatter_matrix\n",
    "import seaborn as sns\n",
    "from scipy.stats import normaltest\n",
    "from scipy import stats\n",
    "from sklearn.tree import DecisionTreeRegressor\n",
    "from sklearn.ensemble import ExtraTreesRegressor\n",
    "from sklearn.preprocessing import MinMaxScaler\n",
    "from sklearn.experimental import enable_iterative_imputer\n",
    "from sklearn.impute import IterativeImputer\n",
    "from sklearn.linear_model import LinearRegression\n",
    "from sklearn.model_selection import cross_validate\n",
    "from IPython.display import display, Markdown, Latex\n",
    "from sklearn.preprocessing import PolynomialFeatures\n",
    "from sklearn.model_selection import GridSearchCV \n",
    "from sklearn.pipeline import make_pipeline\n",
    "from sklearn.linear_model import Ridge\n"
   ]
  },
  {
   "source": [
    "Data Import "
   ],
   "cell_type": "markdown",
   "metadata": {}
  },
  {
   "cell_type": "code",
   "execution_count": null,
   "metadata": {},
   "outputs": [],
   "source": [
    "#%%DATA READING AND INITIAL PREPROCESSING\n",
    "numericColumns = ['Aggregate absorption [%]',\n",
    "                  'Apparent specific gravity',\n",
    "                    0.075,\n",
    "                    0.3,\n",
    "                    0.6,\n",
    "                    2.36,\n",
    "                    4.75,\n",
    "                    9.5,\n",
    "                    12.5,\n",
    "                    19,\n",
    "                    'Plastic particle size (mm)',\n",
    "                    'Mixing speed (RPM)',\n",
    "                    'Mixing Temperature',\n",
    "                    'Mixing Time (hours)',\n",
    "                    'Plastic Addition by bitumen weight (%)',\n",
    "                    ]\n",
    "categoricalColumns = ['Modified asphaly Mix?',\n",
    "                      'Agreggate Type',\n",
    "                    'Aggregate absorption [%]',\n",
    "                    'Filler used',\n",
    "                    'Consolidated bitumen penetration grade',\n",
    "                    'New Plastic Type',\n",
    "                    'Plastic pretreatment',\n",
    "                    'Plastic shape',\n",
    "                    'Plastic Size',\n",
    "                    'Mixing Process',\n",
    "                    'Plastic melted previous to addition?',\n",
    "                    'Aggregates replacement ?',\n",
    "                    'Bitumen replacement?',\n",
    "                    'Filler replacement',\n",
    "                    'Property',\n",
    "                    'Units']\n",
    "#It returns the dataframe of interes based on the property - 'AirVoids', 'MS', 'MF', 'ITS', 'TSR'\n",
    "def returnDf (propertyOfInterest):\n",
    "    df = pd.read_excel('fileML.xlsx', sheet_name = propertyOfInterest, engine='openpyxl')\n",
    "    df = df.set_index(propertyOfInterest + ' ID')\n",
    "    df.loc[:,:'Units'] = df.loc[:,:'Units'].applymap(str)\n",
    "    df.loc[:,:'Units'] = df.loc[:,:'Units'] .applymap(str.strip)\n",
    "    df.replace('NS', np.nan, inplace = True)\n",
    "    df[numericColumns] = df[numericColumns].replace('N/a', 0).astype(float)\n",
    "    return df"
   ]
  },
  {
   "cell_type": "code",
   "execution_count": null,
   "metadata": {},
   "outputs": [],
   "source": [
    "dfAirVoids = returnDf('AirVoids')\n",
    "dfMS = returnDf('AirVoids')\n",
    "dfMF = returnDf('MF')\n",
    "dfITS = returnDf('ITS')\n",
    "dfTSR = returnDf('TSR')"
   ]
  },
  {
   "source": [
    "-------------------------------\n",
    "#  1. Air Voids"
   ],
   "cell_type": "markdown",
   "metadata": {}
  },
  {
   "source": [
    "## 1.1 Data Exploration"
   ],
   "cell_type": "markdown",
   "metadata": {}
  },
  {
   "cell_type": "code",
   "execution_count": null,
   "metadata": {},
   "outputs": [],
   "source": [
    "#Eliminate Outliers\n",
    "Q1 = dfAirVoids[\"Air voids of the sample (%)\"].quantile(0.25)\n",
    "Q3 = dfAirVoids[\"Air voids of the sample (%)\"].quantile(0.75)\n",
    "IQR = Q3 - Q1\n",
    "dfAirVoids = dfAirVoids[(dfAirVoids[\"Air voids of the sample (%)\"] < (Q3 + 1.5 * IQR)) & (dfAirVoids[\"Air voids of the sample (%)\"] > (Q1 - 1.5 * IQR))]\n",
    "dfAirVoids.shape"
   ]
  },
  {
   "source": [
    "###  1.1.1 Total Sample"
   ],
   "cell_type": "markdown",
   "metadata": {}
  },
  {
   "cell_type": "code",
   "execution_count": null,
   "metadata": {},
   "outputs": [],
   "source": [
    "dfAirVoids.info()"
   ]
  },
  {
   "cell_type": "code",
   "execution_count": null,
   "metadata": {},
   "outputs": [],
   "source": [
    "columnsOfInteres = numericColumns[0:2]+numericColumns[10:]+['Air voids of the sample (%)']"
   ]
  },
  {
   "cell_type": "code",
   "execution_count": null,
   "metadata": {},
   "outputs": [],
   "source": [
    "dfAirVoids.describe(include = \"all\")"
   ]
  },
  {
   "source": [
    "In total, there is $\\color{red}{\\text{288}}$ observations. Let's see if there is any correlation with the continual and categorical variables."
   ],
   "cell_type": "markdown",
   "metadata": {}
  },
  {
   "cell_type": "code",
   "execution_count": null,
   "metadata": {},
   "outputs": [],
   "source": [
    "scatter_matrix(dfAirVoids[['Aggregate absorption [%]', 'Apparent specific gravity', 'Air voids of the sample (%)']], figsize=(10, 10))\n",
    "plt.show()"
   ]
  },
  {
   "source": [
    "Among the categorical variables, we will initially focus on the general ones that might have an effect on air voids: $\\color{red}{\\text{Aggregate type}}$, $\\color{red}{\\text{Filler used}}$ and $\\color{red}{\\text{Bitumen Grade}}$"
   ],
   "cell_type": "markdown",
   "metadata": {}
  },
  {
   "cell_type": "code",
   "execution_count": null,
   "metadata": {},
   "outputs": [],
   "source": [
    "#CORRELATION:\n",
    "plt.figure(figsize=(16, 6))\n",
    "heatmap = sns.heatmap(dfAirVoids.corr(), vmin=-1, vmax=1, annot=True)\n",
    "heatmap.set_title('Correlation Heatmap', fontdict={'fontsize':12}, pad=12);"
   ]
  },
  {
   "cell_type": "code",
   "execution_count": null,
   "metadata": {},
   "outputs": [],
   "source": [
    "f, ((ax1, ax2), (ax3, ax4)) = plt.subplots(2, 2, figsize=(15,10))\n",
    "sns.boxplot(y=\"Air voids of the sample (%)\", x= \"Agreggate Type\", data=dfAirVoids,  orient='v' , ax=ax1)\n",
    "sns.boxplot(y=\"Air voids of the sample (%)\", x= \"Filler used\", data=dfAirVoids,  orient='v' , ax=ax2)\n",
    "sns.boxplot(y=\"Air voids of the sample (%)\", x= \"Consolidated bitumen penetration grade\", data=dfAirVoids,  orient='v' , ax=ax3)\n",
    "sns.boxplot(y=\"Air voids of the sample (%)\", x= \"Modified asphaly Mix?\", data=dfAirVoids,  orient='v' , ax=ax4)"
   ]
  },
  {
   "source": [
    "Within the  $\\color{red}{\\text{Aggregate type}}$, although it exists differences -especially with the Ophitic- this data migh not be robust enough due to the sample size of this type of aggregate. It happens the same with the  $\\color{red}{\\text{Bitumen type}}$, where only  $\\color{purple}{\\text{5}}$ observations used the 40/50 bitumen. The  $\\color{red}{\\text{addition of plastic}}$ seems to have not strong influence in the air voids."
   ],
   "cell_type": "markdown",
   "metadata": {}
  },
  {
   "source": [
    "###  1.1.2 Modified mixtures"
   ],
   "cell_type": "markdown",
   "metadata": {}
  },
  {
   "cell_type": "code",
   "execution_count": null,
   "metadata": {},
   "outputs": [],
   "source": [
    "dfAirVoidsModified = dfAirVoids[dfAirVoids['Modified asphaly Mix?']=='Yes']\n",
    "dfAirVoidsModified.describe(include = \"all\")"
   ]
  },
  {
   "cell_type": "code",
   "execution_count": null,
   "metadata": {},
   "outputs": [],
   "source": [
    "scatter_matrix(dfAirVoidsModified[columnsOfInteres], figsize=(25, 20))\n",
    "plt.show()"
   ]
  },
  {
   "cell_type": "code",
   "execution_count": null,
   "metadata": {},
   "outputs": [],
   "source": [
    "#CORRELATION:\n",
    "plt.figure(figsize=(16, 6))\n",
    "heatmap = sns.heatmap(dfAirVoids.corr(), vmin=-1, vmax=1, annot=True)\n",
    "heatmap.set_title('Correlation Heatmap', fontdict={'fontsize':12}, pad=12);"
   ]
  },
  {
   "source": [
    "f, ((ax1, ax2), (ax3, ax4)) = plt.subplots(2, 2, figsize=(15,10))\n",
    "sns.boxplot(y=\"Air voids of the sample (%)\", x= \"Agreggate Type\", data=dfAirVoidsModified,  orient='v' , ax=ax1)\n",
    "sns.boxplot(y=\"Air voids of the sample (%)\", x= \"Plastic shape\", data=dfAirVoidsModified,  orient='v' , ax=ax2)\n",
    "sns.boxplot(y=\"Air voids of the sample (%)\", x= \"New Plastic Type\", data=dfAirVoidsModified,  orient='v' , ax=ax3)\n",
    "sns.boxplot(y=\"Air voids of the sample (%)\", x= \"Mixing Process\", data=dfAirVoidsModified,  orient='v' , ax=ax4)"
   ],
   "cell_type": "code",
   "metadata": {},
   "execution_count": null,
   "outputs": []
  },
  {
   "source": [
    "Not much difference among dry and wet"
   ],
   "cell_type": "markdown",
   "metadata": {}
  },
  {
   "source": [
    "###  1.1.3 Wet vs. Dry Mixing"
   ],
   "cell_type": "markdown",
   "metadata": {}
  },
  {
   "cell_type": "code",
   "execution_count": null,
   "metadata": {},
   "outputs": [],
   "source": [
    "dfAirVoidsWetvsDry = dfAirVoidsModified [['Mixing Process', 'Air voids of the sample (%)']]\n",
    "dfAirVoidsWetvsDry.groupby(['Mixing Process'], as_index=False).describe()"
   ]
  },
  {
   "cell_type": "code",
   "execution_count": null,
   "metadata": {},
   "outputs": [],
   "source": [
    "sns.pairplot(dfAirVoidsModified[columnsOfInteres+['Mixing Process']], hue=\"Mixing Process\", height=2.5)"
   ]
  },
  {
   "source": [
    "##  **Some important points:**\n",
    "\n",
    "*   There are missing values mainly in $\\color{red}{\\text{Apparent specific gravity}}$, $\\color{red}{\\text{Aggregate type}}$ and $\\color{red}{\\text{filler used}}$.\n",
    "*   Total sample: # observations = 288, Mean = 4, Standard deviation = 0.98 \n",
    "*   Sample with asphalt modified: # observations = 228, Mean = 3.94, Standard deviation = 1.017\n",
    "*   It seems that there will be a strong correlation with $\\color{red}{\\text{Aggregates gradation}}$.\n",
    "*   Dry vs. Wet:\n",
    "    *   Not strong difference between dry and wet.\n",
    "    *   Mean in wet = 3.64, Mean in dry = 4.16.\n"
   ],
   "cell_type": "markdown",
   "metadata": {}
  },
  {
   "source": [
    "## 1.2 Data Pre-processing\n",
    "\n",
    "### 1.2.1 Categorical variables and Missing Values"
   ],
   "cell_type": "markdown",
   "metadata": {}
  },
  {
   "cell_type": "code",
   "execution_count": 49,
   "metadata": {},
   "outputs": [
    {
     "output_type": "stream",
     "name": "stdout",
     "text": [
      "<class 'pandas.core.frame.DataFrame'>\nInt64Index: 288 entries, 1 to 305\nData columns (total 35 columns):\n #   Column                                  Non-Null Count  Dtype  \n---  ------                                  --------------  -----  \n 0   Article ID                              288 non-null    object \n 1   Global ID                               288 non-null    object \n 2   Modified asphaly Mix?                   288 non-null    object \n 3   Agreggate Type                          197 non-null    object \n 4   Aggregate absorption [%]                231 non-null    float64\n 5   Apparent specific gravity               77 non-null     float64\n 6   0.075                                   254 non-null    float64\n 7   0.3                                     254 non-null    float64\n 8   0.6                                     251 non-null    float64\n 9   2.36                                    258 non-null    float64\n 10  4.75                                    258 non-null    float64\n 11  9.5                                     251 non-null    float64\n 12  12.5                                    243 non-null    float64\n 13  19                                      258 non-null    float64\n 14  Filler used                             122 non-null    object \n 15  Bitumen Type Penetration Grade          288 non-null    object \n 16  Consolidated bitumen penetration grade  288 non-null    object \n 17  New Plastic Type                        264 non-null    object \n 18  Plastic pretreatment                    288 non-null    object \n 19  Plastic shape                           288 non-null    object \n 20  Plastic Size                            248 non-null    object \n 21  Plastic particle size (mm)              238 non-null    float64\n 22  Mixing Process                          288 non-null    object \n 23  Plastic melted previous to addition?    288 non-null    object \n 24  Mixing speed (RPM)                      278 non-null    float64\n 25  Mixing Temperature                      285 non-null    float64\n 26  Mixing Time (hours)                     277 non-null    float64\n 27  Aggregates replacement ?                288 non-null    object \n 28  Bitumen replacement?                    288 non-null    object \n 29  Filler replacement                      288 non-null    object \n 30  Plastic Addition by bitumen weight (%)  288 non-null    float64\n 31  Property                                288 non-null    object \n 32  Units                                   288 non-null    object \n 33  Bitumen content in the sample           288 non-null    float64\n 34  Air voids of the sample (%)             288 non-null    float64\ndtypes: float64(17), object(18)\nmemory usage: 81.0+ KB\n"
     ]
    }
   ],
   "source": [
    "dfAirVoids.info()"
   ]
  },
  {
   "source": [
    "*   Process for dealing with missing categorical values:\n",
    "\n",
    "    1.  I will eliminate the rows with Nan values in the column $\\color{red}{\\text{New Plastic Type}}$. In total, there is 24 missing values, which represent 8.33% of the sample\n",
    "    2.  Replace the 'N/a' value when there is no modifiation of the asphalt mix.\n",
    "\n",
    "*   Process for dealing with missing numeric values:\n",
    "\n",
    "    *   The imputer used was the multivariable imputer, and the estimator was the ExtraTreeRegressor ([link][1]).\n",
    "    By using this estimator, I did not get any negative values among the missing features, and it presents a low MSE value.\n",
    "    \n",
    "[1]:https://scikit-learn.org/stable/auto_examples/impute/plot_iterative_imputer_variants_comparison.html#sphx-glr-auto-examples-impute-plot-iterative-imputer-variants-comparison-py  "
   ],
   "cell_type": "markdown",
   "metadata": {}
  },
  {
   "cell_type": "code",
   "execution_count": 51,
   "metadata": {},
   "outputs": [
    {
     "output_type": "stream",
     "name": "stdout",
     "text": [
      "<class 'pandas.core.frame.DataFrame'>\nInt64Index: 264 entries, 1 to 305\nData columns (total 40 columns):\n #   Column                                         Non-Null Count  Dtype  \n---  ------                                         --------------  -----  \n 0   Aggregate absorption [%]                       207 non-null    float64\n 1   0.075                                          254 non-null    float64\n 2   0.3                                            254 non-null    float64\n 3   0.6                                            251 non-null    float64\n 4   2.36                                           258 non-null    float64\n 5   4.75                                           258 non-null    float64\n 6   9.5                                            251 non-null    float64\n 7   12.5                                           243 non-null    float64\n 8   19                                             258 non-null    float64\n 9   Plastic particle size (mm)                     238 non-null    float64\n 10  Mixing speed (RPM)                             254 non-null    float64\n 11  Mixing Temperature                             261 non-null    float64\n 12  Mixing Time (hours)                            253 non-null    float64\n 13  Plastic Addition by bitumen weight (%)         264 non-null    float64\n 14  Bitumen content in the sample                  264 non-null    float64\n 15  Air voids of the sample (%)                    264 non-null    float64\n 16  Modified asphaly Mix?_Yes                      264 non-null    uint8  \n 17  Consolidated bitumen penetration grade_50/70   264 non-null    uint8  \n 18  Consolidated bitumen penetration grade_70/100  264 non-null    uint8  \n 19  New Plastic Type_No addition                   264 non-null    uint8  \n 20  New Plastic Type_Nylon                         264 non-null    uint8  \n 21  New Plastic Type_PE                            264 non-null    uint8  \n 22  New Plastic Type_PET                           264 non-null    uint8  \n 23  New Plastic Type_PP                            264 non-null    uint8  \n 24  New Plastic Type_PS                            264 non-null    uint8  \n 25  New Plastic Type_PU                            264 non-null    uint8  \n 26  New Plastic Type_Plastic Mix                   264 non-null    uint8  \n 27  Plastic pretreatment_Physical                  264 non-null    uint8  \n 28  Plastic shape_Fibers                           264 non-null    uint8  \n 29  Plastic shape_Pellets                          264 non-null    uint8  \n 30  Plastic shape_Shredded                         264 non-null    uint8  \n 31  Mixing Process_Dry                             264 non-null    uint8  \n 32  Mixing Process_Wet                             264 non-null    uint8  \n 33  Plastic melted previous to addition?_No        264 non-null    uint8  \n 34  Plastic melted previous to addition?_Yes       264 non-null    uint8  \n 35  Aggregates replacement ?_No                    264 non-null    uint8  \n 36  Aggregates replacement ?_Yes                   264 non-null    uint8  \n 37  Bitumen replacement?_No                        264 non-null    uint8  \n 38  Bitumen replacement?_Yes                       264 non-null    uint8  \n 39  Filler replacement_No                          264 non-null    uint8  \ndtypes: float64(16), uint8(24)\nmemory usage: 41.2 KB\n"
     ]
    }
   ],
   "source": [
    "#CATEGORICAL VARIABLES\n",
    "dfAirVoidsCleaned = dfAirVoids.drop(['Article ID', 'Global ID','Agreggate Type', 'Apparent specific gravity', 'Filler used', 'Bitumen Type Penetration Grade', 'Property', 'Units', 'Plastic Size' ], axis = 1)\n",
    "dfAirVoidsCleaned = dfAirVoidsCleaned.replace('N/a', 0)\n",
    "dfAirVoidsCleaned = dfAirVoidsCleaned.dropna(subset=['New Plastic Type'])\n",
    "dfAirVoidsCleaned = pd.get_dummies(dfAirVoidsCleaned, drop_first=True)\n",
    "dfAirVoidsCleaned.info()"
   ]
  },
  {
   "cell_type": "code",
   "execution_count": 52,
   "metadata": {},
   "outputs": [
    {
     "output_type": "stream",
     "name": "stderr",
     "text": [
      "C:\\Users\\cavs1\\Anaconda3\\envs\\spyder\\lib\\site-packages\\sklearn\\impute\\_iterative.py:685: ConvergenceWarning: [IterativeImputer] Early stopping criterion not reached.\n  warnings.warn(\"[IterativeImputer] Early stopping criterion not\"\n"
     ]
    }
   ],
   "source": [
    "#IMPUTATION OF MISSING VALUES\n",
    "imputer = IterativeImputer (estimator = ExtraTreesRegressor(n_estimators=10, random_state=0), max_iter=50)\n",
    "n = imputer.fit_transform(dfAirVoidsCleaned)\n",
    "dfCleanedImputed = pd.DataFrame(n, columns = list(dfAirVoidsCleaned.columns))\n",
    "print ('There is '+str(sum(n < 0 for n in dfCleanedImputed.values.flatten()))+' negative values in the new Dataframe')"
   ]
  },
  {
   "source": [
    "### 1.2.2 Features Scaling"
   ],
   "cell_type": "markdown",
   "metadata": {}
  },
  {
   "cell_type": "code",
   "execution_count": 63,
   "metadata": {},
   "outputs": [],
   "source": [
    " scaler = MinMaxScaler()\n",
    " dfCleanedImputedScaled = pd.DataFrame(scaler.fit_transform(dfCleanedImputed), columns = list(dfCleanedImputed.columns))"
   ]
  },
  {
   "source": [
    "## 1.3 Model Training"
   ],
   "cell_type": "markdown",
   "metadata": {}
  },
  {
   "cell_type": "code",
   "execution_count": 75,
   "metadata": {},
   "outputs": [],
   "source": [
    "X = dfCleanedImputedScaled.loc[:, dfCleanedImputedScaled.columns != 'Air voids of the sample (%)']\n",
    "y = dfCleanedImputedScaled.iloc[:,15]"
   ]
  },
  {
   "cell_type": "code",
   "execution_count": 280,
   "metadata": {},
   "outputs": [],
   "source": [
    "#Method for displaying the MSE and best parameters\n",
    "def displayScore (grid):\n",
    "    display(Markdown('Lowest MSE:'+ str(-grid.best_score_)))\n",
    "    display(Markdown('Best parameters: ' +str(grid.best_params_)))"
   ]
  },
  {
   "source": [
    "### Linear Model"
   ],
   "cell_type": "markdown",
   "metadata": {}
  },
  {
   "cell_type": "code",
   "execution_count": 281,
   "metadata": {},
   "outputs": [
    {
     "output_type": "display_data",
     "data": {
      "text/plain": "<IPython.core.display.Markdown object>",
      "text/markdown": "Lowest MSE:0.03873642008197666"
     },
     "metadata": {}
    },
    {
     "output_type": "display_data",
     "data": {
      "text/plain": "<IPython.core.display.Markdown object>",
      "text/markdown": "Best parameters: {'fit_intercept': False, 'positive': True}"
     },
     "metadata": {}
    }
   ],
   "source": [
    "param_grid = {'fit_intercept': [True, False],\n",
    "            'positive': [True, False]}\n",
    "grid = GridSearchCV(LinearRegression(), param_grid, cv=10, scoring='neg_mean_squared_error')\n",
    "grid.fit(X, y)\n",
    "displayScore(grid)"
   ]
  },
  {
   "source": [
    "### Ridge linear regression model"
   ],
   "cell_type": "markdown",
   "metadata": {}
  },
  {
   "cell_type": "code",
   "execution_count": 297,
   "metadata": {},
   "outputs": [
    {
     "output_type": "display_data",
     "data": {
      "text/plain": "<IPython.core.display.Markdown object>",
      "text/markdown": "Lowest MSE:0.03242478861927641"
     },
     "metadata": {}
    },
    {
     "output_type": "display_data",
     "data": {
      "text/plain": "<IPython.core.display.Markdown object>",
      "text/markdown": "Best parameters: {'alpha': 80, 'fit_intercept': True, 'solver': 'svd'}"
     },
     "metadata": {}
    }
   ],
   "source": [
    "param_grid = {'alpha': [80,81,82,83,84],\n",
    "'fit_intercept': [True, False],\n",
    "'solver': ['svd', 'cholesky','lsqr', 'sparse_cg']}\n",
    "grid = GridSearchCV(Ridge(), param_grid, cv=10, scoring='neg_mean_squared_error')\n",
    "grid.fit(X, y)\n",
    "displayScore(grid)"
   ]
  },
  {
   "source": [
    "### Polynomial Model"
   ],
   "cell_type": "markdown",
   "metadata": {}
  },
  {
   "cell_type": "code",
   "execution_count": 304,
   "metadata": {},
   "outputs": [],
   "source": [
    "def PolynomialRegression(degree=2, **kwargs):\n",
    "    return make_pipeline(PolynomialFeatures(degree), LinearRegression(**kwargs))\n"
   ]
  },
  {
   "cell_type": "code",
   "execution_count": null,
   "metadata": {
    "tags": []
   },
   "outputs": [],
   "source": [
    "param_grid = {'polynomialfeatures__degree': [3,4],\n",
    "'linearregression__fit_intercept': [True, False],\n",
    "'linearregression__positive':[True, False]}\n",
    "grid = GridSearchCV(PolynomialRegression(), param_grid, cv=10, scoring='neg_mean_squared_error')\n",
    "grid.fit(X, y)\n",
    "displayScore(grid)"
   ]
  },
  {
   "source": [
    "### Ridge polynomial regression"
   ],
   "cell_type": "markdown",
   "metadata": {}
  },
  {
   "cell_type": "code",
   "execution_count": 298,
   "metadata": {},
   "outputs": [],
   "source": [
    "def PolynomialRegression(degree=2, **kwargs):\n",
    "    return make_pipeline(PolynomialFeatures(degree), Ridge(**kwargs))"
   ]
  },
  {
   "cell_type": "code",
   "execution_count": 302,
   "metadata": {},
   "outputs": [
    {
     "output_type": "display_data",
     "data": {
      "text/plain": "<IPython.core.display.Markdown object>",
      "text/markdown": "Lowest MSE:0.04027501977634906"
     },
     "metadata": {}
    },
    {
     "output_type": "display_data",
     "data": {
      "text/plain": "<IPython.core.display.Markdown object>",
      "text/markdown": "Best parameters: {'polynomialfeatures__degree': 2, 'ridge__alpha': 10, 'ridge__fit_intercept': False}"
     },
     "metadata": {}
    }
   ],
   "source": [
    "param_grid = {'polynomialfeatures__degree': [2, 3],\n",
    "'ridge__alpha':[0.001,0.1,1,10],\n",
    "'ridge__fit_intercept': [True, False]}\n",
    "grid = GridSearchCV(PolynomialRegression(), param_grid, cv=10, scoring='neg_mean_squared_error')\n",
    "grid.fit(X, y)\n",
    "displayScore(grid)"
   ]
  },
  {
   "source": [
    "---------------------------------\n",
    "###  2.2 Marshall Stability"
   ],
   "cell_type": "markdown",
   "metadata": {}
  },
  {
   "cell_type": "code",
   "execution_count": null,
   "metadata": {},
   "outputs": [],
   "source": [
    "dfMS.describe(include = \"all\")"
   ]
  },
  {
   "cell_type": "code",
   "execution_count": null,
   "metadata": {},
   "outputs": [],
   "source": [
    "dfMF.describe(include = \"all\")\n"
   ]
  },
  {
   "cell_type": "code",
   "execution_count": null,
   "metadata": {},
   "outputs": [],
   "source": [
    "dfITS.describe(include = \"all\")\n"
   ]
  },
  {
   "cell_type": "code",
   "execution_count": null,
   "metadata": {},
   "outputs": [],
   "source": [
    "dfTSR.describe(include = \"all\")"
   ]
  },
  {
   "cell_type": "code",
   "execution_count": null,
   "metadata": {},
   "outputs": [],
   "source": []
  }
 ]
}