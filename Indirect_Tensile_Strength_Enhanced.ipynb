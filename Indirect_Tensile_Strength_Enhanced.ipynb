{
 "metadata": {
  "language_info": {
   "codemirror_mode": {
    "name": "ipython",
    "version": 3
   },
   "file_extension": ".py",
   "mimetype": "text/x-python",
   "name": "python",
   "nbconvert_exporter": "python",
   "pygments_lexer": "ipython3",
   "version": "3.8.5"
  },
  "orig_nbformat": 4,
  "kernelspec": {
   "name": "python3",
   "display_name": "Python 3.8.5 64-bit ('spyder': conda)"
  },
  "interpreter": {
   "hash": "fc22dc884bcedff190aa0e4687df8895271c55103986e14a4799605b50a1eed1"
  }
 },
 "nbformat": 4,
 "nbformat_minor": 2,
 "cells": [
  {
   "cell_type": "markdown",
   "source": [
    "# Indirect Tensile Strength"
   ],
   "metadata": {}
  },
  {
   "cell_type": "code",
   "execution_count": 1,
   "source": [
    "#%% IMPORTS\r\n",
    "#BASICS\r\n",
    "import pandas as pd\r\n",
    "import numpy as np\r\n",
    "import matplotlib.pyplot as plt\r\n",
    "import math\r\n",
    "import seaborn as sns\r\n",
    "from numpy import absolute\r\n",
    "from pandas.plotting import scatter_matrix\r\n",
    "from sklearn.pipeline import make_pipeline\r\n",
    "from IPython.display import display, Markdown, Latex\r\n",
    "pd.options.display.max_columns = None\r\n",
    "\r\n",
    "#STATISTICS\r\n",
    "from scipy.stats import normaltest\r\n",
    "from scipy import stats\r\n",
    "\r\n",
    "#ML TRAINING AND DATA PREPROCESSING\r\n",
    "from sklearn.model_selection import train_test_split\r\n",
    "from sklearn.preprocessing import MinMaxScaler\r\n",
    "from sklearn.experimental import enable_iterative_imputer\r\n",
    "from sklearn.impute import IterativeImputer\r\n",
    "from sklearn.preprocessing import PolynomialFeatures\r\n",
    "\r\n",
    "#ML MODELS\r\n",
    "from sklearn.tree import DecisionTreeRegressor\r\n",
    "from sklearn.linear_model import BayesianRidge\r\n",
    "from sklearn.ensemble import ExtraTreesRegressor\r\n",
    "from sklearn.linear_model import LinearRegression\r\n",
    "from sklearn.linear_model import Ridge\r\n",
    "from sklearn.linear_model import SGDRegressor\r\n",
    "from sklearn.linear_model import Lasso\r\n",
    "from sklearn.linear_model import ElasticNet\r\n",
    "from sklearn.svm import SVR\r\n",
    "from sklearn.tree import DecisionTreeRegressor\r\n",
    "from sklearn.ensemble import RandomForestRegressor\r\n",
    "from sklearn.ensemble import ExtraTreesRegressor\r\n",
    "from xgboost import XGBRegressor\r\n",
    "import xgboost as xgb\r\n",
    "from xgboost import plot_importance\r\n",
    "\r\n",
    "#MODEL EVALUATION\r\n",
    "from sklearn.model_selection import cross_validate\r\n",
    "from sklearn.model_selection import cross_val_score\r\n",
    "from sklearn.model_selection import GridSearchCV \r\n",
    "from sklearn.model_selection import RandomizedSearchCV\r\n",
    "from sklearn.model_selection import RepeatedKFold\r\n",
    "\r\n",
    "#METRICS\r\n",
    "from sklearn.metrics import r2_score\r\n",
    "from sklearn.metrics import mean_absolute_error\r\n",
    "from sklearn.metrics import mean_squared_error"
   ],
   "outputs": [],
   "metadata": {}
  },
  {
   "cell_type": "markdown",
   "source": [
    "## 1. Methods"
   ],
   "metadata": {}
  },
  {
   "cell_type": "code",
   "execution_count": 2,
   "source": [
    "#Eliminate Outliers based on the interquantile\r\n",
    "#datFrame: Data frame where the outliers will be eliminated.\r\n",
    "#columnName: the name of the column where the outliers will be identified.\r\n",
    "def eliminateOutliers (dataFrame, columnName):\r\n",
    "    Q1 = dataFrame[columnName].quantile(0.25)\r\n",
    "    Q3 = dataFrame[columnName].quantile(0.75)\r\n",
    "    IQR = Q3 - Q1\r\n",
    "    print('Initial dataframe size: '+str(dataFrame.shape))\r\n",
    "    dataFrame = dataFrame[(dataFrame[columnName] < (Q3 + 1.5 * IQR)) & (dataFrame[columnName] > (Q1 - 1.5 * IQR))]\r\n",
    "    print('Final dataframe size: '+str(dataFrame.shape))\r\n",
    "    return dataFrame"
   ],
   "outputs": [],
   "metadata": {}
  },
  {
   "cell_type": "code",
   "execution_count": 3,
   "source": [
    "# Create the boxplot graphs for the categorical variables\r\n",
    "# dataFrame: Data frame associated to the property of interest (dfAirVoids, dfMS, dfMF, dfITS, dfTSR)\r\n",
    "# propertyOfInterest: the name of the column where the property of interest is located.\r\n",
    "# columnName1...4: The categorical columns to evaluate.\r\n",
    "def displayBoxPlotGraphs (dataFrame, propertyOfInterest, columnName1, columnName2, columnName3, columnName4):\r\n",
    "    f, ((ax1, ax2), (ax3, ax4)) = plt.subplots(2, 2, figsize=(15,10))\r\n",
    "    sns.boxplot(y = propertyOfInterest, x = columnName1, data=dataFrame,  orient='v' , ax=ax1)\r\n",
    "    sns.boxplot(y = propertyOfInterest, x = columnName2, data=dataFrame,  orient='v' , ax=ax2)\r\n",
    "    sns.boxplot(y = propertyOfInterest, x= columnName3, data=dataFrame,  orient='v' , ax=ax3)\r\n",
    "    sns.boxplot(y= propertyOfInterest, x= columnName4, data=dataFrame,  orient='v' , ax=ax4)"
   ],
   "outputs": [],
   "metadata": {}
  },
  {
   "cell_type": "markdown",
   "source": [
    "## 2. Data Import"
   ],
   "metadata": {}
  },
  {
   "cell_type": "code",
   "execution_count": 4,
   "source": [
    "#%%DATA READING AND INITIAL PREPROCESSING\r\n",
    "numericColumns = ['Aggregate absorption (%)',\r\n",
    "                  'Apparent specific gravity',\r\n",
    "                    0.075,\r\n",
    "                    0.3,\r\n",
    "                    0.6,\r\n",
    "                    2.36,\r\n",
    "                    4.75,\r\n",
    "                    9.5,\r\n",
    "                    12.5,\r\n",
    "                    19,\r\n",
    "                    'Plastic particle size (mm)',\r\n",
    "                    'Mixing speed (RPM)',\r\n",
    "                    'Mixing Temperature',\r\n",
    "                    'Mixing Time (hours)',\r\n",
    "                    'Plastic Addition by bitumen weight (%)',\r\n",
    "                    'Bitumen content in the sample'\r\n",
    "                    ]\r\n",
    "categoricalColumns = ['Modified asphalt Mix?',\r\n",
    "                      'Agreggate Type',\r\n",
    "                    'Aggregate absorption (%)',\r\n",
    "                    'Filler used',\r\n",
    "                    'Consolidated bitumen penetration grade',\r\n",
    "                    'New Plastic Type',\r\n",
    "                    'Plastic pretreatment',\r\n",
    "                    'Plastic shape',\r\n",
    "                    'Plastic Size',\r\n",
    "                    'Mixing Process',\r\n",
    "                    'Plastic melted previous to addition?',\r\n",
    "                    'Aggregates replacement ?',\r\n",
    "                    'Bitumen replacement?',\r\n",
    "                    'Filler replacement',\r\n",
    "                    'Property',\r\n",
    "                    'Units']\r\n",
    "#It returns the dataframe of interes based on the property - 'AirVoids', 'MS', 'MF', 'ITS', 'TSR'\r\n",
    "def returnDf (propertyOfInterest):\r\n",
    "    df = pd.read_excel('fileML.xlsx', sheet_name = propertyOfInterest, engine='openpyxl')\r\n",
    "    df = df.set_index(propertyOfInterest + ' ID')\r\n",
    "    df.loc[:,:'Units'] = df.loc[:,:'Units'].applymap(str)\r\n",
    "    df.loc[:,:'Units'] = df.loc[:,:'Units'] .applymap(str.strip)\r\n",
    "    df.replace('NS', np.nan, inplace = True)\r\n",
    "    df[numericColumns] = df[numericColumns].replace('N/a', 0).astype(float)\r\n",
    "    return df"
   ],
   "outputs": [],
   "metadata": {}
  },
  {
   "cell_type": "code",
   "execution_count": 5,
   "source": [
    "dfITS = returnDf('ITS')"
   ],
   "outputs": [],
   "metadata": {}
  },
  {
   "cell_type": "markdown",
   "source": [
    "## 3. Data Exploration\n",
    "###  3.1 Total Sample"
   ],
   "metadata": {}
  },
  {
   "cell_type": "code",
   "execution_count": 6,
   "source": [
    "dfITS = eliminateOutliers(dfITS, 'ITS of the sample [Mpa]')\r\n",
    "dfITSModified = dfITS[dfITS['Modified asphalt Mix?'] == 'Yes']\r\n",
    "dfITSModified.iloc[:,2:].describe(include = \"all\")"
   ],
   "outputs": [
    {
     "output_type": "stream",
     "name": "stdout",
     "text": [
      "Initial dataframe size: (129, 34)\n",
      "Final dataframe size: (121, 34)\n"
     ]
    },
    {
     "output_type": "execute_result",
     "data": {
      "text/html": [
       "<div>\n",
       "<style scoped>\n",
       "    .dataframe tbody tr th:only-of-type {\n",
       "        vertical-align: middle;\n",
       "    }\n",
       "\n",
       "    .dataframe tbody tr th {\n",
       "        vertical-align: top;\n",
       "    }\n",
       "\n",
       "    .dataframe thead th {\n",
       "        text-align: right;\n",
       "    }\n",
       "</style>\n",
       "<table border=\"1\" class=\"dataframe\">\n",
       "  <thead>\n",
       "    <tr style=\"text-align: right;\">\n",
       "      <th></th>\n",
       "      <th>Modified asphalt Mix?</th>\n",
       "      <th>Agreggate Type</th>\n",
       "      <th>Aggregate absorption (%)</th>\n",
       "      <th>Apparent specific gravity</th>\n",
       "      <th>0.075</th>\n",
       "      <th>0.3</th>\n",
       "      <th>0.6</th>\n",
       "      <th>2.36</th>\n",
       "      <th>4.75</th>\n",
       "      <th>9.5</th>\n",
       "      <th>12.5</th>\n",
       "      <th>19</th>\n",
       "      <th>Filler used</th>\n",
       "      <th>Bitumen Type Penetration Grade</th>\n",
       "      <th>Consolidated bitumen penetration grade</th>\n",
       "      <th>New Plastic Type</th>\n",
       "      <th>Plastic pretreatment</th>\n",
       "      <th>Plastic shape</th>\n",
       "      <th>Plastic Size</th>\n",
       "      <th>Plastic particle size (mm)</th>\n",
       "      <th>Mixing Process</th>\n",
       "      <th>Mixing speed (RPM)</th>\n",
       "      <th>Mixing Temperature</th>\n",
       "      <th>Mixing Time (hours)</th>\n",
       "      <th>Aggregates replacement ?</th>\n",
       "      <th>Bitumen replacement?</th>\n",
       "      <th>Filler replacement</th>\n",
       "      <th>Plastic Addition by bitumen weight (%)</th>\n",
       "      <th>Property</th>\n",
       "      <th>Units</th>\n",
       "      <th>Bitumen content in the sample</th>\n",
       "      <th>ITS of the sample [Mpa]</th>\n",
       "    </tr>\n",
       "  </thead>\n",
       "  <tbody>\n",
       "    <tr>\n",
       "      <th>count</th>\n",
       "      <td>105</td>\n",
       "      <td>49</td>\n",
       "      <td>84.000000</td>\n",
       "      <td>48.000000</td>\n",
       "      <td>102.000000</td>\n",
       "      <td>102.000000</td>\n",
       "      <td>105.000000</td>\n",
       "      <td>105.000000</td>\n",
       "      <td>105.000000</td>\n",
       "      <td>105.000000</td>\n",
       "      <td>105.000000</td>\n",
       "      <td>105.000000</td>\n",
       "      <td>26</td>\n",
       "      <td>105</td>\n",
       "      <td>105</td>\n",
       "      <td>105</td>\n",
       "      <td>105</td>\n",
       "      <td>105</td>\n",
       "      <td>73</td>\n",
       "      <td>66.000000</td>\n",
       "      <td>105</td>\n",
       "      <td>83.000000</td>\n",
       "      <td>95.000000</td>\n",
       "      <td>82.000000</td>\n",
       "      <td>105</td>\n",
       "      <td>105</td>\n",
       "      <td>105</td>\n",
       "      <td>105.000000</td>\n",
       "      <td>105</td>\n",
       "      <td>105</td>\n",
       "      <td>81.000000</td>\n",
       "      <td>105.000000</td>\n",
       "    </tr>\n",
       "    <tr>\n",
       "      <th>unique</th>\n",
       "      <td>1</td>\n",
       "      <td>3</td>\n",
       "      <td>NaN</td>\n",
       "      <td>NaN</td>\n",
       "      <td>NaN</td>\n",
       "      <td>NaN</td>\n",
       "      <td>NaN</td>\n",
       "      <td>NaN</td>\n",
       "      <td>NaN</td>\n",
       "      <td>NaN</td>\n",
       "      <td>NaN</td>\n",
       "      <td>NaN</td>\n",
       "      <td>5</td>\n",
       "      <td>5</td>\n",
       "      <td>3</td>\n",
       "      <td>5</td>\n",
       "      <td>2</td>\n",
       "      <td>3</td>\n",
       "      <td>3</td>\n",
       "      <td>NaN</td>\n",
       "      <td>2</td>\n",
       "      <td>NaN</td>\n",
       "      <td>NaN</td>\n",
       "      <td>NaN</td>\n",
       "      <td>2</td>\n",
       "      <td>2</td>\n",
       "      <td>1</td>\n",
       "      <td>NaN</td>\n",
       "      <td>1</td>\n",
       "      <td>1</td>\n",
       "      <td>NaN</td>\n",
       "      <td>NaN</td>\n",
       "    </tr>\n",
       "    <tr>\n",
       "      <th>top</th>\n",
       "      <td>Yes</td>\n",
       "      <td>Limestone</td>\n",
       "      <td>NaN</td>\n",
       "      <td>NaN</td>\n",
       "      <td>NaN</td>\n",
       "      <td>NaN</td>\n",
       "      <td>NaN</td>\n",
       "      <td>NaN</td>\n",
       "      <td>NaN</td>\n",
       "      <td>NaN</td>\n",
       "      <td>NaN</td>\n",
       "      <td>NaN</td>\n",
       "      <td>Limestone</td>\n",
       "      <td>60/70</td>\n",
       "      <td>50/70</td>\n",
       "      <td>PE</td>\n",
       "      <td>Physical</td>\n",
       "      <td>Shredded</td>\n",
       "      <td>Fine</td>\n",
       "      <td>NaN</td>\n",
       "      <td>Dry</td>\n",
       "      <td>NaN</td>\n",
       "      <td>NaN</td>\n",
       "      <td>NaN</td>\n",
       "      <td>No</td>\n",
       "      <td>No</td>\n",
       "      <td>No</td>\n",
       "      <td>NaN</td>\n",
       "      <td>ITS</td>\n",
       "      <td>MPa</td>\n",
       "      <td>NaN</td>\n",
       "      <td>NaN</td>\n",
       "    </tr>\n",
       "    <tr>\n",
       "      <th>freq</th>\n",
       "      <td>105</td>\n",
       "      <td>31</td>\n",
       "      <td>NaN</td>\n",
       "      <td>NaN</td>\n",
       "      <td>NaN</td>\n",
       "      <td>NaN</td>\n",
       "      <td>NaN</td>\n",
       "      <td>NaN</td>\n",
       "      <td>NaN</td>\n",
       "      <td>NaN</td>\n",
       "      <td>NaN</td>\n",
       "      <td>NaN</td>\n",
       "      <td>9</td>\n",
       "      <td>56</td>\n",
       "      <td>64</td>\n",
       "      <td>40</td>\n",
       "      <td>99</td>\n",
       "      <td>74</td>\n",
       "      <td>49</td>\n",
       "      <td>NaN</td>\n",
       "      <td>69</td>\n",
       "      <td>NaN</td>\n",
       "      <td>NaN</td>\n",
       "      <td>NaN</td>\n",
       "      <td>99</td>\n",
       "      <td>96</td>\n",
       "      <td>105</td>\n",
       "      <td>NaN</td>\n",
       "      <td>105</td>\n",
       "      <td>105</td>\n",
       "      <td>NaN</td>\n",
       "      <td>NaN</td>\n",
       "    </tr>\n",
       "    <tr>\n",
       "      <th>mean</th>\n",
       "      <td>NaN</td>\n",
       "      <td>NaN</td>\n",
       "      <td>0.975357</td>\n",
       "      <td>2.663083</td>\n",
       "      <td>6.089510</td>\n",
       "      <td>14.218627</td>\n",
       "      <td>23.052000</td>\n",
       "      <td>38.133905</td>\n",
       "      <td>52.150476</td>\n",
       "      <td>73.282857</td>\n",
       "      <td>86.570952</td>\n",
       "      <td>95.039810</td>\n",
       "      <td>NaN</td>\n",
       "      <td>NaN</td>\n",
       "      <td>NaN</td>\n",
       "      <td>NaN</td>\n",
       "      <td>NaN</td>\n",
       "      <td>NaN</td>\n",
       "      <td>NaN</td>\n",
       "      <td>4.935152</td>\n",
       "      <td>NaN</td>\n",
       "      <td>435.903614</td>\n",
       "      <td>44.631579</td>\n",
       "      <td>0.243902</td>\n",
       "      <td>NaN</td>\n",
       "      <td>NaN</td>\n",
       "      <td>NaN</td>\n",
       "      <td>13.465473</td>\n",
       "      <td>NaN</td>\n",
       "      <td>NaN</td>\n",
       "      <td>5.445247</td>\n",
       "      <td>0.737338</td>\n",
       "    </tr>\n",
       "    <tr>\n",
       "      <th>std</th>\n",
       "      <td>NaN</td>\n",
       "      <td>NaN</td>\n",
       "      <td>0.958954</td>\n",
       "      <td>0.063249</td>\n",
       "      <td>1.641458</td>\n",
       "      <td>2.538724</td>\n",
       "      <td>7.129505</td>\n",
       "      <td>9.777670</td>\n",
       "      <td>10.936685</td>\n",
       "      <td>9.894570</td>\n",
       "      <td>8.929621</td>\n",
       "      <td>5.228236</td>\n",
       "      <td>NaN</td>\n",
       "      <td>NaN</td>\n",
       "      <td>NaN</td>\n",
       "      <td>NaN</td>\n",
       "      <td>NaN</td>\n",
       "      <td>NaN</td>\n",
       "      <td>NaN</td>\n",
       "      <td>6.484420</td>\n",
       "      <td>NaN</td>\n",
       "      <td>1190.612710</td>\n",
       "      <td>73.155482</td>\n",
       "      <td>0.599608</td>\n",
       "      <td>NaN</td>\n",
       "      <td>NaN</td>\n",
       "      <td>NaN</td>\n",
       "      <td>22.953269</td>\n",
       "      <td>NaN</td>\n",
       "      <td>NaN</td>\n",
       "      <td>0.761166</td>\n",
       "      <td>0.375573</td>\n",
       "    </tr>\n",
       "    <tr>\n",
       "      <th>min</th>\n",
       "      <td>NaN</td>\n",
       "      <td>NaN</td>\n",
       "      <td>0.100000</td>\n",
       "      <td>2.600000</td>\n",
       "      <td>2.990000</td>\n",
       "      <td>5.300000</td>\n",
       "      <td>10.070000</td>\n",
       "      <td>19.770000</td>\n",
       "      <td>23.950000</td>\n",
       "      <td>57.350000</td>\n",
       "      <td>73.040000</td>\n",
       "      <td>89.000000</td>\n",
       "      <td>NaN</td>\n",
       "      <td>NaN</td>\n",
       "      <td>NaN</td>\n",
       "      <td>NaN</td>\n",
       "      <td>NaN</td>\n",
       "      <td>NaN</td>\n",
       "      <td>NaN</td>\n",
       "      <td>1.120000</td>\n",
       "      <td>NaN</td>\n",
       "      <td>0.000000</td>\n",
       "      <td>0.000000</td>\n",
       "      <td>0.000000</td>\n",
       "      <td>NaN</td>\n",
       "      <td>NaN</td>\n",
       "      <td>NaN</td>\n",
       "      <td>1.000000</td>\n",
       "      <td>NaN</td>\n",
       "      <td>NaN</td>\n",
       "      <td>4.200000</td>\n",
       "      <td>0.151920</td>\n",
       "    </tr>\n",
       "    <tr>\n",
       "      <th>25%</th>\n",
       "      <td>NaN</td>\n",
       "      <td>NaN</td>\n",
       "      <td>0.100000</td>\n",
       "      <td>2.600000</td>\n",
       "      <td>4.592500</td>\n",
       "      <td>12.432500</td>\n",
       "      <td>18.900000</td>\n",
       "      <td>33.000000</td>\n",
       "      <td>50.130000</td>\n",
       "      <td>65.000000</td>\n",
       "      <td>79.860000</td>\n",
       "      <td>89.220000</td>\n",
       "      <td>NaN</td>\n",
       "      <td>NaN</td>\n",
       "      <td>NaN</td>\n",
       "      <td>NaN</td>\n",
       "      <td>NaN</td>\n",
       "      <td>NaN</td>\n",
       "      <td>NaN</td>\n",
       "      <td>2.360000</td>\n",
       "      <td>NaN</td>\n",
       "      <td>0.000000</td>\n",
       "      <td>0.000000</td>\n",
       "      <td>0.000000</td>\n",
       "      <td>NaN</td>\n",
       "      <td>NaN</td>\n",
       "      <td>NaN</td>\n",
       "      <td>4.861111</td>\n",
       "      <td>NaN</td>\n",
       "      <td>NaN</td>\n",
       "      <td>5.000000</td>\n",
       "      <td>0.500510</td>\n",
       "    </tr>\n",
       "    <tr>\n",
       "      <th>50%</th>\n",
       "      <td>NaN</td>\n",
       "      <td>NaN</td>\n",
       "      <td>0.560000</td>\n",
       "      <td>2.658500</td>\n",
       "      <td>5.980000</td>\n",
       "      <td>14.000000</td>\n",
       "      <td>21.250000</td>\n",
       "      <td>38.800000</td>\n",
       "      <td>54.770000</td>\n",
       "      <td>70.490000</td>\n",
       "      <td>80.000000</td>\n",
       "      <td>97.230000</td>\n",
       "      <td>NaN</td>\n",
       "      <td>NaN</td>\n",
       "      <td>NaN</td>\n",
       "      <td>NaN</td>\n",
       "      <td>NaN</td>\n",
       "      <td>NaN</td>\n",
       "      <td>NaN</td>\n",
       "      <td>2.360000</td>\n",
       "      <td>NaN</td>\n",
       "      <td>0.000000</td>\n",
       "      <td>0.000000</td>\n",
       "      <td>0.000000</td>\n",
       "      <td>NaN</td>\n",
       "      <td>NaN</td>\n",
       "      <td>NaN</td>\n",
       "      <td>7.000000</td>\n",
       "      <td>NaN</td>\n",
       "      <td>NaN</td>\n",
       "      <td>5.250000</td>\n",
       "      <td>0.750000</td>\n",
       "    </tr>\n",
       "    <tr>\n",
       "      <th>75%</th>\n",
       "      <td>NaN</td>\n",
       "      <td>NaN</td>\n",
       "      <td>2.375000</td>\n",
       "      <td>2.720000</td>\n",
       "      <td>7.000000</td>\n",
       "      <td>16.280000</td>\n",
       "      <td>28.000000</td>\n",
       "      <td>47.000000</td>\n",
       "      <td>54.830000</td>\n",
       "      <td>77.500000</td>\n",
       "      <td>95.090000</td>\n",
       "      <td>100.000000</td>\n",
       "      <td>NaN</td>\n",
       "      <td>NaN</td>\n",
       "      <td>NaN</td>\n",
       "      <td>NaN</td>\n",
       "      <td>NaN</td>\n",
       "      <td>NaN</td>\n",
       "      <td>NaN</td>\n",
       "      <td>6.350000</td>\n",
       "      <td>NaN</td>\n",
       "      <td>0.000000</td>\n",
       "      <td>160.000000</td>\n",
       "      <td>0.000000</td>\n",
       "      <td>NaN</td>\n",
       "      <td>NaN</td>\n",
       "      <td>NaN</td>\n",
       "      <td>11.000000</td>\n",
       "      <td>NaN</td>\n",
       "      <td>NaN</td>\n",
       "      <td>5.900000</td>\n",
       "      <td>0.948000</td>\n",
       "    </tr>\n",
       "    <tr>\n",
       "      <th>max</th>\n",
       "      <td>NaN</td>\n",
       "      <td>NaN</td>\n",
       "      <td>2.700000</td>\n",
       "      <td>2.800000</td>\n",
       "      <td>9.700000</td>\n",
       "      <td>23.000000</td>\n",
       "      <td>39.160000</td>\n",
       "      <td>54.100000</td>\n",
       "      <td>71.080000</td>\n",
       "      <td>96.870000</td>\n",
       "      <td>100.000000</td>\n",
       "      <td>100.000000</td>\n",
       "      <td>NaN</td>\n",
       "      <td>NaN</td>\n",
       "      <td>NaN</td>\n",
       "      <td>NaN</td>\n",
       "      <td>NaN</td>\n",
       "      <td>NaN</td>\n",
       "      <td>NaN</td>\n",
       "      <td>50.000000</td>\n",
       "      <td>NaN</td>\n",
       "      <td>4000.000000</td>\n",
       "      <td>185.000000</td>\n",
       "      <td>2.000000</td>\n",
       "      <td>NaN</td>\n",
       "      <td>NaN</td>\n",
       "      <td>NaN</td>\n",
       "      <td>120.000000</td>\n",
       "      <td>NaN</td>\n",
       "      <td>NaN</td>\n",
       "      <td>6.770000</td>\n",
       "      <td>1.657550</td>\n",
       "    </tr>\n",
       "  </tbody>\n",
       "</table>\n",
       "</div>"
      ],
      "text/plain": [
       "       Modified asphalt Mix? Agreggate Type  Aggregate absorption (%)  \\\n",
       "count                    105             49                 84.000000   \n",
       "unique                     1              3                       NaN   \n",
       "top                      Yes      Limestone                       NaN   \n",
       "freq                     105             31                       NaN   \n",
       "mean                     NaN            NaN                  0.975357   \n",
       "std                      NaN            NaN                  0.958954   \n",
       "min                      NaN            NaN                  0.100000   \n",
       "25%                      NaN            NaN                  0.100000   \n",
       "50%                      NaN            NaN                  0.560000   \n",
       "75%                      NaN            NaN                  2.375000   \n",
       "max                      NaN            NaN                  2.700000   \n",
       "\n",
       "        Apparent specific gravity       0.075         0.3         0.6  \\\n",
       "count                   48.000000  102.000000  102.000000  105.000000   \n",
       "unique                        NaN         NaN         NaN         NaN   \n",
       "top                           NaN         NaN         NaN         NaN   \n",
       "freq                          NaN         NaN         NaN         NaN   \n",
       "mean                     2.663083    6.089510   14.218627   23.052000   \n",
       "std                      0.063249    1.641458    2.538724    7.129505   \n",
       "min                      2.600000    2.990000    5.300000   10.070000   \n",
       "25%                      2.600000    4.592500   12.432500   18.900000   \n",
       "50%                      2.658500    5.980000   14.000000   21.250000   \n",
       "75%                      2.720000    7.000000   16.280000   28.000000   \n",
       "max                      2.800000    9.700000   23.000000   39.160000   \n",
       "\n",
       "              2.36        4.75         9.5        12.5          19  \\\n",
       "count   105.000000  105.000000  105.000000  105.000000  105.000000   \n",
       "unique         NaN         NaN         NaN         NaN         NaN   \n",
       "top            NaN         NaN         NaN         NaN         NaN   \n",
       "freq           NaN         NaN         NaN         NaN         NaN   \n",
       "mean     38.133905   52.150476   73.282857   86.570952   95.039810   \n",
       "std       9.777670   10.936685    9.894570    8.929621    5.228236   \n",
       "min      19.770000   23.950000   57.350000   73.040000   89.000000   \n",
       "25%      33.000000   50.130000   65.000000   79.860000   89.220000   \n",
       "50%      38.800000   54.770000   70.490000   80.000000   97.230000   \n",
       "75%      47.000000   54.830000   77.500000   95.090000  100.000000   \n",
       "max      54.100000   71.080000   96.870000  100.000000  100.000000   \n",
       "\n",
       "       Filler used Bitumen Type Penetration Grade  \\\n",
       "count           26                            105   \n",
       "unique           5                              5   \n",
       "top      Limestone                          60/70   \n",
       "freq             9                             56   \n",
       "mean           NaN                            NaN   \n",
       "std            NaN                            NaN   \n",
       "min            NaN                            NaN   \n",
       "25%            NaN                            NaN   \n",
       "50%            NaN                            NaN   \n",
       "75%            NaN                            NaN   \n",
       "max            NaN                            NaN   \n",
       "\n",
       "       Consolidated bitumen penetration grade New Plastic Type  \\\n",
       "count                                     105              105   \n",
       "unique                                      3                5   \n",
       "top                                     50/70               PE   \n",
       "freq                                       64               40   \n",
       "mean                                      NaN              NaN   \n",
       "std                                       NaN              NaN   \n",
       "min                                       NaN              NaN   \n",
       "25%                                       NaN              NaN   \n",
       "50%                                       NaN              NaN   \n",
       "75%                                       NaN              NaN   \n",
       "max                                       NaN              NaN   \n",
       "\n",
       "       Plastic pretreatment Plastic shape Plastic Size  \\\n",
       "count                   105           105           73   \n",
       "unique                    2             3            3   \n",
       "top                Physical      Shredded         Fine   \n",
       "freq                     99            74           49   \n",
       "mean                    NaN           NaN          NaN   \n",
       "std                     NaN           NaN          NaN   \n",
       "min                     NaN           NaN          NaN   \n",
       "25%                     NaN           NaN          NaN   \n",
       "50%                     NaN           NaN          NaN   \n",
       "75%                     NaN           NaN          NaN   \n",
       "max                     NaN           NaN          NaN   \n",
       "\n",
       "        Plastic particle size (mm) Mixing Process  Mixing speed (RPM)  \\\n",
       "count                    66.000000            105           83.000000   \n",
       "unique                         NaN              2                 NaN   \n",
       "top                            NaN            Dry                 NaN   \n",
       "freq                           NaN             69                 NaN   \n",
       "mean                      4.935152            NaN          435.903614   \n",
       "std                       6.484420            NaN         1190.612710   \n",
       "min                       1.120000            NaN            0.000000   \n",
       "25%                       2.360000            NaN            0.000000   \n",
       "50%                       2.360000            NaN            0.000000   \n",
       "75%                       6.350000            NaN            0.000000   \n",
       "max                      50.000000            NaN         4000.000000   \n",
       "\n",
       "        Mixing Temperature  Mixing Time (hours) Aggregates replacement ?  \\\n",
       "count            95.000000            82.000000                      105   \n",
       "unique                 NaN                  NaN                        2   \n",
       "top                    NaN                  NaN                       No   \n",
       "freq                   NaN                  NaN                       99   \n",
       "mean             44.631579             0.243902                      NaN   \n",
       "std              73.155482             0.599608                      NaN   \n",
       "min               0.000000             0.000000                      NaN   \n",
       "25%               0.000000             0.000000                      NaN   \n",
       "50%               0.000000             0.000000                      NaN   \n",
       "75%             160.000000             0.000000                      NaN   \n",
       "max             185.000000             2.000000                      NaN   \n",
       "\n",
       "       Bitumen replacement? Filler replacement  \\\n",
       "count                   105                105   \n",
       "unique                    2                  1   \n",
       "top                      No                 No   \n",
       "freq                     96                105   \n",
       "mean                    NaN                NaN   \n",
       "std                     NaN                NaN   \n",
       "min                     NaN                NaN   \n",
       "25%                     NaN                NaN   \n",
       "50%                     NaN                NaN   \n",
       "75%                     NaN                NaN   \n",
       "max                     NaN                NaN   \n",
       "\n",
       "        Plastic Addition by bitumen weight (%) Property Units  \\\n",
       "count                               105.000000      105   105   \n",
       "unique                                     NaN        1     1   \n",
       "top                                        NaN      ITS   MPa   \n",
       "freq                                       NaN      105   105   \n",
       "mean                                 13.465473      NaN   NaN   \n",
       "std                                  22.953269      NaN   NaN   \n",
       "min                                   1.000000      NaN   NaN   \n",
       "25%                                   4.861111      NaN   NaN   \n",
       "50%                                   7.000000      NaN   NaN   \n",
       "75%                                  11.000000      NaN   NaN   \n",
       "max                                 120.000000      NaN   NaN   \n",
       "\n",
       "        Bitumen content in the sample  ITS of the sample [Mpa]  \n",
       "count                       81.000000               105.000000  \n",
       "unique                            NaN                      NaN  \n",
       "top                               NaN                      NaN  \n",
       "freq                              NaN                      NaN  \n",
       "mean                         5.445247                 0.737338  \n",
       "std                          0.761166                 0.375573  \n",
       "min                          4.200000                 0.151920  \n",
       "25%                          5.000000                 0.500510  \n",
       "50%                          5.250000                 0.750000  \n",
       "75%                          5.900000                 0.948000  \n",
       "max                          6.770000                 1.657550  "
      ]
     },
     "metadata": {},
     "execution_count": 6
    }
   ],
   "metadata": {}
  },
  {
   "cell_type": "code",
   "execution_count": null,
   "source": [
    "dfITS.info()"
   ],
   "outputs": [],
   "metadata": {}
  },
  {
   "cell_type": "code",
   "execution_count": null,
   "source": [
    "dfITS.describe(include = \"all\")"
   ],
   "outputs": [],
   "metadata": {}
  },
  {
   "cell_type": "code",
   "execution_count": null,
   "source": [
    "scatter_matrix(dfITS[['Aggregate absorption (%)', 'Apparent specific gravity', 'Bitumen content in the sample', 'ITS of the sample [Mpa]']], figsize=(10, 10))\r\n",
    "plt.show()"
   ],
   "outputs": [],
   "metadata": {}
  },
  {
   "cell_type": "code",
   "execution_count": null,
   "source": [
    "plt.figure(figsize=(16, 6))\r\n",
    "heatmap = sns.heatmap(dfITS.corr(), vmin=-1, vmax=1, annot=True)\r\n",
    "heatmap.set_title('Correlation Heatmap ITS', fontdict={'fontsize':12}, pad=12)"
   ],
   "outputs": [],
   "metadata": {}
  },
  {
   "cell_type": "markdown",
   "source": [
    "The highest positive correlation is with the $\\color{red}{\\text{Apparent specific gravity}}$ (54% missing values). Negative correlation with $\\color{red}{\\text{bitumen content}}$ (this is in disagreement with the Asphalt Mixture selection that states a relation between cracking and bitumen content)"
   ],
   "metadata": {}
  },
  {
   "cell_type": "code",
   "execution_count": null,
   "source": [
    "displayBoxPlotGraphs(dataFrame = dfITS, propertyOfInterest = 'ITS of the sample [Mpa]', columnName1 = \"Agreggate Type\", columnName2 = \"Filler used\", columnName3 = \"Consolidated bitumen penetration grade\", columnName4 = \"Modified asphalt Mix?\")"
   ],
   "outputs": [],
   "metadata": {}
  },
  {
   "cell_type": "markdown",
   "source": [
    "No difference between modified and unmodified.\n",
    "\n",
    "###  3.2 Modified mixtures"
   ],
   "metadata": {}
  },
  {
   "cell_type": "code",
   "execution_count": null,
   "source": [
    "dfITSModvsUnmod = dfITS [['Modified asphalt Mix?', 'ITS of the sample [Mpa]']]\r\n",
    "dfITSModvsUnmod.groupby(['Modified asphalt Mix?'], as_index=False).describe()"
   ],
   "outputs": [],
   "metadata": {}
  },
  {
   "cell_type": "code",
   "execution_count": null,
   "source": [
    "dfITSModified = dfITS[dfITS['Modified asphalt Mix?'] == 'Yes']\r\n",
    "dfITSModified.iloc[:,2:].describe(include = \"all\")"
   ],
   "outputs": [],
   "metadata": {}
  },
  {
   "cell_type": "code",
   "execution_count": null,
   "source": [
    "columnsOfInteres = numericColumns[0:2]+numericColumns[10:]+['ITS of the sample [Mpa]']\r\n",
    "scatter_matrix(dfITSModified[columnsOfInteres], figsize=(25, 20))\r\n",
    "plt.show()"
   ],
   "outputs": [],
   "metadata": {}
  },
  {
   "cell_type": "code",
   "execution_count": null,
   "source": [
    "plt.figure(figsize=(16, 6))\r\n",
    "heatmap = sns.heatmap(dfITSModified.corr(), vmin=-1, vmax=1, annot=True)\r\n",
    "heatmap.set_title('Correlation Heatmap ITS', fontdict={'fontsize':12}, pad=12)"
   ],
   "outputs": [],
   "metadata": {}
  },
  {
   "cell_type": "markdown",
   "source": [
    "Some positive correlation in the $\\color{red}{\\text{mixing parameters}}$ and $\\color{red}{\\text{gradation}}$. The ITS property does not behave as a normal."
   ],
   "metadata": {}
  },
  {
   "cell_type": "code",
   "execution_count": null,
   "source": [
    "displayBoxPlotGraphs(dataFrame = dfITSModified, propertyOfInterest = \"ITS of the sample [Mpa]\", columnName1 = \"Agreggate Type\", columnName2 = \"Plastic shape\", columnName3 = \"New Plastic Type\", columnName4 = \"Mixing Process\")"
   ],
   "outputs": [],
   "metadata": {}
  },
  {
   "cell_type": "markdown",
   "source": [
    "Possible correlation with $\\color{red}{\\text{plastic shape}}$, but we need to be aware of the sample size. The dry and wet mixing are very similar.\n",
    "###  3.3 Wet vs. Dry Mixing"
   ],
   "metadata": {}
  },
  {
   "cell_type": "code",
   "execution_count": null,
   "source": [
    "dfITSWetvsDry = dfITSModified [['Mixing Process', 'ITS of the sample [Mpa]']]\r\n",
    "dfITSWetvsDry.groupby(['Mixing Process'], as_index=False).describe()"
   ],
   "outputs": [],
   "metadata": {}
  },
  {
   "cell_type": "code",
   "execution_count": null,
   "source": [
    "sns.pairplot(dfITSModified[columnsOfInteres+['Mixing Process']], hue=\"Mixing Process\", height=2.5)"
   ],
   "outputs": [],
   "metadata": {}
  },
  {
   "cell_type": "markdown",
   "source": [
    "##  **Indirect Tensile Strength summary:**\n",
    "\n",
    " *  8 outliers were eliminated from the original sample.\n",
    " *  Total number of observation: 121 -> $\\mu$ = 0.75, $\\sigma$ = 0.38.\n",
    " *  Major concern with $\\color{red}{\\text{bitumen quantity}}$ as there are 25 missing values.\n",
    " *  $\\color{red}{\\text{Agregate absorption}}$ has a high number of missing values; 54% of the data points. Nevertheless, it is still an important value according to the Pearson correlation value (r = 0.94)\n",
    " *  Negative correlation with $\\color{red}{\\text{Bitumen quantity}}$.\n",
    " *  Not much difference between the modified and unmodified mixtures -> $\\mu_{modified}$ = 0.73,  $\\mu_{unmodified}$ = 0.88. The observations in unmodified are low (16 obs.), so it is not a conclusive statement.\n",
    " *  Modified mixtures present positive correlation with $\\color{red}{\\text{gradation}}$, $\\color{red}{\\text{plastic size}}$ (r = 0.12)and  mixing properties; $\\color{red}{\\text{temperature}}$ (r = 0.19), $\\color{red}{\\text{mixing time}}$ (r = 0.32).\n",
    " *  ITS is not normally distributed.\n",
    " *  Not significan difference between dry and wet. Dry has 69 observations ($\\mu_{dry}$ = 0.74, $\\sigma_{dry}$ = 0.37) while wet has 43 observations ($\\mu_{wet}$ = 0.72, $\\sigma_{wet}$ = 0.39)\n",
    "\n",
    "## 4. Data Pre-processing"
   ],
   "metadata": {}
  },
  {
   "cell_type": "code",
   "execution_count": 7,
   "source": [
    "dfITS.info()"
   ],
   "outputs": [
    {
     "output_type": "stream",
     "name": "stdout",
     "text": [
      "<class 'pandas.core.frame.DataFrame'>\n",
      "Int64Index: 121 entries, 1 to 129\n",
      "Data columns (total 34 columns):\n",
      " #   Column                                  Non-Null Count  Dtype  \n",
      "---  ------                                  --------------  -----  \n",
      " 0   Article ID                              121 non-null    object \n",
      " 1   Global ID                               121 non-null    object \n",
      " 2   Modified asphalt Mix?                   121 non-null    object \n",
      " 3   Agreggate Type                          57 non-null     object \n",
      " 4   Aggregate absorption (%)                95 non-null     float64\n",
      " 5   Apparent specific gravity               55 non-null     float64\n",
      " 6   0.075                                   117 non-null    float64\n",
      " 7   0.3                                     117 non-null    float64\n",
      " 8   0.6                                     121 non-null    float64\n",
      " 9   2.36                                    121 non-null    float64\n",
      " 10  4.75                                    121 non-null    float64\n",
      " 11  9.5                                     121 non-null    float64\n",
      " 12  12.5                                    121 non-null    float64\n",
      " 13  19                                      121 non-null    float64\n",
      " 14  Filler used                             29 non-null     object \n",
      " 15  Bitumen Type Penetration Grade          121 non-null    object \n",
      " 16  Consolidated bitumen penetration grade  121 non-null    object \n",
      " 17  New Plastic Type                        121 non-null    object \n",
      " 18  Plastic pretreatment                    121 non-null    object \n",
      " 19  Plastic shape                           121 non-null    object \n",
      " 20  Plastic Size                            89 non-null     object \n",
      " 21  Plastic particle size (mm)              82 non-null     float64\n",
      " 22  Mixing Process                          121 non-null    object \n",
      " 23  Mixing speed (RPM)                      99 non-null     float64\n",
      " 24  Mixing Temperature                      111 non-null    float64\n",
      " 25  Mixing Time (hours)                     98 non-null     float64\n",
      " 26  Aggregates replacement ?                121 non-null    object \n",
      " 27  Bitumen replacement?                    121 non-null    object \n",
      " 28  Filler replacement                      121 non-null    object \n",
      " 29  Plastic Addition by bitumen weight (%)  121 non-null    float64\n",
      " 30  Property                                121 non-null    object \n",
      " 31  Units                                   121 non-null    object \n",
      " 32  Bitumen content in the sample           96 non-null     float64\n",
      " 33  ITS of the sample [Mpa]                 121 non-null    float64\n",
      "dtypes: float64(17), object(17)\n",
      "memory usage: 33.1+ KB\n"
     ]
    }
   ],
   "metadata": {}
  },
  {
   "cell_type": "markdown",
   "source": [
    "###  Pre-processing:\n",
    "1.  Eliminate the columns $\\color{red}{\\text{Article ID}}$, $\\color{red}{\\text{Global ID}}$, $\\color{red}{\\text{Aggregate type}}$, $\\color{red}{\\text{Apparent specific gravity}}$, $\\color{red}{\\text{filler used}}$, $\\color{red}{\\text{Bitumen type penetration grade}}$, $\\color{red}{\\text{plastic size}}$, $\\color{red}{\\text{Property}}$ and $\\color{red}{\\text{Units}}$.\n",
    "2.  Change the N/a to zero. This is for the unmodified mixtures.\n",
    "4.  Change categorical columns to numeric - $\\color{red}{\\text{Modified asphalt Mix?}}$, $\\color{red}{\\text{Consolidated bitumen penetration grade}}$, $\\color{red}{\\text{New Plastic Type}}$, $\\color{red}{\\text{Plastic pretreatment}}$, $\\color{red}{\\text{Plastic shape}}$, $\\color{red}{\\text{Mixing Process}}$, $\\color{red}{\\text{Plastic melted previous to addition?}}$, $\\color{red}{\\text{Replacements}}$.\n",
    "5.  Imputer to $\\color{red}{\\text{Aggregate absorption}}$, $\\color{red}{\\text{gradations}}$, $\\color{red}{\\text{plastic size(mm)}}$, $\\color{red}{\\text{mixing parameters}}$ and $\\color{red}{\\text{Bitumen content in the sample}}$."
   ],
   "metadata": {}
  },
  {
   "cell_type": "code",
   "execution_count": 40,
   "source": [
    "#Categorical Variables\r\n",
    "dfITSCleaned = dfITS.drop(['Article ID', \r\n",
    "                        'Global ID',\r\n",
    "                        'Modified asphalt Mix?',\r\n",
    "                        'Agreggate Type', \r\n",
    "                        'Apparent specific gravity', \r\n",
    "                        'Filler used', \r\n",
    "                        'Bitumen Type Penetration Grade',\r\n",
    "                        'Plastic Size', \r\n",
    "                        'Property', \r\n",
    "                        'Units'], axis = 1)\r\n",
    "dfITSCleaned = dfITSCleaned.replace('N/a', 0)\r\n",
    "dfITSCleaned = pd.get_dummies(dfITSCleaned, columns=['New Plastic Type'], drop_first = False)\r\n",
    "dfITSCleaned = pd.get_dummies(dfITSCleaned, drop_first=True)\r\n",
    "dfITSCleaned = dfITSCleaned.drop(['New Plastic Type_0'], axis = 1)\r\n",
    "dfITSCleaned.info()"
   ],
   "outputs": [
    {
     "output_type": "stream",
     "name": "stdout",
     "text": [
      "<class 'pandas.core.frame.DataFrame'>\n",
      "Int64Index: 121 entries, 1 to 129\n",
      "Data columns (total 24 columns):\n",
      " #   Column                                  Non-Null Count  Dtype  \n",
      "---  ------                                  --------------  -----  \n",
      " 0   Aggregate absorption (%)                95 non-null     float64\n",
      " 1   0.075                                   117 non-null    float64\n",
      " 2   0.3                                     117 non-null    float64\n",
      " 3   0.6                                     121 non-null    float64\n",
      " 4   2.36                                    121 non-null    float64\n",
      " 5   4.75                                    121 non-null    float64\n",
      " 6   9.5                                     121 non-null    float64\n",
      " 7   12.5                                    121 non-null    float64\n",
      " 8   19                                      121 non-null    float64\n",
      " 9   Consolidated bitumen penetration grade  121 non-null    object \n",
      " 10  New Plastic Type                        121 non-null    object \n",
      " 11  Plastic pretreatment                    121 non-null    object \n",
      " 12  Plastic shape                           121 non-null    object \n",
      " 13  Plastic particle size (mm)              82 non-null     float64\n",
      " 14  Mixing Process                          121 non-null    object \n",
      " 15  Mixing speed (RPM)                      99 non-null     float64\n",
      " 16  Mixing Temperature                      111 non-null    float64\n",
      " 17  Mixing Time (hours)                     98 non-null     float64\n",
      " 18  Aggregates replacement ?                121 non-null    object \n",
      " 19  Bitumen replacement?                    121 non-null    object \n",
      " 20  Filler replacement                      121 non-null    object \n",
      " 21  Plastic Addition by bitumen weight (%)  121 non-null    float64\n",
      " 22  Bitumen content in the sample           96 non-null     float64\n",
      " 23  ITS of the sample [Mpa]                 121 non-null    float64\n",
      "dtypes: float64(16), object(8)\n",
      "memory usage: 23.6+ KB\n"
     ]
    }
   ],
   "metadata": {}
  },
  {
   "cell_type": "code",
   "execution_count": 9,
   "source": [
    "#IMPUTATION OF MISSING VALUES\r\n",
    "imputer = IterativeImputer (estimator = ExtraTreesRegressor(n_estimators=10, random_state=0), max_iter=100)\r\n",
    "n = imputer.fit_transform(dfITSCleaned)\r\n",
    "dfITSCleanedImputed = pd.DataFrame(n, columns = list(dfITSCleaned.columns))\r\n",
    "dfITSCleanedImputed.info()\r\n",
    "print ('There is '+str(sum(n < 0 for n in dfITSCleanedImputed.values.flatten()))+' negative values in the new Dataframe')"
   ],
   "outputs": [
    {
     "output_type": "stream",
     "name": "stdout",
     "text": [
      "<class 'pandas.core.frame.DataFrame'>\n",
      "RangeIndex: 121 entries, 0 to 120\n",
      "Data columns (total 32 columns):\n",
      " #   Column                                         Non-Null Count  Dtype  \n",
      "---  ------                                         --------------  -----  \n",
      " 0   Aggregate absorption (%)                       121 non-null    float64\n",
      " 1   0.075                                          121 non-null    float64\n",
      " 2   0.3                                            121 non-null    float64\n",
      " 3   0.6                                            121 non-null    float64\n",
      " 4   2.36                                           121 non-null    float64\n",
      " 5   4.75                                           121 non-null    float64\n",
      " 6   9.5                                            121 non-null    float64\n",
      " 7   12.5                                           121 non-null    float64\n",
      " 8   19                                             121 non-null    float64\n",
      " 9   Plastic particle size (mm)                     121 non-null    float64\n",
      " 10  Mixing speed (RPM)                             121 non-null    float64\n",
      " 11  Mixing Temperature                             121 non-null    float64\n",
      " 12  Mixing Time (hours)                            121 non-null    float64\n",
      " 13  Plastic Addition by bitumen weight (%)         121 non-null    float64\n",
      " 14  Bitumen content in the sample                  121 non-null    float64\n",
      " 15  ITS of the sample [Mpa]                        121 non-null    float64\n",
      " 16  New Plastic Type_PE                            121 non-null    float64\n",
      " 17  New Plastic Type_PET                           121 non-null    float64\n",
      " 18  New Plastic Type_PP                            121 non-null    float64\n",
      " 19  New Plastic Type_PS                            121 non-null    float64\n",
      " 20  New Plastic Type_Plastic Mix                   121 non-null    float64\n",
      " 21  Consolidated bitumen penetration grade_50/70   121 non-null    float64\n",
      " 22  Consolidated bitumen penetration grade_70/100  121 non-null    float64\n",
      " 23  Plastic pretreatment_Physical                  121 non-null    float64\n",
      " 24  Plastic pretreatment_Plastic Melted            121 non-null    float64\n",
      " 25  Plastic shape_Fibers                           121 non-null    float64\n",
      " 26  Plastic shape_Pellets                          121 non-null    float64\n",
      " 27  Plastic shape_Shredded                         121 non-null    float64\n",
      " 28  Mixing Process_Dry                             121 non-null    float64\n",
      " 29  Mixing Process_Wet                             121 non-null    float64\n",
      " 30  Aggregates replacement ?_Yes                   121 non-null    float64\n",
      " 31  Bitumen replacement?_Yes                       121 non-null    float64\n",
      "dtypes: float64(32)\n",
      "memory usage: 30.4 KB\n",
      "There is 0 negative values in the new Dataframe\n"
     ]
    }
   ],
   "metadata": {}
  },
  {
   "cell_type": "code",
   "execution_count": 10,
   "source": [
    "dfITSCleanedImputed['New Plastic Type_PE'] = dfITSCleanedImputed['New Plastic Type_PE'] * dfITSCleanedImputed['Plastic Addition by bitumen weight (%)']\r\n",
    "dfITSCleanedImputed['New Plastic Type_PET'] = dfITSCleanedImputed['New Plastic Type_PET'] * dfITSCleanedImputed['Plastic Addition by bitumen weight (%)']\r\n",
    "dfITSCleanedImputed['New Plastic Type_PP'] = dfITSCleanedImputed['New Plastic Type_PP'] * dfITSCleanedImputed['Plastic Addition by bitumen weight (%)']\r\n",
    "dfITSCleanedImputed['New Plastic Type_PS'] = dfITSCleanedImputed['New Plastic Type_PS'] * dfITSCleanedImputed['Plastic Addition by bitumen weight (%)']\r\n",
    "dfITSCleanedImputed['New Plastic Type_Plastic Mix'] = dfITSCleanedImputed['New Plastic Type_Plastic Mix'] * dfITSCleanedImputed['Plastic Addition by bitumen weight (%)']\r\n",
    "dfITSCleanedImputed = dfITSCleanedImputed.drop(['Plastic Addition by bitumen weight (%)'], axis = 1)"
   ],
   "outputs": [],
   "metadata": {}
  },
  {
   "cell_type": "code",
   "execution_count": 11,
   "source": [
    "scaler = MinMaxScaler()\r\n",
    "dfITSCleanedImputedScaled = pd.DataFrame(scaler.fit_transform(dfITSCleanedImputed), columns = list(dfITSCleanedImputed.columns))\r\n",
    "dfITSCleanedImputedScaled.to_clipboard()"
   ],
   "outputs": [],
   "metadata": {}
  },
  {
   "cell_type": "markdown",
   "source": [
    "## 5. Model Training"
   ],
   "metadata": {}
  },
  {
   "cell_type": "code",
   "execution_count": 12,
   "source": [
    "min = dfITSCleanedImputed['ITS of the sample [Mpa]'].min()\r\n",
    "max = dfITSCleanedImputed['ITS of the sample [Mpa]'].max()\r\n",
    "print('The min value is: '+str(min)+'. The max value is: '+str(max))"
   ],
   "outputs": [
    {
     "output_type": "stream",
     "name": "stdout",
     "text": [
      "The min value is: 0.15192. The max value is: 1.65755\n"
     ]
    }
   ],
   "metadata": {}
  },
  {
   "cell_type": "code",
   "execution_count": 13,
   "source": [
    "#Method that print the best parameters, R2 and MSE based on a grid search.\r\n",
    "def printBestModelAdv (grid, estimator = n, advancedAnalysis = False):\r\n",
    "    min = dfITSCleanedImputed['ITS of the sample [Mpa]'].min()\r\n",
    "    max = dfITSCleanedImputed['ITS of the sample [Mpa]'].max()\r\n",
    "    mse = -grid.best_score_\r\n",
    "    print('Best Parameters:' , grid.best_params_)\r\n",
    "    print('Best Test MSE: ' + str(mse))\r\n",
    "    print('Std of the Test MSE:' + str(grid.cv_results_['std_test_neg_mean_squared_error'][grid.best_index_]))\r\n",
    "    print('Best Test RMSE: ' +str(math.sqrt(mse)))\r\n",
    "    print('Best Test scaled RMSE: ' +str((math.sqrt(mse)*(max-min))+min))\r\n",
    "    print('Best Test scaled MSE: ' +str(((math.sqrt(mse)*(max-min))+min)**2)) \r\n",
    "    print('Best Test R2: ' + str(grid.cv_results_['mean_test_r2'][grid.best_index_]))\r\n",
    "    if (advancedAnalysis):\r\n",
    "        bestEstimator = estimator\r\n",
    "        bestEstimator.fit(X_train, y_train)\r\n",
    "        predictionsTrain = bestEstimator.predict(X_train)\r\n",
    "        df = pd.DataFrame({'predictions':predictionsTrain, 'original': y_train})\r\n",
    "        df.plot.hist(bins=10, alpha=0.5)\r\n",
    "        unScaledDf = (df*(max-min))+min\r\n",
    "        print (unScaledDf.describe())"
   ],
   "outputs": [],
   "metadata": {}
  },
  {
   "cell_type": "code",
   "execution_count": 14,
   "source": [
    "X = dfITSCleanedImputedScaled.loc[:, dfITSCleanedImputedScaled.columns != 'ITS of the sample [Mpa]']\r\n",
    "X.columns = X.columns.astype(str)\r\n",
    "y = dfITSCleanedImputedScaled.loc[:,'ITS of the sample [Mpa]']\r\n",
    "X_train, X_test, y_train, y_test = train_test_split(X, y, test_size=0.2, random_state=123)\r\n",
    "cv = RepeatedKFold(n_splits = 5, n_repeats = 10, random_state = 123)"
   ],
   "outputs": [],
   "metadata": {}
  },
  {
   "cell_type": "code",
   "execution_count": 15,
   "source": [
    "y_test_new = y_test.to_frame()\r\n",
    "y_test_new['y_test_unscaled'] = (y_test*(max-min))+min\r\n",
    "y_test_new.describe()"
   ],
   "outputs": [
    {
     "output_type": "execute_result",
     "data": {
      "text/html": [
       "<div>\n",
       "<style scoped>\n",
       "    .dataframe tbody tr th:only-of-type {\n",
       "        vertical-align: middle;\n",
       "    }\n",
       "\n",
       "    .dataframe tbody tr th {\n",
       "        vertical-align: top;\n",
       "    }\n",
       "\n",
       "    .dataframe thead th {\n",
       "        text-align: right;\n",
       "    }\n",
       "</style>\n",
       "<table border=\"1\" class=\"dataframe\">\n",
       "  <thead>\n",
       "    <tr style=\"text-align: right;\">\n",
       "      <th></th>\n",
       "      <th>ITS of the sample [Mpa]</th>\n",
       "      <th>y_test_unscaled</th>\n",
       "    </tr>\n",
       "  </thead>\n",
       "  <tbody>\n",
       "    <tr>\n",
       "      <th>count</th>\n",
       "      <td>25.000000</td>\n",
       "      <td>25.000000</td>\n",
       "    </tr>\n",
       "    <tr>\n",
       "      <th>mean</th>\n",
       "      <td>0.361115</td>\n",
       "      <td>0.695626</td>\n",
       "    </tr>\n",
       "    <tr>\n",
       "      <th>std</th>\n",
       "      <td>0.211945</td>\n",
       "      <td>0.319110</td>\n",
       "    </tr>\n",
       "    <tr>\n",
       "      <th>min</th>\n",
       "      <td>0.003972</td>\n",
       "      <td>0.157900</td>\n",
       "    </tr>\n",
       "    <tr>\n",
       "      <th>25%</th>\n",
       "      <td>0.237509</td>\n",
       "      <td>0.509520</td>\n",
       "    </tr>\n",
       "    <tr>\n",
       "      <th>50%</th>\n",
       "      <td>0.312600</td>\n",
       "      <td>0.622580</td>\n",
       "    </tr>\n",
       "    <tr>\n",
       "      <th>75%</th>\n",
       "      <td>0.490213</td>\n",
       "      <td>0.890000</td>\n",
       "    </tr>\n",
       "    <tr>\n",
       "      <th>max</th>\n",
       "      <td>0.923255</td>\n",
       "      <td>1.542000</td>\n",
       "    </tr>\n",
       "  </tbody>\n",
       "</table>\n",
       "</div>"
      ],
      "text/plain": [
       "       ITS of the sample [Mpa]  y_test_unscaled\n",
       "count                25.000000        25.000000\n",
       "mean                  0.361115         0.695626\n",
       "std                   0.211945         0.319110\n",
       "min                   0.003972         0.157900\n",
       "25%                   0.237509         0.509520\n",
       "50%                   0.312600         0.622580\n",
       "75%                   0.490213         0.890000\n",
       "max                   0.923255         1.542000"
      ]
     },
     "metadata": {},
     "execution_count": 15
    }
   ],
   "metadata": {}
  },
  {
   "cell_type": "code",
   "execution_count": 16,
   "source": [
    "y_train_new = y_train.to_frame()\r\n",
    "y_train_new['y_train_unscaled'] = (y_train*(max-min))+min\r\n",
    "y_train_new.describe()"
   ],
   "outputs": [
    {
     "output_type": "execute_result",
     "data": {
      "text/html": [
       "<div>\n",
       "<style scoped>\n",
       "    .dataframe tbody tr th:only-of-type {\n",
       "        vertical-align: middle;\n",
       "    }\n",
       "\n",
       "    .dataframe tbody tr th {\n",
       "        vertical-align: top;\n",
       "    }\n",
       "\n",
       "    .dataframe thead th {\n",
       "        text-align: right;\n",
       "    }\n",
       "</style>\n",
       "<table border=\"1\" class=\"dataframe\">\n",
       "  <thead>\n",
       "    <tr style=\"text-align: right;\">\n",
       "      <th></th>\n",
       "      <th>ITS of the sample [Mpa]</th>\n",
       "      <th>y_train_unscaled</th>\n",
       "    </tr>\n",
       "  </thead>\n",
       "  <tbody>\n",
       "    <tr>\n",
       "      <th>count</th>\n",
       "      <td>96.000000</td>\n",
       "      <td>96.000000</td>\n",
       "    </tr>\n",
       "    <tr>\n",
       "      <th>mean</th>\n",
       "      <td>0.411934</td>\n",
       "      <td>0.772140</td>\n",
       "    </tr>\n",
       "    <tr>\n",
       "      <th>std</th>\n",
       "      <td>0.261895</td>\n",
       "      <td>0.394317</td>\n",
       "    </tr>\n",
       "    <tr>\n",
       "      <th>min</th>\n",
       "      <td>0.000000</td>\n",
       "      <td>0.151920</td>\n",
       "    </tr>\n",
       "    <tr>\n",
       "      <th>25%</th>\n",
       "      <td>0.274299</td>\n",
       "      <td>0.564912</td>\n",
       "    </tr>\n",
       "    <tr>\n",
       "      <th>50%</th>\n",
       "      <td>0.403947</td>\n",
       "      <td>0.760115</td>\n",
       "    </tr>\n",
       "    <tr>\n",
       "      <th>75%</th>\n",
       "      <td>0.563273</td>\n",
       "      <td>1.000000</td>\n",
       "    </tr>\n",
       "    <tr>\n",
       "      <th>max</th>\n",
       "      <td>1.000000</td>\n",
       "      <td>1.657550</td>\n",
       "    </tr>\n",
       "  </tbody>\n",
       "</table>\n",
       "</div>"
      ],
      "text/plain": [
       "       ITS of the sample [Mpa]  y_train_unscaled\n",
       "count                96.000000         96.000000\n",
       "mean                  0.411934          0.772140\n",
       "std                   0.261895          0.394317\n",
       "min                   0.000000          0.151920\n",
       "25%                   0.274299          0.564912\n",
       "50%                   0.403947          0.760115\n",
       "75%                   0.563273          1.000000\n",
       "max                   1.000000          1.657550"
      ]
     },
     "metadata": {},
     "execution_count": 16
    }
   ],
   "metadata": {}
  },
  {
   "cell_type": "code",
   "execution_count": 17,
   "source": [
    "g = sns.histplot(data=y_train_new, x=\"y_train_unscaled\", bins=10, kde=True)\r\n",
    "g.set_ylabel('Frequency')\r\n",
    "g.set_xlabel('Indirect tensile strength (Mpa)')\r\n",
    "plt.show()"
   ],
   "outputs": [
    {
     "output_type": "display_data",
     "data": {
      "image/png": "[encoded data removed]",
      "text/plain": [
       "<Figure size 432x288 with 1 Axes>"
      ]
     },
     "metadata": {
      "needs_background": "light"
     }
    }
   ],
   "metadata": {}
  },
  {
   "cell_type": "code",
   "execution_count": 18,
   "source": [
    "sns.set_style('darkgrid')\r\n",
    "fig, ax = plt.subplots()\r\n",
    "sns.histplot(x=y_train_new[\"y_train_unscaled\"], bins=10, kde=True, ax = ax)\r\n",
    "ax.set(xlabel='Indirect tensile strength (Mpa)')\r\n",
    "ax.set_title('(d)')\r\n",
    "ax.legend()\r\n",
    "plt.show()"
   ],
   "outputs": [
    {
     "output_type": "stream",
     "name": "stderr",
     "text": [
      "No handles with labels found to put in legend.\n"
     ]
    },
    {
     "output_type": "display_data",
     "data": {
      "image/png": "[encoded data removed]",
      "text/plain": [
       "<Figure size 432x288 with 1 Axes>"
      ]
     },
     "metadata": {}
    }
   ],
   "metadata": {}
  },
  {
   "cell_type": "markdown",
   "source": [
    "### 5.1 Model Evaluation\n",
    "#### Linear Model"
   ],
   "metadata": {}
  },
  {
   "cell_type": "code",
   "execution_count": null,
   "source": [
    "param_grid = {'fit_intercept': [True, False],\r\n",
    "            'positive': [True, False]}\r\n",
    "grid = GridSearchCV(LinearRegression(), param_grid, cv = cv, scoring=['neg_mean_squared_error', 'r2'], refit = 'neg_mean_squared_error', return_train_score= True)\r\n",
    "grid.fit(X_train, y_train)\r\n",
    "printBestModelAdv(grid) "
   ],
   "outputs": [],
   "metadata": {}
  },
  {
   "cell_type": "markdown",
   "source": [
    "#### Lasso Linear Model"
   ],
   "metadata": {}
  },
  {
   "cell_type": "code",
   "execution_count": null,
   "source": [
    "param_grid = {'alpha': [0.001,1, 10, 15, 30, 50, 100],\r\n",
    "            'fit_intercept':[True, False],\r\n",
    "            'positive': [True, False]}\r\n",
    "grid = GridSearchCV(Lasso(), param_grid, cv=cv, scoring=['neg_mean_squared_error', 'r2'], refit = 'neg_mean_squared_error', return_train_score= True)\r\n",
    "grid.fit(X_train, y_train)\r\n",
    "printBestModelAdv(grid)"
   ],
   "outputs": [],
   "metadata": {}
  },
  {
   "cell_type": "markdown",
   "source": [
    "#### Ridge Linear Regression Model"
   ],
   "metadata": {}
  },
  {
   "cell_type": "code",
   "execution_count": null,
   "source": [
    "param_grid = {'alpha': [7, 8, 10,100],\r\n",
    "'fit_intercept': [True, False],\r\n",
    "'solver': [ 'svd', 'cholesky', 'lsqr', 'sparse_cg', 'sag', 'saga']}\r\n",
    "grid = GridSearchCV(Ridge(), param_grid, cv=cv, scoring=['neg_mean_squared_error', 'r2'], refit = 'neg_mean_squared_error')\r\n",
    "grid.fit(X_train, y_train)\r\n",
    "printBestModelAdv(grid)"
   ],
   "outputs": [],
   "metadata": {}
  },
  {
   "cell_type": "markdown",
   "source": [
    "#### Linear elastic Net"
   ],
   "metadata": {}
  },
  {
   "cell_type": "code",
   "execution_count": null,
   "source": [
    "param_grid = {'alpha': [0.01,1,2,3,4],\r\n",
    "'fit_intercept': [True, False]}\r\n",
    "grid = GridSearchCV(ElasticNet(), param_grid, cv=cv, scoring=['neg_mean_squared_error', 'r2'], refit = 'neg_mean_squared_error')\r\n",
    "grid.fit(X_train, y_train)\r\n",
    "printBestModelAdv(grid)"
   ],
   "outputs": [],
   "metadata": {}
  },
  {
   "cell_type": "markdown",
   "source": [
    "#### Polynomial model"
   ],
   "metadata": {}
  },
  {
   "cell_type": "code",
   "execution_count": null,
   "source": [
    "def PolynomialRegression(degree=2, **kwargs):\r\n",
    "    return make_pipeline(PolynomialFeatures(degree), LinearRegression(**kwargs))\r\n",
    "\r\n",
    "param_grid = {'polynomialfeatures__degree': [2,3],\r\n",
    "'linearregression__fit_intercept': [True, False],\r\n",
    "'linearregression__positive':[True, False]}\r\n",
    "grid = GridSearchCV(PolynomialRegression(), param_grid, cv=cv, scoring=['neg_mean_squared_error', 'r2'], refit = 'neg_mean_squared_error')\r\n",
    "grid.fit(X_train, y_train)\r\n",
    "printBestModelAdv(grid)"
   ],
   "outputs": [],
   "metadata": {}
  },
  {
   "cell_type": "markdown",
   "source": [
    "#### Lasso polynomial model"
   ],
   "metadata": {}
  },
  {
   "cell_type": "code",
   "execution_count": null,
   "source": [
    "def PolynomialRegression(degree=2, **kwargs):\r\n",
    "    return make_pipeline(PolynomialFeatures(degree), Lasso(**kwargs))\r\n",
    "\r\n",
    "param_grid = {'polynomialfeatures__degree': [2,3],\r\n",
    "            'lasso__alpha': [1,2, 3, 10, 15, 30],\r\n",
    "            'lasso__fit_intercept':[True, False],\r\n",
    "            'lasso__positive': [True, False],\r\n",
    "            'lasso__max_iter': [2000,3000, 3500]}\r\n",
    "grid = GridSearchCV(PolynomialRegression(), param_grid, cv=cv, scoring=['neg_mean_squared_error', 'r2'], refit = 'neg_mean_squared_error', return_train_score= True)\r\n",
    "grid.fit(X_train, y_train)\r\n",
    "printBestModelAdv(grid)"
   ],
   "outputs": [],
   "metadata": {}
  },
  {
   "cell_type": "markdown",
   "source": [
    "#### Ridge Polynomial Model"
   ],
   "metadata": {}
  },
  {
   "cell_type": "code",
   "execution_count": null,
   "source": [
    "def PolynomialRegression(degree=2, **kwargs):\r\n",
    "    return make_pipeline(PolynomialFeatures(degree), Ridge(**kwargs))\r\n",
    "\r\n",
    "param_grid = {'polynomialfeatures__degree': [2,3],\r\n",
    "'ridge__alpha':[20,30,50, 60],\r\n",
    "'ridge__fit_intercept': [True, False],\r\n",
    "'ridge__solver': [ 'lsqr', 'cholesky', 'sparse_cg', 'auto']}\r\n",
    "grid = GridSearchCV(PolynomialRegression(), param_grid, cv=cv, scoring=['neg_mean_squared_error', 'r2'], refit='neg_mean_squared_error')\r\n",
    "grid.fit(X_train, y_train)\r\n",
    "printBestModelAdv(grid)"
   ],
   "outputs": [],
   "metadata": {}
  },
  {
   "cell_type": "markdown",
   "source": [
    "#### Support Vector Regression"
   ],
   "metadata": {}
  },
  {
   "cell_type": "code",
   "execution_count": null,
   "source": [
    "param_grid = {\r\n",
    "    'kernel':['linear','rbf', 'sigmoid', 'poly'],\r\n",
    "    'degree':[2,3,4],\r\n",
    "    'C':[0.01,1,5,10],\r\n",
    "    'epsilon':[0.1,0.2, 1, 1.5]\r\n",
    "}\r\n",
    "grid = GridSearchCV(SVR(), param_grid, cv=cv, scoring=['neg_mean_squared_error', 'r2'], refit='neg_mean_squared_error')\r\n",
    "grid.fit(X_train, y_train)\r\n",
    "printBestModelAdv(grid)"
   ],
   "outputs": [],
   "metadata": {}
  },
  {
   "cell_type": "markdown",
   "source": [
    "#### Decision tree regresor"
   ],
   "metadata": {}
  },
  {
   "cell_type": "code",
   "execution_count": null,
   "source": [
    "param_grid = {\r\n",
    "    'max_depth':[1,2,3,5,10,30],\r\n",
    "    'min_samples_split':[2,3,4],\r\n",
    "    'min_samples_leaf':[0.4,1,2]\r\n",
    "}\r\n",
    "grid = GridSearchCV(DecisionTreeRegressor(), param_grid, cv=cv, scoring=['neg_mean_squared_error', 'r2'], refit='neg_mean_squared_error')\r\n",
    "grid.fit(X_train, y_train)\r\n",
    "printBestModelAdv(grid)"
   ],
   "outputs": [],
   "metadata": {}
  },
  {
   "cell_type": "markdown",
   "source": [
    "#### Random Forest"
   ],
   "metadata": {}
  },
  {
   "cell_type": "code",
   "execution_count": null,
   "source": [
    "param_grid = {\r\n",
    "    'bootstrap': [True, False],\r\n",
    "    'max_depth': [10, 20, 30, 40, 50, 60, 70, 80, 90, 100, None],\r\n",
    "    'max_features': ['auto', 'sqrt'],\r\n",
    "    'min_samples_leaf': [1, 2, 4],\r\n",
    "    'min_samples_split': [2, 5, 10],\r\n",
    "    'n_estimators': [200, 400, 600, 800, 1000, 1200, 1400, 1600, 1800, 2000]\r\n",
    "}\r\n",
    "grid = RandomizedSearchCV(RandomForestRegressor(), param_grid, cv=cv, scoring=['r2','neg_mean_squared_error'], refit='neg_mean_squared_error', n_iter=10,)\r\n",
    "grid.fit(X_train, y_train)\r\n",
    "printBestModelAdv(grid, RandomForestRegressor(**grid.best_params_), True)"
   ],
   "outputs": [],
   "metadata": {}
  },
  {
   "cell_type": "markdown",
   "source": [
    "#### Extra tree regressor"
   ],
   "metadata": {}
  },
  {
   "cell_type": "code",
   "execution_count": null,
   "source": [
    "param_grid = {\r\n",
    "    'bootstrap': [True, False],\r\n",
    "    'max_depth': [10, 20, 30, 40, 50, 60, 70, 80, 90, 100, None],\r\n",
    "    'max_features': ['auto', 'sqrt'],\r\n",
    "    'min_samples_leaf': [1, 2, 4],\r\n",
    "    'min_samples_split': [2, 5, 10],\r\n",
    "    'n_estimators': [200, 400, 600, 800, 1000, 1200, 1400, 1600, 1800, 2000]\r\n",
    "}\r\n",
    "grid = RandomizedSearchCV(ExtraTreesRegressor(), param_grid, cv=cv, scoring=['r2','neg_mean_squared_error'], refit='neg_mean_squared_error', n_iter=10)\r\n",
    "grid.fit(X_train, y_train)\r\n",
    "printBestModelAdv(grid, RandomForestRegressor(**grid.best_params_), True)"
   ],
   "outputs": [],
   "metadata": {}
  },
  {
   "cell_type": "markdown",
   "source": [
    "#### XG Boost Regressor"
   ],
   "metadata": {}
  },
  {
   "cell_type": "code",
   "execution_count": null,
   "source": [
    "param_grid = {\r\n",
    "    'n_estimators': [100,200, 300, 500, 1000]\r\n",
    "}\r\n",
    "grid = GridSearchCV(XGBRegressor(random_state=123), param_grid, cv=cv, scoring=['neg_mean_squared_error', 'r2'], refit='neg_mean_squared_error')\r\n",
    "grid.fit(X_train, y_train)\r\n",
    "printBestModelAdv(grid, XGBRegressor(**grid.best_params_), True)"
   ],
   "outputs": [],
   "metadata": {}
  },
  {
   "cell_type": "code",
   "execution_count": null,
   "source": [
    "X_train.columns"
   ],
   "outputs": [],
   "metadata": {}
  },
  {
   "cell_type": "code",
   "execution_count": 19,
   "source": [
    "X_train2 = X_train.copy()\r\n",
    "X_train2.rename(columns={'0.075':'Grad. Sieve size 0.075', '0.3':'Grad. Sieve size 0.3', '0.6':'Grad. Sieve size 0.6', '2.36':'Grad. Sieve size 2.36',                                '4.75':'Grad. Sieve size 4.75','9.5':'Grad. Sieve size 9.5', '12.5':'Grad. Sieve size 12.5', '19':'Grad. Sieve size 19', \r\n",
    "                        'Plastic particle size (mm)':'Plastic size', 'Mixing speed (RPM)':'Mixing speed',\r\n",
    "                        'Mixing Time (hours)':'Mixing Time',\r\n",
    "                        'Bitumen content in the sample':'Bitumen content', 'New Plastic Type_Nylon':'Plastic Type_Nylon',\r\n",
    "                        'New Plastic Type_PE':'Plastic Type_PE', 'New Plastic Type_PET':'Plastic Type_PET', 'New Plastic Type_PP':'Plastic Type_PP',\r\n",
    "                         'New Plastic Type_PS':'Plastic Type_PS','New Plastic Type_PU':'Plastic Type_PU', 'New Plastic Type_PVC':'Plastic Type_PVC',\r\n",
    "                        'New Plastic Type_Plastic Mix':'Plastic Type_Plastic Mix', 'New Plastic Type_e-waste':'Plastic Type_e-waste' ,\r\n",
    "                        'Consolidated bitumen penetration grade_50/70':'Bitumen grade_50/70',\r\n",
    "                        'Consolidated bitumen penetration grade_70/100':'Bitumen grade_70/100',\r\n",
    "       }, inplace=True)"
   ],
   "outputs": [],
   "metadata": {}
  },
  {
   "cell_type": "code",
   "execution_count": 22,
   "source": [
    "#Graph employed for selecting important features during tunning\r\n",
    "XGBoostModel = XGBRegressor(random_state=123)\r\n",
    "XGBoostModel.fit(X_train2,y_train)\r\n",
    "ax = plot_importance(XGBoostModel, height=0.8, importance_type='weight', show_values=False, title=None, max_num_features = 20)\r\n",
    "fig = ax.figure\r\n",
    "plt.xlabel('Weight', fontsize=20)\r\n",
    "plt.ylabel('Features', fontsize=20)\r\n",
    "plt.title('(a)',fontsize= 22)\r\n",
    "fig.set_size_inches(8,8)"
   ],
   "outputs": [
    {
     "output_type": "display_data",
     "data": {
      "image/png": "[encoded data removed]",
      "text/plain": [
       "<Figure size 576x576 with 1 Axes>"
      ]
     },
     "metadata": {}
    }
   ],
   "metadata": {}
  },
  {
   "cell_type": "markdown",
   "source": [
    "## 6. Best Model Tunning"
   ],
   "metadata": {}
  },
  {
   "cell_type": "code",
   "execution_count": 23,
   "source": [
    "X_train, X_test, y_train, y_test = train_test_split(X, y, test_size=0.2, random_state=123)\r\n",
    "cv = RepeatedKFold(n_splits = 5, n_repeats = 15, random_state = 123)"
   ],
   "outputs": [],
   "metadata": {}
  },
  {
   "cell_type": "markdown",
   "source": [
    "### 6.1. Feature selection"
   ],
   "metadata": {}
  },
  {
   "cell_type": "code",
   "execution_count": 24,
   "source": [
    "features_MSE = {}\r\n",
    "def addMSE (columns, string):\r\n",
    "    cv_results = cross_validate(XGBRegressor(random_state = 123), X_train[columns], y_train, cv = cv, scoring = ['neg_mean_squared_error'])\r\n",
    "    MSE = np.average(-cv_results['test_neg_mean_squared_error'])\r\n",
    "    features_MSE[string] = MSE"
   ],
   "outputs": [],
   "metadata": {}
  },
  {
   "cell_type": "code",
   "execution_count": 25,
   "source": [
    "X_train.columns"
   ],
   "outputs": [
    {
     "output_type": "execute_result",
     "data": {
      "text/plain": [
       "Index(['Aggregate absorption (%)', '0.075', '0.3', '0.6', '2.36', '4.75',\n",
       "       '9.5', '12.5', '19', 'Plastic particle size (mm)', 'Mixing speed (RPM)',\n",
       "       'Mixing Temperature', 'Mixing Time (hours)',\n",
       "       'Bitumen content in the sample', 'New Plastic Type_PE',\n",
       "       'New Plastic Type_PET', 'New Plastic Type_PP', 'New Plastic Type_PS',\n",
       "       'New Plastic Type_Plastic Mix',\n",
       "       'Consolidated bitumen penetration grade_50/70',\n",
       "       'Consolidated bitumen penetration grade_70/100',\n",
       "       'Plastic pretreatment_Physical', 'Plastic pretreatment_Plastic Melted',\n",
       "       'Plastic shape_Fibers', 'Plastic shape_Pellets',\n",
       "       'Plastic shape_Shredded', 'Mixing Process_Dry', 'Mixing Process_Wet',\n",
       "       'Aggregates replacement ?_Yes', 'Bitumen replacement?_Yes'],\n",
       "      dtype='object')"
      ]
     },
     "metadata": {},
     "execution_count": 25
    }
   ],
   "metadata": {}
  },
  {
   "cell_type": "code",
   "execution_count": 26,
   "source": [
    "addMSE(['Plastic particle size (mm)'], \r\n",
    "'Plastic size')"
   ],
   "outputs": [],
   "metadata": {}
  },
  {
   "cell_type": "code",
   "execution_count": 27,
   "source": [
    "addMSE(['Plastic particle size (mm)',\r\n",
    "        'New Plastic Type_PE', 'New Plastic Type_PET', 'New Plastic Type_PP', 'New Plastic Type_PS',\r\n",
    "        'New Plastic Type_Plastic Mix'], \r\n",
    "'Plastic size \\n Plastic type')"
   ],
   "outputs": [],
   "metadata": {}
  },
  {
   "cell_type": "code",
   "execution_count": 28,
   "source": [
    "addMSE(['Plastic particle size (mm)',\r\n",
    "        'New Plastic Type_PE', 'New Plastic Type_PET', 'New Plastic Type_PP', 'New Plastic Type_PS',\r\n",
    "        'New Plastic Type_Plastic Mix',\r\n",
    "        'Aggregate absorption (%)'], \r\n",
    "'Plastic size \\n Plastic type \\n Aggregates abs.')"
   ],
   "outputs": [],
   "metadata": {}
  },
  {
   "cell_type": "code",
   "execution_count": 29,
   "source": [
    "addMSE(['Plastic particle size (mm)',\r\n",
    "        'New Plastic Type_PE', 'New Plastic Type_PET', 'New Plastic Type_PP', 'New Plastic Type_PS',\r\n",
    "        'New Plastic Type_Plastic Mix',\r\n",
    "        'Aggregate absorption (%)', '0.075', '0.3', '0.6', '2.36', '4.75','9.5', '12.5', '19'], \r\n",
    "'Plastic size \\n Plastic type \\n Aggregates abs. \\n Gradation')"
   ],
   "outputs": [],
   "metadata": {}
  },
  {
   "cell_type": "code",
   "execution_count": 30,
   "source": [
    "addMSE(['Plastic particle size (mm)',\r\n",
    "        'New Plastic Type_PE', 'New Plastic Type_PET', 'New Plastic Type_PP', 'New Plastic Type_PS',\r\n",
    "        'New Plastic Type_Plastic Mix',\r\n",
    "        'Aggregate absorption (%)', 'Bitumen content in the sample',\r\n",
    "        '0.075', '0.3', '0.6', '2.36', '4.75','9.5', '12.5', '19'], \r\n",
    "'Plastic size \\n Plastic type \\n Aggregates abs. \\n Gradation \\n Bitumen cont.')"
   ],
   "outputs": [],
   "metadata": {}
  },
  {
   "cell_type": "code",
   "execution_count": 31,
   "source": [
    "addMSE(['Plastic particle size (mm)',\r\n",
    "        'New Plastic Type_PE', 'New Plastic Type_PET', 'New Plastic Type_PP', 'New Plastic Type_PS',\r\n",
    "        'New Plastic Type_Plastic Mix',\r\n",
    "        'Aggregate absorption (%)', 'Bitumen content in the sample',\r\n",
    "        '0.075', '0.3', '0.6', '2.36', '4.75','9.5', '12.5', '19',\r\n",
    "        'Mixing speed (RPM)'], \r\n",
    "'Plastic size \\n Plastic type \\n Aggregates abs. \\n Bitumen cont. \\n Gradation \\n Mixing speed')"
   ],
   "outputs": [],
   "metadata": {}
  },
  {
   "cell_type": "code",
   "execution_count": 32,
   "source": [
    "addMSE(['Plastic particle size (mm)',\r\n",
    "        'New Plastic Type_PE', 'New Plastic Type_PET', 'New Plastic Type_PP', 'New Plastic Type_PS',\r\n",
    "        'New Plastic Type_Plastic Mix',\r\n",
    "        'Aggregate absorption (%)', 'Bitumen content in the sample',\r\n",
    "        '0.075', '0.3', '0.6', '2.36', '4.75','9.5', '12.5', '19',\r\n",
    "        'Mixing speed (RPM)',\r\n",
    "        'Aggregates replacement ?_Yes'], \r\n",
    "'Plastic size \\n Plastic type \\n Aggregates abs. \\n Bitumen cont. \\n Gradation \\n Mixing speed \\n Aggregates repl.')"
   ],
   "outputs": [],
   "metadata": {}
  },
  {
   "cell_type": "code",
   "execution_count": 33,
   "source": [
    "addMSE(['Plastic particle size (mm)',\r\n",
    "        'New Plastic Type_PE', 'New Plastic Type_PET', 'New Plastic Type_PP', 'New Plastic Type_PS',\r\n",
    "        'New Plastic Type_Plastic Mix',\r\n",
    "        'Aggregate absorption (%)', 'Bitumen content in the sample',\r\n",
    "        '0.075', '0.3', '0.6', '2.36', '4.75','9.5', '12.5', '19',\r\n",
    "        'Mixing speed (RPM)',\r\n",
    "        'Aggregates replacement ?_Yes',\r\n",
    "        'Mixing Process_Dry', 'Mixing Process_Wet'], \r\n",
    "'Plastic size \\n Plastic type \\n Aggregates abs. \\n Bitumen cont. \\n Gradation \\n Mixing speed \\n Aggregates repl. \\n Mixing type')"
   ],
   "outputs": [],
   "metadata": {}
  },
  {
   "cell_type": "code",
   "execution_count": 34,
   "source": [
    "addMSE(['Aggregate absorption (%)', '0.075', '0.3', '0.6', '2.36', '4.75',\r\n",
    "       '9.5', '12.5', '19', 'Plastic particle size (mm)', 'Mixing speed (RPM)',\r\n",
    "       'Mixing Temperature', 'Mixing Time (hours)',\r\n",
    "       'Bitumen content in the sample', 'New Plastic Type_PE',\r\n",
    "       'New Plastic Type_PET', 'New Plastic Type_PP', 'New Plastic Type_PS',\r\n",
    "       'New Plastic Type_Plastic Mix',\r\n",
    "       'Consolidated bitumen penetration grade_50/70',\r\n",
    "       'Consolidated bitumen penetration grade_70/100',\r\n",
    "       'Plastic pretreatment_Physical', 'Plastic pretreatment_Plastic Melted',\r\n",
    "       'Plastic shape_Fibers', 'Plastic shape_Pellets',\r\n",
    "       'Plastic shape_Shredded', 'Mixing Process_Dry', 'Mixing Process_Wet',\r\n",
    "       'Aggregates replacement ?_Yes', 'Bitumen replacement?_Yes'], \r\n",
    "    'All features')"
   ],
   "outputs": [],
   "metadata": {}
  },
  {
   "cell_type": "code",
   "execution_count": 36,
   "source": [
    "plt.rcParams[\"figure.figsize\"] = (20,5)\r\n",
    "plt.plot(features_MSE.keys(), features_MSE.values(), marker = '*') \r\n",
    "plt.ylim(ymin = 0)\r\n",
    "plt.axvline(x='Plastic size \\n Plastic type \\n Aggregates abs. \\n Bitumen cont. \\n Gradation \\n Mixing speed', ymin=0, ymax=1, color = 'k', ls = '--' , label='Selected model')\r\n",
    "plt.ylabel('MSE', fontsize=20)\r\n",
    "plt.xlabel('Features included in the model', fontsize=20)\r\n",
    "plt.xticks(fontsize= 13)\r\n",
    "plt.title('(b)', fontsize=22) \r\n",
    "plt.legend()\r\n",
    "plt.show()"
   ],
   "outputs": [
    {
     "output_type": "display_data",
     "data": {
      "image/png": "[encoded data removed]",
      "text/plain": [
       "<Figure size 1440x360 with 1 Axes>"
      ]
     },
     "metadata": {}
    }
   ],
   "metadata": {}
  },
  {
   "cell_type": "markdown",
   "source": [
    "The features most approppiate for the model are aggregates gradation, bitumen content, plastic type, plastic addition.\n",
    "### 6.2 Model Tunning"
   ],
   "metadata": {}
  },
  {
   "cell_type": "code",
   "execution_count": 14,
   "source": [
    "X_train = X_train[['Plastic particle size (mm)',\r\n",
    "        'New Plastic Type_PE', 'New Plastic Type_PET', 'New Plastic Type_PP', 'New Plastic Type_PS',\r\n",
    "        'New Plastic Type_Plastic Mix',\r\n",
    "        'Aggregate absorption (%)', 'Bitumen content in the sample',\r\n",
    "        '0.075', '0.3', '0.6', '2.36', '4.75','9.5', '12.5', '19',\r\n",
    "        'Mixing speed (RPM)']]\r\n",
    "X_test = X_test[['Plastic particle size (mm)',\r\n",
    "        'New Plastic Type_PE', 'New Plastic Type_PET', 'New Plastic Type_PP', 'New Plastic Type_PS',\r\n",
    "        'New Plastic Type_Plastic Mix',\r\n",
    "        'Aggregate absorption (%)', 'Bitumen content in the sample',\r\n",
    "        '0.075', '0.3', '0.6', '2.36', '4.75','9.5', '12.5', '19',\r\n",
    "        'Mixing speed (RPM)']]"
   ],
   "outputs": [],
   "metadata": {}
  },
  {
   "cell_type": "markdown",
   "source": [
    "### 6.3 Final model evaluation on test set"
   ],
   "metadata": {}
  },
  {
   "cell_type": "code",
   "execution_count": 15,
   "source": [
    "def modelEvaluation (model, Title):\r\n",
    "    min = dfITSCleanedImputed['ITS of the sample [Mpa]'].min()\r\n",
    "    max = dfITSCleanedImputed['ITS of the sample [Mpa]'].max()\r\n",
    "    #Model Fitting\r\n",
    "    model.fit(X_train, y_train)\r\n",
    "    predictions_test = model.predict(X_test)\r\n",
    "    #Model Evaluation\r\n",
    "    r2_test = r2_score(y_test, predictions_test)\r\n",
    "    mse_test = mean_squared_error(y_test, predictions_test)\r\n",
    "    rmse_test_unscaled = (math.sqrt(mse_test)*(max-min))+min\r\n",
    "    plt.figure(figsize=(7,7))\r\n",
    "    #Model Plotting\r\n",
    "    plt.scatter(y_test, predictions_test, c='crimson')\r\n",
    "    plt.plot([(1,1), (0,0)], [(1,1), (0,0)], 'b-')\r\n",
    "    plt.xlabel('True Values', fontsize=15)\r\n",
    "    plt.xlim (0.1,1)\r\n",
    "    plt.ylim (0.1,1)\r\n",
    "    plt.ylabel('Predictions - ' + Title, fontsize=18)\r\n",
    "    plt.annotate('R2 = '+str(round(r2_test,3)), xy = (0.6,0.3), fontweight = 'bold', fontsize = 'xx-large')\r\n",
    "    plt.annotate('RMSE = '+str(round(rmse_test_unscaled,3)), xy = (0.6,0.25), fontweight = 'bold', fontsize = 'xx-large')\r\n",
    "    plt.show()\r\n",
    "    return predictions_test"
   ],
   "outputs": [],
   "metadata": {}
  },
  {
   "cell_type": "code",
   "execution_count": 16,
   "source": [
    "XGModel = XGBRegressor(random_state = 123)\r\n",
    "prediction_XGModel = modelEvaluation(XGModel, 'XGModel')"
   ],
   "outputs": [
    {
     "output_type": "display_data",
     "data": {
      "image/png": "[encoded data removed]",
      "text/plain": [
       "<Figure size 504x504 with 1 Axes>"
      ]
     },
     "metadata": {
      "needs_background": "light"
     }
    }
   ],
   "metadata": {}
  },
  {
   "cell_type": "code",
   "execution_count": null,
   "source": [
    "XGModel.get_params"
   ],
   "outputs": [],
   "metadata": {}
  },
  {
   "cell_type": "code",
   "execution_count": 17,
   "source": [
    "extraTreeModel = ExtraTreesRegressor(n_estimators=400, min_samples_split=5,min_samples_leaf=2, max_features='auto', max_depth=100,bootstrap=False, random_state=123)\r\n",
    "prediction_ExtraTrees = modelEvaluation(extraTreeModel, 'Extra Trees model')"
   ],
   "outputs": [
    {
     "output_type": "display_data",
     "data": {
      "image/png": "[encoded data removed]",
      "text/plain": [
       "<Figure size 504x504 with 1 Axes>"
      ]
     },
     "metadata": {
      "needs_background": "light"
     }
    }
   ],
   "metadata": {}
  },
  {
   "cell_type": "code",
   "execution_count": 18,
   "source": [
    "RFModel = RandomForestRegressor(n_estimators=2000,min_samples_split=2, min_samples_leaf=1, max_features='sqrt', max_depth=10, bootstrap=False, random_state=123)\r\n",
    "prediction_RandomForest = modelEvaluation(RFModel, 'Random Forest Model')"
   ],
   "outputs": [
    {
     "output_type": "display_data",
     "data": {
      "image/png": "[encoded data removed]",
      "text/plain": [
       "<Figure size 504x504 with 1 Axes>"
      ]
     },
     "metadata": {
      "needs_background": "light"
     }
    }
   ],
   "metadata": {}
  },
  {
   "cell_type": "markdown",
   "source": [
    "## 6.3 ANOVA Analysis"
   ],
   "metadata": {}
  },
  {
   "cell_type": "code",
   "execution_count": 21,
   "source": [
    "df_predictions = y_test.to_frame(name='real_Y')\r\n",
    "df_predictions['XGModel_predictions'] = prediction_XGModel\r\n",
    "df_predictions['ExtraTrees_predictions'] = prediction_ExtraTrees\r\n",
    "df_predictions['RandomForest_predictions'] = prediction_RandomForest\r\n",
    "def normalityTest (model, data, alpha=0.05):\r\n",
    "    k2, p = stats.normaltest(data)\r\n",
    "    if p > alpha:\r\n",
    "        print ('The ' + model + ' is probably Gaussian. p-value = ' + str(p))\r\n",
    "    else:\r\n",
    "        print ('The ' + model +' is not probably Gaussian. p-value = '+ str(p))"
   ],
   "outputs": [],
   "metadata": {}
  },
  {
   "cell_type": "code",
   "execution_count": null,
   "source": [
    "normalityTest(data = df_predictions['real_Y'], model = 'real values')\r\n",
    "normalityTest(data = df_predictions['RandomForest_predictions'], model = 'Random Forest')\r\n",
    "normalityTest(data = df_predictions['XGModel_predictions'], model = 'XG model')\r\n",
    "normalityTest(data = df_predictions['ExtraTrees_predictions'], model = 'Extra trees')"
   ],
   "outputs": [],
   "metadata": {}
  },
  {
   "cell_type": "markdown",
   "source": [
    "### Variance homogeneity (Bartlett's test) "
   ],
   "metadata": {}
  },
  {
   "cell_type": "code",
   "execution_count": null,
   "source": [
    "stal, p = stats.bartlett(df_predictions['real_Y'], df_predictions['RandomForest_predictions'], df_predictions['XGModel_predictions'], df_predictions['ExtraTrees_predictions'])\r\n",
    "if p > 0.05:\r\n",
    "    print('There is not sufficient evidence to say that the variance of the real values and the predictors are differents. The p-value is ' + str(p))\r\n",
    "else:\r\n",
    "    print('There is non-homogeneity in the variance. The p-value is ' + str(p))"
   ],
   "outputs": [],
   "metadata": {}
  },
  {
   "cell_type": "code",
   "execution_count": null,
   "source": [
    "stats.f_oneway(df_predictions['real_Y'],\r\n",
    "               df_predictions['RandomForest_predictions'],\r\n",
    "               df_predictions['XGModel_predictions'],\r\n",
    "               df_predictions['ExtraTrees_predictions'])"
   ],
   "outputs": [],
   "metadata": {}
  },
  {
   "cell_type": "markdown",
   "source": [
    "There is not statistical differences between the predicted values by the three models and the observed values"
   ],
   "metadata": {}
  },
  {
   "cell_type": "markdown",
   "source": [
    "## 6.4 Goodness of fit Analysis"
   ],
   "metadata": {}
  },
  {
   "cell_type": "code",
   "execution_count": null,
   "source": [
    "def evaluateGOF (y_real, model_predictions, Model, alpha = 0.05):\r\n",
    "    stat, p_value  = stats.ks_2samp(y_real, model_predictions, alternative='two-sided')\r\n",
    "    if p_value > 0.05:\r\n",
    "        print ('The real values and the predictions of '+Model+' come from the same distribution according to the Kolmogorov-Smirnov test. The p-value is '+str(p_value))\r\n",
    "    else:\r\n",
    "        print ('The real values and the predictions of '+Model+'DO NOT come from the same distribution. The p-value is '+str(p_value))"
   ],
   "outputs": [],
   "metadata": {}
  },
  {
   "cell_type": "code",
   "execution_count": null,
   "source": [
    "evaluateGOF(y_real=df_predictions['real_Y'], model_predictions=df_predictions['RandomForest_predictions'], Model = 'Random Forest')\r\n",
    "evaluateGOF(y_real=df_predictions['real_Y'], model_predictions=df_predictions['XGModel_predictions'], Model = 'Boosted Tree')\r\n",
    "evaluateGOF(y_real=df_predictions['real_Y'], model_predictions=df_predictions['ExtraTrees_predictions'], Model = 'Extra treees')"
   ],
   "outputs": [],
   "metadata": {}
  },
  {
   "cell_type": "code",
   "execution_count": 23,
   "source": [
    "df_predictions.to_clipboard()"
   ],
   "outputs": [],
   "metadata": {}
  },
  {
   "cell_type": "code",
   "execution_count": 30,
   "source": [
    "X_test.loc[[24]]"
   ],
   "outputs": [
    {
     "output_type": "execute_result",
     "data": {
      "text/html": [
       "<div>\n",
       "<style scoped>\n",
       "    .dataframe tbody tr th:only-of-type {\n",
       "        vertical-align: middle;\n",
       "    }\n",
       "\n",
       "    .dataframe tbody tr th {\n",
       "        vertical-align: top;\n",
       "    }\n",
       "\n",
       "    .dataframe thead th {\n",
       "        text-align: right;\n",
       "    }\n",
       "</style>\n",
       "<table border=\"1\" class=\"dataframe\">\n",
       "  <thead>\n",
       "    <tr style=\"text-align: right;\">\n",
       "      <th></th>\n",
       "      <th>Plastic particle size (mm)</th>\n",
       "      <th>New Plastic Type_PE</th>\n",
       "      <th>New Plastic Type_PET</th>\n",
       "      <th>New Plastic Type_PP</th>\n",
       "      <th>New Plastic Type_PS</th>\n",
       "      <th>New Plastic Type_Plastic Mix</th>\n",
       "      <th>Aggregate absorption (%)</th>\n",
       "      <th>Bitumen content in the sample</th>\n",
       "      <th>0.075</th>\n",
       "      <th>0.3</th>\n",
       "      <th>0.6</th>\n",
       "      <th>2.36</th>\n",
       "      <th>4.75</th>\n",
       "      <th>9.5</th>\n",
       "      <th>12.5</th>\n",
       "      <th>19</th>\n",
       "      <th>Mixing speed (RPM)</th>\n",
       "    </tr>\n",
       "  </thead>\n",
       "  <tbody>\n",
       "    <tr>\n",
       "      <th>24</th>\n",
       "      <td>0.05048</td>\n",
       "      <td>0.1</td>\n",
       "      <td>0.0</td>\n",
       "      <td>0.0</td>\n",
       "      <td>0.0</td>\n",
       "      <td>0.0</td>\n",
       "      <td>0.430769</td>\n",
       "      <td>0.505837</td>\n",
       "      <td>0.442623</td>\n",
       "      <td>0.40678</td>\n",
       "      <td>0.448264</td>\n",
       "      <td>0.67725</td>\n",
       "      <td>0.700827</td>\n",
       "      <td>0.284666</td>\n",
       "      <td>0.272255</td>\n",
       "      <td>1.0</td>\n",
       "      <td>0.0</td>\n",
       "    </tr>\n",
       "  </tbody>\n",
       "</table>\n",
       "</div>"
      ],
      "text/plain": [
       "    Plastic particle size (mm)  New Plastic Type_PE  New Plastic Type_PET  \\\n",
       "24                     0.05048                  0.1                   0.0   \n",
       "\n",
       "    New Plastic Type_PP  New Plastic Type_PS  New Plastic Type_Plastic Mix  \\\n",
       "24                  0.0                  0.0                           0.0   \n",
       "\n",
       "    Aggregate absorption (%)  Bitumen content in the sample     0.075  \\\n",
       "24                  0.430769                       0.505837  0.442623   \n",
       "\n",
       "        0.3       0.6     2.36      4.75       9.5      12.5   19  \\\n",
       "24  0.40678  0.448264  0.67725  0.700827  0.284666  0.272255  1.0   \n",
       "\n",
       "    Mixing speed (RPM)  \n",
       "24                 0.0  "
      ]
     },
     "metadata": {},
     "execution_count": 30
    }
   ],
   "metadata": {}
  },
  {
   "cell_type": "code",
   "execution_count": null,
   "source": [],
   "outputs": [],
   "metadata": {}
  }
 ]
}