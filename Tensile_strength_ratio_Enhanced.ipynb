{
 "cells": [
  {
   "cell_type": "markdown",
   "metadata": {},
   "source": [
    "# Tensile Strength Ratio"
   ]
  },
  {
   "cell_type": "code",
   "execution_count": 1,
   "metadata": {},
   "outputs": [],
   "source": [
    "#%% IMPORTS\n",
    "#BASICS\n",
    "import pandas as pd\n",
    "import numpy as np\n",
    "import math\n",
    "import matplotlib.pyplot as plt\n",
    "import seaborn as sns\n",
    "from numpy import absolute\n",
    "from pandas.plotting import scatter_matrix\n",
    "from sklearn.pipeline import make_pipeline\n",
    "from IPython.display import display, Markdown, Latex\n",
    "pd.options.display.max_columns = None\n",
    "\n",
    "#STATISTICS\n",
    "from scipy.stats import normaltest\n",
    "from scipy import stats\n",
    "\n",
    "#ML TRAINING AND DATA PREPROCESSING\n",
    "from sklearn.model_selection import train_test_split\n",
    "from sklearn.preprocessing import MinMaxScaler\n",
    "from sklearn.experimental import enable_iterative_imputer\n",
    "from sklearn.impute import IterativeImputer\n",
    "from sklearn.preprocessing import PolynomialFeatures\n",
    "\n",
    "#ML MODELS\n",
    "from sklearn.tree import DecisionTreeRegressor\n",
    "from sklearn.linear_model import BayesianRidge\n",
    "from sklearn.ensemble import ExtraTreesRegressor\n",
    "from sklearn.linear_model import LinearRegression\n",
    "from sklearn.linear_model import Ridge\n",
    "from sklearn.linear_model import SGDRegressor\n",
    "from sklearn.linear_model import Lasso\n",
    "from sklearn.linear_model import ElasticNet\n",
    "from sklearn.svm import SVR\n",
    "from sklearn.tree import DecisionTreeRegressor\n",
    "from sklearn.ensemble import RandomForestRegressor\n",
    "from sklearn.ensemble import ExtraTreesRegressor\n",
    "from xgboost import XGBRegressor\n",
    "import xgboost as xgb\n",
    "from xgboost import plot_importance\n",
    "\n",
    "#MODEL EVALUATION\n",
    "from sklearn.model_selection import cross_validate\n",
    "from sklearn.model_selection import cross_val_score\n",
    "from sklearn.model_selection import GridSearchCV \n",
    "from sklearn.model_selection import RandomizedSearchCV\n",
    "from sklearn.model_selection import RepeatedKFold\n",
    "\n",
    "#METRICS\n",
    "from sklearn.metrics import r2_score\n",
    "from sklearn.metrics import mean_absolute_error\n",
    "from sklearn.metrics import mean_squared_error"
   ]
  },
  {
   "cell_type": "markdown",
   "metadata": {},
   "source": [
    "## 1. Methods"
   ]
  },
  {
   "cell_type": "code",
   "execution_count": 2,
   "metadata": {},
   "outputs": [],
   "source": [
    "#Eliminate Outliers based on the interquantile\n",
    "#datFrame: Data frame where the outliers will be eliminated.\n",
    "#columnName: the name of the column where the outliers will be identified.\n",
    "def eliminateOutliers (dataFrame, columnName):\n",
    "    Q1 = dataFrame[columnName].quantile(0.25)\n",
    "    Q3 = dataFrame[columnName].quantile(0.75)\n",
    "    IQR = Q3 - Q1\n",
    "    print('Initial dataframe size: '+str(dataFrame.shape))\n",
    "    dataFrame = dataFrame[(dataFrame[columnName] < (Q3 + 1.5 * IQR)) & (dataFrame[columnName] > (Q1 - 1.5 * IQR))]\n",
    "    print('Final dataframe size: '+str(dataFrame.shape))\n",
    "    return dataFrame"
   ]
  },
  {
   "cell_type": "code",
   "execution_count": 3,
   "metadata": {},
   "outputs": [],
   "source": [
    "# Create the boxplot graphs for the categorical variables\n",
    "# dataFrame: Data frame associated to the property of interest (dfAirVoids, dfMS, dfMF, dfITS, dfTSR)\n",
    "# propertyOfInterest: the name of the column where the property of interest is located.\n",
    "# columnName1...4: The categorical columns to evaluate.\n",
    "def displayBoxPlotGraphs (dataFrame, propertyOfInterest, columnName1, columnName2, columnName3, columnName4):\n",
    "    f, ((ax1, ax2), (ax3, ax4)) = plt.subplots(2, 2, figsize=(15,10))\n",
    "    sns.boxplot(y = propertyOfInterest, x = columnName1, data=dataFrame,  orient='v' , ax=ax1)\n",
    "    sns.boxplot(y = propertyOfInterest, x = columnName2, data=dataFrame,  orient='v' , ax=ax2)\n",
    "    sns.boxplot(y = propertyOfInterest, x= columnName3, data=dataFrame,  orient='v' , ax=ax3)\n",
    "    sns.boxplot(y= propertyOfInterest, x= columnName4, data=dataFrame,  orient='v' , ax=ax4)"
   ]
  },
  {
   "cell_type": "markdown",
   "metadata": {},
   "source": [
    "## 2. Data Import"
   ]
  },
  {
   "cell_type": "code",
   "execution_count": 4,
   "metadata": {},
   "outputs": [],
   "source": [
    "#%%DATA READING AND INITIAL PREPROCESSING\n",
    "numericColumns = ['Aggregate absorption (%)',\n",
    "                  'Apparent specific gravity',\n",
    "                    0.075,\n",
    "                    0.3,\n",
    "                    0.6,\n",
    "                    2.36,\n",
    "                    4.75,\n",
    "                    9.5,\n",
    "                    12.5,\n",
    "                    19,\n",
    "                    'Plastic particle size (mm)',\n",
    "                    'Mixing speed (RPM)',\n",
    "                    'Mixing Temperature',\n",
    "                    'Mixing Time (hours)',\n",
    "                    'Plastic Addition by bitumen weight (%)',\n",
    "                    'Bitumen content in the sample'\n",
    "                    ]\n",
    "categoricalColumns = ['Modified asphalt Mix?',\n",
    "                      'Agreggate Type',\n",
    "                    'Aggregate absorption (%)',\n",
    "                    'Filler used',\n",
    "                    'Consolidated bitumen penetration grade',\n",
    "                    'New Plastic Type',\n",
    "                    'Plastic pretreatment',\n",
    "                    'Plastic shape',\n",
    "                    'Plastic Size',\n",
    "                    'Mixing Process',\n",
    "                    'Plastic melted previous to addition?',\n",
    "                    'Aggregates replacement ?',\n",
    "                    'Bitumen replacement?',\n",
    "                    'Filler replacement',\n",
    "                    'Property',\n",
    "                    'Units']\n",
    "#It returns the dataframe of interes based on the property - 'AirVoids', 'MS', 'MF', 'ITS', 'TSR'\n",
    "def returnDf (propertyOfInterest):\n",
    "    df = pd.read_excel('fileML.xlsx', sheet_name = propertyOfInterest, engine='openpyxl')\n",
    "    df = df.set_index(propertyOfInterest + ' ID')\n",
    "    df.loc[:,:'Units'] = df.loc[:,:'Units'].applymap(str)\n",
    "    df.loc[:,:'Units'] = df.loc[:,:'Units'] .applymap(str.strip)\n",
    "    df.replace('NS', np.nan, inplace = True)\n",
    "    df[numericColumns] = df[numericColumns].replace('N/a', 0).astype(float)\n",
    "    return df"
   ]
  },
  {
   "cell_type": "code",
   "execution_count": null,
   "metadata": {},
   "outputs": [],
   "source": [
    "dfTSR = returnDf('TSR')"
   ]
  },
  {
   "cell_type": "markdown",
   "metadata": {},
   "source": [
    "## 3. Data Exploration\n",
    "###  3.1 Total Sample"
   ]
  },
  {
   "cell_type": "code",
   "execution_count": null,
   "metadata": {},
   "outputs": [],
   "source": [
    "dfTSR = eliminateOutliers(dfTSR, 'TSR of the sample[%]')"
   ]
  },
  {
   "cell_type": "code",
   "execution_count": null,
   "metadata": {},
   "outputs": [],
   "source": [
    "scatter_matrix(dfTSR[['Aggregate absorption (%)', 'Apparent specific gravity', 'Bitumen content in the sample', 'TSR of the sample[%]']], figsize=(10, 10))\n",
    "plt.show()"
   ]
  },
  {
   "cell_type": "code",
   "execution_count": null,
   "metadata": {},
   "outputs": [],
   "source": [
    "plt.figure(figsize=(16, 6))\n",
    "heatmap = sns.heatmap(dfTSR.corr(), vmin=-1, vmax=1, annot=True)\n",
    "heatmap.set_title('Correlation Heatmap TSR', fontdict={'fontsize':12}, pad=12)"
   ]
  },
  {
   "cell_type": "markdown",
   "metadata": {},
   "source": [
    "Positive correlation with $\\color{red}{\\text{gradiation}}$ and negative with $\\color{red}{\\text{Aggregate absorption}}$."
   ]
  },
  {
   "cell_type": "code",
   "execution_count": null,
   "metadata": {},
   "outputs": [],
   "source": [
    "displayBoxPlotGraphs(dataFrame = dfTSR, propertyOfInterest = 'TSR of the sample[%]', columnName1 = \"Agreggate Type\", columnName2 = \"Filler used\", columnName3 = \"Consolidated bitumen penetration grade\", columnName4 = \"Modified asphalt Mix?\")"
   ]
  },
  {
   "cell_type": "markdown",
   "metadata": {},
   "source": [
    "It exists an strong difference between modified and unmodified asphalt mixture.\n",
    "\n",
    "###  3.2 Modified mixtures"
   ]
  },
  {
   "cell_type": "code",
   "execution_count": null,
   "metadata": {},
   "outputs": [],
   "source": [
    "dfTSRModvsUnmod = dfTSR [['Modified asphalt Mix?', 'TSR of the sample[%]']]\n",
    "dfTSRModvsUnmod.groupby(['Modified asphalt Mix?'], as_index=False).describe()"
   ]
  },
  {
   "cell_type": "code",
   "execution_count": null,
   "metadata": {},
   "outputs": [],
   "source": [
    "dfTSRModified = dfTSR[dfTSR['Modified asphalt Mix?'] == 'Yes']\n",
    "dfTSRModified.iloc[:,2:].describe(include = \"all\")"
   ]
  },
  {
   "cell_type": "code",
   "execution_count": null,
   "metadata": {},
   "outputs": [],
   "source": [
    "columnsOfInteres = numericColumns[0:2]+numericColumns[10:]+['TSR of the sample[%]']\n",
    "scatter_matrix(dfTSRModified[columnsOfInteres], figsize=(25, 20))\n",
    "plt.show()"
   ]
  },
  {
   "cell_type": "code",
   "execution_count": null,
   "metadata": {},
   "outputs": [],
   "source": [
    "plt.figure(figsize=(16, 6))\n",
    "heatmap = sns.heatmap(dfTSRModified.corr(), vmin=-1, vmax=1, annot=True)\n",
    "heatmap.set_title('Correlation Heatmap TSR', fontdict={'fontsize':12}, pad=12)"
   ]
  },
  {
   "cell_type": "code",
   "execution_count": null,
   "metadata": {},
   "outputs": [],
   "source": [
    "displayBoxPlotGraphs(dataFrame = dfTSRModified, propertyOfInterest = \"TSR of the sample[%]\", columnName1 = \"Agreggate Type\", columnName2 = \"Plastic shape\", columnName3 = \"New Plastic Type\", columnName4 = \"Mixing Process\")"
   ]
  },
  {
   "cell_type": "markdown",
   "metadata": {},
   "source": [
    "The large correlation is with $\\color{red}{\\text{plastic addition quantity}}$, and it exists a significant difference between $\\color{red}{\\text{wet}}$ and $\\color{red}{\\text{dry}}$ mixing.\n",
    "\n",
    "### 3.3 Wet vs. Dry Mixing"
   ]
  },
  {
   "cell_type": "code",
   "execution_count": null,
   "metadata": {},
   "outputs": [],
   "source": [
    "dfTSRWetvsDry = dfTSRModified [['Mixing Process', 'TSR of the sample[%]']]\n",
    "dfTSRWetvsDry.groupby(['Mixing Process'], as_index=False).describe()"
   ]
  },
  {
   "cell_type": "code",
   "execution_count": null,
   "metadata": {},
   "outputs": [],
   "source": [
    "sns.pairplot(dfTSRModified[columnsOfInteres+['Mixing Process']], hue=\"Mixing Process\", height=2.5)"
   ]
  },
  {
   "cell_type": "markdown",
   "metadata": {},
   "source": [
    "##  **TSR summary:**\n",
    "\n",
    " *  1 outliers were eliminated from the original sample.\n",
    " *  Total number of observation: 146 -> $\\mu$ = 84, $\\sigma$ = 10.31.\n",
    " *  Highest positive correlation with $\\color{red}{\\text{gradation}}$, and it exists a negative correlation with $\\color{red}{\\text{aggregate absorptionn}}$ (r = -0.18)\n",
    " *  Some difference between the modified and unmodified mixtures -> $\\mu_{modified}$ = 86.48,  $\\mu_{unmodified}$ = 77.65.\n",
    " *  Modified mixtures present positive correlation with $\\color{red}{\\text{plastic addition}}$ (r = 0.26).\n",
    " *  Possible difference between dry and wet.  Dry ($\\mu_{dry}$ = 88, $\\sigma_{dry}$ = 8.9) vs. wet ($\\mu_{wet}$ = 83.7, $\\sigma_{wet}$ = 8.3) -> This is not conclusive because the variance of both sample groups is large.\n",
    "\n",
    "## 4. Data Pre-processing"
   ]
  },
  {
   "cell_type": "code",
   "execution_count": null,
   "metadata": {},
   "outputs": [],
   "source": [
    "dfTSR.info()"
   ]
  },
  {
   "cell_type": "markdown",
   "metadata": {},
   "source": [
    "###  Pre-processing:\n",
    "1.  Eliminate the columns $\\color{red}{\\text{Article ID}}$, $\\color{red}{\\text{Global ID}}$, $\\color{red}{\\text{Aggregate type}}$, $\\color{red}{\\text{Apparent specific gravity}}$, $\\color{red}{\\text{filler used}}$, $\\color{red}{\\text{Bitumen type penetration grade}}$, $\\color{red}{\\text{plastic size}}$, $\\color{red}{\\text{Property}}$ and $\\color{red}{\\text{Units}}$.\n",
    "2.  Change the N/a to zero. This is for the unmodified mixtures.\n",
    "4.  Change categorical columns to numeric - $\\color{red}{\\text{Modified asphalt Mix?}}$, $\\color{red}{\\text{Consolidated bitumen penetration grade}}$, $\\color{red}{\\text{New Plastic Type}}$, $\\color{red}{\\text{Plastic pretreatment}}$, $\\color{red}{\\text{Plastic shape}}$, $\\color{red}{\\text{Mixing Process}}$, $\\color{red}{\\text{Plastic melted previous to addition?}}$, $\\color{red}{\\text{Replacements}}$.\n",
    "5.  Imputer to $\\color{red}{\\text{Aggregate absorption}}$, $\\color{red}{\\text{gradations}}$, $\\color{red}{\\text{plastic size(mm)}}$, $\\color{red}{\\text{mixing parameters}}$ and $\\color{red}{\\text{Bitumen content in the sample}}$."
   ]
  },
  {
   "cell_type": "code",
   "execution_count": 35,
   "metadata": {},
   "outputs": [
    {
     "name": "stdout",
     "output_type": "stream",
     "text": [
      "<class 'pandas.core.frame.DataFrame'>\n",
      "Int64Index: 146 entries, 35 to 16\n",
      "Data columns (total 32 columns):\n",
      " #   Column                                         Non-Null Count  Dtype  \n",
      "---  ------                                         --------------  -----  \n",
      " 0   Aggregate absorption (%)                       108 non-null    float64\n",
      " 1   0.075                                          139 non-null    float64\n",
      " 2   0.3                                            139 non-null    float64\n",
      " 3   0.6                                            143 non-null    float64\n",
      " 4   2.36                                           143 non-null    float64\n",
      " 5   4.75                                           143 non-null    float64\n",
      " 6   9.5                                            143 non-null    float64\n",
      " 7   12.5                                           143 non-null    float64\n",
      " 8   19                                             143 non-null    float64\n",
      " 9   Plastic particle size (mm)                     113 non-null    float64\n",
      " 10  Mixing speed (RPM)                             134 non-null    float64\n",
      " 11  Mixing Temperature                             146 non-null    float64\n",
      " 12  Mixing Time (hours)                            133 non-null    float64\n",
      " 13  Plastic Addition by bitumen weight (%)         146 non-null    float64\n",
      " 14  Bitumen content in the sample                  121 non-null    float64\n",
      " 15  TSR of the sample[%]                           146 non-null    float64\n",
      " 16  New Plastic Type_PE                            146 non-null    uint8  \n",
      " 17  New Plastic Type_PET                           146 non-null    uint8  \n",
      " 18  New Plastic Type_PP                            146 non-null    uint8  \n",
      " 19  New Plastic Type_PS                            146 non-null    uint8  \n",
      " 20  New Plastic Type_Plastic Mix                   146 non-null    uint8  \n",
      " 21  Consolidated bitumen penetration grade_50/70   146 non-null    uint8  \n",
      " 22  Consolidated bitumen penetration grade_70/100  146 non-null    uint8  \n",
      " 23  Plastic pretreatment_Physical                  146 non-null    uint8  \n",
      " 24  Plastic pretreatment_Plastic Melted            146 non-null    uint8  \n",
      " 25  Plastic shape_Fibers                           146 non-null    uint8  \n",
      " 26  Plastic shape_Pellets                          146 non-null    uint8  \n",
      " 27  Plastic shape_Shredded                         146 non-null    uint8  \n",
      " 28  Mixing Process_Dry                             146 non-null    uint8  \n",
      " 29  Mixing Process_Wet                             146 non-null    uint8  \n",
      " 30  Aggregates replacement ?_Yes                   146 non-null    uint8  \n",
      " 31  Bitumen replacement?_Yes                       146 non-null    uint8  \n",
      "dtypes: float64(16), uint8(16)\n",
      "memory usage: 21.7 KB\n"
     ]
    }
   ],
   "source": [
    "dfTSRCleaned = dfTSR.drop(['Article ID', \n",
    "                        'Global ID',\n",
    "                        'Modified asphalt Mix?',\n",
    "                        'Agreggate Type', \n",
    "                        'Apparent specific gravity', \n",
    "                        'Filler used', \n",
    "                        'Bitumen Type Penetration Grade',\n",
    "                        'Plastic Size', \n",
    "                        'Property', \n",
    "                        'Units'], axis = 1)\n",
    "dfTSRCleaned = dfTSRCleaned.replace('N/a', 0)\n",
    "dfTSRCleaned = pd.get_dummies(dfTSRCleaned, columns=['New Plastic Type'], drop_first = False)\n",
    "dfTSRCleaned = pd.get_dummies(dfTSRCleaned, drop_first=True)\n",
    "dfTSRCleaned = dfTSRCleaned.drop(['New Plastic Type_0'], axis = 1)\n",
    "dfTSRCleaned.info()"
   ]
  },
  {
   "cell_type": "code",
   "execution_count": 36,
   "metadata": {},
   "outputs": [
    {
     "name": "stdout",
     "output_type": "stream",
     "text": [
      "<class 'pandas.core.frame.DataFrame'>\n",
      "RangeIndex: 146 entries, 0 to 145\n",
      "Data columns (total 32 columns):\n",
      " #   Column                                         Non-Null Count  Dtype  \n",
      "---  ------                                         --------------  -----  \n",
      " 0   Aggregate absorption (%)                       146 non-null    float64\n",
      " 1   0.075                                          146 non-null    float64\n",
      " 2   0.3                                            146 non-null    float64\n",
      " 3   0.6                                            146 non-null    float64\n",
      " 4   2.36                                           146 non-null    float64\n",
      " 5   4.75                                           146 non-null    float64\n",
      " 6   9.5                                            146 non-null    float64\n",
      " 7   12.5                                           146 non-null    float64\n",
      " 8   19                                             146 non-null    float64\n",
      " 9   Plastic particle size (mm)                     146 non-null    float64\n",
      " 10  Mixing speed (RPM)                             146 non-null    float64\n",
      " 11  Mixing Temperature                             146 non-null    float64\n",
      " 12  Mixing Time (hours)                            146 non-null    float64\n",
      " 13  Plastic Addition by bitumen weight (%)         146 non-null    float64\n",
      " 14  Bitumen content in the sample                  146 non-null    float64\n",
      " 15  TSR of the sample[%]                           146 non-null    float64\n",
      " 16  New Plastic Type_PE                            146 non-null    float64\n",
      " 17  New Plastic Type_PET                           146 non-null    float64\n",
      " 18  New Plastic Type_PP                            146 non-null    float64\n",
      " 19  New Plastic Type_PS                            146 non-null    float64\n",
      " 20  New Plastic Type_Plastic Mix                   146 non-null    float64\n",
      " 21  Consolidated bitumen penetration grade_50/70   146 non-null    float64\n",
      " 22  Consolidated bitumen penetration grade_70/100  146 non-null    float64\n",
      " 23  Plastic pretreatment_Physical                  146 non-null    float64\n",
      " 24  Plastic pretreatment_Plastic Melted            146 non-null    float64\n",
      " 25  Plastic shape_Fibers                           146 non-null    float64\n",
      " 26  Plastic shape_Pellets                          146 non-null    float64\n",
      " 27  Plastic shape_Shredded                         146 non-null    float64\n",
      " 28  Mixing Process_Dry                             146 non-null    float64\n",
      " 29  Mixing Process_Wet                             146 non-null    float64\n",
      " 30  Aggregates replacement ?_Yes                   146 non-null    float64\n",
      " 31  Bitumen replacement?_Yes                       146 non-null    float64\n",
      "dtypes: float64(32)\n",
      "memory usage: 36.6 KB\n",
      "There is 0 negative values in the new Dataframe\n"
     ]
    }
   ],
   "source": [
    "#IMPUTATION OF MISSING VALUES\n",
    "imputer = IterativeImputer (estimator = ExtraTreesRegressor(n_estimators=10, random_state=0), max_iter=100)\n",
    "n = imputer.fit_transform(dfTSRCleaned)\n",
    "dfTSRCleanedImputed = pd.DataFrame(n, columns = list(dfTSRCleaned.columns))\n",
    "dfTSRCleanedImputed.info()\n",
    "print ('There is '+str(sum(n < 0 for n in dfTSRCleanedImputed.values.flatten()))+' negative values in the new Dataframe')"
   ]
  },
  {
   "cell_type": "code",
   "execution_count": 37,
   "metadata": {},
   "outputs": [],
   "source": [
    "dfTSRCleanedImputed['New Plastic Type_PE'] = dfTSRCleanedImputed['New Plastic Type_PE'] * dfTSRCleanedImputed['Plastic Addition by bitumen weight (%)']\n",
    "dfTSRCleanedImputed['New Plastic Type_PET'] = dfTSRCleanedImputed['New Plastic Type_PET'] * dfTSRCleanedImputed['Plastic Addition by bitumen weight (%)']\n",
    "dfTSRCleanedImputed['New Plastic Type_PP'] = dfTSRCleanedImputed['New Plastic Type_PP'] * dfTSRCleanedImputed['Plastic Addition by bitumen weight (%)']\n",
    "dfTSRCleanedImputed['New Plastic Type_PS'] = dfTSRCleanedImputed['New Plastic Type_PS'] * dfTSRCleanedImputed['Plastic Addition by bitumen weight (%)']\n",
    "dfTSRCleanedImputed['New Plastic Type_Plastic Mix'] = dfTSRCleanedImputed['New Plastic Type_Plastic Mix'] * dfTSRCleanedImputed['Plastic Addition by bitumen weight (%)']\n",
    "dfTSRCleanedImputed = dfTSRCleanedImputed.drop(['Plastic Addition by bitumen weight (%)'], axis = 1)"
   ]
  },
  {
   "cell_type": "code",
   "execution_count": 38,
   "metadata": {},
   "outputs": [],
   "source": [
    "scaler = MinMaxScaler()\n",
    "dfTSRCleanedImputedScaled = pd.DataFrame(scaler.fit_transform(dfTSRCleanedImputed), columns = list(dfTSRCleanedImputed.columns))\n",
    "dfTSRCleanedImputedScaled.to_clipboard()"
   ]
  },
  {
   "cell_type": "markdown",
   "metadata": {},
   "source": [
    "## 5. Model Training"
   ]
  },
  {
   "cell_type": "code",
   "execution_count": 39,
   "metadata": {},
   "outputs": [
    {
     "name": "stdout",
     "output_type": "stream",
     "text": [
      "The min value is: 62.1. The max value is: 109.65\n"
     ]
    }
   ],
   "source": [
    "min = dfTSRCleanedImputed['TSR of the sample[%]'].min()\n",
    "max = dfTSRCleanedImputed['TSR of the sample[%]'].max()\n",
    "print('The min value is: '+str(min)+'. The max value is: '+str(max))"
   ]
  },
  {
   "cell_type": "code",
   "execution_count": null,
   "metadata": {},
   "outputs": [],
   "source": [
    "#Method that print the best parameters, R2 and MSE based on a grid search.\n",
    "def printBestModelAdv (grid, estimator = n, advancedAnalysis = False):\n",
    "    min = dfTSRCleanedImputed['TSR of the sample[%]'].min()\n",
    "    max = dfTSRCleanedImputed['TSR of the sample[%]'].max()\n",
    "    mse = -grid.best_score_\n",
    "    print('Best Parameters:' , grid.best_params_)\n",
    "    print('Best Test MSE: ' + str(mse))\n",
    "    print('Std of the Test MSE:' + str(grid.cv_results_['std_test_neg_mean_squared_error'][grid.best_index_]))\n",
    "    print('Best Test RMSE: ' +str(math.sqrt(mse)))\n",
    "    print('Best Test scaled RMSE: ' +str((math.sqrt(mse)*(max-min))+min))\n",
    "    print('Best Test scaled MSE: ' +str(((math.sqrt(mse)*(max-min))+min)**2)) \n",
    "    print('Best Test R2: ' + str(grid.cv_results_['mean_test_r2'][grid.best_index_]))\n",
    "    if (advancedAnalysis):\n",
    "        bestEstimator = estimator\n",
    "        bestEstimator.fit(X_train, y_train)\n",
    "        predictionsTrain = bestEstimator.predict(X_train)\n",
    "        df = pd.DataFrame({'predictions':predictionsTrain, 'original': y_train})\n",
    "        df.plot.hist(bins=10, alpha=0.5)\n",
    "        unScaledDf = (df*(max-min))+min\n",
    "        print (unScaledDf.describe())"
   ]
  },
  {
   "cell_type": "code",
   "execution_count": 40,
   "metadata": {},
   "outputs": [],
   "source": [
    "X = dfTSRCleanedImputedScaled.loc[:, dfTSRCleanedImputedScaled.columns != 'TSR of the sample[%]']\n",
    "y = dfTSRCleanedImputedScaled.loc[:,'TSR of the sample[%]']\n",
    "X_train, X_test, y_train, y_test = train_test_split(X, y, test_size=0.2, random_state=123)\n",
    "cv = RepeatedKFold(n_splits = 5, n_repeats = 10, random_state = 123)"
   ]
  },
  {
   "cell_type": "code",
   "execution_count": 41,
   "metadata": {},
   "outputs": [
    {
     "data": {
      "text/html": [
       "<div>\n",
       "<style scoped>\n",
       "    .dataframe tbody tr th:only-of-type {\n",
       "        vertical-align: middle;\n",
       "    }\n",
       "\n",
       "    .dataframe tbody tr th {\n",
       "        vertical-align: top;\n",
       "    }\n",
       "\n",
       "    .dataframe thead th {\n",
       "        text-align: right;\n",
       "    }\n",
       "</style>\n",
       "<table border=\"1\" class=\"dataframe\">\n",
       "  <thead>\n",
       "    <tr style=\"text-align: right;\">\n",
       "      <th></th>\n",
       "      <th>TSR of the sample[%]</th>\n",
       "      <th>y_train_unscaled</th>\n",
       "    </tr>\n",
       "  </thead>\n",
       "  <tbody>\n",
       "    <tr>\n",
       "      <th>count</th>\n",
       "      <td>116.000000</td>\n",
       "      <td>116.000000</td>\n",
       "    </tr>\n",
       "    <tr>\n",
       "      <th>mean</th>\n",
       "      <td>0.487701</td>\n",
       "      <td>85.290172</td>\n",
       "    </tr>\n",
       "    <tr>\n",
       "      <th>std</th>\n",
       "      <td>0.208753</td>\n",
       "      <td>9.926213</td>\n",
       "    </tr>\n",
       "    <tr>\n",
       "      <th>min</th>\n",
       "      <td>0.011567</td>\n",
       "      <td>62.650000</td>\n",
       "    </tr>\n",
       "    <tr>\n",
       "      <th>25%</th>\n",
       "      <td>0.374711</td>\n",
       "      <td>79.917500</td>\n",
       "    </tr>\n",
       "    <tr>\n",
       "      <th>50%</th>\n",
       "      <td>0.500736</td>\n",
       "      <td>85.910000</td>\n",
       "    </tr>\n",
       "    <tr>\n",
       "      <th>75%</th>\n",
       "      <td>0.630074</td>\n",
       "      <td>92.060000</td>\n",
       "    </tr>\n",
       "    <tr>\n",
       "      <th>max</th>\n",
       "      <td>1.000000</td>\n",
       "      <td>109.650000</td>\n",
       "    </tr>\n",
       "  </tbody>\n",
       "</table>\n",
       "</div>"
      ],
      "text/plain": [
       "       TSR of the sample[%]  y_train_unscaled\n",
       "count            116.000000        116.000000\n",
       "mean               0.487701         85.290172\n",
       "std                0.208753          9.926213\n",
       "min                0.011567         62.650000\n",
       "25%                0.374711         79.917500\n",
       "50%                0.500736         85.910000\n",
       "75%                0.630074         92.060000\n",
       "max                1.000000        109.650000"
      ]
     },
     "execution_count": 41,
     "metadata": {},
     "output_type": "execute_result"
    }
   ],
   "source": [
    "y_train_new = y_train.to_frame()\n",
    "y_train_new['y_train_unscaled'] = (y_train*(max-min))+min\n",
    "y_train_new.describe()"
   ]
  },
  {
   "cell_type": "code",
   "execution_count": 42,
   "metadata": {},
   "outputs": [
    {
     "data": {
      "image/png": "[encoded data removed]",
      "text/plain": [
       "<Figure size 432x288 with 1 Axes>"
      ]
     },
     "metadata": {
      "needs_background": "light"
     },
     "output_type": "display_data"
    }
   ],
   "source": [
    "g = sns.histplot(data=y_train_new, x=\"y_train_unscaled\", bins=10, kde=True)\n",
    "g.set_ylabel('Frequency')\n",
    "g.set_xlabel('Tensile strength ratio (%)')\n",
    "plt.show()"
   ]
  },
  {
   "cell_type": "code",
   "execution_count": null,
   "metadata": {},
   "outputs": [],
   "source": [
    "sns.set_style('darkgrid')\n",
    "fig, ax = plt.subplots()\n",
    "sns.histplot(x=y_train_new[\"y_train_unscaled\"], bins=10, kde=True, ax = ax)\n",
    "ax.set(xlabel='Tensile strength ratio (%)')\n",
    "ax.axvline(x=70, label='Minimum accepted value' , linestyle = '--', color='k')\n",
    "ax.set_title('(e)')\n",
    "ax.legend()\n",
    "plt.show()"
   ]
  },
  {
   "cell_type": "code",
   "execution_count": null,
   "metadata": {},
   "outputs": [],
   "source": [
    "len(y_train_new[y_train_new[\"y_train_unscaled\"]<70])"
   ]
  },
  {
   "cell_type": "markdown",
   "metadata": {},
   "source": [
    "### 5.1 Model Evaluation\n",
    "#### Linear Model"
   ]
  },
  {
   "cell_type": "code",
   "execution_count": null,
   "metadata": {},
   "outputs": [],
   "source": [
    "param_grid = {'fit_intercept': [True, False],\n",
    "            'positive': [True, False]}\n",
    "grid = GridSearchCV(LinearRegression(), param_grid, cv = cv, scoring=['neg_mean_squared_error', 'r2'], refit = 'neg_mean_squared_error', return_train_score= True)\n",
    "grid.fit(X_train, y_train)\n",
    "printBestModelAdv(grid) "
   ]
  },
  {
   "cell_type": "markdown",
   "metadata": {},
   "source": [
    "#### Lasso Linear Model"
   ]
  },
  {
   "cell_type": "code",
   "execution_count": null,
   "metadata": {},
   "outputs": [],
   "source": [
    "param_grid = {'alpha': [0.001,1, 10, 15, 30, 50, 100],\n",
    "            'fit_intercept':[True, False],\n",
    "            'positive': [True, False]}\n",
    "grid = GridSearchCV(Lasso(), param_grid, cv=cv, scoring=['neg_mean_squared_error', 'r2'], refit = 'neg_mean_squared_error', return_train_score= True)\n",
    "grid.fit(X_train, y_train)\n",
    "printBestModelAdv(grid)"
   ]
  },
  {
   "cell_type": "markdown",
   "metadata": {},
   "source": [
    "#### Ridge Linear regression model"
   ]
  },
  {
   "cell_type": "code",
   "execution_count": null,
   "metadata": {},
   "outputs": [],
   "source": [
    "param_grid = {'alpha': [7, 8, 10,100],\n",
    "'fit_intercept': [True, False],\n",
    "'solver': [ 'svd', 'cholesky', 'lsqr', 'sparse_cg', 'sag', 'saga']}\n",
    "grid = GridSearchCV(Ridge(), param_grid, cv=cv, scoring=['neg_mean_squared_error', 'r2'], refit = 'neg_mean_squared_error')\n",
    "grid.fit(X_train, y_train)\n",
    "printBestModelAdv(grid)"
   ]
  },
  {
   "cell_type": "markdown",
   "metadata": {},
   "source": [
    "#### Linear Elastic net"
   ]
  },
  {
   "cell_type": "code",
   "execution_count": null,
   "metadata": {},
   "outputs": [],
   "source": [
    "param_grid = {'alpha': [0.01,1,2,3,4],\n",
    "'fit_intercept': [True, False]}\n",
    "grid = GridSearchCV(ElasticNet(), param_grid, cv=cv, scoring=['neg_mean_squared_error', 'r2'], refit = 'neg_mean_squared_error')\n",
    "grid.fit(X_train, y_train)\n",
    "printBestModelAdv(grid)"
   ]
  },
  {
   "cell_type": "markdown",
   "metadata": {},
   "source": [
    "#### Polynomial model"
   ]
  },
  {
   "cell_type": "code",
   "execution_count": null,
   "metadata": {},
   "outputs": [],
   "source": [
    "def PolynomialRegression(degree=2, **kwargs):\n",
    "    return make_pipeline(PolynomialFeatures(degree), LinearRegression(**kwargs))\n",
    "\n",
    "param_grid = {'polynomialfeatures__degree': [2,3],\n",
    "'linearregression__fit_intercept': [True, False],\n",
    "'linearregression__positive':[True, False]}\n",
    "grid = GridSearchCV(PolynomialRegression(), param_grid, cv=cv, scoring=['neg_mean_squared_error', 'r2'], refit = 'neg_mean_squared_error')\n",
    "grid.fit(X_train, y_train)\n",
    "printBestModelAdv(grid)"
   ]
  },
  {
   "cell_type": "markdown",
   "metadata": {},
   "source": [
    "#### Lasso Polynomial model"
   ]
  },
  {
   "cell_type": "code",
   "execution_count": null,
   "metadata": {},
   "outputs": [],
   "source": [
    "def PolynomialRegression(degree=2, **kwargs):\n",
    "    return make_pipeline(PolynomialFeatures(degree), Lasso(**kwargs))\n",
    "\n",
    "param_grid = {'polynomialfeatures__degree': [2,3],\n",
    "            'lasso__alpha': [1,2, 3, 10, 15, 30],\n",
    "            'lasso__fit_intercept':[True, False],\n",
    "            'lasso__positive': [True, False],\n",
    "            'lasso__max_iter': [2000,3000, 3500]}\n",
    "grid = GridSearchCV(PolynomialRegression(), param_grid, cv=cv, scoring=['neg_mean_squared_error', 'r2'], refit = 'neg_mean_squared_error', return_train_score= True)\n",
    "grid.fit(X_train, y_train)\n",
    "printBestModelAdv(grid)"
   ]
  },
  {
   "cell_type": "markdown",
   "metadata": {},
   "source": [
    "#### Ridge polynomial model"
   ]
  },
  {
   "cell_type": "code",
   "execution_count": null,
   "metadata": {},
   "outputs": [],
   "source": [
    "def PolynomialRegression(degree=2, **kwargs):\n",
    "    return make_pipeline(PolynomialFeatures(degree), Ridge(**kwargs))\n",
    "\n",
    "param_grid = {'polynomialfeatures__degree': [2,3],\n",
    "'ridge__alpha':[20,30,50, 60],\n",
    "'ridge__fit_intercept': [True, False],\n",
    "'ridge__solver': [ 'lsqr', 'cholesky', 'sparse_cg', 'auto']}\n",
    "grid = GridSearchCV(PolynomialRegression(), param_grid, cv=cv, scoring=['neg_mean_squared_error', 'r2'], refit='neg_mean_squared_error')\n",
    "grid.fit(X_train, y_train)\n",
    "printBestModelAdv(grid)"
   ]
  },
  {
   "cell_type": "markdown",
   "metadata": {},
   "source": [
    "#### Support vector regression"
   ]
  },
  {
   "cell_type": "code",
   "execution_count": null,
   "metadata": {},
   "outputs": [],
   "source": [
    "param_grid = {\n",
    "    'kernel':['linear','rbf', 'sigmoid', 'poly'],\n",
    "    'degree':[2,3,4],\n",
    "    'C':[0.01,1,5,10],\n",
    "    'epsilon':[0.1,0.2, 1, 1.5]\n",
    "}\n",
    "grid = GridSearchCV(SVR(), param_grid, cv=cv, scoring=['neg_mean_squared_error', 'r2'], refit='neg_mean_squared_error')\n",
    "grid.fit(X_train, y_train)\n",
    "printBestModelAdv(grid)"
   ]
  },
  {
   "cell_type": "markdown",
   "metadata": {},
   "source": [
    "#### Decision Tree regressor"
   ]
  },
  {
   "cell_type": "code",
   "execution_count": null,
   "metadata": {},
   "outputs": [],
   "source": [
    "param_grid = {\n",
    "    'max_depth':[None,2,3,5,10,30,50],\n",
    "    'min_samples_split':[2,3,4],\n",
    "    'min_samples_leaf':[1,2,5],\n",
    "    'max_leaf_nodes': [None, 5,10]\n",
    "}\n",
    "grid = GridSearchCV(DecisionTreeRegressor(), param_grid, cv=cv, scoring=['r2','neg_mean_squared_error'], refit='neg_mean_squared_error')\n",
    "grid.fit(X_train, y_train)\n",
    "printBestModelAdv(grid)"
   ]
  },
  {
   "cell_type": "markdown",
   "metadata": {},
   "source": [
    "#### Random Forest"
   ]
  },
  {
   "cell_type": "code",
   "execution_count": null,
   "metadata": {},
   "outputs": [],
   "source": [
    "param_grid = {\n",
    "    'bootstrap': [False],\n",
    "    'max_depth': [None],\n",
    "    'max_features': [ 'sqrt'],\n",
    "    'min_samples_leaf': [1],\n",
    "    'min_samples_split': [2],\n",
    "    'n_estimators': [200, 400, 600, 800, 1000, 1200, 1400, 1600, 1800, 2000]\n",
    "}\n",
    "grid = GridSearchCV(RandomForestRegressor(), param_grid, cv=cv, scoring=['r2','neg_mean_squared_error'], refit='neg_mean_squared_error')\n",
    "grid.fit(X_train, y_train)\n",
    "printBestModelAdv(grid, RandomForestRegressor(**grid.best_params_), True)"
   ]
  },
  {
   "cell_type": "code",
   "execution_count": null,
   "metadata": {},
   "outputs": [],
   "source": [
    "param_grid = {\n",
    "    'bootstrap': [True, False],\n",
    "    'max_depth': [10, 20, 30, 40, 50, 60, 70, 80, 90, 100, None],\n",
    "    'max_features': ['auto', 'sqrt'],\n",
    "    'min_samples_leaf': [1, 2, 4],\n",
    "    'min_samples_split': [2, 5, 10],\n",
    "    'n_estimators': [200, 400, 600, 800, 1000, 1200, 1400, 1600, 1800, 2000]\n",
    "}\n",
    "grid = RandomizedSearchCV(RandomForestRegressor(), param_grid, cv=cv, scoring=['r2','neg_mean_squared_error'], refit='neg_mean_squared_error', n_iter=10)\n",
    "grid.fit(X_train, y_train)\n",
    "printBestModelAdv(grid, RandomForestRegressor(**grid.best_params_), True)"
   ]
  },
  {
   "cell_type": "markdown",
   "metadata": {},
   "source": [
    "#### Extra tree regressor"
   ]
  },
  {
   "cell_type": "code",
   "execution_count": null,
   "metadata": {},
   "outputs": [],
   "source": [
    "param_grid = {\n",
    "    'bootstrap': [True, False],\n",
    "    'max_depth': [10, 20, 30, 40, 50, 60, 70, 80, 90, 100, None],\n",
    "    'max_features': ['auto', 'sqrt'],\n",
    "    'min_samples_leaf': [1, 2, 4],\n",
    "    'min_samples_split': [2, 5, 10],\n",
    "    'n_estimators': [200, 400, 600, 800, 1000, 1200, 1400, 1600, 1800, 2000]\n",
    "}\n",
    "grid = RandomizedSearchCV(ExtraTreesRegressor(), param_grid, cv=cv, scoring=['r2','neg_mean_squared_error'], refit='neg_mean_squared_error', n_iter=10)\n",
    "grid.fit(X_train, y_train)\n",
    "printBestModelAdv(grid, RandomForestRegressor(**grid.best_params_), True)"
   ]
  },
  {
   "cell_type": "markdown",
   "metadata": {},
   "source": [
    "#### XG Boost Regressor"
   ]
  },
  {
   "cell_type": "code",
   "execution_count": null,
   "metadata": {},
   "outputs": [],
   "source": [
    "XGBoostModel = XGBRegressor()\n",
    "scores = cross_val_score(XGBoostModel, X_train, y_train , scoring = 'neg_mean_squared_error', cv = cv)\n",
    "scores = np.absolute(scores)\n",
    "print (scores.mean())"
   ]
  },
  {
   "cell_type": "code",
   "execution_count": null,
   "metadata": {},
   "outputs": [],
   "source": [
    "param_grid = {\n",
    "    'eta':[0.07,0.08, 0.09, 0.1, 0.2, 0.3, 0.4, 0.5],\n",
    "    'max_depth':np.arange(3,11,1),\n",
    "    'max_delta_step': np.arange(0,11,1),\n",
    "    'gamma' : [0, 0.001, 0.01, 0.1, 1, 10],\n",
    "    'lambda' : np.arange(5,15,1),\n",
    "    'alpha' : np.arange(0,11,1),\n",
    "    'n_estimators': [100,300,500,1000]\n",
    "}\n",
    "grid = RandomizedSearchCV(XGBRegressor(random_state=123), param_grid, cv=cv, scoring=['neg_mean_squared_error', 'r2'], refit='neg_mean_squared_error',n_iter=10)\n",
    "grid.fit(X_train, y_train)\n",
    "printBestModelAdv(grid, XGBRegressor(**grid.best_params_), True)"
   ]
  },
  {
   "cell_type": "code",
   "execution_count": null,
   "metadata": {},
   "outputs": [],
   "source": [
    "param_grid = {\n",
    "    'n_estimators': [100,300, 500, 1000]\n",
    "}\n",
    "grid = GridSearchCV(XGBRegressor(random_state=123), param_grid, cv=cv, scoring=['neg_mean_squared_error', 'r2'], refit='neg_mean_squared_error')\n",
    "grid.fit(X_train, y_train)\n",
    "printBestModelAdv(grid, XGBRegressor(**grid.best_params_), True)"
   ]
  },
  {
   "cell_type": "code",
   "execution_count": null,
   "metadata": {},
   "outputs": [],
   "source": [
    "#Graph employed for selecting important features during tunning\n",
    "XGBoostModel.fit(X,y)\n",
    "ax = plot_importance(XGBoostModel, height=0.8, importance_type='gain', show_values=False)\n",
    "fig = ax.figure\n",
    "fig.set_size_inches(10,10)"
   ]
  },
  {
   "cell_type": "markdown",
   "metadata": {},
   "source": [
    "## 6. Best Model Tunning"
   ]
  },
  {
   "cell_type": "code",
   "execution_count": 43,
   "metadata": {},
   "outputs": [],
   "source": [
    "X.columns = X.columns.astype(str)\n",
    "X_train, X_test, y_train, y_test = train_test_split(X, y, test_size=0.2, random_state=123)\n",
    "cv = RepeatedKFold(n_splits = 5, n_repeats = 15, random_state = 123)"
   ]
  },
  {
   "cell_type": "markdown",
   "metadata": {},
   "source": [
    "### 6.1. Feature selection"
   ]
  },
  {
   "cell_type": "code",
   "execution_count": null,
   "metadata": {},
   "outputs": [],
   "source": [
    "features_MSE = {}\n",
    "def addMSE (columns, string):\n",
    "    cv_results = cross_validate(XGBRegressor(random_state = 1), X_train[columns], y_train, cv = cv, scoring = ['neg_mean_squared_error'])\n",
    "    MSE = np.average(-cv_results['test_neg_mean_squared_error'])\n",
    "    features_MSE[string] = MSE"
   ]
  },
  {
   "cell_type": "code",
   "execution_count": null,
   "metadata": {},
   "outputs": [],
   "source": [
    "X_train.columns"
   ]
  },
  {
   "cell_type": "code",
   "execution_count": null,
   "metadata": {},
   "outputs": [],
   "source": [
    "addMSE(['Plastic shape_Fibers', 'Plastic shape_Pellets','Plastic shape_Shredded'], \n",
    "        'Plastic shape')"
   ]
  },
  {
   "cell_type": "code",
   "execution_count": null,
   "metadata": {},
   "outputs": [],
   "source": [
    "addMSE(['Plastic shape_Fibers', 'Plastic shape_Pellets','Plastic shape_Shredded',\n",
    "        'Plastic pretreatment_Physical', 'Plastic pretreatment_Plastic Melted'], \n",
    "        'Plastic shape \\n Plastic pretreatment')"
   ]
  },
  {
   "cell_type": "code",
   "execution_count": null,
   "metadata": {},
   "outputs": [],
   "source": [
    "addMSE(['Plastic shape_Fibers', 'Plastic shape_Pellets','Plastic shape_Shredded',\n",
    "        'Plastic pretreatment_Physical', 'Plastic pretreatment_Plastic Melted',\n",
    "         '0.075', '0.3', '0.6', '2.36', '4.75','9.5', '12.5', '19'], \n",
    "        'Plastic shape \\n Plastic pretreatment \\n Gradation')"
   ]
  },
  {
   "cell_type": "code",
   "execution_count": null,
   "metadata": {},
   "outputs": [],
   "source": [
    "addMSE(['Plastic shape_Fibers', 'Plastic shape_Pellets','Plastic shape_Shredded',\n",
    "        'Plastic pretreatment_Physical', 'Plastic pretreatment_Plastic Melted',\n",
    "        '0.075', '0.3', '0.6', '2.36', '4.75','9.5', '12.5', '19',\n",
    "        'New Plastic Type_PE','New Plastic Type_PET', 'New Plastic Type_PP', 'New Plastic Type_PS',\n",
    "        'New Plastic Type_Plastic Mix'], \n",
    "        'Plastic shape \\n Plastic pretreatment \\n Gradation\\n Plastic type')"
   ]
  },
  {
   "cell_type": "code",
   "execution_count": null,
   "metadata": {},
   "outputs": [],
   "source": [
    "addMSE(['Plastic shape_Fibers', 'Plastic shape_Pellets','Plastic shape_Shredded',\n",
    "        'Plastic pretreatment_Physical', 'Plastic pretreatment_Plastic Melted',\n",
    "        '0.075', '0.3', '0.6', '2.36', '4.75','9.5', '12.5', '19',\n",
    "        'New Plastic Type_PE','New Plastic Type_PET', 'New Plastic Type_PP', 'New Plastic Type_PS',\n",
    "        'New Plastic Type_Plastic Mix',\n",
    "        'Consolidated bitumen penetration grade_50/70',\n",
    "        'Consolidated bitumen penetration grade_70/100'], \n",
    "        'Plastic shape \\n Plastic pretreatment \\n Gradation\\n Plastic type \\n Bitumen type')"
   ]
  },
  {
   "cell_type": "code",
   "execution_count": null,
   "metadata": {},
   "outputs": [],
   "source": [
    "addMSE(['Plastic shape_Fibers', 'Plastic shape_Pellets','Plastic shape_Shredded',\n",
    "        'Plastic pretreatment_Physical', 'Plastic pretreatment_Plastic Melted',\n",
    "        '0.075', '0.3', '0.6', '2.36', '4.75','9.5', '12.5', '19',\n",
    "        'New Plastic Type_PE','New Plastic Type_PET', 'New Plastic Type_PP', 'New Plastic Type_PS',\n",
    "        'New Plastic Type_Plastic Mix',\n",
    "        'Consolidated bitumen penetration grade_50/70',\n",
    "        'Consolidated bitumen penetration grade_70/100',\n",
    "        'Mixing speed (RPM)'], \n",
    "        'Plastic shape \\n Plastic pretreatment \\n Gradation\\n Plastic type \\n Bitumen type \\n Mixing speed')"
   ]
  },
  {
   "cell_type": "code",
   "execution_count": null,
   "metadata": {},
   "outputs": [],
   "source": [
    "addMSE(['Plastic shape_Fibers', 'Plastic shape_Pellets','Plastic shape_Shredded',\n",
    "        'Plastic pretreatment_Physical', 'Plastic pretreatment_Plastic Melted',\n",
    "        '0.075', '0.3', '0.6', '2.36', '4.75','9.5', '12.5', '19',\n",
    "        'New Plastic Type_PE','New Plastic Type_PET', 'New Plastic Type_PP', 'New Plastic Type_PS',\n",
    "        'New Plastic Type_Plastic Mix',\n",
    "        'Consolidated bitumen penetration grade_50/70',\n",
    "        'Consolidated bitumen penetration grade_70/100',\n",
    "        'Mixing speed (RPM)',\n",
    "        'Plastic particle size (mm)'], \n",
    "        'Plastic shape \\n Plastic pretreatment \\n Gradation\\n Plastic type \\n Bitumen type \\n Mixing speed \\n Plastic size')"
   ]
  },
  {
   "cell_type": "code",
   "execution_count": null,
   "metadata": {},
   "outputs": [],
   "source": [
    "addMSE(['Plastic shape_Fibers', 'Plastic shape_Pellets','Plastic shape_Shredded',\n",
    "        'Plastic pretreatment_Physical', 'Plastic pretreatment_Plastic Melted',\n",
    "        '0.075', '0.3', '0.6', '2.36', '4.75','9.5', '12.5', '19',\n",
    "        'New Plastic Type_PE','New Plastic Type_PET', 'New Plastic Type_PP', 'New Plastic Type_PS',\n",
    "        'New Plastic Type_Plastic Mix',\n",
    "        'Consolidated bitumen penetration grade_50/70',\n",
    "        'Consolidated bitumen penetration grade_70/100',\n",
    "        'Mixing speed (RPM)',\n",
    "        'Plastic particle size (mm)',\n",
    "        'Aggregate absorption (%)'], \n",
    "        'Plastic shape \\n Plastic pretreatment \\n Gradation\\n Plastic type \\n Bitumen type \\n Mixing speed \\n Plastic size \\n Agg. absorption' )"
   ]
  },
  {
   "cell_type": "code",
   "execution_count": null,
   "metadata": {},
   "outputs": [],
   "source": [
    "addMSE(['Aggregate absorption (%)', '0.075', '0.3', '0.6', '2.36', '4.75',\n",
    "       '9.5', '12.5', '19', 'Plastic particle size (mm)', 'Mixing speed (RPM)',\n",
    "       'Mixing Temperature', 'Mixing Time (hours)',\n",
    "       'Bitumen content in the sample', 'New Plastic Type_PE',\n",
    "       'New Plastic Type_PET', 'New Plastic Type_PP', 'New Plastic Type_PS',\n",
    "       'New Plastic Type_Plastic Mix',\n",
    "       'Consolidated bitumen penetration grade_50/70',\n",
    "       'Consolidated bitumen penetration grade_70/100',\n",
    "       'Plastic pretreatment_Physical', 'Plastic pretreatment_Plastic Melted',\n",
    "       'Plastic shape_Fibers', 'Plastic shape_Pellets',\n",
    "       'Plastic shape_Shredded', 'Mixing Process_Dry', 'Mixing Process_Wet',\n",
    "       'Aggregates replacement ?_Yes', 'Bitumen replacement?_Yes'], \n",
    "        'Plastic shape \\n Plastic pretreatment \\n Gradation\\n Plastic type \\n Bitumen type \\n Mixing speed \\n Plastic size \\n Agg. absorption \\n Rest of features' )"
   ]
  },
  {
   "cell_type": "code",
   "execution_count": null,
   "metadata": {},
   "outputs": [],
   "source": [
    " plt.rcParams[\"figure.figsize\"] = (20,5)\n",
    " plt.plot(features_MSE.keys(), features_MSE.values(), marker = '*') \n",
    " plt.ylim(ymin = 0)\n",
    " plt.axvline(x='Plastic shape \\n Plastic pretreatment \\n Gradation\\n Plastic type \\n Bitumen type \\n Mixing speed \\n Plastic size', ymin=0, ymax=1, color = 'k', ls = '--' , label='Selected model')\n",
    " plt.ylabel('MSE', fontsize = 'xx-large')\n",
    " plt.xlabel('Features included in the model', fontsize = 'xx-large')\n",
    " plt.legend()\n",
    " plt.show()"
   ]
  },
  {
   "cell_type": "markdown",
   "metadata": {},
   "source": [
    "The features most approppiate for the model are aggregates gradation, bitumen content, plastic type, plastic addition.\n",
    "### 6.2 Model Tunning"
   ]
  },
  {
   "cell_type": "code",
   "execution_count": 44,
   "metadata": {},
   "outputs": [],
   "source": [
    "X_train = X_train [['Plastic shape_Fibers', 'Plastic shape_Pellets','Plastic shape_Shredded',\n",
    "        'Plastic pretreatment_Physical', 'Plastic pretreatment_Plastic Melted',\n",
    "        '0.075', '0.3', '0.6', '2.36', '4.75','9.5', '12.5', '19',\n",
    "        'New Plastic Type_PE','New Plastic Type_PET', 'New Plastic Type_PP', 'New Plastic Type_PS',\n",
    "        'New Plastic Type_Plastic Mix',\n",
    "        'Consolidated bitumen penetration grade_50/70',\n",
    "        'Consolidated bitumen penetration grade_70/100',\n",
    "        'Mixing speed (RPM)',\n",
    "        'Plastic particle size (mm)']]\n",
    "X_test = X_test [['Plastic shape_Fibers', 'Plastic shape_Pellets','Plastic shape_Shredded',\n",
    "        'Plastic pretreatment_Physical', 'Plastic pretreatment_Plastic Melted',\n",
    "        '0.075', '0.3', '0.6', '2.36', '4.75','9.5', '12.5', '19',\n",
    "        'New Plastic Type_PE','New Plastic Type_PET', 'New Plastic Type_PP', 'New Plastic Type_PS',\n",
    "        'New Plastic Type_Plastic Mix',\n",
    "        'Consolidated bitumen penetration grade_50/70',\n",
    "        'Consolidated bitumen penetration grade_70/100',\n",
    "        'Mixing speed (RPM)',\n",
    "        'Plastic particle size (mm)']]"
   ]
  },
  {
   "cell_type": "code",
   "execution_count": null,
   "metadata": {},
   "outputs": [],
   "source": [
    "def tuning_evaluation (parameters, X, y):\n",
    "    param_grid = parameters\n",
    "    grid = GridSearchCV(XGBRegressor(random_state = 1), param_grid, cv=cv, scoring=['neg_mean_squared_error', 'r2'], refit='neg_mean_squared_error')\n",
    "    grid.fit(X, y)\n",
    "    test_MSE = -grid.cv_results_['mean_test_neg_mean_squared_error'][grid.best_index_]\n",
    "    test_r2 = grid.cv_results_['mean_test_r2'][grid.best_index_]\n",
    "    best_param = grid.best_params_\n",
    "    print ('r2 test: ' + str(test_r2))\n",
    "    print ('MSE test: ' + str(test_MSE))\n",
    "    print ('Best Parameters ' + str(best_param))"
   ]
  },
  {
   "cell_type": "code",
   "execution_count": null,
   "metadata": {},
   "outputs": [],
   "source": [
    "param_grid = {\n",
    "        'eta':[0.1, 0.2, 0.3, 0.4, 0.5]\n",
    "    }\n",
    "tuning_evaluation (param_grid, X_train, y_train)"
   ]
  },
  {
   "cell_type": "code",
   "execution_count": null,
   "metadata": {},
   "outputs": [],
   "source": [
    "param_grid = {\n",
    "        'eta':[0.1],\n",
    "        'max_depth':np.arange(3,11,1)\n",
    "    }\n",
    "tuning_evaluation (param_grid, X_train, y_train)"
   ]
  },
  {
   "cell_type": "code",
   "execution_count": null,
   "metadata": {},
   "outputs": [],
   "source": [
    "param_grid = {\n",
    "        'eta':[0.1],\n",
    "        'max_depth':[4],\n",
    "        'min_child_weight':np.arange(1,11,1)\n",
    "    }\n",
    "tuning_evaluation (param_grid, X_train, y_train)"
   ]
  },
  {
   "cell_type": "code",
   "execution_count": null,
   "metadata": {},
   "outputs": [],
   "source": [
    "param_grid = {\n",
    "        'eta':[0.1],\n",
    "        'max_depth':[4],\n",
    "        'min_child_weight':[4],\n",
    "        'max_delta_step': np.arange(0,11,1)\n",
    "    }\n",
    "tuning_evaluation (param_grid, X_train, y_train)"
   ]
  },
  {
   "cell_type": "code",
   "execution_count": null,
   "metadata": {},
   "outputs": [],
   "source": [
    "param_grid = {\n",
    "        'eta':[0.1],\n",
    "        'max_depth':[4],\n",
    "        'min_child_weight':[4],\n",
    "        'max_delta_step': [0],\n",
    "        'gamma' : [0, 0.001, 0.01, 0.1, 1, 10]\n",
    "    }\n",
    "tuning_evaluation (param_grid, X_train, y_train)"
   ]
  },
  {
   "cell_type": "code",
   "execution_count": null,
   "metadata": {
    "tags": []
   },
   "outputs": [],
   "source": [
    "param_grid = {\n",
    "        'eta':[0.1],\n",
    "        'max_depth':[4],\n",
    "        'min_child_weight':[4],\n",
    "        'max_delta_step': [0],\n",
    "        'gamma' : [0],\n",
    "        'subsample' : [1]\n",
    "    }\n",
    "tuning_evaluation (param_grid, X_train, y_train)"
   ]
  },
  {
   "cell_type": "code",
   "execution_count": null,
   "metadata": {},
   "outputs": [],
   "source": [
    "param_grid = {\n",
    "        'eta':[0.1],\n",
    "        'max_depth':[4],\n",
    "        'min_child_weight':[4],\n",
    "        'max_delta_step': [0],\n",
    "        'gamma' : [0],\n",
    "        'subsample' : [1],\n",
    "        'colsample_bytree':[0, 0.5 ,1],\n",
    "        'colsample_bylevel':[0, 0.5 ,1],\n",
    "        'colsample_bynode':[0, 0.5 ,1]\n",
    "    }\n",
    "tuning_evaluation (param_grid, X = X_train, y = y_train)"
   ]
  },
  {
   "cell_type": "code",
   "execution_count": null,
   "metadata": {},
   "outputs": [],
   "source": [
    "param_grid = {\n",
    "        'eta':[0.1],\n",
    "        'max_depth':[4],\n",
    "        'min_child_weight':[4],\n",
    "        'max_delta_step': [0],\n",
    "        'gamma' : [0],\n",
    "        'subsample' : [1],\n",
    "        'colsample_bytree':[0.5],\n",
    "        'colsample_bylevel':[1],\n",
    "        'colsample_bynode':[1],\n",
    "        'lambda' : np.arange(1,10,1)\n",
    "    }\n",
    "tuning_evaluation (param_grid, X = X_train, y = y_train)"
   ]
  },
  {
   "cell_type": "code",
   "execution_count": null,
   "metadata": {},
   "outputs": [],
   "source": [
    "param_grid = {\n",
    "        'eta':[0.1],\n",
    "        'max_depth':[4],\n",
    "        'min_child_weight':[4],\n",
    "        'max_delta_step': [0],\n",
    "        'gamma' : [0],\n",
    "        'subsample' : [1],\n",
    "        'colsample_bytree':[0.5],\n",
    "        'colsample_bylevel':[1],\n",
    "        'colsample_bynode':[1],\n",
    "        'lambda' : [2],\n",
    "        'alpha' : np.arange(0,11,1)\n",
    "    }\n",
    "tuning_evaluation (param_grid, X = X_train, y = y_train)"
   ]
  },
  {
   "cell_type": "markdown",
   "metadata": {},
   "source": [
    "### 6.3 Final model evaluation on test set"
   ]
  },
  {
   "cell_type": "code",
   "execution_count": 45,
   "metadata": {},
   "outputs": [
    {
     "name": "stdout",
     "output_type": "stream",
     "text": [
      "The test r2 is: 0.7805412396269895\n",
      "The test MSE is: 0.012714032266303292\n",
      "The train r2 is: 0.9648354257676679\n",
      "The train MSE is: 0.0015191874328936762\n"
     ]
    }
   ],
   "source": [
    "XGModel = XGBRegressor(random_state=123)\n",
    "XGModel.fit(X_train, y_train)\n",
    "predictions_test = XGModel.predict(X_test)\n",
    "r2_test = r2_score(y_test, predictions_test)\n",
    "mse_test = mean_squared_error(y_test, predictions_test)\n",
    "print('The test r2 is: ' + str(r2_test))\n",
    "print('The test MSE is: ' + str(mse_test))\n",
    "predictions_train = XGModel.predict(X_train)\n",
    "r2_train = r2_score(y_train, predictions_train)\n",
    "mse_train = mean_squared_error(y_train, predictions_train)\n",
    "print('The train r2 is: ' + str(r2_train))\n",
    "print('The train MSE is: ' + str(mse_train))"
   ]
  },
  {
   "cell_type": "code",
   "execution_count": 48,
   "metadata": {},
   "outputs": [],
   "source": [
    "def modelEvaluation (model, Title):\n",
    "    #Model Fitting\n",
    "    model.fit(X_train, y_train)\n",
    "    predictions_test = model.predict(X_test)\n",
    "    #Model Evaluation\n",
    "    r2_test = r2_score(y_test, predictions_test)\n",
    "    mse_test = mean_squared_error(y_test, predictions_test)\n",
    "    plt.figure(figsize=(7,7))\n",
    "    #Model Plotting\n",
    "    plt.scatter(y_test, predictions_test, c='crimson')\n",
    "    plt.plot([(1,1), (0,0)], [(1,1), (0,0)], 'b-')\n",
    "    plt.xlabel('True Values', fontsize=15)\n",
    "    plt.xlim (0.1,1)\n",
    "    plt.ylim (0.1,1)\n",
    "    plt.ylabel('Predictions - ' + Title, fontsize=15)\n",
    "    plt.annotate('R2 = '+str(round(r2_test,3)), xy = (0.75,0.3), fontweight = 'bold', fontsize = 'large')\n",
    "    plt.annotate('EMS = '+str(round(mse_test,3)), xy = (0.75,0.25), fontweight = 'bold', fontsize = 'large')\n",
    "    plt.show()"
   ]
  },
  {
   "cell_type": "code",
   "execution_count": 49,
   "metadata": {},
   "outputs": [
    {
     "ename": "TypeError",
     "evalue": "'numpy.float64' object is not callable",
     "output_type": "error",
     "traceback": [
      "\u001b[1;31m---------------------------------------------------------------------------\u001b[0m",
      "\u001b[1;31mTypeError\u001b[0m                                 Traceback (most recent call last)",
      "\u001b[1;32m<ipython-input-49-842b31814831>\u001b[0m in \u001b[0;36m<module>\u001b[1;34m\u001b[0m\n\u001b[0;32m     10\u001b[0m                         \u001b[0mtree_method\u001b[0m \u001b[1;33m=\u001b[0m \u001b[1;34m'auto'\u001b[0m\u001b[1;33m,\u001b[0m\u001b[1;33m\u001b[0m\u001b[1;33m\u001b[0m\u001b[0m\n\u001b[0;32m     11\u001b[0m                         subsample = 1)\n\u001b[1;32m---> 12\u001b[1;33m \u001b[0mmodelEvaluation\u001b[0m\u001b[1;33m(\u001b[0m\u001b[0mXGModel\u001b[0m\u001b[1;33m,\u001b[0m \u001b[1;34m'XGModel'\u001b[0m\u001b[1;33m)\u001b[0m\u001b[1;33m\u001b[0m\u001b[1;33m\u001b[0m\u001b[0m\n\u001b[0m",
      "\u001b[1;32m<ipython-input-48-474e21a115fb>\u001b[0m in \u001b[0;36mmodelEvaluation\u001b[1;34m(model, Title)\u001b[0m\n\u001b[0;32m      9\u001b[0m     \u001b[1;31m#Model Plotting\u001b[0m\u001b[1;33m\u001b[0m\u001b[1;33m\u001b[0m\u001b[1;33m\u001b[0m\u001b[0m\n\u001b[0;32m     10\u001b[0m     \u001b[0mplt\u001b[0m\u001b[1;33m.\u001b[0m\u001b[0mscatter\u001b[0m\u001b[1;33m(\u001b[0m\u001b[0my_test\u001b[0m\u001b[1;33m,\u001b[0m \u001b[0mpredictions_test\u001b[0m\u001b[1;33m,\u001b[0m \u001b[0mc\u001b[0m\u001b[1;33m=\u001b[0m\u001b[1;34m'crimson'\u001b[0m\u001b[1;33m)\u001b[0m\u001b[1;33m\u001b[0m\u001b[1;33m\u001b[0m\u001b[0m\n\u001b[1;32m---> 11\u001b[1;33m     \u001b[0mp1\u001b[0m \u001b[1;33m=\u001b[0m \u001b[0mmax\u001b[0m\u001b[1;33m(\u001b[0m\u001b[0mmax\u001b[0m\u001b[1;33m(\u001b[0m\u001b[0mpredictions_test\u001b[0m\u001b[1;33m)\u001b[0m\u001b[1;33m,\u001b[0m \u001b[0mmax\u001b[0m\u001b[1;33m(\u001b[0m\u001b[0my_test\u001b[0m\u001b[1;33m)\u001b[0m\u001b[1;33m)\u001b[0m\u001b[1;33m\u001b[0m\u001b[1;33m\u001b[0m\u001b[0m\n\u001b[0m\u001b[0;32m     12\u001b[0m     \u001b[0mp2\u001b[0m \u001b[1;33m=\u001b[0m \u001b[0mmin\u001b[0m\u001b[1;33m(\u001b[0m\u001b[0mmin\u001b[0m\u001b[1;33m(\u001b[0m\u001b[0mpredictions_test\u001b[0m\u001b[1;33m)\u001b[0m\u001b[1;33m,\u001b[0m \u001b[0mmin\u001b[0m\u001b[1;33m(\u001b[0m\u001b[0my_test\u001b[0m\u001b[1;33m)\u001b[0m\u001b[1;33m)\u001b[0m\u001b[1;33m\u001b[0m\u001b[1;33m\u001b[0m\u001b[0m\n\u001b[0;32m     13\u001b[0m     \u001b[0mplt\u001b[0m\u001b[1;33m.\u001b[0m\u001b[0mplot\u001b[0m\u001b[1;33m(\u001b[0m\u001b[1;33m[\u001b[0m\u001b[1;33m(\u001b[0m\u001b[1;36m1\u001b[0m\u001b[1;33m,\u001b[0m\u001b[1;36m1\u001b[0m\u001b[1;33m)\u001b[0m\u001b[1;33m,\u001b[0m \u001b[1;33m(\u001b[0m\u001b[1;36m0\u001b[0m\u001b[1;33m,\u001b[0m\u001b[1;36m0\u001b[0m\u001b[1;33m)\u001b[0m\u001b[1;33m]\u001b[0m\u001b[1;33m,\u001b[0m \u001b[1;33m[\u001b[0m\u001b[1;33m(\u001b[0m\u001b[1;36m1\u001b[0m\u001b[1;33m,\u001b[0m\u001b[1;36m1\u001b[0m\u001b[1;33m)\u001b[0m\u001b[1;33m,\u001b[0m \u001b[1;33m(\u001b[0m\u001b[1;36m0\u001b[0m\u001b[1;33m,\u001b[0m\u001b[1;36m0\u001b[0m\u001b[1;33m)\u001b[0m\u001b[1;33m]\u001b[0m\u001b[1;33m,\u001b[0m \u001b[1;34m'b-'\u001b[0m\u001b[1;33m)\u001b[0m\u001b[1;33m\u001b[0m\u001b[1;33m\u001b[0m\u001b[0m\n",
      "\u001b[1;31mTypeError\u001b[0m: 'numpy.float64' object is not callable"
     ]
    },
    {
     "data": {
      "image/png": "[encoded data removed]",
      "text/plain": [
       "<Figure size 504x504 with 1 Axes>"
      ]
     },
     "metadata": {
      "needs_background": "light"
     },
     "output_type": "display_data"
    }
   ],
   "source": [
    "XGModel = XGBRegressor(random_state = 1,\n",
    "                        reg_alpha = 0,\n",
    "                        colsample_bytree = 0.5,\n",
    "                        eta = 0.1,\n",
    "                        max_depth = 4,\n",
    "                        min_child_weight =4,\n",
    "                        max_delta_step = 0,\n",
    "                        gamma = 0,\n",
    "                        reg_lambda = 2,\n",
    "                        tree_method = 'auto',\n",
    "                        subsample = 1)\n",
    "modelEvaluation(XGModel, 'XGModel')"
   ]
  },
  {
   "cell_type": "code",
   "execution_count": null,
   "metadata": {},
   "outputs": [],
   "source": [
    "XGModel = XGBRegressor()\n",
    "modelEvaluation(XGModel, 'XGModel')"
   ]
  },
  {
   "cell_type": "code",
   "execution_count": null,
   "metadata": {},
   "outputs": [],
   "source": [
    "extraTreeModel = ExtraTreesRegressor(n_estimators=1600, min_samples_split=2,min_samples_leaf=1, max_features='sqrt', max_depth=30, bootstrap=True)\n",
    "modelEvaluation(extraTreeModel, 'Extra Trees model')"
   ]
  },
  {
   "cell_type": "code",
   "execution_count": null,
   "metadata": {},
   "outputs": [],
   "source": [
    "RFModel = RandomForestRegressor(n_estimators=600,min_samples_split=2, min_samples_leaf=1, max_features='sqrt', max_depth=100, bootstrap=True)\n",
    "modelEvaluation(RFModel, 'Random Forest Model')"
   ]
  },
  {
   "cell_type": "markdown",
   "metadata": {},
   "source": [
    "# 🚨 TSR Effect and Shap values"
   ]
  },
  {
   "cell_type": "code",
   "execution_count": 6,
   "metadata": {},
   "outputs": [],
   "source": [
    "dfTSREffect = returnDf('TSREffect')"
   ]
  },
  {
   "cell_type": "code",
   "execution_count": 7,
   "metadata": {},
   "outputs": [
    {
     "name": "stdout",
     "output_type": "stream",
     "text": [
      "Initial dataframe size: (106, 37)\n",
      "Final dataframe size: (106, 37)\n"
     ]
    }
   ],
   "source": [
    "dfTSREffectNoOutliers = eliminateOutliers(dfTSREffect, 'Effect(%)')"
   ]
  },
  {
   "cell_type": "code",
   "execution_count": 8,
   "metadata": {},
   "outputs": [],
   "source": [
    "dfTSREffectNoOutliers['Virgin Bitumen Penetration'] = pd.to_numeric(dfTSREffectNoOutliers['Virgin Bitumen Penetration'])"
   ]
  },
  {
   "cell_type": "code",
   "execution_count": 9,
   "metadata": {},
   "outputs": [
    {
     "name": "stdout",
     "output_type": "stream",
     "text": [
      "<class 'pandas.core.frame.DataFrame'>\n",
      "Int64Index: 106 entries, 1 to 140\n",
      "Data columns (total 37 columns):\n",
      " #   Column                                  Non-Null Count  Dtype  \n",
      "---  ------                                  --------------  -----  \n",
      " 0   Article ID                              106 non-null    object \n",
      " 1   Global ID                               106 non-null    object \n",
      " 2   Modified asphalt Mix?                   106 non-null    object \n",
      " 3   Agreggate Type                          62 non-null     object \n",
      " 4   Aggregate absorption (%)                77 non-null     float64\n",
      " 5   Apparent specific gravity               23 non-null     float64\n",
      " 6   0.075                                   101 non-null    float64\n",
      " 7   0.3                                     101 non-null    float64\n",
      " 8   0.6                                     104 non-null    float64\n",
      " 9   2.36                                    104 non-null    float64\n",
      " 10  4.75                                    104 non-null    float64\n",
      " 11  9.5                                     104 non-null    float64\n",
      " 12  12.5                                    104 non-null    float64\n",
      " 13  19                                      104 non-null    float64\n",
      " 14  Filler used                             30 non-null     object \n",
      " 15  Bitumen Type Penetration Grade          106 non-null    object \n",
      " 16  Consolidated bitumen penetration grade  106 non-null    object \n",
      " 17  Virgin Bitumen Penetration              106 non-null    float64\n",
      " 18  New Plastic Type                        106 non-null    object \n",
      " 19  Plastic pretreatment                    106 non-null    object \n",
      " 20  Plastic shape                           106 non-null    object \n",
      " 21  Plastic Size                            84 non-null     object \n",
      " 22  Plastic particle size (mm)              77 non-null     float64\n",
      " 23  Mixing Process                          106 non-null    object \n",
      " 24  Mixing speed (RPM)                      94 non-null     float64\n",
      " 25  Mixing Temperature                      106 non-null    float64\n",
      " 26  Mixing Time (hours)                     93 non-null     float64\n",
      " 27  Aggregates replacement ?                106 non-null    object \n",
      " 28  Bitumen replacement?                    106 non-null    object \n",
      " 29  Filler replacement                      106 non-null    object \n",
      " 30  Plastic Addition by bitumen weight (%)  106 non-null    float64\n",
      " 31  Property                                106 non-null    object \n",
      " 32  Units                                   106 non-null    object \n",
      " 33  Bitumen content in the sample           82 non-null     float64\n",
      " 34  TSR Control[%]                          106 non-null    float64\n",
      " 35  TSR of the sample[%]                    106 non-null    float64\n",
      " 36  Effect(%)                               106 non-null    float64\n",
      "dtypes: float64(20), object(17)\n",
      "memory usage: 31.5+ KB\n"
     ]
    }
   ],
   "source": [
    "dfTSREffectNoOutliers.info()"
   ]
  },
  {
   "cell_type": "markdown",
   "metadata": {},
   "source": [
    "## 🛀 Data Preprocessing"
   ]
  },
  {
   "cell_type": "code",
   "execution_count": 11,
   "metadata": {},
   "outputs": [],
   "source": [
    "#Categorical Variables\n",
    "dfTSREffectNoOutliers = dfTSREffectNoOutliers.drop(['Article ID', \n",
    "                                    'Global ID',\n",
    "                                    'Modified asphalt Mix?',\n",
    "                                    'Agreggate Type', \n",
    "                                    'Apparent specific gravity', \n",
    "                                    'Filler used', \n",
    "                                    'Bitumen Type Penetration Grade', \n",
    "                                    'Property', \n",
    "                                    'Units', \n",
    "                                    'Plastic Size',\n",
    "                                    'Consolidated bitumen penetration grade' ], axis = 1)\n",
    "dfTSREffectNoOutliers = dfTSREffectNoOutliers.dropna(subset=['New Plastic Type'])\n",
    "dfTSREffectNoOutliers = pd.get_dummies(dfTSREffectNoOutliers, columns=['New Plastic Type'], drop_first=True)\n",
    "dfTSREffectNoOutliers = pd.get_dummies(dfTSREffectNoOutliers, drop_first=True)"
   ]
  },
  {
   "cell_type": "code",
   "execution_count": 12,
   "metadata": {},
   "outputs": [
    {
     "data": {
      "text/html": [
       "<div>\n",
       "<style scoped>\n",
       "    .dataframe tbody tr th:only-of-type {\n",
       "        vertical-align: middle;\n",
       "    }\n",
       "\n",
       "    .dataframe tbody tr th {\n",
       "        vertical-align: top;\n",
       "    }\n",
       "\n",
       "    .dataframe thead th {\n",
       "        text-align: right;\n",
       "    }\n",
       "</style>\n",
       "<table border=\"1\" class=\"dataframe\">\n",
       "  <thead>\n",
       "    <tr style=\"text-align: right;\">\n",
       "      <th></th>\n",
       "      <th>Aggregate absorption (%)</th>\n",
       "      <th>0.075</th>\n",
       "      <th>0.3</th>\n",
       "      <th>0.6</th>\n",
       "      <th>2.36</th>\n",
       "      <th>4.75</th>\n",
       "      <th>9.5</th>\n",
       "      <th>12.5</th>\n",
       "      <th>19</th>\n",
       "      <th>Virgin Bitumen Penetration</th>\n",
       "      <th>Plastic particle size (mm)</th>\n",
       "      <th>Mixing speed (RPM)</th>\n",
       "      <th>Mixing Temperature</th>\n",
       "      <th>Mixing Time (hours)</th>\n",
       "      <th>Plastic Addition by bitumen weight (%)</th>\n",
       "      <th>Bitumen content in the sample</th>\n",
       "      <th>TSR Control[%]</th>\n",
       "      <th>TSR of the sample[%]</th>\n",
       "      <th>Effect(%)</th>\n",
       "      <th>New Plastic Type_PET</th>\n",
       "      <th>New Plastic Type_PP</th>\n",
       "      <th>New Plastic Type_PS</th>\n",
       "      <th>New Plastic Type_Plastic Mix</th>\n",
       "      <th>Plastic pretreatment_Plastic Melted</th>\n",
       "      <th>Plastic shape_Pellets</th>\n",
       "      <th>Plastic shape_Shredded</th>\n",
       "      <th>Mixing Process_Wet</th>\n",
       "      <th>Aggregates replacement ?_Yes</th>\n",
       "      <th>Bitumen replacement?_Yes</th>\n",
       "    </tr>\n",
       "    <tr>\n",
       "      <th>TSREffect ID</th>\n",
       "      <th></th>\n",
       "      <th></th>\n",
       "      <th></th>\n",
       "      <th></th>\n",
       "      <th></th>\n",
       "      <th></th>\n",
       "      <th></th>\n",
       "      <th></th>\n",
       "      <th></th>\n",
       "      <th></th>\n",
       "      <th></th>\n",
       "      <th></th>\n",
       "      <th></th>\n",
       "      <th></th>\n",
       "      <th></th>\n",
       "      <th></th>\n",
       "      <th></th>\n",
       "      <th></th>\n",
       "      <th></th>\n",
       "      <th></th>\n",
       "      <th></th>\n",
       "      <th></th>\n",
       "      <th></th>\n",
       "      <th></th>\n",
       "      <th></th>\n",
       "      <th></th>\n",
       "      <th></th>\n",
       "      <th></th>\n",
       "      <th></th>\n",
       "    </tr>\n",
       "  </thead>\n",
       "  <tbody>\n",
       "    <tr>\n",
       "      <th>1</th>\n",
       "      <td>0.70</td>\n",
       "      <td>4.46</td>\n",
       "      <td>12.41</td>\n",
       "      <td>39.16</td>\n",
       "      <td>53.13</td>\n",
       "      <td>68.67</td>\n",
       "      <td>96.87</td>\n",
       "      <td>100.00</td>\n",
       "      <td>100.00</td>\n",
       "      <td>40.0</td>\n",
       "      <td>6.35</td>\n",
       "      <td>0.0</td>\n",
       "      <td>0.0</td>\n",
       "      <td>0.0</td>\n",
       "      <td>5.072464</td>\n",
       "      <td>6.70</td>\n",
       "      <td>72.39</td>\n",
       "      <td>87.06</td>\n",
       "      <td>-0.202652</td>\n",
       "      <td>0</td>\n",
       "      <td>0</td>\n",
       "      <td>1</td>\n",
       "      <td>0</td>\n",
       "      <td>0</td>\n",
       "      <td>0</td>\n",
       "      <td>0</td>\n",
       "      <td>0</td>\n",
       "      <td>0</td>\n",
       "      <td>0</td>\n",
       "    </tr>\n",
       "    <tr>\n",
       "      <th>4</th>\n",
       "      <td>0.70</td>\n",
       "      <td>4.46</td>\n",
       "      <td>12.41</td>\n",
       "      <td>39.16</td>\n",
       "      <td>53.13</td>\n",
       "      <td>68.67</td>\n",
       "      <td>96.87</td>\n",
       "      <td>100.00</td>\n",
       "      <td>100.00</td>\n",
       "      <td>40.0</td>\n",
       "      <td>12.70</td>\n",
       "      <td>0.0</td>\n",
       "      <td>0.0</td>\n",
       "      <td>0.0</td>\n",
       "      <td>6.849315</td>\n",
       "      <td>6.70</td>\n",
       "      <td>72.39</td>\n",
       "      <td>87.31</td>\n",
       "      <td>-0.206106</td>\n",
       "      <td>0</td>\n",
       "      <td>0</td>\n",
       "      <td>1</td>\n",
       "      <td>0</td>\n",
       "      <td>0</td>\n",
       "      <td>0</td>\n",
       "      <td>0</td>\n",
       "      <td>0</td>\n",
       "      <td>0</td>\n",
       "      <td>0</td>\n",
       "    </tr>\n",
       "    <tr>\n",
       "      <th>3</th>\n",
       "      <td>0.70</td>\n",
       "      <td>4.46</td>\n",
       "      <td>12.41</td>\n",
       "      <td>39.16</td>\n",
       "      <td>53.13</td>\n",
       "      <td>68.67</td>\n",
       "      <td>96.87</td>\n",
       "      <td>100.00</td>\n",
       "      <td>100.00</td>\n",
       "      <td>40.0</td>\n",
       "      <td>12.70</td>\n",
       "      <td>0.0</td>\n",
       "      <td>0.0</td>\n",
       "      <td>0.0</td>\n",
       "      <td>4.929577</td>\n",
       "      <td>6.70</td>\n",
       "      <td>72.39</td>\n",
       "      <td>89.30</td>\n",
       "      <td>-0.233596</td>\n",
       "      <td>0</td>\n",
       "      <td>0</td>\n",
       "      <td>1</td>\n",
       "      <td>0</td>\n",
       "      <td>0</td>\n",
       "      <td>0</td>\n",
       "      <td>0</td>\n",
       "      <td>0</td>\n",
       "      <td>0</td>\n",
       "      <td>0</td>\n",
       "    </tr>\n",
       "    <tr>\n",
       "      <th>9</th>\n",
       "      <td>0.50</td>\n",
       "      <td>5.42</td>\n",
       "      <td>11.93</td>\n",
       "      <td>33.01</td>\n",
       "      <td>51.08</td>\n",
       "      <td>71.08</td>\n",
       "      <td>92.05</td>\n",
       "      <td>100.00</td>\n",
       "      <td>100.00</td>\n",
       "      <td>40.0</td>\n",
       "      <td>6.35</td>\n",
       "      <td>0.0</td>\n",
       "      <td>0.0</td>\n",
       "      <td>0.0</td>\n",
       "      <td>4.861111</td>\n",
       "      <td>6.20</td>\n",
       "      <td>66.17</td>\n",
       "      <td>89.55</td>\n",
       "      <td>-0.353332</td>\n",
       "      <td>0</td>\n",
       "      <td>0</td>\n",
       "      <td>1</td>\n",
       "      <td>0</td>\n",
       "      <td>0</td>\n",
       "      <td>0</td>\n",
       "      <td>0</td>\n",
       "      <td>0</td>\n",
       "      <td>0</td>\n",
       "      <td>0</td>\n",
       "    </tr>\n",
       "    <tr>\n",
       "      <th>5</th>\n",
       "      <td>0.80</td>\n",
       "      <td>5.06</td>\n",
       "      <td>13.25</td>\n",
       "      <td>33.01</td>\n",
       "      <td>54.10</td>\n",
       "      <td>67.59</td>\n",
       "      <td>96.87</td>\n",
       "      <td>100.00</td>\n",
       "      <td>100.00</td>\n",
       "      <td>40.0</td>\n",
       "      <td>6.35</td>\n",
       "      <td>0.0</td>\n",
       "      <td>0.0</td>\n",
       "      <td>0.0</td>\n",
       "      <td>5.468750</td>\n",
       "      <td>5.90</td>\n",
       "      <td>68.16</td>\n",
       "      <td>90.55</td>\n",
       "      <td>-0.328492</td>\n",
       "      <td>0</td>\n",
       "      <td>0</td>\n",
       "      <td>1</td>\n",
       "      <td>0</td>\n",
       "      <td>0</td>\n",
       "      <td>0</td>\n",
       "      <td>0</td>\n",
       "      <td>0</td>\n",
       "      <td>0</td>\n",
       "      <td>0</td>\n",
       "    </tr>\n",
       "    <tr>\n",
       "      <th>...</th>\n",
       "      <td>...</td>\n",
       "      <td>...</td>\n",
       "      <td>...</td>\n",
       "      <td>...</td>\n",
       "      <td>...</td>\n",
       "      <td>...</td>\n",
       "      <td>...</td>\n",
       "      <td>...</td>\n",
       "      <td>...</td>\n",
       "      <td>...</td>\n",
       "      <td>...</td>\n",
       "      <td>...</td>\n",
       "      <td>...</td>\n",
       "      <td>...</td>\n",
       "      <td>...</td>\n",
       "      <td>...</td>\n",
       "      <td>...</td>\n",
       "      <td>...</td>\n",
       "      <td>...</td>\n",
       "      <td>...</td>\n",
       "      <td>...</td>\n",
       "      <td>...</td>\n",
       "      <td>...</td>\n",
       "      <td>...</td>\n",
       "      <td>...</td>\n",
       "      <td>...</td>\n",
       "      <td>...</td>\n",
       "      <td>...</td>\n",
       "      <td>...</td>\n",
       "    </tr>\n",
       "    <tr>\n",
       "      <th>132</th>\n",
       "      <td>0.95</td>\n",
       "      <td>2.86</td>\n",
       "      <td>7.03</td>\n",
       "      <td>11.46</td>\n",
       "      <td>30.73</td>\n",
       "      <td>43.88</td>\n",
       "      <td>79.95</td>\n",
       "      <td>92.06</td>\n",
       "      <td>99.87</td>\n",
       "      <td>66.0</td>\n",
       "      <td>NaN</td>\n",
       "      <td>0.0</td>\n",
       "      <td>0.0</td>\n",
       "      <td>0.0</td>\n",
       "      <td>9.000000</td>\n",
       "      <td>4.30</td>\n",
       "      <td>84.99</td>\n",
       "      <td>89.04</td>\n",
       "      <td>-0.047653</td>\n",
       "      <td>0</td>\n",
       "      <td>0</td>\n",
       "      <td>0</td>\n",
       "      <td>0</td>\n",
       "      <td>0</td>\n",
       "      <td>0</td>\n",
       "      <td>1</td>\n",
       "      <td>0</td>\n",
       "      <td>0</td>\n",
       "      <td>0</td>\n",
       "    </tr>\n",
       "    <tr>\n",
       "      <th>136</th>\n",
       "      <td>0.95</td>\n",
       "      <td>2.86</td>\n",
       "      <td>7.03</td>\n",
       "      <td>11.46</td>\n",
       "      <td>30.73</td>\n",
       "      <td>43.88</td>\n",
       "      <td>79.95</td>\n",
       "      <td>92.06</td>\n",
       "      <td>99.87</td>\n",
       "      <td>66.0</td>\n",
       "      <td>NaN</td>\n",
       "      <td>0.0</td>\n",
       "      <td>0.0</td>\n",
       "      <td>0.0</td>\n",
       "      <td>9.000000</td>\n",
       "      <td>4.30</td>\n",
       "      <td>84.99</td>\n",
       "      <td>92.06</td>\n",
       "      <td>-0.083186</td>\n",
       "      <td>0</td>\n",
       "      <td>0</td>\n",
       "      <td>0</td>\n",
       "      <td>0</td>\n",
       "      <td>0</td>\n",
       "      <td>0</td>\n",
       "      <td>1</td>\n",
       "      <td>0</td>\n",
       "      <td>0</td>\n",
       "      <td>0</td>\n",
       "    </tr>\n",
       "    <tr>\n",
       "      <th>137</th>\n",
       "      <td>1.07</td>\n",
       "      <td>2.86</td>\n",
       "      <td>7.03</td>\n",
       "      <td>11.46</td>\n",
       "      <td>30.73</td>\n",
       "      <td>43.88</td>\n",
       "      <td>79.95</td>\n",
       "      <td>92.06</td>\n",
       "      <td>99.87</td>\n",
       "      <td>66.0</td>\n",
       "      <td>NaN</td>\n",
       "      <td>0.0</td>\n",
       "      <td>0.0</td>\n",
       "      <td>0.0</td>\n",
       "      <td>9.000000</td>\n",
       "      <td>4.28</td>\n",
       "      <td>83.07</td>\n",
       "      <td>92.06</td>\n",
       "      <td>-0.108222</td>\n",
       "      <td>0</td>\n",
       "      <td>0</td>\n",
       "      <td>0</td>\n",
       "      <td>0</td>\n",
       "      <td>0</td>\n",
       "      <td>0</td>\n",
       "      <td>1</td>\n",
       "      <td>0</td>\n",
       "      <td>0</td>\n",
       "      <td>0</td>\n",
       "    </tr>\n",
       "    <tr>\n",
       "      <th>141</th>\n",
       "      <td>1.07</td>\n",
       "      <td>2.86</td>\n",
       "      <td>7.03</td>\n",
       "      <td>11.46</td>\n",
       "      <td>30.73</td>\n",
       "      <td>43.88</td>\n",
       "      <td>79.95</td>\n",
       "      <td>92.06</td>\n",
       "      <td>99.87</td>\n",
       "      <td>66.0</td>\n",
       "      <td>NaN</td>\n",
       "      <td>0.0</td>\n",
       "      <td>0.0</td>\n",
       "      <td>0.0</td>\n",
       "      <td>9.000000</td>\n",
       "      <td>4.28</td>\n",
       "      <td>83.07</td>\n",
       "      <td>94.09</td>\n",
       "      <td>-0.132659</td>\n",
       "      <td>0</td>\n",
       "      <td>0</td>\n",
       "      <td>0</td>\n",
       "      <td>0</td>\n",
       "      <td>0</td>\n",
       "      <td>0</td>\n",
       "      <td>1</td>\n",
       "      <td>0</td>\n",
       "      <td>0</td>\n",
       "      <td>0</td>\n",
       "    </tr>\n",
       "    <tr>\n",
       "      <th>140</th>\n",
       "      <td>0.95</td>\n",
       "      <td>2.86</td>\n",
       "      <td>7.03</td>\n",
       "      <td>11.46</td>\n",
       "      <td>30.73</td>\n",
       "      <td>43.88</td>\n",
       "      <td>79.95</td>\n",
       "      <td>92.06</td>\n",
       "      <td>99.87</td>\n",
       "      <td>66.0</td>\n",
       "      <td>NaN</td>\n",
       "      <td>0.0</td>\n",
       "      <td>0.0</td>\n",
       "      <td>0.0</td>\n",
       "      <td>9.000000</td>\n",
       "      <td>4.30</td>\n",
       "      <td>84.99</td>\n",
       "      <td>95.07</td>\n",
       "      <td>-0.118602</td>\n",
       "      <td>0</td>\n",
       "      <td>0</td>\n",
       "      <td>0</td>\n",
       "      <td>0</td>\n",
       "      <td>0</td>\n",
       "      <td>0</td>\n",
       "      <td>1</td>\n",
       "      <td>0</td>\n",
       "      <td>0</td>\n",
       "      <td>0</td>\n",
       "    </tr>\n",
       "  </tbody>\n",
       "</table>\n",
       "<p>106 rows × 29 columns</p>\n",
       "</div>"
      ],
      "text/plain": [
       "              Aggregate absorption (%)  0.075    0.3    0.6   2.36   4.75  \\\n",
       "TSREffect ID                                                                \n",
       "1                                 0.70   4.46  12.41  39.16  53.13  68.67   \n",
       "4                                 0.70   4.46  12.41  39.16  53.13  68.67   \n",
       "3                                 0.70   4.46  12.41  39.16  53.13  68.67   \n",
       "9                                 0.50   5.42  11.93  33.01  51.08  71.08   \n",
       "5                                 0.80   5.06  13.25  33.01  54.10  67.59   \n",
       "...                                ...    ...    ...    ...    ...    ...   \n",
       "132                               0.95   2.86   7.03  11.46  30.73  43.88   \n",
       "136                               0.95   2.86   7.03  11.46  30.73  43.88   \n",
       "137                               1.07   2.86   7.03  11.46  30.73  43.88   \n",
       "141                               1.07   2.86   7.03  11.46  30.73  43.88   \n",
       "140                               0.95   2.86   7.03  11.46  30.73  43.88   \n",
       "\n",
       "                9.5    12.5      19  Virgin Bitumen Penetration  \\\n",
       "TSREffect ID                                                      \n",
       "1             96.87  100.00  100.00                        40.0   \n",
       "4             96.87  100.00  100.00                        40.0   \n",
       "3             96.87  100.00  100.00                        40.0   \n",
       "9             92.05  100.00  100.00                        40.0   \n",
       "5             96.87  100.00  100.00                        40.0   \n",
       "...             ...     ...     ...                         ...   \n",
       "132           79.95   92.06   99.87                        66.0   \n",
       "136           79.95   92.06   99.87                        66.0   \n",
       "137           79.95   92.06   99.87                        66.0   \n",
       "141           79.95   92.06   99.87                        66.0   \n",
       "140           79.95   92.06   99.87                        66.0   \n",
       "\n",
       "              Plastic particle size (mm)  Mixing speed (RPM)  \\\n",
       "TSREffect ID                                                   \n",
       "1                                   6.35                 0.0   \n",
       "4                                  12.70                 0.0   \n",
       "3                                  12.70                 0.0   \n",
       "9                                   6.35                 0.0   \n",
       "5                                   6.35                 0.0   \n",
       "...                                  ...                 ...   \n",
       "132                                  NaN                 0.0   \n",
       "136                                  NaN                 0.0   \n",
       "137                                  NaN                 0.0   \n",
       "141                                  NaN                 0.0   \n",
       "140                                  NaN                 0.0   \n",
       "\n",
       "              Mixing Temperature  Mixing Time (hours)  \\\n",
       "TSREffect ID                                            \n",
       "1                            0.0                  0.0   \n",
       "4                            0.0                  0.0   \n",
       "3                            0.0                  0.0   \n",
       "9                            0.0                  0.0   \n",
       "5                            0.0                  0.0   \n",
       "...                          ...                  ...   \n",
       "132                          0.0                  0.0   \n",
       "136                          0.0                  0.0   \n",
       "137                          0.0                  0.0   \n",
       "141                          0.0                  0.0   \n",
       "140                          0.0                  0.0   \n",
       "\n",
       "              Plastic Addition by bitumen weight (%)  \\\n",
       "TSREffect ID                                           \n",
       "1                                           5.072464   \n",
       "4                                           6.849315   \n",
       "3                                           4.929577   \n",
       "9                                           4.861111   \n",
       "5                                           5.468750   \n",
       "...                                              ...   \n",
       "132                                         9.000000   \n",
       "136                                         9.000000   \n",
       "137                                         9.000000   \n",
       "141                                         9.000000   \n",
       "140                                         9.000000   \n",
       "\n",
       "              Bitumen content in the sample  TSR Control[%]  \\\n",
       "TSREffect ID                                                  \n",
       "1                                      6.70           72.39   \n",
       "4                                      6.70           72.39   \n",
       "3                                      6.70           72.39   \n",
       "9                                      6.20           66.17   \n",
       "5                                      5.90           68.16   \n",
       "...                                     ...             ...   \n",
       "132                                    4.30           84.99   \n",
       "136                                    4.30           84.99   \n",
       "137                                    4.28           83.07   \n",
       "141                                    4.28           83.07   \n",
       "140                                    4.30           84.99   \n",
       "\n",
       "              TSR of the sample[%]  Effect(%)  New Plastic Type_PET  \\\n",
       "TSREffect ID                                                          \n",
       "1                            87.06  -0.202652                     0   \n",
       "4                            87.31  -0.206106                     0   \n",
       "3                            89.30  -0.233596                     0   \n",
       "9                            89.55  -0.353332                     0   \n",
       "5                            90.55  -0.328492                     0   \n",
       "...                            ...        ...                   ...   \n",
       "132                          89.04  -0.047653                     0   \n",
       "136                          92.06  -0.083186                     0   \n",
       "137                          92.06  -0.108222                     0   \n",
       "141                          94.09  -0.132659                     0   \n",
       "140                          95.07  -0.118602                     0   \n",
       "\n",
       "              New Plastic Type_PP  New Plastic Type_PS  \\\n",
       "TSREffect ID                                             \n",
       "1                               0                    1   \n",
       "4                               0                    1   \n",
       "3                               0                    1   \n",
       "9                               0                    1   \n",
       "5                               0                    1   \n",
       "...                           ...                  ...   \n",
       "132                             0                    0   \n",
       "136                             0                    0   \n",
       "137                             0                    0   \n",
       "141                             0                    0   \n",
       "140                             0                    0   \n",
       "\n",
       "              New Plastic Type_Plastic Mix  \\\n",
       "TSREffect ID                                 \n",
       "1                                        0   \n",
       "4                                        0   \n",
       "3                                        0   \n",
       "9                                        0   \n",
       "5                                        0   \n",
       "...                                    ...   \n",
       "132                                      0   \n",
       "136                                      0   \n",
       "137                                      0   \n",
       "141                                      0   \n",
       "140                                      0   \n",
       "\n",
       "              Plastic pretreatment_Plastic Melted  Plastic shape_Pellets  \\\n",
       "TSREffect ID                                                               \n",
       "1                                               0                      0   \n",
       "4                                               0                      0   \n",
       "3                                               0                      0   \n",
       "9                                               0                      0   \n",
       "5                                               0                      0   \n",
       "...                                           ...                    ...   \n",
       "132                                             0                      0   \n",
       "136                                             0                      0   \n",
       "137                                             0                      0   \n",
       "141                                             0                      0   \n",
       "140                                             0                      0   \n",
       "\n",
       "              Plastic shape_Shredded  Mixing Process_Wet  \\\n",
       "TSREffect ID                                               \n",
       "1                                  0                   0   \n",
       "4                                  0                   0   \n",
       "3                                  0                   0   \n",
       "9                                  0                   0   \n",
       "5                                  0                   0   \n",
       "...                              ...                 ...   \n",
       "132                                1                   0   \n",
       "136                                1                   0   \n",
       "137                                1                   0   \n",
       "141                                1                   0   \n",
       "140                                1                   0   \n",
       "\n",
       "              Aggregates replacement ?_Yes  Bitumen replacement?_Yes  \n",
       "TSREffect ID                                                          \n",
       "1                                        0                         0  \n",
       "4                                        0                         0  \n",
       "3                                        0                         0  \n",
       "9                                        0                         0  \n",
       "5                                        0                         0  \n",
       "...                                    ...                       ...  \n",
       "132                                      0                         0  \n",
       "136                                      0                         0  \n",
       "137                                      0                         0  \n",
       "141                                      0                         0  \n",
       "140                                      0                         0  \n",
       "\n",
       "[106 rows x 29 columns]"
      ]
     },
     "execution_count": 12,
     "metadata": {},
     "output_type": "execute_result"
    }
   ],
   "source": [
    "dfTSREffectNoOutliers"
   ]
  },
  {
   "cell_type": "code",
   "execution_count": 13,
   "metadata": {},
   "outputs": [
    {
     "data": {
      "text/html": [
       "<div>\n",
       "<style scoped>\n",
       "    .dataframe tbody tr th:only-of-type {\n",
       "        vertical-align: middle;\n",
       "    }\n",
       "\n",
       "    .dataframe tbody tr th {\n",
       "        vertical-align: top;\n",
       "    }\n",
       "\n",
       "    .dataframe thead th {\n",
       "        text-align: right;\n",
       "    }\n",
       "</style>\n",
       "<table border=\"1\" class=\"dataframe\">\n",
       "  <thead>\n",
       "    <tr style=\"text-align: right;\">\n",
       "      <th></th>\n",
       "      <th>0.075</th>\n",
       "      <th>0.3</th>\n",
       "      <th>0.6</th>\n",
       "      <th>2.36</th>\n",
       "      <th>4.75</th>\n",
       "      <th>9.5</th>\n",
       "      <th>12.5</th>\n",
       "      <th>19</th>\n",
       "      <th>Aggregate absorption (%)</th>\n",
       "      <th>Aggregates replacement ?_Yes</th>\n",
       "      <th>Bitumen content in the sample</th>\n",
       "      <th>Bitumen replacement?_Yes</th>\n",
       "      <th>Mixing Process_Wet</th>\n",
       "      <th>Mixing Temperature</th>\n",
       "      <th>Mixing Time (hours)</th>\n",
       "      <th>Mixing speed (RPM)</th>\n",
       "      <th>New Plastic Type_PET</th>\n",
       "      <th>New Plastic Type_PP</th>\n",
       "      <th>New Plastic Type_PS</th>\n",
       "      <th>New Plastic Type_Plastic Mix</th>\n",
       "      <th>Plastic Addition by bitumen weight (%)</th>\n",
       "      <th>Plastic particle size (mm)</th>\n",
       "      <th>Plastic pretreatment_Plastic Melted</th>\n",
       "      <th>Plastic shape_Pellets</th>\n",
       "      <th>Plastic shape_Shredded</th>\n",
       "      <th>Virgin Bitumen Penetration</th>\n",
       "    </tr>\n",
       "    <tr>\n",
       "      <th>TSREffect ID</th>\n",
       "      <th></th>\n",
       "      <th></th>\n",
       "      <th></th>\n",
       "      <th></th>\n",
       "      <th></th>\n",
       "      <th></th>\n",
       "      <th></th>\n",
       "      <th></th>\n",
       "      <th></th>\n",
       "      <th></th>\n",
       "      <th></th>\n",
       "      <th></th>\n",
       "      <th></th>\n",
       "      <th></th>\n",
       "      <th></th>\n",
       "      <th></th>\n",
       "      <th></th>\n",
       "      <th></th>\n",
       "      <th></th>\n",
       "      <th></th>\n",
       "      <th></th>\n",
       "      <th></th>\n",
       "      <th></th>\n",
       "      <th></th>\n",
       "      <th></th>\n",
       "      <th></th>\n",
       "    </tr>\n",
       "  </thead>\n",
       "  <tbody>\n",
       "    <tr>\n",
       "      <th>1</th>\n",
       "      <td>4.46</td>\n",
       "      <td>12.41</td>\n",
       "      <td>39.16</td>\n",
       "      <td>53.13</td>\n",
       "      <td>68.67</td>\n",
       "      <td>96.87</td>\n",
       "      <td>100.0</td>\n",
       "      <td>100.0</td>\n",
       "      <td>0.7</td>\n",
       "      <td>0</td>\n",
       "      <td>6.7</td>\n",
       "      <td>0</td>\n",
       "      <td>0</td>\n",
       "      <td>0.0</td>\n",
       "      <td>0.0</td>\n",
       "      <td>0.0</td>\n",
       "      <td>0</td>\n",
       "      <td>0</td>\n",
       "      <td>1</td>\n",
       "      <td>0</td>\n",
       "      <td>5.072464</td>\n",
       "      <td>6.35</td>\n",
       "      <td>0</td>\n",
       "      <td>0</td>\n",
       "      <td>0</td>\n",
       "      <td>40.0</td>\n",
       "    </tr>\n",
       "    <tr>\n",
       "      <th>4</th>\n",
       "      <td>4.46</td>\n",
       "      <td>12.41</td>\n",
       "      <td>39.16</td>\n",
       "      <td>53.13</td>\n",
       "      <td>68.67</td>\n",
       "      <td>96.87</td>\n",
       "      <td>100.0</td>\n",
       "      <td>100.0</td>\n",
       "      <td>0.7</td>\n",
       "      <td>0</td>\n",
       "      <td>6.7</td>\n",
       "      <td>0</td>\n",
       "      <td>0</td>\n",
       "      <td>0.0</td>\n",
       "      <td>0.0</td>\n",
       "      <td>0.0</td>\n",
       "      <td>0</td>\n",
       "      <td>0</td>\n",
       "      <td>1</td>\n",
       "      <td>0</td>\n",
       "      <td>6.849315</td>\n",
       "      <td>12.70</td>\n",
       "      <td>0</td>\n",
       "      <td>0</td>\n",
       "      <td>0</td>\n",
       "      <td>40.0</td>\n",
       "    </tr>\n",
       "    <tr>\n",
       "      <th>3</th>\n",
       "      <td>4.46</td>\n",
       "      <td>12.41</td>\n",
       "      <td>39.16</td>\n",
       "      <td>53.13</td>\n",
       "      <td>68.67</td>\n",
       "      <td>96.87</td>\n",
       "      <td>100.0</td>\n",
       "      <td>100.0</td>\n",
       "      <td>0.7</td>\n",
       "      <td>0</td>\n",
       "      <td>6.7</td>\n",
       "      <td>0</td>\n",
       "      <td>0</td>\n",
       "      <td>0.0</td>\n",
       "      <td>0.0</td>\n",
       "      <td>0.0</td>\n",
       "      <td>0</td>\n",
       "      <td>0</td>\n",
       "      <td>1</td>\n",
       "      <td>0</td>\n",
       "      <td>4.929577</td>\n",
       "      <td>12.70</td>\n",
       "      <td>0</td>\n",
       "      <td>0</td>\n",
       "      <td>0</td>\n",
       "      <td>40.0</td>\n",
       "    </tr>\n",
       "    <tr>\n",
       "      <th>9</th>\n",
       "      <td>5.42</td>\n",
       "      <td>11.93</td>\n",
       "      <td>33.01</td>\n",
       "      <td>51.08</td>\n",
       "      <td>71.08</td>\n",
       "      <td>92.05</td>\n",
       "      <td>100.0</td>\n",
       "      <td>100.0</td>\n",
       "      <td>0.5</td>\n",
       "      <td>0</td>\n",
       "      <td>6.2</td>\n",
       "      <td>0</td>\n",
       "      <td>0</td>\n",
       "      <td>0.0</td>\n",
       "      <td>0.0</td>\n",
       "      <td>0.0</td>\n",
       "      <td>0</td>\n",
       "      <td>0</td>\n",
       "      <td>1</td>\n",
       "      <td>0</td>\n",
       "      <td>4.861111</td>\n",
       "      <td>6.35</td>\n",
       "      <td>0</td>\n",
       "      <td>0</td>\n",
       "      <td>0</td>\n",
       "      <td>40.0</td>\n",
       "    </tr>\n",
       "    <tr>\n",
       "      <th>5</th>\n",
       "      <td>5.06</td>\n",
       "      <td>13.25</td>\n",
       "      <td>33.01</td>\n",
       "      <td>54.10</td>\n",
       "      <td>67.59</td>\n",
       "      <td>96.87</td>\n",
       "      <td>100.0</td>\n",
       "      <td>100.0</td>\n",
       "      <td>0.8</td>\n",
       "      <td>0</td>\n",
       "      <td>5.9</td>\n",
       "      <td>0</td>\n",
       "      <td>0</td>\n",
       "      <td>0.0</td>\n",
       "      <td>0.0</td>\n",
       "      <td>0.0</td>\n",
       "      <td>0</td>\n",
       "      <td>0</td>\n",
       "      <td>1</td>\n",
       "      <td>0</td>\n",
       "      <td>5.468750</td>\n",
       "      <td>6.35</td>\n",
       "      <td>0</td>\n",
       "      <td>0</td>\n",
       "      <td>0</td>\n",
       "      <td>40.0</td>\n",
       "    </tr>\n",
       "  </tbody>\n",
       "</table>\n",
       "</div>"
      ],
      "text/plain": [
       "              0.075    0.3    0.6   2.36   4.75    9.5   12.5     19  \\\n",
       "TSREffect ID                                                           \n",
       "1              4.46  12.41  39.16  53.13  68.67  96.87  100.0  100.0   \n",
       "4              4.46  12.41  39.16  53.13  68.67  96.87  100.0  100.0   \n",
       "3              4.46  12.41  39.16  53.13  68.67  96.87  100.0  100.0   \n",
       "9              5.42  11.93  33.01  51.08  71.08  92.05  100.0  100.0   \n",
       "5              5.06  13.25  33.01  54.10  67.59  96.87  100.0  100.0   \n",
       "\n",
       "              Aggregate absorption (%)  Aggregates replacement ?_Yes  \\\n",
       "TSREffect ID                                                           \n",
       "1                                  0.7                             0   \n",
       "4                                  0.7                             0   \n",
       "3                                  0.7                             0   \n",
       "9                                  0.5                             0   \n",
       "5                                  0.8                             0   \n",
       "\n",
       "              Bitumen content in the sample  Bitumen replacement?_Yes  \\\n",
       "TSREffect ID                                                            \n",
       "1                                       6.7                         0   \n",
       "4                                       6.7                         0   \n",
       "3                                       6.7                         0   \n",
       "9                                       6.2                         0   \n",
       "5                                       5.9                         0   \n",
       "\n",
       "              Mixing Process_Wet  Mixing Temperature  Mixing Time (hours)  \\\n",
       "TSREffect ID                                                                \n",
       "1                              0                 0.0                  0.0   \n",
       "4                              0                 0.0                  0.0   \n",
       "3                              0                 0.0                  0.0   \n",
       "9                              0                 0.0                  0.0   \n",
       "5                              0                 0.0                  0.0   \n",
       "\n",
       "              Mixing speed (RPM)  New Plastic Type_PET  New Plastic Type_PP  \\\n",
       "TSREffect ID                                                                  \n",
       "1                            0.0                     0                    0   \n",
       "4                            0.0                     0                    0   \n",
       "3                            0.0                     0                    0   \n",
       "9                            0.0                     0                    0   \n",
       "5                            0.0                     0                    0   \n",
       "\n",
       "              New Plastic Type_PS  New Plastic Type_Plastic Mix  \\\n",
       "TSREffect ID                                                      \n",
       "1                               1                             0   \n",
       "4                               1                             0   \n",
       "3                               1                             0   \n",
       "9                               1                             0   \n",
       "5                               1                             0   \n",
       "\n",
       "              Plastic Addition by bitumen weight (%)  \\\n",
       "TSREffect ID                                           \n",
       "1                                           5.072464   \n",
       "4                                           6.849315   \n",
       "3                                           4.929577   \n",
       "9                                           4.861111   \n",
       "5                                           5.468750   \n",
       "\n",
       "              Plastic particle size (mm)  Plastic pretreatment_Plastic Melted  \\\n",
       "TSREffect ID                                                                    \n",
       "1                                   6.35                                    0   \n",
       "4                                  12.70                                    0   \n",
       "3                                  12.70                                    0   \n",
       "9                                   6.35                                    0   \n",
       "5                                   6.35                                    0   \n",
       "\n",
       "              Plastic shape_Pellets  Plastic shape_Shredded  \\\n",
       "TSREffect ID                                                  \n",
       "1                                 0                       0   \n",
       "4                                 0                       0   \n",
       "3                                 0                       0   \n",
       "9                                 0                       0   \n",
       "5                                 0                       0   \n",
       "\n",
       "              Virgin Bitumen Penetration  \n",
       "TSREffect ID                              \n",
       "1                                   40.0  \n",
       "4                                   40.0  \n",
       "3                                   40.0  \n",
       "9                                   40.0  \n",
       "5                                   40.0  "
      ]
     },
     "execution_count": 13,
     "metadata": {},
     "output_type": "execute_result"
    }
   ],
   "source": [
    "# Split X and Y\n",
    "X = dfTSREffectNoOutliers[dfTSREffectNoOutliers.columns.difference(['Effect(%)','TSR Control[%]', 'TSR of the sample[%]'])]\n",
    "y = dfTSREffectNoOutliers[['Effect(%)']]\n",
    "X.head()"
   ]
  },
  {
   "cell_type": "code",
   "execution_count": 14,
   "metadata": {},
   "outputs": [
    {
     "name": "stdout",
     "output_type": "stream",
     "text": [
      "There is 0 negative values in the new DataFrame\n"
     ]
    }
   ],
   "source": [
    "#IMPUTATION OF MISSING VALUES\n",
    "imputer = IterativeImputer (estimator = ExtraTreesRegressor(n_estimators=10, random_state = 123), max_iter=50,random_state = 123)\n",
    "n = imputer.fit_transform(X)\n",
    "X_Imputed = pd.DataFrame(n, columns = list(X.columns))\n",
    "print ('There is '+ \n",
    "str(sum(n < 0 for n in X_Imputed.loc[:,X_Imputed.columns].values.flatten()))+\n",
    "' negative values in the new DataFrame')"
   ]
  },
  {
   "cell_type": "code",
   "execution_count": 15,
   "metadata": {},
   "outputs": [],
   "source": [
    "X_Imputed['New Plastic Type_PET'] = X_Imputed['New Plastic Type_PET'] * X_Imputed['Plastic Addition by bitumen weight (%)']\n",
    "X_Imputed['New Plastic Type_PP'] = X_Imputed['New Plastic Type_PP'] * X_Imputed['Plastic Addition by bitumen weight (%)']\n",
    "X_Imputed['New Plastic Type_PS'] = X_Imputed['New Plastic Type_PS'] * X_Imputed['Plastic Addition by bitumen weight (%)']\n",
    "X_Imputed['New Plastic Type_Plastic Mix'] = X_Imputed['New Plastic Type_Plastic Mix'] * X_Imputed['Plastic Addition by bitumen weight (%)']\n",
    "X_Imputed = X_Imputed.drop(['Plastic Addition by bitumen weight (%)' ], axis = 1)"
   ]
  },
  {
   "cell_type": "code",
   "execution_count": 17,
   "metadata": {},
   "outputs": [
    {
     "data": {
      "text/html": [
       "<div>\n",
       "<style scoped>\n",
       "    .dataframe tbody tr th:only-of-type {\n",
       "        vertical-align: middle;\n",
       "    }\n",
       "\n",
       "    .dataframe tbody tr th {\n",
       "        vertical-align: top;\n",
       "    }\n",
       "\n",
       "    .dataframe thead th {\n",
       "        text-align: right;\n",
       "    }\n",
       "</style>\n",
       "<table border=\"1\" class=\"dataframe\">\n",
       "  <thead>\n",
       "    <tr style=\"text-align: right;\">\n",
       "      <th></th>\n",
       "      <th>0.075</th>\n",
       "      <th>0.3</th>\n",
       "      <th>0.6</th>\n",
       "      <th>2.36</th>\n",
       "      <th>4.75</th>\n",
       "      <th>9.5</th>\n",
       "      <th>12.5</th>\n",
       "      <th>19</th>\n",
       "      <th>Aggregate absorption (%)</th>\n",
       "      <th>Aggregates replacement ?_Yes</th>\n",
       "      <th>Bitumen content in the sample</th>\n",
       "      <th>Bitumen replacement?_Yes</th>\n",
       "      <th>Mixing Process_Wet</th>\n",
       "      <th>Mixing Temperature</th>\n",
       "      <th>Mixing Time (hours)</th>\n",
       "      <th>Mixing speed (RPM)</th>\n",
       "      <th>New Plastic Type_PET</th>\n",
       "      <th>New Plastic Type_PP</th>\n",
       "      <th>New Plastic Type_PS</th>\n",
       "      <th>New Plastic Type_Plastic Mix</th>\n",
       "      <th>Plastic particle size (mm)</th>\n",
       "      <th>Plastic pretreatment_Plastic Melted</th>\n",
       "      <th>Plastic shape_Pellets</th>\n",
       "      <th>Plastic shape_Shredded</th>\n",
       "      <th>Virgin Bitumen Penetration</th>\n",
       "    </tr>\n",
       "  </thead>\n",
       "  <tbody>\n",
       "    <tr>\n",
       "      <th>0</th>\n",
       "      <td>0.260586</td>\n",
       "      <td>0.340076</td>\n",
       "      <td>1.000000</td>\n",
       "      <td>0.971554</td>\n",
       "      <td>0.948811</td>\n",
       "      <td>1.000000</td>\n",
       "      <td>1.0</td>\n",
       "      <td>0.998715</td>\n",
       "      <td>0.204082</td>\n",
       "      <td>0.0</td>\n",
       "      <td>1.000000</td>\n",
       "      <td>0.0</td>\n",
       "      <td>0.0</td>\n",
       "      <td>0.0</td>\n",
       "      <td>0.0</td>\n",
       "      <td>0.0</td>\n",
       "      <td>0.0</td>\n",
       "      <td>0.0</td>\n",
       "      <td>0.220542</td>\n",
       "      <td>0.0</td>\n",
       "      <td>0.121730</td>\n",
       "      <td>0.0</td>\n",
       "      <td>0.0</td>\n",
       "      <td>0.0</td>\n",
       "      <td>0.0</td>\n",
       "    </tr>\n",
       "    <tr>\n",
       "      <th>1</th>\n",
       "      <td>0.260586</td>\n",
       "      <td>0.340076</td>\n",
       "      <td>1.000000</td>\n",
       "      <td>0.971554</td>\n",
       "      <td>0.948811</td>\n",
       "      <td>1.000000</td>\n",
       "      <td>1.0</td>\n",
       "      <td>0.998715</td>\n",
       "      <td>0.204082</td>\n",
       "      <td>0.0</td>\n",
       "      <td>1.000000</td>\n",
       "      <td>0.0</td>\n",
       "      <td>0.0</td>\n",
       "      <td>0.0</td>\n",
       "      <td>0.0</td>\n",
       "      <td>0.0</td>\n",
       "      <td>0.0</td>\n",
       "      <td>0.0</td>\n",
       "      <td>0.297796</td>\n",
       "      <td>0.0</td>\n",
       "      <td>0.249497</td>\n",
       "      <td>0.0</td>\n",
       "      <td>0.0</td>\n",
       "      <td>0.0</td>\n",
       "      <td>0.0</td>\n",
       "    </tr>\n",
       "    <tr>\n",
       "      <th>2</th>\n",
       "      <td>0.260586</td>\n",
       "      <td>0.340076</td>\n",
       "      <td>1.000000</td>\n",
       "      <td>0.971554</td>\n",
       "      <td>0.948811</td>\n",
       "      <td>1.000000</td>\n",
       "      <td>1.0</td>\n",
       "      <td>0.998715</td>\n",
       "      <td>0.204082</td>\n",
       "      <td>0.0</td>\n",
       "      <td>1.000000</td>\n",
       "      <td>0.0</td>\n",
       "      <td>0.0</td>\n",
       "      <td>0.0</td>\n",
       "      <td>0.0</td>\n",
       "      <td>0.0</td>\n",
       "      <td>0.0</td>\n",
       "      <td>0.0</td>\n",
       "      <td>0.214329</td>\n",
       "      <td>0.0</td>\n",
       "      <td>0.249497</td>\n",
       "      <td>0.0</td>\n",
       "      <td>0.0</td>\n",
       "      <td>0.0</td>\n",
       "      <td>0.0</td>\n",
       "    </tr>\n",
       "    <tr>\n",
       "      <th>3</th>\n",
       "      <td>0.416938</td>\n",
       "      <td>0.309735</td>\n",
       "      <td>0.788587</td>\n",
       "      <td>0.911437</td>\n",
       "      <td>1.000000</td>\n",
       "      <td>0.903349</td>\n",
       "      <td>1.0</td>\n",
       "      <td>0.998715</td>\n",
       "      <td>0.136054</td>\n",
       "      <td>0.0</td>\n",
       "      <td>0.886079</td>\n",
       "      <td>0.0</td>\n",
       "      <td>0.0</td>\n",
       "      <td>0.0</td>\n",
       "      <td>0.0</td>\n",
       "      <td>0.0</td>\n",
       "      <td>0.0</td>\n",
       "      <td>0.0</td>\n",
       "      <td>0.211353</td>\n",
       "      <td>0.0</td>\n",
       "      <td>0.121730</td>\n",
       "      <td>0.0</td>\n",
       "      <td>0.0</td>\n",
       "      <td>0.0</td>\n",
       "      <td>0.0</td>\n",
       "    </tr>\n",
       "    <tr>\n",
       "      <th>4</th>\n",
       "      <td>0.358306</td>\n",
       "      <td>0.393173</td>\n",
       "      <td>0.788587</td>\n",
       "      <td>1.000000</td>\n",
       "      <td>0.925871</td>\n",
       "      <td>1.000000</td>\n",
       "      <td>1.0</td>\n",
       "      <td>0.998715</td>\n",
       "      <td>0.238095</td>\n",
       "      <td>0.0</td>\n",
       "      <td>0.817726</td>\n",
       "      <td>0.0</td>\n",
       "      <td>0.0</td>\n",
       "      <td>0.0</td>\n",
       "      <td>0.0</td>\n",
       "      <td>0.0</td>\n",
       "      <td>0.0</td>\n",
       "      <td>0.0</td>\n",
       "      <td>0.237772</td>\n",
       "      <td>0.0</td>\n",
       "      <td>0.121730</td>\n",
       "      <td>0.0</td>\n",
       "      <td>0.0</td>\n",
       "      <td>0.0</td>\n",
       "      <td>0.0</td>\n",
       "    </tr>\n",
       "  </tbody>\n",
       "</table>\n",
       "</div>"
      ],
      "text/plain": [
       "      0.075       0.3       0.6      2.36      4.75       9.5  12.5        19  \\\n",
       "0  0.260586  0.340076  1.000000  0.971554  0.948811  1.000000   1.0  0.998715   \n",
       "1  0.260586  0.340076  1.000000  0.971554  0.948811  1.000000   1.0  0.998715   \n",
       "2  0.260586  0.340076  1.000000  0.971554  0.948811  1.000000   1.0  0.998715   \n",
       "3  0.416938  0.309735  0.788587  0.911437  1.000000  0.903349   1.0  0.998715   \n",
       "4  0.358306  0.393173  0.788587  1.000000  0.925871  1.000000   1.0  0.998715   \n",
       "\n",
       "   Aggregate absorption (%)  Aggregates replacement ?_Yes  \\\n",
       "0                  0.204082                           0.0   \n",
       "1                  0.204082                           0.0   \n",
       "2                  0.204082                           0.0   \n",
       "3                  0.136054                           0.0   \n",
       "4                  0.238095                           0.0   \n",
       "\n",
       "   Bitumen content in the sample  Bitumen replacement?_Yes  \\\n",
       "0                       1.000000                       0.0   \n",
       "1                       1.000000                       0.0   \n",
       "2                       1.000000                       0.0   \n",
       "3                       0.886079                       0.0   \n",
       "4                       0.817726                       0.0   \n",
       "\n",
       "   Mixing Process_Wet  Mixing Temperature  Mixing Time (hours)  \\\n",
       "0                 0.0                 0.0                  0.0   \n",
       "1                 0.0                 0.0                  0.0   \n",
       "2                 0.0                 0.0                  0.0   \n",
       "3                 0.0                 0.0                  0.0   \n",
       "4                 0.0                 0.0                  0.0   \n",
       "\n",
       "   Mixing speed (RPM)  New Plastic Type_PET  New Plastic Type_PP  \\\n",
       "0                 0.0                   0.0                  0.0   \n",
       "1                 0.0                   0.0                  0.0   \n",
       "2                 0.0                   0.0                  0.0   \n",
       "3                 0.0                   0.0                  0.0   \n",
       "4                 0.0                   0.0                  0.0   \n",
       "\n",
       "   New Plastic Type_PS  New Plastic Type_Plastic Mix  \\\n",
       "0             0.220542                           0.0   \n",
       "1             0.297796                           0.0   \n",
       "2             0.214329                           0.0   \n",
       "3             0.211353                           0.0   \n",
       "4             0.237772                           0.0   \n",
       "\n",
       "   Plastic particle size (mm)  Plastic pretreatment_Plastic Melted  \\\n",
       "0                    0.121730                                  0.0   \n",
       "1                    0.249497                                  0.0   \n",
       "2                    0.249497                                  0.0   \n",
       "3                    0.121730                                  0.0   \n",
       "4                    0.121730                                  0.0   \n",
       "\n",
       "   Plastic shape_Pellets  Plastic shape_Shredded  Virgin Bitumen Penetration  \n",
       "0                    0.0                     0.0                         0.0  \n",
       "1                    0.0                     0.0                         0.0  \n",
       "2                    0.0                     0.0                         0.0  \n",
       "3                    0.0                     0.0                         0.0  \n",
       "4                    0.0                     0.0                         0.0  "
      ]
     },
     "execution_count": 17,
     "metadata": {},
     "output_type": "execute_result"
    }
   ],
   "source": [
    "# Scaling\n",
    " #Feature Scaling\n",
    "scaler = MinMaxScaler()\n",
    "X = pd.DataFrame(scaler.fit_transform(X_Imputed), columns = list(X_Imputed))\n",
    "X.head()"
   ]
  },
  {
   "cell_type": "markdown",
   "metadata": {},
   "source": [
    "## 🧠Model Training"
   ]
  },
  {
   "cell_type": "code",
   "execution_count": 18,
   "metadata": {},
   "outputs": [
    {
     "data": {
      "text/plain": [
       "0.6327798467368745"
      ]
     },
     "execution_count": 18,
     "metadata": {},
     "output_type": "execute_result"
    }
   ],
   "source": [
    "cv = RepeatedKFold(n_splits = 10, n_repeats = 10, random_state = 123)\n",
    "scores = cross_validate(XGBRegressor(random_state=123, n_estimators=500), X, y, cv=cv,scoring=('r2', 'neg_mean_squared_error'),return_train_score=True)\n",
    "np.average(scores['test_r2'])b"
   ]
  },
  {
   "cell_type": "markdown",
   "metadata": {},
   "source": [
    "## 🔪SHAP Values"
   ]
  },
  {
   "cell_type": "code",
   "execution_count": 19,
   "metadata": {},
   "outputs": [],
   "source": [
    "import shap"
   ]
  },
  {
   "cell_type": "code",
   "execution_count": 20,
   "metadata": {},
   "outputs": [
    {
     "name": "stderr",
     "output_type": "stream",
     "text": [
      "ntree_limit is deprecated, use `iteration_range` or model slicing instead.\n"
     ]
    }
   ],
   "source": [
    "model = XGBRegressor().fit(X, y)\n",
    "explainer = shap.Explainer(model)\n",
    "shap_values = explainer(X)"
   ]
  },
  {
   "cell_type": "code",
   "execution_count": 21,
   "metadata": {},
   "outputs": [
    {
     "data": {
      "image/png": "[encoded data removed]",
      "text/plain": [
       "<Figure size 576x828 with 2 Axes>"
      ]
     },
     "metadata": {
      "needs_background": "light"
     },
     "output_type": "display_data"
    }
   ],
   "source": [
    "# summarize the effects of all the features\n",
    "shap.plots.beeswarm(shap_values, max_display=28)"
   ]
  },
  {
   "cell_type": "code",
   "execution_count": 22,
   "metadata": {},
   "outputs": [
    {
     "data": {
      "image/png": "[encoded data removed]",
      "text/plain": [
       "<Figure size 432x360 with 2 Axes>"
      ]
     },
     "metadata": {
      "needs_background": "light"
     },
     "output_type": "display_data"
    }
   ],
   "source": [
    "shap.plots.scatter(shap_values[:,'Mixing Process_Wet'])"
   ]
  },
  {
   "cell_type": "code",
   "execution_count": 23,
   "metadata": {},
   "outputs": [
    {
     "name": "stderr",
     "output_type": "stream",
     "text": [
      "ntree_limit is deprecated, use `iteration_range` or model slicing instead.\n"
     ]
    },
    {
     "data": {
      "image/png": "[encoded data removed]",
      "text/plain": [
       "<Figure size 576x540 with 2 Axes>"
      ]
     },
     "metadata": {
      "needs_background": "light"
     },
     "output_type": "display_data"
    }
   ],
   "source": [
    "shap_values_wet = explainer(X[X['Mixing Process_Wet'] == 1])\n",
    "# summarize the effects of all the features\n",
    "shap.plots.beeswarm(shap_values_wet, max_display=15)"
   ]
  },
  {
   "cell_type": "code",
   "execution_count": 24,
   "metadata": {},
   "outputs": [
    {
     "data": {
      "image/png": "[encoded data removed]",
      "text/plain": [
       "<Figure size 576x540 with 2 Axes>"
      ]
     },
     "metadata": {
      "needs_background": "light"
     },
     "output_type": "display_data"
    }
   ],
   "source": [
    "shap_values_dry = explainer(X[X['Mixing Process_Wet'] == 0])\n",
    "# summarize the effects of all the features\n",
    "shap.plots.beeswarm(shap_values_dry, max_display=15)"
   ]
  }
 ],
 "metadata": {
  "interpreter": {
   "hash": "fc22dc884bcedff190aa0e4687df8895271c55103986e14a4799605b50a1eed1"
  },
  "kernelspec": {
   "display_name": "Python 3.8.5 64-bit ('spyder': conda)",
   "name": "python3"
  },
  "language_info": {
   "codemirror_mode": {
    "name": "ipython",
    "version": 3
   },
   "file_extension": ".py",
   "mimetype": "text/x-python",
   "name": "python",
   "nbconvert_exporter": "python",
   "pygments_lexer": "ipython3",
   "version": "3.8.5"
  },
  "orig_nbformat": 4
 },
 "nbformat": 4,
 "nbformat_minor": 2
}
