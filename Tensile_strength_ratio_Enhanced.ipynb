{
 "metadata": {
  "language_info": {
   "codemirror_mode": {
    "name": "ipython",
    "version": 3
   },
   "file_extension": ".py",
   "mimetype": "text/x-python",
   "name": "python",
   "nbconvert_exporter": "python",
   "pygments_lexer": "ipython3",
   "version": "3.8.5"
  },
  "orig_nbformat": 4,
  "kernelspec": {
   "name": "python3",
   "display_name": "Python 3.8.5 64-bit ('spyder': conda)"
  },
  "interpreter": {
   "hash": "fc22dc884bcedff190aa0e4687df8895271c55103986e14a4799605b50a1eed1"
  }
 },
 "nbformat": 4,
 "nbformat_minor": 2,
 "cells": [
  {
   "cell_type": "markdown",
   "source": [
    "# Tensile Strength Ratio"
   ],
   "metadata": {}
  },
  {
   "cell_type": "code",
   "execution_count": null,
   "source": [
    "#%% IMPORTS\r\n",
    "#BASICS\r\n",
    "import pandas as pd\r\n",
    "import numpy as np\r\n",
    "import math\r\n",
    "import matplotlib.pyplot as plt\r\n",
    "import seaborn as sns\r\n",
    "from numpy import absolute\r\n",
    "from pandas.plotting import scatter_matrix\r\n",
    "from sklearn.pipeline import make_pipeline\r\n",
    "from IPython.display import display, Markdown, Latex\r\n",
    "pd.options.display.max_columns = None\r\n",
    "\r\n",
    "#STATISTICS\r\n",
    "from scipy.stats import normaltest\r\n",
    "from scipy import stats\r\n",
    "\r\n",
    "#ML TRAINING AND DATA PREPROCESSING\r\n",
    "from sklearn.model_selection import train_test_split\r\n",
    "from sklearn.preprocessing import MinMaxScaler\r\n",
    "from sklearn.experimental import enable_iterative_imputer\r\n",
    "from sklearn.impute import IterativeImputer\r\n",
    "from sklearn.preprocessing import PolynomialFeatures\r\n",
    "\r\n",
    "#ML MODELS\r\n",
    "from sklearn.tree import DecisionTreeRegressor\r\n",
    "from sklearn.linear_model import BayesianRidge\r\n",
    "from sklearn.ensemble import ExtraTreesRegressor\r\n",
    "from sklearn.linear_model import LinearRegression\r\n",
    "from sklearn.linear_model import Ridge\r\n",
    "from sklearn.linear_model import SGDRegressor\r\n",
    "from sklearn.linear_model import Lasso\r\n",
    "from sklearn.linear_model import ElasticNet\r\n",
    "from sklearn.svm import SVR\r\n",
    "from sklearn.tree import DecisionTreeRegressor\r\n",
    "from sklearn.ensemble import RandomForestRegressor\r\n",
    "from sklearn.ensemble import ExtraTreesRegressor\r\n",
    "from xgboost import XGBRegressor\r\n",
    "import xgboost as xgb\r\n",
    "from xgboost import plot_importance\r\n",
    "\r\n",
    "#MODEL EVALUATION\r\n",
    "from sklearn.model_selection import cross_validate\r\n",
    "from sklearn.model_selection import cross_val_score\r\n",
    "from sklearn.model_selection import GridSearchCV \r\n",
    "from sklearn.model_selection import RandomizedSearchCV\r\n",
    "from sklearn.model_selection import RepeatedKFold\r\n",
    "\r\n",
    "#METRICS\r\n",
    "from sklearn.metrics import r2_score\r\n",
    "from sklearn.metrics import mean_absolute_error\r\n",
    "from sklearn.metrics import mean_squared_error"
   ],
   "outputs": [],
   "metadata": {}
  },
  {
   "cell_type": "markdown",
   "source": [
    "## 1. Methods"
   ],
   "metadata": {}
  },
  {
   "cell_type": "code",
   "execution_count": null,
   "source": [
    "#Eliminate Outliers based on the interquantile\r\n",
    "#datFrame: Data frame where the outliers will be eliminated.\r\n",
    "#columnName: the name of the column where the outliers will be identified.\r\n",
    "def eliminateOutliers (dataFrame, columnName):\r\n",
    "    Q1 = dataFrame[columnName].quantile(0.25)\r\n",
    "    Q3 = dataFrame[columnName].quantile(0.75)\r\n",
    "    IQR = Q3 - Q1\r\n",
    "    print('Initial dataframe size: '+str(dataFrame.shape))\r\n",
    "    dataFrame = dataFrame[(dataFrame[columnName] < (Q3 + 1.5 * IQR)) & (dataFrame[columnName] > (Q1 - 1.5 * IQR))]\r\n",
    "    print('Final dataframe size: '+str(dataFrame.shape))\r\n",
    "    return dataFrame"
   ],
   "outputs": [],
   "metadata": {}
  },
  {
   "cell_type": "code",
   "execution_count": null,
   "source": [
    "# Create the boxplot graphs for the categorical variables\r\n",
    "# dataFrame: Data frame associated to the property of interest (dfAirVoids, dfMS, dfMF, dfITS, dfTSR)\r\n",
    "# propertyOfInterest: the name of the column where the property of interest is located.\r\n",
    "# columnName1...4: The categorical columns to evaluate.\r\n",
    "def displayBoxPlotGraphs (dataFrame, propertyOfInterest, columnName1, columnName2, columnName3, columnName4):\r\n",
    "    f, ((ax1, ax2), (ax3, ax4)) = plt.subplots(2, 2, figsize=(15,10))\r\n",
    "    sns.boxplot(y = propertyOfInterest, x = columnName1, data=dataFrame,  orient='v' , ax=ax1)\r\n",
    "    sns.boxplot(y = propertyOfInterest, x = columnName2, data=dataFrame,  orient='v' , ax=ax2)\r\n",
    "    sns.boxplot(y = propertyOfInterest, x= columnName3, data=dataFrame,  orient='v' , ax=ax3)\r\n",
    "    sns.boxplot(y= propertyOfInterest, x= columnName4, data=dataFrame,  orient='v' , ax=ax4)"
   ],
   "outputs": [],
   "metadata": {}
  },
  {
   "cell_type": "markdown",
   "source": [
    "## 2. Data Import"
   ],
   "metadata": {}
  },
  {
   "cell_type": "code",
   "execution_count": null,
   "source": [
    "#%%DATA READING AND INITIAL PREPROCESSING\r\n",
    "numericColumns = ['Aggregate absorption (%)',\r\n",
    "                  'Apparent specific gravity',\r\n",
    "                    0.075,\r\n",
    "                    0.3,\r\n",
    "                    0.6,\r\n",
    "                    2.36,\r\n",
    "                    4.75,\r\n",
    "                    9.5,\r\n",
    "                    12.5,\r\n",
    "                    19,\r\n",
    "                    'Plastic particle size (mm)',\r\n",
    "                    'Mixing speed (RPM)',\r\n",
    "                    'Mixing Temperature',\r\n",
    "                    'Mixing Time (hours)',\r\n",
    "                    'Plastic Addition by bitumen weight (%)',\r\n",
    "                    'Bitumen content in the sample'\r\n",
    "                    ]\r\n",
    "categoricalColumns = ['Modified asphalt Mix?',\r\n",
    "                      'Agreggate Type',\r\n",
    "                    'Aggregate absorption (%)',\r\n",
    "                    'Filler used',\r\n",
    "                    'Consolidated bitumen penetration grade',\r\n",
    "                    'New Plastic Type',\r\n",
    "                    'Plastic pretreatment',\r\n",
    "                    'Plastic shape',\r\n",
    "                    'Plastic Size',\r\n",
    "                    'Mixing Process',\r\n",
    "                    'Plastic melted previous to addition?',\r\n",
    "                    'Aggregates replacement ?',\r\n",
    "                    'Bitumen replacement?',\r\n",
    "                    'Filler replacement',\r\n",
    "                    'Property',\r\n",
    "                    'Units']\r\n",
    "#It returns the dataframe of interes based on the property - 'AirVoids', 'MS', 'MF', 'ITS', 'TSR'\r\n",
    "def returnDf (propertyOfInterest):\r\n",
    "    df = pd.read_excel('fileML.xlsx', sheet_name = propertyOfInterest, engine='openpyxl')\r\n",
    "    df = df.set_index(propertyOfInterest + ' ID')\r\n",
    "    df.loc[:,:'Units'] = df.loc[:,:'Units'].applymap(str)\r\n",
    "    df.loc[:,:'Units'] = df.loc[:,:'Units'] .applymap(str.strip)\r\n",
    "    df.replace('NS', np.nan, inplace = True)\r\n",
    "    df[numericColumns] = df[numericColumns].replace('N/a', 0).astype(float)\r\n",
    "    return df"
   ],
   "outputs": [],
   "metadata": {}
  },
  {
   "cell_type": "code",
   "execution_count": null,
   "source": [
    "dfTSR = returnDf('TSR')"
   ],
   "outputs": [],
   "metadata": {}
  },
  {
   "cell_type": "markdown",
   "source": [
    "## 3. Data Exploration\n",
    "###  3.1 Total Sample"
   ],
   "metadata": {}
  },
  {
   "cell_type": "code",
   "execution_count": null,
   "source": [
    "dfTSR = eliminateOutliers(dfTSR, 'TSR of the sample[%]')"
   ],
   "outputs": [],
   "metadata": {}
  },
  {
   "cell_type": "code",
   "execution_count": null,
   "source": [
    "scatter_matrix(dfTSR[['Aggregate absorption (%)', 'Apparent specific gravity', 'Bitumen content in the sample', 'TSR of the sample[%]']], figsize=(10, 10))\r\n",
    "plt.show()"
   ],
   "outputs": [],
   "metadata": {}
  },
  {
   "cell_type": "code",
   "execution_count": null,
   "source": [
    "plt.figure(figsize=(16, 6))\r\n",
    "heatmap = sns.heatmap(dfTSR.corr(), vmin=-1, vmax=1, annot=True)\r\n",
    "heatmap.set_title('Correlation Heatmap TSR', fontdict={'fontsize':12}, pad=12)"
   ],
   "outputs": [],
   "metadata": {}
  },
  {
   "cell_type": "markdown",
   "source": [
    "Positive correlation with $\\color{red}{\\text{gradiation}}$ and negative with $\\color{red}{\\text{Aggregate absorption}}$."
   ],
   "metadata": {}
  },
  {
   "cell_type": "code",
   "execution_count": null,
   "source": [
    "displayBoxPlotGraphs(dataFrame = dfTSR, propertyOfInterest = 'TSR of the sample[%]', columnName1 = \"Agreggate Type\", columnName2 = \"Filler used\", columnName3 = \"Consolidated bitumen penetration grade\", columnName4 = \"Modified asphalt Mix?\")"
   ],
   "outputs": [],
   "metadata": {}
  },
  {
   "cell_type": "markdown",
   "source": [
    "It exists an strong difference between modified and unmodified asphalt mixture.\n",
    "\n",
    "###  3.2 Modified mixtures"
   ],
   "metadata": {}
  },
  {
   "cell_type": "code",
   "execution_count": null,
   "source": [
    "dfTSRModvsUnmod = dfTSR [['Modified asphalt Mix?', 'TSR of the sample[%]']]\r\n",
    "dfTSRModvsUnmod.groupby(['Modified asphalt Mix?'], as_index=False).describe()"
   ],
   "outputs": [],
   "metadata": {}
  },
  {
   "cell_type": "code",
   "execution_count": null,
   "source": [
    "dfTSRModified = dfTSR[dfTSR['Modified asphalt Mix?'] == 'Yes']\r\n",
    "dfTSRModified.iloc[:,2:].describe(include = \"all\")"
   ],
   "outputs": [],
   "metadata": {}
  },
  {
   "cell_type": "code",
   "execution_count": null,
   "source": [
    "columnsOfInteres = numericColumns[0:2]+numericColumns[10:]+['TSR of the sample[%]']\r\n",
    "scatter_matrix(dfTSRModified[columnsOfInteres], figsize=(25, 20))\r\n",
    "plt.show()"
   ],
   "outputs": [],
   "metadata": {}
  },
  {
   "cell_type": "code",
   "execution_count": null,
   "source": [
    "plt.figure(figsize=(16, 6))\r\n",
    "heatmap = sns.heatmap(dfTSRModified.corr(), vmin=-1, vmax=1, annot=True)\r\n",
    "heatmap.set_title('Correlation Heatmap TSR', fontdict={'fontsize':12}, pad=12)"
   ],
   "outputs": [],
   "metadata": {}
  },
  {
   "cell_type": "code",
   "execution_count": null,
   "source": [
    "displayBoxPlotGraphs(dataFrame = dfTSRModified, propertyOfInterest = \"TSR of the sample[%]\", columnName1 = \"Agreggate Type\", columnName2 = \"Plastic shape\", columnName3 = \"New Plastic Type\", columnName4 = \"Mixing Process\")"
   ],
   "outputs": [],
   "metadata": {}
  },
  {
   "cell_type": "markdown",
   "source": [
    "The large correlation is with $\\color{red}{\\text{plastic addition quantity}}$, and it exists a significant difference between $\\color{red}{\\text{wet}}$ and $\\color{red}{\\text{dry}}$ mixing.\n",
    "\n",
    "### 3.3 Wet vs. Dry Mixing"
   ],
   "metadata": {}
  },
  {
   "cell_type": "code",
   "execution_count": null,
   "source": [
    "dfTSRWetvsDry = dfTSRModified [['Mixing Process', 'TSR of the sample[%]']]\r\n",
    "dfTSRWetvsDry.groupby(['Mixing Process'], as_index=False).describe()"
   ],
   "outputs": [],
   "metadata": {}
  },
  {
   "cell_type": "code",
   "execution_count": null,
   "source": [
    "sns.pairplot(dfTSRModified[columnsOfInteres+['Mixing Process']], hue=\"Mixing Process\", height=2.5)"
   ],
   "outputs": [],
   "metadata": {}
  },
  {
   "cell_type": "markdown",
   "source": [
    "##  **TSR summary:**\n",
    "\n",
    " *  1 outliers were eliminated from the original sample.\n",
    " *  Total number of observation: 146 -> $\\mu$ = 84, $\\sigma$ = 10.31.\n",
    " *  Highest positive correlation with $\\color{red}{\\text{gradation}}$, and it exists a negative correlation with $\\color{red}{\\text{aggregate absorptionn}}$ (r = -0.18)\n",
    " *  Some difference between the modified and unmodified mixtures -> $\\mu_{modified}$ = 86.48,  $\\mu_{unmodified}$ = 77.65.\n",
    " *  Modified mixtures present positive correlation with $\\color{red}{\\text{plastic addition}}$ (r = 0.26).\n",
    " *  Possible difference between dry and wet.  Dry ($\\mu_{dry}$ = 88, $\\sigma_{dry}$ = 8.9) vs. wet ($\\mu_{wet}$ = 83.7, $\\sigma_{wet}$ = 8.3) -> This is not conclusive because the variance of both sample groups is large.\n",
    "\n",
    "## 4. Data Pre-processing"
   ],
   "metadata": {}
  },
  {
   "cell_type": "code",
   "execution_count": null,
   "source": [
    "dfTSR.info()"
   ],
   "outputs": [],
   "metadata": {}
  },
  {
   "cell_type": "markdown",
   "source": [
    "###  Pre-processing:\n",
    "1.  Eliminate the columns $\\color{red}{\\text{Article ID}}$, $\\color{red}{\\text{Global ID}}$, $\\color{red}{\\text{Aggregate type}}$, $\\color{red}{\\text{Apparent specific gravity}}$, $\\color{red}{\\text{filler used}}$, $\\color{red}{\\text{Bitumen type penetration grade}}$, $\\color{red}{\\text{plastic size}}$, $\\color{red}{\\text{Property}}$ and $\\color{red}{\\text{Units}}$.\n",
    "2.  Change the N/a to zero. This is for the unmodified mixtures.\n",
    "4.  Change categorical columns to numeric - $\\color{red}{\\text{Modified asphalt Mix?}}$, $\\color{red}{\\text{Consolidated bitumen penetration grade}}$, $\\color{red}{\\text{New Plastic Type}}$, $\\color{red}{\\text{Plastic pretreatment}}$, $\\color{red}{\\text{Plastic shape}}$, $\\color{red}{\\text{Mixing Process}}$, $\\color{red}{\\text{Plastic melted previous to addition?}}$, $\\color{red}{\\text{Replacements}}$.\n",
    "5.  Imputer to $\\color{red}{\\text{Aggregate absorption}}$, $\\color{red}{\\text{gradations}}$, $\\color{red}{\\text{plastic size(mm)}}$, $\\color{red}{\\text{mixing parameters}}$ and $\\color{red}{\\text{Bitumen content in the sample}}$."
   ],
   "metadata": {}
  },
  {
   "cell_type": "code",
   "execution_count": 35,
   "source": [
    "dfTSRCleaned = dfTSR.drop(['Article ID', \r\n",
    "                        'Global ID',\r\n",
    "                        'Modified asphalt Mix?',\r\n",
    "                        'Agreggate Type', \r\n",
    "                        'Apparent specific gravity', \r\n",
    "                        'Filler used', \r\n",
    "                        'Bitumen Type Penetration Grade',\r\n",
    "                        'Plastic Size', \r\n",
    "                        'Property', \r\n",
    "                        'Units'], axis = 1)\r\n",
    "dfTSRCleaned = dfTSRCleaned.replace('N/a', 0)\r\n",
    "dfTSRCleaned = pd.get_dummies(dfTSRCleaned, columns=['New Plastic Type'], drop_first = False)\r\n",
    "dfTSRCleaned = pd.get_dummies(dfTSRCleaned, drop_first=True)\r\n",
    "dfTSRCleaned = dfTSRCleaned.drop(['New Plastic Type_0'], axis = 1)\r\n",
    "dfTSRCleaned.info()"
   ],
   "outputs": [
    {
     "output_type": "stream",
     "name": "stdout",
     "text": [
      "<class 'pandas.core.frame.DataFrame'>\n",
      "Int64Index: 146 entries, 35 to 16\n",
      "Data columns (total 32 columns):\n",
      " #   Column                                         Non-Null Count  Dtype  \n",
      "---  ------                                         --------------  -----  \n",
      " 0   Aggregate absorption (%)                       108 non-null    float64\n",
      " 1   0.075                                          139 non-null    float64\n",
      " 2   0.3                                            139 non-null    float64\n",
      " 3   0.6                                            143 non-null    float64\n",
      " 4   2.36                                           143 non-null    float64\n",
      " 5   4.75                                           143 non-null    float64\n",
      " 6   9.5                                            143 non-null    float64\n",
      " 7   12.5                                           143 non-null    float64\n",
      " 8   19                                             143 non-null    float64\n",
      " 9   Plastic particle size (mm)                     113 non-null    float64\n",
      " 10  Mixing speed (RPM)                             134 non-null    float64\n",
      " 11  Mixing Temperature                             146 non-null    float64\n",
      " 12  Mixing Time (hours)                            133 non-null    float64\n",
      " 13  Plastic Addition by bitumen weight (%)         146 non-null    float64\n",
      " 14  Bitumen content in the sample                  121 non-null    float64\n",
      " 15  TSR of the sample[%]                           146 non-null    float64\n",
      " 16  New Plastic Type_PE                            146 non-null    uint8  \n",
      " 17  New Plastic Type_PET                           146 non-null    uint8  \n",
      " 18  New Plastic Type_PP                            146 non-null    uint8  \n",
      " 19  New Plastic Type_PS                            146 non-null    uint8  \n",
      " 20  New Plastic Type_Plastic Mix                   146 non-null    uint8  \n",
      " 21  Consolidated bitumen penetration grade_50/70   146 non-null    uint8  \n",
      " 22  Consolidated bitumen penetration grade_70/100  146 non-null    uint8  \n",
      " 23  Plastic pretreatment_Physical                  146 non-null    uint8  \n",
      " 24  Plastic pretreatment_Plastic Melted            146 non-null    uint8  \n",
      " 25  Plastic shape_Fibers                           146 non-null    uint8  \n",
      " 26  Plastic shape_Pellets                          146 non-null    uint8  \n",
      " 27  Plastic shape_Shredded                         146 non-null    uint8  \n",
      " 28  Mixing Process_Dry                             146 non-null    uint8  \n",
      " 29  Mixing Process_Wet                             146 non-null    uint8  \n",
      " 30  Aggregates replacement ?_Yes                   146 non-null    uint8  \n",
      " 31  Bitumen replacement?_Yes                       146 non-null    uint8  \n",
      "dtypes: float64(16), uint8(16)\n",
      "memory usage: 21.7 KB\n"
     ]
    }
   ],
   "metadata": {}
  },
  {
   "cell_type": "code",
   "execution_count": 36,
   "source": [
    "#IMPUTATION OF MISSING VALUES\r\n",
    "imputer = IterativeImputer (estimator = ExtraTreesRegressor(n_estimators=10, random_state=0), max_iter=100)\r\n",
    "n = imputer.fit_transform(dfTSRCleaned)\r\n",
    "dfTSRCleanedImputed = pd.DataFrame(n, columns = list(dfTSRCleaned.columns))\r\n",
    "dfTSRCleanedImputed.info()\r\n",
    "print ('There is '+str(sum(n < 0 for n in dfTSRCleanedImputed.values.flatten()))+' negative values in the new Dataframe')"
   ],
   "outputs": [
    {
     "output_type": "stream",
     "name": "stdout",
     "text": [
      "<class 'pandas.core.frame.DataFrame'>\n",
      "RangeIndex: 146 entries, 0 to 145\n",
      "Data columns (total 32 columns):\n",
      " #   Column                                         Non-Null Count  Dtype  \n",
      "---  ------                                         --------------  -----  \n",
      " 0   Aggregate absorption (%)                       146 non-null    float64\n",
      " 1   0.075                                          146 non-null    float64\n",
      " 2   0.3                                            146 non-null    float64\n",
      " 3   0.6                                            146 non-null    float64\n",
      " 4   2.36                                           146 non-null    float64\n",
      " 5   4.75                                           146 non-null    float64\n",
      " 6   9.5                                            146 non-null    float64\n",
      " 7   12.5                                           146 non-null    float64\n",
      " 8   19                                             146 non-null    float64\n",
      " 9   Plastic particle size (mm)                     146 non-null    float64\n",
      " 10  Mixing speed (RPM)                             146 non-null    float64\n",
      " 11  Mixing Temperature                             146 non-null    float64\n",
      " 12  Mixing Time (hours)                            146 non-null    float64\n",
      " 13  Plastic Addition by bitumen weight (%)         146 non-null    float64\n",
      " 14  Bitumen content in the sample                  146 non-null    float64\n",
      " 15  TSR of the sample[%]                           146 non-null    float64\n",
      " 16  New Plastic Type_PE                            146 non-null    float64\n",
      " 17  New Plastic Type_PET                           146 non-null    float64\n",
      " 18  New Plastic Type_PP                            146 non-null    float64\n",
      " 19  New Plastic Type_PS                            146 non-null    float64\n",
      " 20  New Plastic Type_Plastic Mix                   146 non-null    float64\n",
      " 21  Consolidated bitumen penetration grade_50/70   146 non-null    float64\n",
      " 22  Consolidated bitumen penetration grade_70/100  146 non-null    float64\n",
      " 23  Plastic pretreatment_Physical                  146 non-null    float64\n",
      " 24  Plastic pretreatment_Plastic Melted            146 non-null    float64\n",
      " 25  Plastic shape_Fibers                           146 non-null    float64\n",
      " 26  Plastic shape_Pellets                          146 non-null    float64\n",
      " 27  Plastic shape_Shredded                         146 non-null    float64\n",
      " 28  Mixing Process_Dry                             146 non-null    float64\n",
      " 29  Mixing Process_Wet                             146 non-null    float64\n",
      " 30  Aggregates replacement ?_Yes                   146 non-null    float64\n",
      " 31  Bitumen replacement?_Yes                       146 non-null    float64\n",
      "dtypes: float64(32)\n",
      "memory usage: 36.6 KB\n",
      "There is 0 negative values in the new Dataframe\n"
     ]
    }
   ],
   "metadata": {}
  },
  {
   "cell_type": "code",
   "execution_count": 37,
   "source": [
    "dfTSRCleanedImputed['New Plastic Type_PE'] = dfTSRCleanedImputed['New Plastic Type_PE'] * dfTSRCleanedImputed['Plastic Addition by bitumen weight (%)']\r\n",
    "dfTSRCleanedImputed['New Plastic Type_PET'] = dfTSRCleanedImputed['New Plastic Type_PET'] * dfTSRCleanedImputed['Plastic Addition by bitumen weight (%)']\r\n",
    "dfTSRCleanedImputed['New Plastic Type_PP'] = dfTSRCleanedImputed['New Plastic Type_PP'] * dfTSRCleanedImputed['Plastic Addition by bitumen weight (%)']\r\n",
    "dfTSRCleanedImputed['New Plastic Type_PS'] = dfTSRCleanedImputed['New Plastic Type_PS'] * dfTSRCleanedImputed['Plastic Addition by bitumen weight (%)']\r\n",
    "dfTSRCleanedImputed['New Plastic Type_Plastic Mix'] = dfTSRCleanedImputed['New Plastic Type_Plastic Mix'] * dfTSRCleanedImputed['Plastic Addition by bitumen weight (%)']\r\n",
    "dfTSRCleanedImputed = dfTSRCleanedImputed.drop(['Plastic Addition by bitumen weight (%)'], axis = 1)"
   ],
   "outputs": [],
   "metadata": {}
  },
  {
   "cell_type": "code",
   "execution_count": 38,
   "source": [
    "scaler = MinMaxScaler()\r\n",
    "dfTSRCleanedImputedScaled = pd.DataFrame(scaler.fit_transform(dfTSRCleanedImputed), columns = list(dfTSRCleanedImputed.columns))\r\n",
    "dfTSRCleanedImputedScaled.to_clipboard()"
   ],
   "outputs": [],
   "metadata": {}
  },
  {
   "cell_type": "markdown",
   "source": [
    "## 5. Model Training"
   ],
   "metadata": {}
  },
  {
   "cell_type": "code",
   "execution_count": 39,
   "source": [
    "min = dfTSRCleanedImputed['TSR of the sample[%]'].min()\r\n",
    "max = dfTSRCleanedImputed['TSR of the sample[%]'].max()\r\n",
    "print('The min value is: '+str(min)+'. The max value is: '+str(max))"
   ],
   "outputs": [
    {
     "output_type": "stream",
     "name": "stdout",
     "text": [
      "The min value is: 62.1. The max value is: 109.65\n"
     ]
    }
   ],
   "metadata": {}
  },
  {
   "cell_type": "code",
   "execution_count": null,
   "source": [
    "#Method that print the best parameters, R2 and MSE based on a grid search.\r\n",
    "def printBestModelAdv (grid, estimator = n, advancedAnalysis = False):\r\n",
    "    min = dfTSRCleanedImputed['TSR of the sample[%]'].min()\r\n",
    "    max = dfTSRCleanedImputed['TSR of the sample[%]'].max()\r\n",
    "    mse = -grid.best_score_\r\n",
    "    print('Best Parameters:' , grid.best_params_)\r\n",
    "    print('Best Test MSE: ' + str(mse))\r\n",
    "    print('Std of the Test MSE:' + str(grid.cv_results_['std_test_neg_mean_squared_error'][grid.best_index_]))\r\n",
    "    print('Best Test RMSE: ' +str(math.sqrt(mse)))\r\n",
    "    print('Best Test scaled RMSE: ' +str((math.sqrt(mse)*(max-min))+min))\r\n",
    "    print('Best Test scaled MSE: ' +str(((math.sqrt(mse)*(max-min))+min)**2)) \r\n",
    "    print('Best Test R2: ' + str(grid.cv_results_['mean_test_r2'][grid.best_index_]))\r\n",
    "    if (advancedAnalysis):\r\n",
    "        bestEstimator = estimator\r\n",
    "        bestEstimator.fit(X_train, y_train)\r\n",
    "        predictionsTrain = bestEstimator.predict(X_train)\r\n",
    "        df = pd.DataFrame({'predictions':predictionsTrain, 'original': y_train})\r\n",
    "        df.plot.hist(bins=10, alpha=0.5)\r\n",
    "        unScaledDf = (df*(max-min))+min\r\n",
    "        print (unScaledDf.describe())"
   ],
   "outputs": [],
   "metadata": {}
  },
  {
   "cell_type": "code",
   "execution_count": 40,
   "source": [
    "X = dfTSRCleanedImputedScaled.loc[:, dfTSRCleanedImputedScaled.columns != 'TSR of the sample[%]']\r\n",
    "y = dfTSRCleanedImputedScaled.loc[:,'TSR of the sample[%]']\r\n",
    "X_train, X_test, y_train, y_test = train_test_split(X, y, test_size=0.2, random_state=123)\r\n",
    "cv = RepeatedKFold(n_splits = 5, n_repeats = 10, random_state = 123)"
   ],
   "outputs": [],
   "metadata": {}
  },
  {
   "cell_type": "code",
   "execution_count": 41,
   "source": [
    "y_train_new = y_train.to_frame()\r\n",
    "y_train_new['y_train_unscaled'] = (y_train*(max-min))+min\r\n",
    "y_train_new.describe()"
   ],
   "outputs": [
    {
     "output_type": "execute_result",
     "data": {
      "text/plain": [
       "       TSR of the sample[%]  y_train_unscaled\n",
       "count            116.000000        116.000000\n",
       "mean               0.487701         85.290172\n",
       "std                0.208753          9.926213\n",
       "min                0.011567         62.650000\n",
       "25%                0.374711         79.917500\n",
       "50%                0.500736         85.910000\n",
       "75%                0.630074         92.060000\n",
       "max                1.000000        109.650000"
      ],
      "text/html": [
       "<div>\n",
       "<style scoped>\n",
       "    .dataframe tbody tr th:only-of-type {\n",
       "        vertical-align: middle;\n",
       "    }\n",
       "\n",
       "    .dataframe tbody tr th {\n",
       "        vertical-align: top;\n",
       "    }\n",
       "\n",
       "    .dataframe thead th {\n",
       "        text-align: right;\n",
       "    }\n",
       "</style>\n",
       "<table border=\"1\" class=\"dataframe\">\n",
       "  <thead>\n",
       "    <tr style=\"text-align: right;\">\n",
       "      <th></th>\n",
       "      <th>TSR of the sample[%]</th>\n",
       "      <th>y_train_unscaled</th>\n",
       "    </tr>\n",
       "  </thead>\n",
       "  <tbody>\n",
       "    <tr>\n",
       "      <th>count</th>\n",
       "      <td>116.000000</td>\n",
       "      <td>116.000000</td>\n",
       "    </tr>\n",
       "    <tr>\n",
       "      <th>mean</th>\n",
       "      <td>0.487701</td>\n",
       "      <td>85.290172</td>\n",
       "    </tr>\n",
       "    <tr>\n",
       "      <th>std</th>\n",
       "      <td>0.208753</td>\n",
       "      <td>9.926213</td>\n",
       "    </tr>\n",
       "    <tr>\n",
       "      <th>min</th>\n",
       "      <td>0.011567</td>\n",
       "      <td>62.650000</td>\n",
       "    </tr>\n",
       "    <tr>\n",
       "      <th>25%</th>\n",
       "      <td>0.374711</td>\n",
       "      <td>79.917500</td>\n",
       "    </tr>\n",
       "    <tr>\n",
       "      <th>50%</th>\n",
       "      <td>0.500736</td>\n",
       "      <td>85.910000</td>\n",
       "    </tr>\n",
       "    <tr>\n",
       "      <th>75%</th>\n",
       "      <td>0.630074</td>\n",
       "      <td>92.060000</td>\n",
       "    </tr>\n",
       "    <tr>\n",
       "      <th>max</th>\n",
       "      <td>1.000000</td>\n",
       "      <td>109.650000</td>\n",
       "    </tr>\n",
       "  </tbody>\n",
       "</table>\n",
       "</div>"
      ]
     },
     "metadata": {},
     "execution_count": 41
    }
   ],
   "metadata": {}
  },
  {
   "cell_type": "code",
   "execution_count": 42,
   "source": [
    "g = sns.histplot(data=y_train_new, x=\"y_train_unscaled\", bins=10, kde=True)\r\n",
    "g.set_ylabel('Frequency')\r\n",
    "g.set_xlabel('Tensile strength ratio (%)')\r\n",
    "plt.show()"
   ],
   "outputs": [
    {
     "output_type": "display_data",
     "data": {
      "text/plain": [
       "<Figure size 432x288 with 1 Axes>"
      ],
      "image/png": "[encoded data removed]"
     },
     "metadata": {
      "needs_background": "light"
     }
    }
   ],
   "metadata": {}
  },
  {
   "cell_type": "code",
   "execution_count": null,
   "source": [
    "sns.set_style('darkgrid')\r\n",
    "fig, ax = plt.subplots()\r\n",
    "sns.histplot(x=y_train_new[\"y_train_unscaled\"], bins=10, kde=True, ax = ax)\r\n",
    "ax.set(xlabel='Tensile strength ratio (%)')\r\n",
    "ax.axvline(x=70, label='Minimum accepted value' , linestyle = '--', color='k')\r\n",
    "ax.set_title('(e)')\r\n",
    "ax.legend()\r\n",
    "plt.show()"
   ],
   "outputs": [],
   "metadata": {}
  },
  {
   "cell_type": "code",
   "execution_count": null,
   "source": [
    "len(y_train_new[y_train_new[\"y_train_unscaled\"]<70])"
   ],
   "outputs": [],
   "metadata": {}
  },
  {
   "cell_type": "markdown",
   "source": [
    "### 5.1 Model Evaluation\n",
    "#### Linear Model"
   ],
   "metadata": {}
  },
  {
   "cell_type": "code",
   "execution_count": null,
   "source": [
    "param_grid = {'fit_intercept': [True, False],\r\n",
    "            'positive': [True, False]}\r\n",
    "grid = GridSearchCV(LinearRegression(), param_grid, cv = cv, scoring=['neg_mean_squared_error', 'r2'], refit = 'neg_mean_squared_error', return_train_score= True)\r\n",
    "grid.fit(X_train, y_train)\r\n",
    "printBestModelAdv(grid) "
   ],
   "outputs": [],
   "metadata": {}
  },
  {
   "cell_type": "markdown",
   "source": [
    "#### Lasso Linear Model"
   ],
   "metadata": {}
  },
  {
   "cell_type": "code",
   "execution_count": null,
   "source": [
    "param_grid = {'alpha': [0.001,1, 10, 15, 30, 50, 100],\r\n",
    "            'fit_intercept':[True, False],\r\n",
    "            'positive': [True, False]}\r\n",
    "grid = GridSearchCV(Lasso(), param_grid, cv=cv, scoring=['neg_mean_squared_error', 'r2'], refit = 'neg_mean_squared_error', return_train_score= True)\r\n",
    "grid.fit(X_train, y_train)\r\n",
    "printBestModelAdv(grid)"
   ],
   "outputs": [],
   "metadata": {}
  },
  {
   "cell_type": "markdown",
   "source": [
    "#### Ridge Linear regression model"
   ],
   "metadata": {}
  },
  {
   "cell_type": "code",
   "execution_count": null,
   "source": [
    "param_grid = {'alpha': [7, 8, 10,100],\r\n",
    "'fit_intercept': [True, False],\r\n",
    "'solver': [ 'svd', 'cholesky', 'lsqr', 'sparse_cg', 'sag', 'saga']}\r\n",
    "grid = GridSearchCV(Ridge(), param_grid, cv=cv, scoring=['neg_mean_squared_error', 'r2'], refit = 'neg_mean_squared_error')\r\n",
    "grid.fit(X_train, y_train)\r\n",
    "printBestModelAdv(grid)"
   ],
   "outputs": [],
   "metadata": {}
  },
  {
   "cell_type": "markdown",
   "source": [
    "#### Linear Elastic net"
   ],
   "metadata": {}
  },
  {
   "cell_type": "code",
   "execution_count": null,
   "source": [
    "param_grid = {'alpha': [0.01,1,2,3,4],\r\n",
    "'fit_intercept': [True, False]}\r\n",
    "grid = GridSearchCV(ElasticNet(), param_grid, cv=cv, scoring=['neg_mean_squared_error', 'r2'], refit = 'neg_mean_squared_error')\r\n",
    "grid.fit(X_train, y_train)\r\n",
    "printBestModelAdv(grid)"
   ],
   "outputs": [],
   "metadata": {}
  },
  {
   "cell_type": "markdown",
   "source": [
    "#### Polynomial model"
   ],
   "metadata": {}
  },
  {
   "cell_type": "code",
   "execution_count": null,
   "source": [
    "def PolynomialRegression(degree=2, **kwargs):\r\n",
    "    return make_pipeline(PolynomialFeatures(degree), LinearRegression(**kwargs))\r\n",
    "\r\n",
    "param_grid = {'polynomialfeatures__degree': [2,3],\r\n",
    "'linearregression__fit_intercept': [True, False],\r\n",
    "'linearregression__positive':[True, False]}\r\n",
    "grid = GridSearchCV(PolynomialRegression(), param_grid, cv=cv, scoring=['neg_mean_squared_error', 'r2'], refit = 'neg_mean_squared_error')\r\n",
    "grid.fit(X_train, y_train)\r\n",
    "printBestModelAdv(grid)"
   ],
   "outputs": [],
   "metadata": {}
  },
  {
   "cell_type": "markdown",
   "source": [
    "#### Lasso Polynomial model"
   ],
   "metadata": {}
  },
  {
   "cell_type": "code",
   "execution_count": null,
   "source": [
    "def PolynomialRegression(degree=2, **kwargs):\r\n",
    "    return make_pipeline(PolynomialFeatures(degree), Lasso(**kwargs))\r\n",
    "\r\n",
    "param_grid = {'polynomialfeatures__degree': [2,3],\r\n",
    "            'lasso__alpha': [1,2, 3, 10, 15, 30],\r\n",
    "            'lasso__fit_intercept':[True, False],\r\n",
    "            'lasso__positive': [True, False],\r\n",
    "            'lasso__max_iter': [2000,3000, 3500]}\r\n",
    "grid = GridSearchCV(PolynomialRegression(), param_grid, cv=cv, scoring=['neg_mean_squared_error', 'r2'], refit = 'neg_mean_squared_error', return_train_score= True)\r\n",
    "grid.fit(X_train, y_train)\r\n",
    "printBestModelAdv(grid)"
   ],
   "outputs": [],
   "metadata": {}
  },
  {
   "cell_type": "markdown",
   "source": [
    "#### Ridge polynomial model"
   ],
   "metadata": {}
  },
  {
   "cell_type": "code",
   "execution_count": null,
   "source": [
    "def PolynomialRegression(degree=2, **kwargs):\r\n",
    "    return make_pipeline(PolynomialFeatures(degree), Ridge(**kwargs))\r\n",
    "\r\n",
    "param_grid = {'polynomialfeatures__degree': [2,3],\r\n",
    "'ridge__alpha':[20,30,50, 60],\r\n",
    "'ridge__fit_intercept': [True, False],\r\n",
    "'ridge__solver': [ 'lsqr', 'cholesky', 'sparse_cg', 'auto']}\r\n",
    "grid = GridSearchCV(PolynomialRegression(), param_grid, cv=cv, scoring=['neg_mean_squared_error', 'r2'], refit='neg_mean_squared_error')\r\n",
    "grid.fit(X_train, y_train)\r\n",
    "printBestModelAdv(grid)"
   ],
   "outputs": [],
   "metadata": {}
  },
  {
   "cell_type": "markdown",
   "source": [
    "#### Support vector regression"
   ],
   "metadata": {}
  },
  {
   "cell_type": "code",
   "execution_count": null,
   "source": [
    "param_grid = {\r\n",
    "    'kernel':['linear','rbf', 'sigmoid', 'poly'],\r\n",
    "    'degree':[2,3,4],\r\n",
    "    'C':[0.01,1,5,10],\r\n",
    "    'epsilon':[0.1,0.2, 1, 1.5]\r\n",
    "}\r\n",
    "grid = GridSearchCV(SVR(), param_grid, cv=cv, scoring=['neg_mean_squared_error', 'r2'], refit='neg_mean_squared_error')\r\n",
    "grid.fit(X_train, y_train)\r\n",
    "printBestModelAdv(grid)"
   ],
   "outputs": [],
   "metadata": {}
  },
  {
   "cell_type": "markdown",
   "source": [
    "#### Decision Tree regressor"
   ],
   "metadata": {}
  },
  {
   "cell_type": "code",
   "execution_count": null,
   "source": [
    "param_grid = {\r\n",
    "    'max_depth':[None,2,3,5,10,30,50],\r\n",
    "    'min_samples_split':[2,3,4],\r\n",
    "    'min_samples_leaf':[1,2,5],\r\n",
    "    'max_leaf_nodes': [None, 5,10]\r\n",
    "}\r\n",
    "grid = GridSearchCV(DecisionTreeRegressor(), param_grid, cv=cv, scoring=['r2','neg_mean_squared_error'], refit='neg_mean_squared_error')\r\n",
    "grid.fit(X_train, y_train)\r\n",
    "printBestModelAdv(grid)"
   ],
   "outputs": [],
   "metadata": {}
  },
  {
   "cell_type": "markdown",
   "source": [
    "#### Random Forest"
   ],
   "metadata": {}
  },
  {
   "cell_type": "code",
   "execution_count": null,
   "source": [
    "param_grid = {\r\n",
    "    'bootstrap': [False],\r\n",
    "    'max_depth': [None],\r\n",
    "    'max_features': [ 'sqrt'],\r\n",
    "    'min_samples_leaf': [1],\r\n",
    "    'min_samples_split': [2],\r\n",
    "    'n_estimators': [200, 400, 600, 800, 1000, 1200, 1400, 1600, 1800, 2000]\r\n",
    "}\r\n",
    "grid = GridSearchCV(RandomForestRegressor(), param_grid, cv=cv, scoring=['r2','neg_mean_squared_error'], refit='neg_mean_squared_error')\r\n",
    "grid.fit(X_train, y_train)\r\n",
    "printBestModelAdv(grid, RandomForestRegressor(**grid.best_params_), True)"
   ],
   "outputs": [],
   "metadata": {}
  },
  {
   "cell_type": "code",
   "execution_count": null,
   "source": [
    "param_grid = {\r\n",
    "    'bootstrap': [True, False],\r\n",
    "    'max_depth': [10, 20, 30, 40, 50, 60, 70, 80, 90, 100, None],\r\n",
    "    'max_features': ['auto', 'sqrt'],\r\n",
    "    'min_samples_leaf': [1, 2, 4],\r\n",
    "    'min_samples_split': [2, 5, 10],\r\n",
    "    'n_estimators': [200, 400, 600, 800, 1000, 1200, 1400, 1600, 1800, 2000]\r\n",
    "}\r\n",
    "grid = RandomizedSearchCV(RandomForestRegressor(), param_grid, cv=cv, scoring=['r2','neg_mean_squared_error'], refit='neg_mean_squared_error', n_iter=10)\r\n",
    "grid.fit(X_train, y_train)\r\n",
    "printBestModelAdv(grid, RandomForestRegressor(**grid.best_params_), True)"
   ],
   "outputs": [],
   "metadata": {}
  },
  {
   "cell_type": "markdown",
   "source": [
    "#### Extra tree regressor"
   ],
   "metadata": {}
  },
  {
   "cell_type": "code",
   "execution_count": null,
   "source": [
    "param_grid = {\r\n",
    "    'bootstrap': [True, False],\r\n",
    "    'max_depth': [10, 20, 30, 40, 50, 60, 70, 80, 90, 100, None],\r\n",
    "    'max_features': ['auto', 'sqrt'],\r\n",
    "    'min_samples_leaf': [1, 2, 4],\r\n",
    "    'min_samples_split': [2, 5, 10],\r\n",
    "    'n_estimators': [200, 400, 600, 800, 1000, 1200, 1400, 1600, 1800, 2000]\r\n",
    "}\r\n",
    "grid = RandomizedSearchCV(ExtraTreesRegressor(), param_grid, cv=cv, scoring=['r2','neg_mean_squared_error'], refit='neg_mean_squared_error', n_iter=10)\r\n",
    "grid.fit(X_train, y_train)\r\n",
    "printBestModelAdv(grid, RandomForestRegressor(**grid.best_params_), True)"
   ],
   "outputs": [],
   "metadata": {}
  },
  {
   "cell_type": "markdown",
   "source": [
    "#### XG Boost Regressor"
   ],
   "metadata": {}
  },
  {
   "cell_type": "code",
   "execution_count": null,
   "source": [
    "XGBoostModel = XGBRegressor()\r\n",
    "scores = cross_val_score(XGBoostModel, X_train, y_train , scoring = 'neg_mean_squared_error', cv = cv)\r\n",
    "scores = np.absolute(scores)\r\n",
    "print (scores.mean())"
   ],
   "outputs": [],
   "metadata": {}
  },
  {
   "cell_type": "code",
   "execution_count": null,
   "source": [
    "param_grid = {\r\n",
    "    'eta':[0.07,0.08, 0.09, 0.1, 0.2, 0.3, 0.4, 0.5],\r\n",
    "    'max_depth':np.arange(3,11,1),\r\n",
    "    'max_delta_step': np.arange(0,11,1),\r\n",
    "    'gamma' : [0, 0.001, 0.01, 0.1, 1, 10],\r\n",
    "    'lambda' : np.arange(5,15,1),\r\n",
    "    'alpha' : np.arange(0,11,1),\r\n",
    "    'n_estimators': [100,300,500,1000]\r\n",
    "}\r\n",
    "grid = RandomizedSearchCV(XGBRegressor(random_state=123), param_grid, cv=cv, scoring=['neg_mean_squared_error', 'r2'], refit='neg_mean_squared_error',n_iter=10)\r\n",
    "grid.fit(X_train, y_train)\r\n",
    "printBestModelAdv(grid, XGBRegressor(**grid.best_params_), True)"
   ],
   "outputs": [],
   "metadata": {}
  },
  {
   "cell_type": "code",
   "execution_count": null,
   "source": [
    "param_grid = {\r\n",
    "    'n_estimators': [100,300, 500, 1000]\r\n",
    "}\r\n",
    "grid = GridSearchCV(XGBRegressor(random_state=123), param_grid, cv=cv, scoring=['neg_mean_squared_error', 'r2'], refit='neg_mean_squared_error')\r\n",
    "grid.fit(X_train, y_train)\r\n",
    "printBestModelAdv(grid, XGBRegressor(**grid.best_params_), True)"
   ],
   "outputs": [],
   "metadata": {}
  },
  {
   "cell_type": "code",
   "execution_count": null,
   "source": [
    "#Graph employed for selecting important features during tunning\r\n",
    "XGBoostModel.fit(X,y)\r\n",
    "ax = plot_importance(XGBoostModel, height=0.8, importance_type='gain', show_values=False)\r\n",
    "fig = ax.figure\r\n",
    "fig.set_size_inches(10,10)"
   ],
   "outputs": [],
   "metadata": {}
  },
  {
   "cell_type": "markdown",
   "source": [
    "## 6. Best Model Tunning"
   ],
   "metadata": {}
  },
  {
   "cell_type": "code",
   "execution_count": 43,
   "source": [
    "X.columns = X.columns.astype(str)\r\n",
    "X_train, X_test, y_train, y_test = train_test_split(X, y, test_size=0.2, random_state=123)\r\n",
    "cv = RepeatedKFold(n_splits = 5, n_repeats = 15, random_state = 123)"
   ],
   "outputs": [],
   "metadata": {}
  },
  {
   "cell_type": "markdown",
   "source": [
    "### 6.1. Feature selection"
   ],
   "metadata": {}
  },
  {
   "cell_type": "code",
   "execution_count": null,
   "source": [
    "features_MSE = {}\r\n",
    "def addMSE (columns, string):\r\n",
    "    cv_results = cross_validate(XGBRegressor(random_state = 1), X_train[columns], y_train, cv = cv, scoring = ['neg_mean_squared_error'])\r\n",
    "    MSE = np.average(-cv_results['test_neg_mean_squared_error'])\r\n",
    "    features_MSE[string] = MSE"
   ],
   "outputs": [],
   "metadata": {}
  },
  {
   "cell_type": "code",
   "execution_count": null,
   "source": [
    "X_train.columns"
   ],
   "outputs": [],
   "metadata": {}
  },
  {
   "cell_type": "code",
   "execution_count": null,
   "source": [
    "addMSE(['Plastic shape_Fibers', 'Plastic shape_Pellets','Plastic shape_Shredded'], \r\n",
    "        'Plastic shape')"
   ],
   "outputs": [],
   "metadata": {}
  },
  {
   "cell_type": "code",
   "execution_count": null,
   "source": [
    "addMSE(['Plastic shape_Fibers', 'Plastic shape_Pellets','Plastic shape_Shredded',\r\n",
    "        'Plastic pretreatment_Physical', 'Plastic pretreatment_Plastic Melted'], \r\n",
    "        'Plastic shape \\n Plastic pretreatment')"
   ],
   "outputs": [],
   "metadata": {}
  },
  {
   "cell_type": "code",
   "execution_count": null,
   "source": [
    "addMSE(['Plastic shape_Fibers', 'Plastic shape_Pellets','Plastic shape_Shredded',\r\n",
    "        'Plastic pretreatment_Physical', 'Plastic pretreatment_Plastic Melted',\r\n",
    "         '0.075', '0.3', '0.6', '2.36', '4.75','9.5', '12.5', '19'], \r\n",
    "        'Plastic shape \\n Plastic pretreatment \\n Gradation')"
   ],
   "outputs": [],
   "metadata": {}
  },
  {
   "cell_type": "code",
   "execution_count": null,
   "source": [
    "addMSE(['Plastic shape_Fibers', 'Plastic shape_Pellets','Plastic shape_Shredded',\r\n",
    "        'Plastic pretreatment_Physical', 'Plastic pretreatment_Plastic Melted',\r\n",
    "        '0.075', '0.3', '0.6', '2.36', '4.75','9.5', '12.5', '19',\r\n",
    "        'New Plastic Type_PE','New Plastic Type_PET', 'New Plastic Type_PP', 'New Plastic Type_PS',\r\n",
    "        'New Plastic Type_Plastic Mix'], \r\n",
    "        'Plastic shape \\n Plastic pretreatment \\n Gradation\\n Plastic type')"
   ],
   "outputs": [],
   "metadata": {}
  },
  {
   "cell_type": "code",
   "execution_count": null,
   "source": [
    "addMSE(['Plastic shape_Fibers', 'Plastic shape_Pellets','Plastic shape_Shredded',\r\n",
    "        'Plastic pretreatment_Physical', 'Plastic pretreatment_Plastic Melted',\r\n",
    "        '0.075', '0.3', '0.6', '2.36', '4.75','9.5', '12.5', '19',\r\n",
    "        'New Plastic Type_PE','New Plastic Type_PET', 'New Plastic Type_PP', 'New Plastic Type_PS',\r\n",
    "        'New Plastic Type_Plastic Mix',\r\n",
    "        'Consolidated bitumen penetration grade_50/70',\r\n",
    "        'Consolidated bitumen penetration grade_70/100'], \r\n",
    "        'Plastic shape \\n Plastic pretreatment \\n Gradation\\n Plastic type \\n Bitumen type')"
   ],
   "outputs": [],
   "metadata": {}
  },
  {
   "cell_type": "code",
   "execution_count": null,
   "source": [
    "addMSE(['Plastic shape_Fibers', 'Plastic shape_Pellets','Plastic shape_Shredded',\r\n",
    "        'Plastic pretreatment_Physical', 'Plastic pretreatment_Plastic Melted',\r\n",
    "        '0.075', '0.3', '0.6', '2.36', '4.75','9.5', '12.5', '19',\r\n",
    "        'New Plastic Type_PE','New Plastic Type_PET', 'New Plastic Type_PP', 'New Plastic Type_PS',\r\n",
    "        'New Plastic Type_Plastic Mix',\r\n",
    "        'Consolidated bitumen penetration grade_50/70',\r\n",
    "        'Consolidated bitumen penetration grade_70/100',\r\n",
    "        'Mixing speed (RPM)'], \r\n",
    "        'Plastic shape \\n Plastic pretreatment \\n Gradation\\n Plastic type \\n Bitumen type \\n Mixing speed')"
   ],
   "outputs": [],
   "metadata": {}
  },
  {
   "cell_type": "code",
   "execution_count": null,
   "source": [
    "addMSE(['Plastic shape_Fibers', 'Plastic shape_Pellets','Plastic shape_Shredded',\r\n",
    "        'Plastic pretreatment_Physical', 'Plastic pretreatment_Plastic Melted',\r\n",
    "        '0.075', '0.3', '0.6', '2.36', '4.75','9.5', '12.5', '19',\r\n",
    "        'New Plastic Type_PE','New Plastic Type_PET', 'New Plastic Type_PP', 'New Plastic Type_PS',\r\n",
    "        'New Plastic Type_Plastic Mix',\r\n",
    "        'Consolidated bitumen penetration grade_50/70',\r\n",
    "        'Consolidated bitumen penetration grade_70/100',\r\n",
    "        'Mixing speed (RPM)',\r\n",
    "        'Plastic particle size (mm)'], \r\n",
    "        'Plastic shape \\n Plastic pretreatment \\n Gradation\\n Plastic type \\n Bitumen type \\n Mixing speed \\n Plastic size')"
   ],
   "outputs": [],
   "metadata": {}
  },
  {
   "cell_type": "code",
   "execution_count": null,
   "source": [
    "addMSE(['Plastic shape_Fibers', 'Plastic shape_Pellets','Plastic shape_Shredded',\r\n",
    "        'Plastic pretreatment_Physical', 'Plastic pretreatment_Plastic Melted',\r\n",
    "        '0.075', '0.3', '0.6', '2.36', '4.75','9.5', '12.5', '19',\r\n",
    "        'New Plastic Type_PE','New Plastic Type_PET', 'New Plastic Type_PP', 'New Plastic Type_PS',\r\n",
    "        'New Plastic Type_Plastic Mix',\r\n",
    "        'Consolidated bitumen penetration grade_50/70',\r\n",
    "        'Consolidated bitumen penetration grade_70/100',\r\n",
    "        'Mixing speed (RPM)',\r\n",
    "        'Plastic particle size (mm)',\r\n",
    "        'Aggregate absorption (%)'], \r\n",
    "        'Plastic shape \\n Plastic pretreatment \\n Gradation\\n Plastic type \\n Bitumen type \\n Mixing speed \\n Plastic size \\n Agg. absorption' )"
   ],
   "outputs": [],
   "metadata": {}
  },
  {
   "cell_type": "code",
   "execution_count": null,
   "source": [
    "addMSE(['Aggregate absorption (%)', '0.075', '0.3', '0.6', '2.36', '4.75',\r\n",
    "       '9.5', '12.5', '19', 'Plastic particle size (mm)', 'Mixing speed (RPM)',\r\n",
    "       'Mixing Temperature', 'Mixing Time (hours)',\r\n",
    "       'Bitumen content in the sample', 'New Plastic Type_PE',\r\n",
    "       'New Plastic Type_PET', 'New Plastic Type_PP', 'New Plastic Type_PS',\r\n",
    "       'New Plastic Type_Plastic Mix',\r\n",
    "       'Consolidated bitumen penetration grade_50/70',\r\n",
    "       'Consolidated bitumen penetration grade_70/100',\r\n",
    "       'Plastic pretreatment_Physical', 'Plastic pretreatment_Plastic Melted',\r\n",
    "       'Plastic shape_Fibers', 'Plastic shape_Pellets',\r\n",
    "       'Plastic shape_Shredded', 'Mixing Process_Dry', 'Mixing Process_Wet',\r\n",
    "       'Aggregates replacement ?_Yes', 'Bitumen replacement?_Yes'], \r\n",
    "        'Plastic shape \\n Plastic pretreatment \\n Gradation\\n Plastic type \\n Bitumen type \\n Mixing speed \\n Plastic size \\n Agg. absorption \\n Rest of features' )"
   ],
   "outputs": [],
   "metadata": {}
  },
  {
   "cell_type": "code",
   "execution_count": null,
   "source": [
    " plt.rcParams[\"figure.figsize\"] = (20,5)\r\n",
    " plt.plot(features_MSE.keys(), features_MSE.values(), marker = '*') \r\n",
    " plt.ylim(ymin = 0)\r\n",
    " plt.axvline(x='Plastic shape \\n Plastic pretreatment \\n Gradation\\n Plastic type \\n Bitumen type \\n Mixing speed \\n Plastic size', ymin=0, ymax=1, color = 'k', ls = '--' , label='Selected model')\r\n",
    " plt.ylabel('MSE', fontsize = 'xx-large')\r\n",
    " plt.xlabel('Features included in the model', fontsize = 'xx-large')\r\n",
    " plt.legend()\r\n",
    " plt.show()"
   ],
   "outputs": [],
   "metadata": {}
  },
  {
   "cell_type": "markdown",
   "source": [
    "The features most approppiate for the model are aggregates gradation, bitumen content, plastic type, plastic addition.\n",
    "### 6.2 Model Tunning"
   ],
   "metadata": {}
  },
  {
   "cell_type": "code",
   "execution_count": 44,
   "source": [
    "X_train = X_train [['Plastic shape_Fibers', 'Plastic shape_Pellets','Plastic shape_Shredded',\r\n",
    "        'Plastic pretreatment_Physical', 'Plastic pretreatment_Plastic Melted',\r\n",
    "        '0.075', '0.3', '0.6', '2.36', '4.75','9.5', '12.5', '19',\r\n",
    "        'New Plastic Type_PE','New Plastic Type_PET', 'New Plastic Type_PP', 'New Plastic Type_PS',\r\n",
    "        'New Plastic Type_Plastic Mix',\r\n",
    "        'Consolidated bitumen penetration grade_50/70',\r\n",
    "        'Consolidated bitumen penetration grade_70/100',\r\n",
    "        'Mixing speed (RPM)',\r\n",
    "        'Plastic particle size (mm)']]\r\n",
    "X_test = X_test [['Plastic shape_Fibers', 'Plastic shape_Pellets','Plastic shape_Shredded',\r\n",
    "        'Plastic pretreatment_Physical', 'Plastic pretreatment_Plastic Melted',\r\n",
    "        '0.075', '0.3', '0.6', '2.36', '4.75','9.5', '12.5', '19',\r\n",
    "        'New Plastic Type_PE','New Plastic Type_PET', 'New Plastic Type_PP', 'New Plastic Type_PS',\r\n",
    "        'New Plastic Type_Plastic Mix',\r\n",
    "        'Consolidated bitumen penetration grade_50/70',\r\n",
    "        'Consolidated bitumen penetration grade_70/100',\r\n",
    "        'Mixing speed (RPM)',\r\n",
    "        'Plastic particle size (mm)']]"
   ],
   "outputs": [],
   "metadata": {}
  },
  {
   "cell_type": "code",
   "execution_count": null,
   "source": [
    "def tuning_evaluation (parameters, X, y):\r\n",
    "    param_grid = parameters\r\n",
    "    grid = GridSearchCV(XGBRegressor(random_state = 1), param_grid, cv=cv, scoring=['neg_mean_squared_error', 'r2'], refit='neg_mean_squared_error')\r\n",
    "    grid.fit(X, y)\r\n",
    "    test_MSE = -grid.cv_results_['mean_test_neg_mean_squared_error'][grid.best_index_]\r\n",
    "    test_r2 = grid.cv_results_['mean_test_r2'][grid.best_index_]\r\n",
    "    best_param = grid.best_params_\r\n",
    "    print ('r2 test: ' + str(test_r2))\r\n",
    "    print ('MSE test: ' + str(test_MSE))\r\n",
    "    print ('Best Parameters ' + str(best_param))"
   ],
   "outputs": [],
   "metadata": {}
  },
  {
   "cell_type": "code",
   "execution_count": null,
   "source": [
    "param_grid = {\r\n",
    "        'eta':[0.1, 0.2, 0.3, 0.4, 0.5]\r\n",
    "    }\r\n",
    "tuning_evaluation (param_grid, X_train, y_train)"
   ],
   "outputs": [],
   "metadata": {}
  },
  {
   "cell_type": "code",
   "execution_count": null,
   "source": [
    "param_grid = {\r\n",
    "        'eta':[0.1],\r\n",
    "        'max_depth':np.arange(3,11,1)\r\n",
    "    }\r\n",
    "tuning_evaluation (param_grid, X_train, y_train)"
   ],
   "outputs": [],
   "metadata": {}
  },
  {
   "cell_type": "code",
   "execution_count": null,
   "source": [
    "param_grid = {\r\n",
    "        'eta':[0.1],\r\n",
    "        'max_depth':[4],\r\n",
    "        'min_child_weight':np.arange(1,11,1)\r\n",
    "    }\r\n",
    "tuning_evaluation (param_grid, X_train, y_train)"
   ],
   "outputs": [],
   "metadata": {}
  },
  {
   "cell_type": "code",
   "execution_count": null,
   "source": [
    "param_grid = {\r\n",
    "        'eta':[0.1],\r\n",
    "        'max_depth':[4],\r\n",
    "        'min_child_weight':[4],\r\n",
    "        'max_delta_step': np.arange(0,11,1)\r\n",
    "    }\r\n",
    "tuning_evaluation (param_grid, X_train, y_train)"
   ],
   "outputs": [],
   "metadata": {}
  },
  {
   "cell_type": "code",
   "execution_count": null,
   "source": [
    "param_grid = {\r\n",
    "        'eta':[0.1],\r\n",
    "        'max_depth':[4],\r\n",
    "        'min_child_weight':[4],\r\n",
    "        'max_delta_step': [0],\r\n",
    "        'gamma' : [0, 0.001, 0.01, 0.1, 1, 10]\r\n",
    "    }\r\n",
    "tuning_evaluation (param_grid, X_train, y_train)"
   ],
   "outputs": [],
   "metadata": {}
  },
  {
   "cell_type": "code",
   "execution_count": null,
   "source": [
    "param_grid = {\r\n",
    "        'eta':[0.1],\r\n",
    "        'max_depth':[4],\r\n",
    "        'min_child_weight':[4],\r\n",
    "        'max_delta_step': [0],\r\n",
    "        'gamma' : [0],\r\n",
    "        'subsample' : [1]\r\n",
    "    }\r\n",
    "tuning_evaluation (param_grid, X_train, y_train)"
   ],
   "outputs": [],
   "metadata": {
    "tags": []
   }
  },
  {
   "cell_type": "code",
   "execution_count": null,
   "source": [
    "param_grid = {\r\n",
    "        'eta':[0.1],\r\n",
    "        'max_depth':[4],\r\n",
    "        'min_child_weight':[4],\r\n",
    "        'max_delta_step': [0],\r\n",
    "        'gamma' : [0],\r\n",
    "        'subsample' : [1],\r\n",
    "        'colsample_bytree':[0, 0.5 ,1],\r\n",
    "        'colsample_bylevel':[0, 0.5 ,1],\r\n",
    "        'colsample_bynode':[0, 0.5 ,1]\r\n",
    "    }\r\n",
    "tuning_evaluation (param_grid, X = X_train, y = y_train)"
   ],
   "outputs": [],
   "metadata": {}
  },
  {
   "cell_type": "code",
   "execution_count": null,
   "source": [
    "param_grid = {\r\n",
    "        'eta':[0.1],\r\n",
    "        'max_depth':[4],\r\n",
    "        'min_child_weight':[4],\r\n",
    "        'max_delta_step': [0],\r\n",
    "        'gamma' : [0],\r\n",
    "        'subsample' : [1],\r\n",
    "        'colsample_bytree':[0.5],\r\n",
    "        'colsample_bylevel':[1],\r\n",
    "        'colsample_bynode':[1],\r\n",
    "        'lambda' : np.arange(1,10,1)\r\n",
    "    }\r\n",
    "tuning_evaluation (param_grid, X = X_train, y = y_train)"
   ],
   "outputs": [],
   "metadata": {}
  },
  {
   "cell_type": "code",
   "execution_count": null,
   "source": [
    "param_grid = {\r\n",
    "        'eta':[0.1],\r\n",
    "        'max_depth':[4],\r\n",
    "        'min_child_weight':[4],\r\n",
    "        'max_delta_step': [0],\r\n",
    "        'gamma' : [0],\r\n",
    "        'subsample' : [1],\r\n",
    "        'colsample_bytree':[0.5],\r\n",
    "        'colsample_bylevel':[1],\r\n",
    "        'colsample_bynode':[1],\r\n",
    "        'lambda' : [2],\r\n",
    "        'alpha' : np.arange(0,11,1)\r\n",
    "    }\r\n",
    "tuning_evaluation (param_grid, X = X_train, y = y_train)"
   ],
   "outputs": [],
   "metadata": {}
  },
  {
   "cell_type": "markdown",
   "source": [
    "### 6.3 Final model evaluation on test set"
   ],
   "metadata": {}
  },
  {
   "cell_type": "code",
   "execution_count": 45,
   "source": [
    "XGModel = XGBRegressor(random_state=123)\r\n",
    "XGModel.fit(X_train, y_train)\r\n",
    "predictions_test = XGModel.predict(X_test)\r\n",
    "r2_test = r2_score(y_test, predictions_test)\r\n",
    "mse_test = mean_squared_error(y_test, predictions_test)\r\n",
    "print('The test r2 is: ' + str(r2_test))\r\n",
    "print('The test MSE is: ' + str(mse_test))\r\n",
    "predictions_train = XGModel.predict(X_train)\r\n",
    "r2_train = r2_score(y_train, predictions_train)\r\n",
    "mse_train = mean_squared_error(y_train, predictions_train)\r\n",
    "print('The train r2 is: ' + str(r2_train))\r\n",
    "print('The train MSE is: ' + str(mse_train))"
   ],
   "outputs": [
    {
     "output_type": "stream",
     "name": "stdout",
     "text": [
      "The test r2 is: 0.7805412396269895\n",
      "The test MSE is: 0.012714032266303292\n",
      "The train r2 is: 0.9648354257676679\n",
      "The train MSE is: 0.0015191874328936762\n"
     ]
    }
   ],
   "metadata": {}
  },
  {
   "cell_type": "code",
   "execution_count": 48,
   "source": [
    "def modelEvaluation (model, Title):\r\n",
    "    #Model Fitting\r\n",
    "    model.fit(X_train, y_train)\r\n",
    "    predictions_test = model.predict(X_test)\r\n",
    "    #Model Evaluation\r\n",
    "    r2_test = r2_score(y_test, predictions_test)\r\n",
    "    mse_test = mean_squared_error(y_test, predictions_test)\r\n",
    "    plt.figure(figsize=(7,7))\r\n",
    "    #Model Plotting\r\n",
    "    plt.scatter(y_test, predictions_test, c='crimson')\r\n",
    "    plt.plot([(1,1), (0,0)], [(1,1), (0,0)], 'b-')\r\n",
    "    plt.xlabel('True Values', fontsize=15)\r\n",
    "    plt.xlim (0.1,1)\r\n",
    "    plt.ylim (0.1,1)\r\n",
    "    plt.ylabel('Predictions - ' + Title, fontsize=15)\r\n",
    "    plt.annotate('R2 = '+str(round(r2_test,3)), xy = (0.75,0.3), fontweight = 'bold', fontsize = 'large')\r\n",
    "    plt.annotate('EMS = '+str(round(mse_test,3)), xy = (0.75,0.25), fontweight = 'bold', fontsize = 'large')\r\n",
    "    plt.show()"
   ],
   "outputs": [],
   "metadata": {}
  },
  {
   "cell_type": "code",
   "execution_count": 49,
   "source": [
    "XGModel = XGBRegressor(random_state = 1,\r\n",
    "                        reg_alpha = 0,\r\n",
    "                        colsample_bytree = 0.5,\r\n",
    "                        eta = 0.1,\r\n",
    "                        max_depth = 4,\r\n",
    "                        min_child_weight =4,\r\n",
    "                        max_delta_step = 0,\r\n",
    "                        gamma = 0,\r\n",
    "                        reg_lambda = 2,\r\n",
    "                        tree_method = 'auto',\r\n",
    "                        subsample = 1)\r\n",
    "modelEvaluation(XGModel, 'XGModel')"
   ],
   "outputs": [
    {
     "output_type": "error",
     "ename": "TypeError",
     "evalue": "'numpy.float64' object is not callable",
     "traceback": [
      "\u001b[1;31m---------------------------------------------------------------------------\u001b[0m",
      "\u001b[1;31mTypeError\u001b[0m                                 Traceback (most recent call last)",
      "\u001b[1;32m<ipython-input-49-842b31814831>\u001b[0m in \u001b[0;36m<module>\u001b[1;34m\u001b[0m\n\u001b[0;32m     10\u001b[0m                         \u001b[0mtree_method\u001b[0m \u001b[1;33m=\u001b[0m \u001b[1;34m'auto'\u001b[0m\u001b[1;33m,\u001b[0m\u001b[1;33m\u001b[0m\u001b[1;33m\u001b[0m\u001b[0m\n\u001b[0;32m     11\u001b[0m                         subsample = 1)\n\u001b[1;32m---> 12\u001b[1;33m \u001b[0mmodelEvaluation\u001b[0m\u001b[1;33m(\u001b[0m\u001b[0mXGModel\u001b[0m\u001b[1;33m,\u001b[0m \u001b[1;34m'XGModel'\u001b[0m\u001b[1;33m)\u001b[0m\u001b[1;33m\u001b[0m\u001b[1;33m\u001b[0m\u001b[0m\n\u001b[0m",
      "\u001b[1;32m<ipython-input-48-474e21a115fb>\u001b[0m in \u001b[0;36mmodelEvaluation\u001b[1;34m(model, Title)\u001b[0m\n\u001b[0;32m      9\u001b[0m     \u001b[1;31m#Model Plotting\u001b[0m\u001b[1;33m\u001b[0m\u001b[1;33m\u001b[0m\u001b[1;33m\u001b[0m\u001b[0m\n\u001b[0;32m     10\u001b[0m     \u001b[0mplt\u001b[0m\u001b[1;33m.\u001b[0m\u001b[0mscatter\u001b[0m\u001b[1;33m(\u001b[0m\u001b[0my_test\u001b[0m\u001b[1;33m,\u001b[0m \u001b[0mpredictions_test\u001b[0m\u001b[1;33m,\u001b[0m \u001b[0mc\u001b[0m\u001b[1;33m=\u001b[0m\u001b[1;34m'crimson'\u001b[0m\u001b[1;33m)\u001b[0m\u001b[1;33m\u001b[0m\u001b[1;33m\u001b[0m\u001b[0m\n\u001b[1;32m---> 11\u001b[1;33m     \u001b[0mp1\u001b[0m \u001b[1;33m=\u001b[0m \u001b[0mmax\u001b[0m\u001b[1;33m(\u001b[0m\u001b[0mmax\u001b[0m\u001b[1;33m(\u001b[0m\u001b[0mpredictions_test\u001b[0m\u001b[1;33m)\u001b[0m\u001b[1;33m,\u001b[0m \u001b[0mmax\u001b[0m\u001b[1;33m(\u001b[0m\u001b[0my_test\u001b[0m\u001b[1;33m)\u001b[0m\u001b[1;33m)\u001b[0m\u001b[1;33m\u001b[0m\u001b[1;33m\u001b[0m\u001b[0m\n\u001b[0m\u001b[0;32m     12\u001b[0m     \u001b[0mp2\u001b[0m \u001b[1;33m=\u001b[0m \u001b[0mmin\u001b[0m\u001b[1;33m(\u001b[0m\u001b[0mmin\u001b[0m\u001b[1;33m(\u001b[0m\u001b[0mpredictions_test\u001b[0m\u001b[1;33m)\u001b[0m\u001b[1;33m,\u001b[0m \u001b[0mmin\u001b[0m\u001b[1;33m(\u001b[0m\u001b[0my_test\u001b[0m\u001b[1;33m)\u001b[0m\u001b[1;33m)\u001b[0m\u001b[1;33m\u001b[0m\u001b[1;33m\u001b[0m\u001b[0m\n\u001b[0;32m     13\u001b[0m     \u001b[0mplt\u001b[0m\u001b[1;33m.\u001b[0m\u001b[0mplot\u001b[0m\u001b[1;33m(\u001b[0m\u001b[1;33m[\u001b[0m\u001b[1;33m(\u001b[0m\u001b[1;36m1\u001b[0m\u001b[1;33m,\u001b[0m\u001b[1;36m1\u001b[0m\u001b[1;33m)\u001b[0m\u001b[1;33m,\u001b[0m \u001b[1;33m(\u001b[0m\u001b[1;36m0\u001b[0m\u001b[1;33m,\u001b[0m\u001b[1;36m0\u001b[0m\u001b[1;33m)\u001b[0m\u001b[1;33m]\u001b[0m\u001b[1;33m,\u001b[0m \u001b[1;33m[\u001b[0m\u001b[1;33m(\u001b[0m\u001b[1;36m1\u001b[0m\u001b[1;33m,\u001b[0m\u001b[1;36m1\u001b[0m\u001b[1;33m)\u001b[0m\u001b[1;33m,\u001b[0m \u001b[1;33m(\u001b[0m\u001b[1;36m0\u001b[0m\u001b[1;33m,\u001b[0m\u001b[1;36m0\u001b[0m\u001b[1;33m)\u001b[0m\u001b[1;33m]\u001b[0m\u001b[1;33m,\u001b[0m \u001b[1;34m'b-'\u001b[0m\u001b[1;33m)\u001b[0m\u001b[1;33m\u001b[0m\u001b[1;33m\u001b[0m\u001b[0m\n",
      "\u001b[1;31mTypeError\u001b[0m: 'numpy.float64' object is not callable"
     ]
    },
    {
     "output_type": "display_data",
     "data": {
      "text/plain": [
       "<Figure size 504x504 with 1 Axes>"
      ],
      "image/png": "[encoded data removed]"
     },
     "metadata": {
      "needs_background": "light"
     }
    }
   ],
   "metadata": {}
  },
  {
   "cell_type": "code",
   "execution_count": null,
   "source": [
    "XGModel = XGBRegressor()\r\n",
    "modelEvaluation(XGModel, 'XGModel')"
   ],
   "outputs": [],
   "metadata": {}
  },
  {
   "cell_type": "code",
   "execution_count": null,
   "source": [
    "extraTreeModel = ExtraTreesRegressor(n_estimators=1600, min_samples_split=2,min_samples_leaf=1, max_features='sqrt', max_depth=30, bootstrap=True)\r\n",
    "modelEvaluation(extraTreeModel, 'Extra Trees model')"
   ],
   "outputs": [],
   "metadata": {}
  },
  {
   "cell_type": "code",
   "execution_count": null,
   "source": [
    "RFModel = RandomForestRegressor(n_estimators=600,min_samples_split=2, min_samples_leaf=1, max_features='sqrt', max_depth=100, bootstrap=True)\r\n",
    "modelEvaluation(RFModel, 'Random Forest Model')"
   ],
   "outputs": [],
   "metadata": {}
  },
  {
   "cell_type": "code",
   "execution_count": null,
   "source": [],
   "outputs": [],
   "metadata": {}
  }
 ]
}