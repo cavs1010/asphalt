{
 "metadata": {
  "language_info": {
   "codemirror_mode": {
    "name": "ipython",
    "version": 3
   },
   "file_extension": ".py",
   "mimetype": "text/x-python",
   "name": "python",
   "nbconvert_exporter": "python",
   "pygments_lexer": "ipython3",
   "version": "3.8.5"
  },
  "orig_nbformat": 2,
  "kernelspec": {
   "name": "python3",
   "display_name": "Python 3.8.5 64-bit ('spyder': conda)"
  },
  "metadata": {
   "interpreter": {
    "hash": "c84dbb84446594c7c33060e8d4d00ab472a22f3e722bb969e9e6b8b01c6ee377"
   }
  },
  "interpreter": {
   "hash": "fc22dc884bcedff190aa0e4687df8895271c55103986e14a4799605b50a1eed1"
  }
 },
 "nbformat": 4,
 "nbformat_minor": 2,
 "cells": [
  {
   "cell_type": "markdown",
   "source": [
    "# Air Voids"
   ],
   "metadata": {}
  },
  {
   "cell_type": "code",
   "execution_count": 1,
   "source": [
    "#%% IMPORTS\r\n",
    "#BASICS\r\n",
    "import pandas as pd\r\n",
    "import numpy as np\r\n",
    "import math\r\n",
    "import matplotlib.pyplot as plt\r\n",
    "import seaborn as sns\r\n",
    "from numpy import absolute\r\n",
    "from pandas.plotting import scatter_matrix\r\n",
    "from sklearn.pipeline import make_pipeline\r\n",
    "from IPython.display import display, Markdown, Latex\r\n",
    "pd.options.display.max_columns = None\r\n",
    "\r\n",
    "#STATISTICS\r\n",
    "from scipy.stats import normaltest\r\n",
    "from scipy import stats\r\n",
    "\r\n",
    "#ML TRAINING AND DATA PREPROCESSING\r\n",
    "from sklearn.model_selection import train_test_split\r\n",
    "from sklearn.preprocessing import MinMaxScaler\r\n",
    "from sklearn.experimental import enable_iterative_imputer\r\n",
    "from sklearn.impute import IterativeImputer\r\n",
    "from sklearn.preprocessing import PolynomialFeatures\r\n",
    "\r\n",
    "#ML MODELS\r\n",
    "from sklearn.tree import DecisionTreeRegressor\r\n",
    "from sklearn.linear_model import BayesianRidge\r\n",
    "from sklearn.ensemble import ExtraTreesRegressor\r\n",
    "from sklearn.linear_model import LinearRegression\r\n",
    "from sklearn.linear_model import Ridge\r\n",
    "from sklearn.linear_model import SGDRegressor\r\n",
    "from sklearn.linear_model import Lasso\r\n",
    "from sklearn.linear_model import ElasticNet\r\n",
    "from sklearn.svm import SVR\r\n",
    "from sklearn.tree import DecisionTreeRegressor\r\n",
    "from sklearn.ensemble import RandomForestRegressor\r\n",
    "from sklearn.ensemble import ExtraTreesRegressor\r\n",
    "from xgboost import XGBRegressor\r\n",
    "import xgboost as xgb\r\n",
    "from xgboost import plot_importance\r\n",
    "\r\n",
    "#MODEL EVALUATION\r\n",
    "from sklearn.model_selection import cross_validate\r\n",
    "from sklearn.model_selection import cross_val_score\r\n",
    "from sklearn.model_selection import GridSearchCV \r\n",
    "from sklearn.model_selection import RandomizedSearchCV\r\n",
    "from sklearn.model_selection import RepeatedKFold\r\n",
    "from sklearn.model_selection import cross_val_predict\r\n",
    "\r\n",
    "#METRICS\r\n",
    "from sklearn.metrics import r2_score\r\n",
    "from sklearn.metrics import mean_absolute_error\r\n",
    "from sklearn.metrics import mean_squared_error"
   ],
   "outputs": [],
   "metadata": {}
  },
  {
   "cell_type": "markdown",
   "source": [
    "## 1. Methods "
   ],
   "metadata": {}
  },
  {
   "cell_type": "code",
   "execution_count": 2,
   "source": [
    "#Eliminate Outliers based on the interquantile\r\n",
    "#datFrame: Data frame where the outliers will be eliminated.\r\n",
    "#columnName: the name of the column where the outliers will be identified.\r\n",
    "def eliminateOutliers (dataFrame, columnName):\r\n",
    "    Q1 = dataFrame[columnName].quantile(0.25)\r\n",
    "    Q3 = dataFrame[columnName].quantile(0.75)\r\n",
    "    IQR = Q3 - Q1\r\n",
    "    print('Initial dataframe size: '+str(dataFrame.shape))\r\n",
    "    dataFrame = dataFrame[(dataFrame[columnName] < (Q3 + 1.5 * IQR)) & (dataFrame[columnName] > (Q1 - 1.5 * IQR))]\r\n",
    "    print('Final dataframe size: '+str(dataFrame.shape))\r\n",
    "    return dataFrame"
   ],
   "outputs": [],
   "metadata": {}
  },
  {
   "cell_type": "code",
   "execution_count": 3,
   "source": [
    "# Create the boxplot graphs for the categorical variables\r\n",
    "# dataFrame: Data frame associated to the property of interest (dfAirVoids, dfMS, dfMF, dfITS, dfTSR)\r\n",
    "# propertyOfInterest: the name of the column where the property of interest is located.\r\n",
    "# columnName1...4: The categorical columns to evaluate.\r\n",
    "def displayBoxPlotGraphs (dataFrame, propertyOfInterest, columnName1, columnName2, columnName3, columnName4):\r\n",
    "    f, ((ax1, ax2), (ax3, ax4)) = plt.subplots(2, 2, figsize=(15,10))\r\n",
    "    sns.boxplot(y = propertyOfInterest, x = columnName1, data=dataFrame,  orient='v' , ax=ax1)\r\n",
    "    sns.boxplot(y = propertyOfInterest, x = columnName2, data=dataFrame,  orient='v' , ax=ax2)\r\n",
    "    sns.boxplot(y = propertyOfInterest, x= columnName3, data=dataFrame,  orient='v' , ax=ax3)\r\n",
    "    sns.boxplot(y= propertyOfInterest, x= columnName4, data=dataFrame,  orient='v' , ax=ax4)"
   ],
   "outputs": [],
   "metadata": {}
  },
  {
   "cell_type": "markdown",
   "source": [
    "##  2. Data Import "
   ],
   "metadata": {}
  },
  {
   "cell_type": "code",
   "execution_count": 4,
   "source": [
    "#%%DATA READING AND INITIAL PREPROCESSING\r\n",
    "numericColumns = ['Aggregate absorption (%)',\r\n",
    "                  'Apparent specific gravity',\r\n",
    "                    0.075,\r\n",
    "                    0.3,\r\n",
    "                    0.6,\r\n",
    "                    2.36,\r\n",
    "                    4.75,\r\n",
    "                    9.5,\r\n",
    "                    12.5,\r\n",
    "                    19,\r\n",
    "                    'Plastic particle size (mm)',\r\n",
    "                    'Mixing speed (RPM)',\r\n",
    "                    'Mixing Temperature',\r\n",
    "                    'Mixing Time (hours)',\r\n",
    "                    'Plastic Addition by bitumen weight (%)',\r\n",
    "                    'Bitumen content in the sample'\r\n",
    "                    ]\r\n",
    "categoricalColumns = ['Modified asphalt Mix?',\r\n",
    "                      'Agreggate Type',\r\n",
    "                    'Aggregate absorption [%]',\r\n",
    "                    'Filler used',\r\n",
    "                    'Consolidated bitumen penetration grade',\r\n",
    "                    'New Plastic Type',\r\n",
    "                    'Plastic pretreatment',\r\n",
    "                    'Plastic shape',\r\n",
    "                    'Plastic Size',\r\n",
    "                    'Mixing Process',\r\n",
    "                    'Aggregates replacement ?',\r\n",
    "                    'Bitumen replacement?',\r\n",
    "                    'Filler replacement',\r\n",
    "                    'Property',\r\n",
    "                    'Units']\r\n",
    "#It returns the dataframe of interes based on the property - 'AirVoids', 'MS', 'MF', 'ITS', 'TSR'\r\n",
    "def returnDf (propertyOfInterest):\r\n",
    "    df = pd.read_excel('fileML.xlsx', sheet_name = propertyOfInterest, engine='openpyxl')\r\n",
    "    df = df.set_index(propertyOfInterest + ' ID')\r\n",
    "    df.loc[:,:'Units'] = df.loc[:,:'Units'].applymap(str)\r\n",
    "    df.loc[:,:'Units'] = df.loc[:,:'Units'] .applymap(str.strip)\r\n",
    "    df.replace('NS', np.nan, inplace = True)\r\n",
    "    df[numericColumns] = df[numericColumns].replace('N/a', 0).astype(float)\r\n",
    "    df.columns = df.columns.astype(str)\r\n",
    "    return df"
   ],
   "outputs": [],
   "metadata": {}
  },
  {
   "cell_type": "code",
   "execution_count": 5,
   "source": [
    "dfAirVoids = returnDf('AirVoids')"
   ],
   "outputs": [],
   "metadata": {}
  },
  {
   "cell_type": "markdown",
   "source": [
    "## 3. Data Exploration\n",
    "###  3.1 Total Sample"
   ],
   "metadata": {}
  },
  {
   "cell_type": "code",
   "execution_count": 6,
   "source": [
    "dfAirVoids = eliminateOutliers(dfAirVoids, 'Air voids of the sample (%)')"
   ],
   "outputs": [
    {
     "output_type": "stream",
     "name": "stdout",
     "text": [
      "Initial dataframe size: (305, 34)\n",
      "Final dataframe size: (288, 34)\n"
     ]
    }
   ],
   "metadata": {}
  },
  {
   "cell_type": "code",
   "execution_count": null,
   "source": [
    "dfAirVoids.info()"
   ],
   "outputs": [],
   "metadata": {}
  },
  {
   "cell_type": "code",
   "execution_count": null,
   "source": [
    "columnsOfInteres = numericColumns[0:2]+numericColumns[10:]+['Air voids of the sample (%)']"
   ],
   "outputs": [],
   "metadata": {}
  },
  {
   "cell_type": "code",
   "execution_count": null,
   "source": [
    "dfAirVoids.describe(include = 'all')"
   ],
   "outputs": [],
   "metadata": {}
  },
  {
   "cell_type": "markdown",
   "source": [
    "In total, there is $\\color{red}{\\text{288}}$ observations. Let's see if there is any correlation with the continual and categorical variables. The mean of $\\color{red}{\\text{Air voids}}$, which is the common value for the optimum asphalt mix design."
   ],
   "metadata": {}
  },
  {
   "cell_type": "code",
   "execution_count": null,
   "source": [
    "scatter_matrix(dfAirVoids[['Aggregate absorption (%)', 'Apparent specific gravity', 'Bitumen content in the sample', 'Air voids of the sample (%)']], figsize=(10, 10))\r\n",
    "plt.show()"
   ],
   "outputs": [],
   "metadata": {}
  },
  {
   "cell_type": "markdown",
   "source": [
    "It is possible to see a negative correlation between $\\color{red}{\\text{Bitumen Content}}$  and $\\color{red}{\\text{Air Voids}}$. This makes sense because higher bitumen quantities will fill more voids in the mixture.\n",
    "\n",
    "Among the categorical variables, we will initially focus on the general ones that might have an effect on air voids: $\\color{red}{\\text{Aggregate type}}$, $\\color{red}{\\text{Filler used}}$ and $\\color{red}{\\text{Bitumen Grade}}$"
   ],
   "metadata": {}
  },
  {
   "cell_type": "code",
   "execution_count": null,
   "source": [
    "displayBoxPlotGraphs(dataFrame = dfAirVoids, propertyOfInterest = \"Air voids of the sample (%)\", columnName1 = \"Agreggate Type\", columnName2 = \"Filler used\", columnName3 = \"Consolidated bitumen penetration grade\", columnName4 = \"Modified asphalt Mix?\")"
   ],
   "outputs": [],
   "metadata": {}
  },
  {
   "cell_type": "markdown",
   "source": [
    "Within the  $\\color{red}{\\text{Aggregate type}}$, although it exists differences -especially with the Ophitic- this data migh not be robust enough due to the sample size of this type of aggregate. It happens the same with the  $\\color{red}{\\text{Bitumen type}}$, where only  $\\color{purple}{\\text{5}}$ observations used the 40/50 bitumen. The  $\\color{red}{\\text{addition of plastic}}$ seems to have not strong influence in the air voids."
   ],
   "metadata": {}
  },
  {
   "cell_type": "code",
   "execution_count": null,
   "source": [
    "#CORRELATION:\r\n",
    "plt.figure(figsize=(16, 6))\r\n",
    "heatmap = sns.heatmap(dfAirVoids.corr(), vmin=-1, vmax=1, annot=True)\r\n",
    "heatmap.set_title('Correlation Heatmap Air Voids', fontdict={'fontsize':12}, pad=12);"
   ],
   "outputs": [],
   "metadata": {}
  },
  {
   "cell_type": "markdown",
   "source": [
    "###  3.2 Modified mixtures"
   ],
   "metadata": {}
  },
  {
   "cell_type": "code",
   "execution_count": null,
   "source": [
    "dfAirVoidsModvsUnmod = dfAirVoids [['Modified asphalt Mix?', 'Air voids of the sample (%)']]\r\n",
    "dfAirVoidsModvsUnmod.groupby(['Modified asphalt Mix?'], as_index=False).describe()"
   ],
   "outputs": [],
   "metadata": {}
  },
  {
   "cell_type": "code",
   "execution_count": null,
   "source": [
    "dfAirVoidsModified = dfAirVoids[dfAirVoids['Modified asphalt Mix?']=='Yes']\r\n",
    "dfAirVoidsModified.describe(include = \"all\")"
   ],
   "outputs": [],
   "metadata": {}
  },
  {
   "cell_type": "code",
   "execution_count": null,
   "source": [
    "scatter_matrix(dfAirVoidsModified[columnsOfInteres], figsize=(25, 20))\r\n",
    "plt.show()"
   ],
   "outputs": [],
   "metadata": {}
  },
  {
   "cell_type": "code",
   "execution_count": null,
   "source": [
    "#CORRELATION:\r\n",
    "plt.figure(figsize=(16, 6))\r\n",
    "heatmap = sns.heatmap(dfAirVoidsModified.corr(), vmin=-1, vmax=1, annot=True)\r\n",
    "heatmap.set_title('Correlation Heatmap', fontdict={'fontsize':12}, pad=12)"
   ],
   "outputs": [],
   "metadata": {}
  },
  {
   "cell_type": "code",
   "execution_count": null,
   "source": [
    "displayBoxPlotGraphs(dataFrame = dfAirVoidsModified, propertyOfInterest = \"Air voids of the sample (%)\", columnName1 = \"Agreggate Type\", columnName2 = \"Plastic shape\", columnName3 = \"New Plastic Type\", columnName4 = \"Mixing Process\")"
   ],
   "outputs": [],
   "metadata": {}
  },
  {
   "cell_type": "markdown",
   "source": [
    "Not much difference among dry and wet"
   ],
   "metadata": {}
  },
  {
   "cell_type": "markdown",
   "source": [
    "###  3.3 Wet vs. Dry Mixing"
   ],
   "metadata": {}
  },
  {
   "cell_type": "code",
   "execution_count": null,
   "source": [
    "dfAirVoidsWetvsDry = dfAirVoidsModified [['Mixing Process', 'Air voids of the sample (%)']]\r\n",
    "dfAirVoidsWetvsDry.groupby(['Mixing Process'], as_index=False).describe()"
   ],
   "outputs": [],
   "metadata": {}
  },
  {
   "cell_type": "code",
   "execution_count": null,
   "source": [
    "sns.pairplot(dfAirVoidsModified[columnsOfInteres+['Mixing Process']], hue=\"Mixing Process\", height=2.5)"
   ],
   "outputs": [],
   "metadata": {}
  },
  {
   "cell_type": "markdown",
   "source": [
    "##  **Air Voids summary:**\n",
    "\n",
    "*   There are missing values mainly in $\\color{red}{\\text{Apparent specific gravity}}$, $\\color{red}{\\text{Aggregate type}}$ and $\\color{red}{\\text{filler used}}$.\n",
    "*   Total sample: # observations = 288, Mean = 4, Standard deviation = 0.98 \n",
    "*   Sample with asphalt modified: # observations = 228, Mean = 3.94, Standard deviation = 1.017\n",
    "*   It seems that there will be a strong correlation with $\\color{red}{\\text{Aggregates gradation}}$.\n",
    "*   Dry vs. Wet:\n",
    "    *   Not strong difference between dry and wet.\n",
    "    *   Mean in wet = 3.64, Mean in dry = 4.16.\n",
    "\n",
    "\n",
    "## 4. Data Pre-processing"
   ],
   "metadata": {}
  },
  {
   "cell_type": "code",
   "execution_count": null,
   "source": [
    "dfAirVoids.info()"
   ],
   "outputs": [],
   "metadata": {}
  },
  {
   "cell_type": "markdown",
   "source": [
    "*   Process for dealing with missing categorical values:\n",
    "\n",
    "    1.  I will eliminate the rows with Nan values in the column $\\color{red}{\\text{New Plastic Type}}$. In total, there is 24 missing values, which represent 8.33% of the sample\n",
    "    2.  Replace the 'N/a' value when there is no modifiation of the asphalt mix.\n",
    "\n",
    "*   Process for dealing with missing numeric values:\n",
    "\n",
    "    *   The imputer used was the multivariable imputer, and the estimator was the ExtraTreeRegressor ([link][1]).\n",
    "    By using this estimator, I did not get any negative values among the missing features, and it presents a low MSE value.\n",
    "    \n",
    "[1]:https://scikit-learn.org/stable/auto_examples/impute/plot_iterative_imputer_variants_comparison.html#sphx-glr-auto-examples-impute-plot-iterative-imputer-variants-comparison-py  "
   ],
   "metadata": {}
  },
  {
   "cell_type": "code",
   "execution_count": 7,
   "source": [
    "#Categorical Variables\r\n",
    "dfAirVoidsCleaned = dfAirVoids.drop(['Article ID', \r\n",
    "                                    'Global ID',\r\n",
    "                                    'Modified asphalt Mix?',\r\n",
    "                                    'Agreggate Type', \r\n",
    "                                    'Apparent specific gravity', \r\n",
    "                                    'Filler used', \r\n",
    "                                    'Bitumen Type Penetration Grade', \r\n",
    "                                    'Property', \r\n",
    "                                    'Units', \r\n",
    "                                    'Plastic Size' ], axis = 1)\r\n",
    "dfAirVoidsCleaned = dfAirVoidsCleaned.replace('N/a', 0)\r\n",
    "dfAirVoidsCleaned = dfAirVoidsCleaned.dropna(subset=['New Plastic Type'])\r\n",
    "dfAirVoidsCleaned = pd.get_dummies(dfAirVoidsCleaned, columns=['New Plastic Type'], drop_first=False)\r\n",
    "dfAirVoidsCleaned = pd.get_dummies(dfAirVoidsCleaned, drop_first=True)\r\n",
    "dfAirVoidsCleaned = dfAirVoidsCleaned.drop(['New Plastic Type_0'], axis = 1)"
   ],
   "outputs": [],
   "metadata": {}
  },
  {
   "cell_type": "code",
   "execution_count": 8,
   "source": [
    "#IMPUTATION OF MISSING VALUES\r\n",
    "imputer = IterativeImputer (estimator = ExtraTreesRegressor(n_estimators=10, random_state = 123), max_iter=50,random_state = 123)\r\n",
    "n = imputer.fit_transform(dfAirVoidsCleaned)\r\n",
    "dfAirVoidsCleanedImputed = pd.DataFrame(n, columns = list(dfAirVoidsCleaned.columns))\r\n",
    "print ('There is '+str(sum(n < 0 for n in dfAirVoidsCleanedImputed.values.flatten()))+' negative values in the new Dataframe')"
   ],
   "outputs": [
    {
     "output_type": "stream",
     "name": "stdout",
     "text": [
      "There is 0 negative values in the new Dataframe\n"
     ]
    }
   ],
   "metadata": {}
  },
  {
   "cell_type": "code",
   "execution_count": 9,
   "source": [
    "dfAirVoidsCleanedImputed['New Plastic Type_Nylon'] = dfAirVoidsCleanedImputed['New Plastic Type_Nylon'] * dfAirVoidsCleanedImputed['Plastic Addition by bitumen weight (%)']\r\n",
    "dfAirVoidsCleanedImputed['New Plastic Type_PE'] = dfAirVoidsCleanedImputed['New Plastic Type_PE'] * dfAirVoidsCleanedImputed['Plastic Addition by bitumen weight (%)']\r\n",
    "dfAirVoidsCleanedImputed['New Plastic Type_PET'] = dfAirVoidsCleanedImputed['New Plastic Type_PET'] * dfAirVoidsCleanedImputed['Plastic Addition by bitumen weight (%)']\r\n",
    "dfAirVoidsCleanedImputed['New Plastic Type_PP'] = dfAirVoidsCleanedImputed['New Plastic Type_PP'] * dfAirVoidsCleanedImputed['Plastic Addition by bitumen weight (%)']\r\n",
    "dfAirVoidsCleanedImputed['New Plastic Type_PS'] = dfAirVoidsCleanedImputed['New Plastic Type_PS'] * dfAirVoidsCleanedImputed['Plastic Addition by bitumen weight (%)']\r\n",
    "dfAirVoidsCleanedImputed['New Plastic Type_PU'] = dfAirVoidsCleanedImputed['New Plastic Type_PU'] * dfAirVoidsCleanedImputed['Plastic Addition by bitumen weight (%)']\r\n",
    "dfAirVoidsCleanedImputed['New Plastic Type_Plastic Mix'] = dfAirVoidsCleanedImputed['New Plastic Type_Plastic Mix'] * dfAirVoidsCleanedImputed['Plastic Addition by bitumen weight (%)']\r\n",
    "dfAirVoidsCleanedImputed = dfAirVoidsCleanedImputed.drop(['Plastic Addition by bitumen weight (%)'], axis = 1)"
   ],
   "outputs": [],
   "metadata": {}
  },
  {
   "cell_type": "code",
   "execution_count": 10,
   "source": [
    "dfAirVoidsCleanedImputed.columns"
   ],
   "outputs": [
    {
     "output_type": "execute_result",
     "data": {
      "text/plain": [
       "Index(['Aggregate absorption (%)', '0.075', '0.3', '0.6', '2.36', '4.75',\n",
       "       '9.5', '12.5', '19', 'Plastic particle size (mm)', 'Mixing speed (RPM)',\n",
       "       'Mixing Temperature', 'Mixing Time (hours)',\n",
       "       'Bitumen content in the sample', 'Air voids of the sample (%)',\n",
       "       'New Plastic Type_Nylon', 'New Plastic Type_PE', 'New Plastic Type_PET',\n",
       "       'New Plastic Type_PP', 'New Plastic Type_PS', 'New Plastic Type_PU',\n",
       "       'New Plastic Type_Plastic Mix',\n",
       "       'Consolidated bitumen penetration grade_50/70',\n",
       "       'Consolidated bitumen penetration grade_70/100',\n",
       "       'Plastic pretreatment_Physical', 'Plastic pretreatment_Plastic Melted',\n",
       "       'Plastic shape_Fibers', 'Plastic shape_Pellets',\n",
       "       'Plastic shape_Shredded', 'Mixing Process_Dry', 'Mixing Process_Wet',\n",
       "       'Aggregates replacement ?_Yes', 'Bitumen replacement?_Yes'],\n",
       "      dtype='object')"
      ]
     },
     "metadata": {},
     "execution_count": 10
    }
   ],
   "metadata": {}
  },
  {
   "cell_type": "code",
   "execution_count": 11,
   "source": [
    " #Feature Scaling\r\n",
    " scaler = MinMaxScaler()\r\n",
    " dfAirVoidsCleanedImputedScaled = pd.DataFrame(scaler.fit_transform(dfAirVoidsCleanedImputed), columns = list(dfAirVoidsCleanedImputed.columns))\r\n",
    " dfAirVoidsCleanedImputedScaled.to_clipboard()"
   ],
   "outputs": [],
   "metadata": {}
  },
  {
   "cell_type": "code",
   "execution_count": 12,
   "source": [
    "dfAirVoidsCleanedImputed.info()"
   ],
   "outputs": [
    {
     "output_type": "stream",
     "name": "stdout",
     "text": [
      "<class 'pandas.core.frame.DataFrame'>\n",
      "RangeIndex: 264 entries, 0 to 263\n",
      "Data columns (total 33 columns):\n",
      " #   Column                                         Non-Null Count  Dtype  \n",
      "---  ------                                         --------------  -----  \n",
      " 0   Aggregate absorption (%)                       264 non-null    float64\n",
      " 1   0.075                                          264 non-null    float64\n",
      " 2   0.3                                            264 non-null    float64\n",
      " 3   0.6                                            264 non-null    float64\n",
      " 4   2.36                                           264 non-null    float64\n",
      " 5   4.75                                           264 non-null    float64\n",
      " 6   9.5                                            264 non-null    float64\n",
      " 7   12.5                                           264 non-null    float64\n",
      " 8   19                                             264 non-null    float64\n",
      " 9   Plastic particle size (mm)                     264 non-null    float64\n",
      " 10  Mixing speed (RPM)                             264 non-null    float64\n",
      " 11  Mixing Temperature                             264 non-null    float64\n",
      " 12  Mixing Time (hours)                            264 non-null    float64\n",
      " 13  Bitumen content in the sample                  264 non-null    float64\n",
      " 14  Air voids of the sample (%)                    264 non-null    float64\n",
      " 15  New Plastic Type_Nylon                         264 non-null    float64\n",
      " 16  New Plastic Type_PE                            264 non-null    float64\n",
      " 17  New Plastic Type_PET                           264 non-null    float64\n",
      " 18  New Plastic Type_PP                            264 non-null    float64\n",
      " 19  New Plastic Type_PS                            264 non-null    float64\n",
      " 20  New Plastic Type_PU                            264 non-null    float64\n",
      " 21  New Plastic Type_Plastic Mix                   264 non-null    float64\n",
      " 22  Consolidated bitumen penetration grade_50/70   264 non-null    float64\n",
      " 23  Consolidated bitumen penetration grade_70/100  264 non-null    float64\n",
      " 24  Plastic pretreatment_Physical                  264 non-null    float64\n",
      " 25  Plastic pretreatment_Plastic Melted            264 non-null    float64\n",
      " 26  Plastic shape_Fibers                           264 non-null    float64\n",
      " 27  Plastic shape_Pellets                          264 non-null    float64\n",
      " 28  Plastic shape_Shredded                         264 non-null    float64\n",
      " 29  Mixing Process_Dry                             264 non-null    float64\n",
      " 30  Mixing Process_Wet                             264 non-null    float64\n",
      " 31  Aggregates replacement ?_Yes                   264 non-null    float64\n",
      " 32  Bitumen replacement?_Yes                       264 non-null    float64\n",
      "dtypes: float64(33)\n",
      "memory usage: 68.2 KB\n"
     ]
    }
   ],
   "metadata": {}
  },
  {
   "cell_type": "markdown",
   "source": [
    "## 5. Model Training"
   ],
   "metadata": {}
  },
  {
   "cell_type": "code",
   "execution_count": 13,
   "source": [
    "min = dfAirVoidsCleanedImputed['Air voids of the sample (%)'].min()\r\n",
    "max = dfAirVoidsCleanedImputed['Air voids of the sample (%)'].max()\r\n",
    "print('The min value is: '+str(min)+'. The max value is: '+str(max))"
   ],
   "outputs": [
    {
     "output_type": "stream",
     "name": "stdout",
     "text": [
      "The min value is: 1.84. The max value is: 6.7\n"
     ]
    }
   ],
   "metadata": {}
  },
  {
   "cell_type": "code",
   "execution_count": 14,
   "source": [
    "#Method that print the best parameters, R2 and MSE based on a grid search.\r\n",
    "def printBestModelAdv (grid, estimator = n, advancedAnalysis = False):\r\n",
    "    min = dfAirVoidsCleanedImputed['Air voids of the sample (%)'].min()\r\n",
    "    max = dfAirVoidsCleanedImputed['Air voids of the sample (%)'].max()\r\n",
    "    mse = -grid.best_score_\r\n",
    "    print('Best Parameters:' , grid.best_params_)\r\n",
    "    print('Best Test MSE: ' + str(mse))\r\n",
    "    print('Std of the Test MSE:' + str(grid.cv_results_['std_test_neg_mean_squared_error'][grid.best_index_]))\r\n",
    "    print('Best Test RMSE: ' +str(math.sqrt(mse)))\r\n",
    "    print('Best Test scaled RMSE: ' +str((math.sqrt(mse)*(max-min))+min))\r\n",
    "    print('Best Test scaled MSE: ' +str(((math.sqrt(mse)*(max-min))+min)**2)) \r\n",
    "    print('Best Test R2: ' + str(grid.cv_results_['mean_test_r2'][grid.best_index_]))\r\n",
    "    if (advancedAnalysis):\r\n",
    "        bestEstimator = estimator\r\n",
    "        bestEstimator.fit(X_train, y_train)\r\n",
    "        predictionsTrain = bestEstimator.predict(X_train)\r\n",
    "        df = pd.DataFrame({'predictions':predictionsTrain, 'original': y_train})\r\n",
    "        df.plot.hist(bins=10, alpha=0.5)\r\n",
    "        unScaledDf = (df*(max-min))+min\r\n",
    "        print (unScaledDf.describe())"
   ],
   "outputs": [],
   "metadata": {}
  },
  {
   "cell_type": "code",
   "execution_count": 15,
   "source": [
    "X = dfAirVoidsCleanedImputedScaled.loc[:, dfAirVoidsCleanedImputedScaled.columns != 'Air voids of the sample (%)']\r\n",
    "X.columns = X.columns.astype(str)\r\n",
    "y = dfAirVoidsCleanedImputedScaled.loc[:,'Air voids of the sample (%)']\r\n",
    "X_train, X_test, y_train, y_test = train_test_split(X, y, test_size=0.2, random_state=123)\r\n",
    "cv = RepeatedKFold(n_splits = 10, n_repeats = 10, random_state = 123)"
   ],
   "outputs": [],
   "metadata": {}
  },
  {
   "cell_type": "code",
   "execution_count": 16,
   "source": [
    "y_train_new = y_train.to_frame()\r\n",
    "y_train_new['y_train_unscaled'] = (y_train*(max-min))+min"
   ],
   "outputs": [],
   "metadata": {}
  },
  {
   "cell_type": "code",
   "execution_count": 17,
   "source": [
    "y_train_new.describe()"
   ],
   "outputs": [
    {
     "output_type": "execute_result",
     "data": {
      "text/html": [
       "<div>\n",
       "<style scoped>\n",
       "    .dataframe tbody tr th:only-of-type {\n",
       "        vertical-align: middle;\n",
       "    }\n",
       "\n",
       "    .dataframe tbody tr th {\n",
       "        vertical-align: top;\n",
       "    }\n",
       "\n",
       "    .dataframe thead th {\n",
       "        text-align: right;\n",
       "    }\n",
       "</style>\n",
       "<table border=\"1\" class=\"dataframe\">\n",
       "  <thead>\n",
       "    <tr style=\"text-align: right;\">\n",
       "      <th></th>\n",
       "      <th>Air voids of the sample (%)</th>\n",
       "      <th>y_train_unscaled</th>\n",
       "    </tr>\n",
       "  </thead>\n",
       "  <tbody>\n",
       "    <tr>\n",
       "      <th>count</th>\n",
       "      <td>211.000000</td>\n",
       "      <td>211.000000</td>\n",
       "    </tr>\n",
       "    <tr>\n",
       "      <th>mean</th>\n",
       "      <td>0.464582</td>\n",
       "      <td>4.097867</td>\n",
       "    </tr>\n",
       "    <tr>\n",
       "      <th>std</th>\n",
       "      <td>0.193989</td>\n",
       "      <td>0.942785</td>\n",
       "    </tr>\n",
       "    <tr>\n",
       "      <th>min</th>\n",
       "      <td>0.000000</td>\n",
       "      <td>1.840000</td>\n",
       "    </tr>\n",
       "    <tr>\n",
       "      <th>25%</th>\n",
       "      <td>0.341564</td>\n",
       "      <td>3.500000</td>\n",
       "    </tr>\n",
       "    <tr>\n",
       "      <th>50%</th>\n",
       "      <td>0.438272</td>\n",
       "      <td>3.970000</td>\n",
       "    </tr>\n",
       "    <tr>\n",
       "      <th>75%</th>\n",
       "      <td>0.548354</td>\n",
       "      <td>4.505000</td>\n",
       "    </tr>\n",
       "    <tr>\n",
       "      <th>max</th>\n",
       "      <td>1.000000</td>\n",
       "      <td>6.700000</td>\n",
       "    </tr>\n",
       "  </tbody>\n",
       "</table>\n",
       "</div>"
      ],
      "text/plain": [
       "       Air voids of the sample (%)  y_train_unscaled\n",
       "count                   211.000000        211.000000\n",
       "mean                      0.464582          4.097867\n",
       "std                       0.193989          0.942785\n",
       "min                       0.000000          1.840000\n",
       "25%                       0.341564          3.500000\n",
       "50%                       0.438272          3.970000\n",
       "75%                       0.548354          4.505000\n",
       "max                       1.000000          6.700000"
      ]
     },
     "metadata": {},
     "execution_count": 17
    }
   ],
   "metadata": {}
  },
  {
   "cell_type": "code",
   "execution_count": 18,
   "source": [
    "sns.set_style('darkgrid')\r\n",
    "fig, ax = plt.subplots()\r\n",
    "sns.histplot(x=y_train_new[\"y_train_unscaled\"], bins=10, kde=True, ax = ax)\r\n",
    "ax.set(xlabel='Air Voids(%)', ylabel='Frequency')\r\n",
    "ax.axvline(x=3, label = 'Limits permitted', linestyle = '--', color='k')\r\n",
    "ax.axvline(x=5, linestyle = '--', color='k')\r\n",
    "ax.set_title('(a)')\r\n",
    "ax.legend()\r\n",
    "plt.show()"
   ],
   "outputs": [
    {
     "output_type": "display_data",
     "data": {
      "image/png": "[encoded data removed]",
      "text/plain": [
       "<Figure size 432x288 with 1 Axes>"
      ]
     },
     "metadata": {}
    }
   ],
   "metadata": {}
  },
  {
   "cell_type": "markdown",
   "source": [
    "### 5.1 Model Evaluation\n",
    "#### Linear Model"
   ],
   "metadata": {}
  },
  {
   "cell_type": "code",
   "execution_count": null,
   "source": [
    "param_grid = {'fit_intercept': [True, False],\r\n",
    "            'positive': [True, False]}\r\n",
    "grid = GridSearchCV(LinearRegression(), param_grid, cv = cv, scoring=['neg_mean_squared_error', 'r2'], refit = 'neg_mean_squared_error', return_train_score= True)\r\n",
    "grid.fit(X_train, y_train)\r\n",
    "printBestModelAdv(grid) "
   ],
   "outputs": [],
   "metadata": {}
  },
  {
   "cell_type": "markdown",
   "source": [
    "#### Lasso Linear Model\n"
   ],
   "metadata": {}
  },
  {
   "cell_type": "code",
   "execution_count": null,
   "source": [
    "param_grid = {'alpha': [0.001,1, 10, 15, 30, 50, 100],\r\n",
    "            'fit_intercept':[True, False],\r\n",
    "            'positive': [True, False]}\r\n",
    "grid = GridSearchCV(Lasso(), param_grid, cv=cv, scoring=['neg_mean_squared_error', 'r2'], refit = 'neg_mean_squared_error', return_train_score= True)\r\n",
    "grid.fit(X_train, y_train)\r\n",
    "printBestModelAdv(grid)"
   ],
   "outputs": [],
   "metadata": {
    "tags": []
   }
  },
  {
   "cell_type": "markdown",
   "source": [
    "#### Ridge linear regression model"
   ],
   "metadata": {}
  },
  {
   "cell_type": "code",
   "execution_count": null,
   "source": [
    "param_grid = {'alpha': [7, 8, 10,100],\r\n",
    "'fit_intercept': [True, False],\r\n",
    "'solver': [ 'svd', 'cholesky', 'lsqr', 'sparse_cg', 'sag', 'saga']}\r\n",
    "grid = GridSearchCV(Ridge(), param_grid, cv=cv, scoring=['neg_mean_squared_error', 'r2'], refit = 'neg_mean_squared_error')\r\n",
    "grid.fit(X_train, y_train)\r\n",
    "printBestModelAdv(grid)"
   ],
   "outputs": [],
   "metadata": {}
  },
  {
   "cell_type": "markdown",
   "source": [
    "#### Linear Elastic Net"
   ],
   "metadata": {}
  },
  {
   "cell_type": "code",
   "execution_count": null,
   "source": [
    "param_grid = {'alpha': [0.01,1,2,3,4],\r\n",
    "'fit_intercept': [True, False]}\r\n",
    "grid = GridSearchCV(ElasticNet(), param_grid, cv=cv, scoring=['neg_mean_squared_error', 'r2'], refit = 'neg_mean_squared_error')\r\n",
    "grid.fit(X_train, y_train)\r\n",
    "printBestModelAdv(grid)"
   ],
   "outputs": [],
   "metadata": {}
  },
  {
   "cell_type": "markdown",
   "source": [
    "#### Polynomial Model"
   ],
   "metadata": {}
  },
  {
   "cell_type": "code",
   "execution_count": null,
   "source": [
    "def PolynomialRegression(degree=2, **kwargs):\r\n",
    "    return make_pipeline(PolynomialFeatures(degree), LinearRegression(**kwargs))\r\n",
    "\r\n",
    "param_grid = {'polynomialfeatures__degree': [2,3],\r\n",
    "'linearregression__fit_intercept': [True, False],\r\n",
    "'linearregression__positive':[True, False]}\r\n",
    "grid = GridSearchCV(PolynomialRegression(), param_grid, cv=cv, scoring=['neg_mean_squared_error', 'r2'], refit = 'neg_mean_squared_error')\r\n",
    "grid.fit(X_train, y_train)\r\n",
    "printBestModelAdv(grid)"
   ],
   "outputs": [],
   "metadata": {
    "tags": []
   }
  },
  {
   "cell_type": "markdown",
   "source": [
    "#### Lasso Polynomial Model"
   ],
   "metadata": {}
  },
  {
   "cell_type": "code",
   "execution_count": null,
   "source": [
    "def PolynomialRegression(degree=2, **kwargs):\r\n",
    "    return make_pipeline(PolynomialFeatures(degree), Lasso(**kwargs))\r\n",
    "\r\n",
    "param_grid = {'polynomialfeatures__degree': [2,3],\r\n",
    "            'lasso__alpha': [1,2, 3, 10, 15, 30],\r\n",
    "            'lasso__fit_intercept':[True, False],\r\n",
    "            'lasso__positive': [True, False],\r\n",
    "            'lasso__max_iter': [2000,3000, 3500]}\r\n",
    "grid = GridSearchCV(PolynomialRegression(), param_grid, cv=cv, scoring=['neg_mean_squared_error', 'r2'], refit = 'neg_mean_squared_error', return_train_score= True)\r\n",
    "grid.fit(X_train, y_train)\r\n",
    "printBestModelAdv(grid)"
   ],
   "outputs": [],
   "metadata": {
    "tags": []
   }
  },
  {
   "cell_type": "markdown",
   "source": [
    "#### Ridge polynomial regression"
   ],
   "metadata": {}
  },
  {
   "cell_type": "code",
   "execution_count": null,
   "source": [
    "def PolynomialRegression(degree=2, **kwargs):\r\n",
    "    return make_pipeline(PolynomialFeatures(degree), Ridge(**kwargs))\r\n",
    "\r\n",
    "param_grid = {'polynomialfeatures__degree': [2,3],\r\n",
    "'ridge__alpha':[20,30,50, 60],\r\n",
    "'ridge__fit_intercept': [True, False],\r\n",
    "'ridge__solver': [ 'lsqr', 'cholesky', 'sparse_cg', 'auto']}\r\n",
    "grid = GridSearchCV(PolynomialRegression(), param_grid, cv=cv, scoring=['neg_mean_squared_error', 'r2'], refit='neg_mean_squared_error')\r\n",
    "grid.fit(X_train, y_train)\r\n",
    "printBestModelAdv(grid)"
   ],
   "outputs": [],
   "metadata": {}
  },
  {
   "cell_type": "markdown",
   "source": [
    "#### Support vector regression"
   ],
   "metadata": {}
  },
  {
   "cell_type": "code",
   "execution_count": null,
   "source": [
    "param_grid = {\r\n",
    "    'kernel':['linear','rbf', 'sigmoid', 'poly'],\r\n",
    "    'degree':[2,3,4],\r\n",
    "    'C':[0.01,1,5,10],\r\n",
    "    'epsilon':[0.1,0.2, 1, 1.5]\r\n",
    "}\r\n",
    "grid = GridSearchCV(SVR(), param_grid, cv=cv, scoring=['neg_mean_squared_error', 'r2'], refit='neg_mean_squared_error')\r\n",
    "grid.fit(X_train, y_train)\r\n",
    "printBestModelAdv(grid)"
   ],
   "outputs": [],
   "metadata": {}
  },
  {
   "cell_type": "markdown",
   "source": [
    "#### Decision tree regressor"
   ],
   "metadata": {}
  },
  {
   "cell_type": "code",
   "execution_count": null,
   "source": [
    "param_grid = {\r\n",
    "    'max_depth':[1,2,3,5,10,30],\r\n",
    "    'min_samples_split':[2,3,4],\r\n",
    "    'min_samples_leaf':[0.4,1,2]\r\n",
    "}\r\n",
    "grid = GridSearchCV(DecisionTreeRegressor(), param_grid, cv=cv, scoring=['neg_mean_squared_error', 'r2'], refit='neg_mean_squared_error')\r\n",
    "grid.fit(X_train, y_train)\r\n",
    "printBestModelAdv(grid)"
   ],
   "outputs": [],
   "metadata": {
    "tags": []
   }
  },
  {
   "cell_type": "markdown",
   "source": [
    "#### Random Forest\n"
   ],
   "metadata": {}
  },
  {
   "cell_type": "code",
   "execution_count": null,
   "source": [
    "# Number of trees in random forest\r\n",
    "n_estimators = [int(x) for x in np.linspace(start = 200, stop = 2000, num = 10)]\r\n",
    "# Number of features to consider at every split\r\n",
    "max_features = ['auto', 'sqrt']\r\n",
    "# Maximum number of levels in tree\r\n",
    "max_depth = [int(x) for x in np.linspace(10, 110, num = 11)]\r\n",
    "max_depth.append(None)\r\n",
    "# Minimum number of samples required to split a node\r\n",
    "min_samples_split = [2, 5, 10]\r\n",
    "# Minimum number of samples required at each leaf node\r\n",
    "min_samples_leaf = [1, 2, 4]\r\n",
    "# Method of selecting samples for training each tree\r\n",
    "bootstrap = [True, False]\r\n",
    "# Create the random grid\r\n",
    "random_grid = {'n_estimators': n_estimators,\r\n",
    "               'max_features': max_features,\r\n",
    "               'max_depth': max_depth,\r\n",
    "               'min_samples_split': min_samples_split,\r\n",
    "               'min_samples_leaf': min_samples_leaf,\r\n",
    "               'bootstrap': bootstrap}\r\n",
    "grid = RandomizedSearchCV(RandomForestRegressor(), \r\n",
    "                        random_grid, \r\n",
    "                        cv=cv, \r\n",
    "                        scoring=['neg_mean_squared_error', 'r2'], \r\n",
    "                        refit='neg_mean_squared_error', \r\n",
    "                        n_iter=10,\r\n",
    "                        )\r\n",
    "grid.fit(X_train, y_train)\r\n",
    "printBestModelAdv(grid, RandomForestRegressor(**grid.best_params_), True)"
   ],
   "outputs": [],
   "metadata": {}
  },
  {
   "cell_type": "markdown",
   "source": [
    "#### Extra tree regressor"
   ],
   "metadata": {}
  },
  {
   "cell_type": "code",
   "execution_count": null,
   "source": [
    "param_grid = {\r\n",
    "    'bootstrap': [True, False],\r\n",
    "    'max_depth': [10, 20, 30, 40, 50, 60, 70, 80, 90, 100, None],\r\n",
    "    'max_features': ['auto', 'sqrt'],\r\n",
    "    'min_samples_leaf': [1, 2, 4],\r\n",
    "    'min_samples_split': [2, 5, 10],\r\n",
    "    'n_estimators': [200, 400, 600, 800, 1000, 1200, 1400, 1600, 1800, 2000]\r\n",
    "}\r\n",
    "grid = RandomizedSearchCV(ExtraTreesRegressor(), param_grid, cv=cv, scoring=['neg_mean_squared_error', 'r2'], refit='neg_mean_squared_error', n_iter=10)\r\n",
    "grid.fit(X_train, y_train)\r\n",
    "printBestModelAdv(grid, ExtraTreesRegressor(**grid.best_params_), True)"
   ],
   "outputs": [],
   "metadata": {
    "tags": []
   }
  },
  {
   "cell_type": "markdown",
   "source": [
    "#### XG Boost Regressor"
   ],
   "metadata": {}
  },
  {
   "cell_type": "code",
   "execution_count": null,
   "source": [
    "XGBoostModel = XGBRegressor(random_state=123)\r\n",
    "scores = cross_val_score(XGBoostModel, X_train, y_train , scoring = 'neg_mean_squared_error', cv = cv)\r\n",
    "scores = np.absolute(scores)\r\n",
    "print (scores.mean())"
   ],
   "outputs": [],
   "metadata": {
    "tags": []
   }
  },
  {
   "cell_type": "code",
   "execution_count": null,
   "source": [
    "XGModel = XGBRegressor(random_state = 1,\r\n",
    "                        eta = 0.1,\r\n",
    "                        max_depth = 6,\r\n",
    "                        min_child_weight =1,\r\n",
    "                        max_delta_step = 0,\r\n",
    "                        gamma = 0,\r\n",
    "                        subsample = 1,\r\n",
    "                        colsample_bytree = 1,\r\n",
    "                        colsample_bylevel = 1,\r\n",
    "                        colsample_bynode = 1, \r\n",
    "                        reg_lambda = 13,\r\n",
    "                        alpha = 0,\r\n",
    "                        tree_method = 'approx',\r\n",
    "                        n_estimators = 100)\r\n",
    "modelEvaluation(XGModel, 'XGModel')"
   ],
   "outputs": [],
   "metadata": {}
  },
  {
   "cell_type": "code",
   "execution_count": null,
   "source": [
    "param_grid = {\r\n",
    "    'eta':[0.09],\r\n",
    "    'max_depth':[5],\r\n",
    "    'max_delta_step': [9],\r\n",
    "    'gamma' : [0.001],\r\n",
    "    'lambda' : [8],\r\n",
    "    'alpha' : [0],\r\n",
    "    'n_estimators': [100,300,500,1000]\r\n",
    "}\r\n",
    "grid =GridSearchCV(XGBRegressor(random_state=123), param_grid, cv=cv, scoring=['neg_mean_squared_error', 'r2'], refit='neg_mean_squared_error')\r\n",
    "grid.fit(X_train, y_train)\r\n",
    "printBestModelAdv(grid, XGBRegressor(**grid.best_params_), True)"
   ],
   "outputs": [],
   "metadata": {}
  },
  {
   "cell_type": "code",
   "execution_count": null,
   "source": [
    "X_train.columns"
   ],
   "outputs": [],
   "metadata": {}
  },
  {
   "cell_type": "code",
   "execution_count": 19,
   "source": [
    "X_train2 = X_train.copy()\r\n",
    "X_train2.rename(columns={'0.075':'Grad. Sieve size 0.075', '0.3':'Grad. Sieve size 0.3', '0.6':'Grad. Sieve size 0.6', '2.36':'Grad. Sieve size 2.36',                                '4.75':'Grad. Sieve size 4.75','9.5':'Grad. Sieve size 9.5', '12.5':'Grad. Sieve size 12.5', '19':'Grad. Sieve size 19', \r\n",
    "                        'Plastic particle size (mm)':'Plastic size', 'Mixing speed (RPM)':'Mixing speed',\r\n",
    "                        'Mixing Time (hours)':'Mixing Time',\r\n",
    "                        'Bitumen content in the sample':'Bitumen content', 'New Plastic Type_Nylon':'Plastic Type_Nylon',\r\n",
    "                        'New Plastic Type_PE':'Plastic Type_PE', 'New Plastic Type_PET':'Plastic Type_PET', 'New Plastic Type_PP':'Plastic Type_PP',\r\n",
    "                        'New Plastic Type_PS':'Plastic Type_PS', 'New Plastic Type_PU':'Plastic Type_PU',\r\n",
    "                        'New Plastic Type_Plastic Mix':'Plastic Type_Plastic Mix',\r\n",
    "                        'Consolidated bitumen penetration grade_50/70':'Bitumen grade_50/70',\r\n",
    "                        'Consolidated bitumen penetration grade_70/100':'Bitumen grade_70/100',\r\n",
    "       }, inplace=True)"
   ],
   "outputs": [],
   "metadata": {}
  },
  {
   "cell_type": "code",
   "execution_count": 43,
   "source": [
    "#Graph employed for selecting important features during tunning\r\n",
    "XGBoostModel = XGBRegressor(reg_alpha=0, eta=0.09, gamma=0.001, reg_lambda=8, max_delta_step=9, n_estimators=300, random_state=123)\r\n",
    "XGBoostModel.fit(X_train2,y_train)\r\n",
    "ax = plot_importance(XGBoostModel, height=0.8, importance_type='weight', show_values=False, title=None, max_num_features = 20)\r\n",
    "fig = ax.figure\r\n",
    "plt.xlabel('Weight', fontsize=20)\r\n",
    "plt.ylabel('Features', fontsize=20)\r\n",
    "plt.title('(a)',fontsize= 22)\r\n",
    "fig.set_size_inches(8,8)"
   ],
   "outputs": [
    {
     "output_type": "display_data",
     "data": {
      "image/png": "[encoded data removed]",
      "text/plain": [
       "<Figure size 576x576 with 1 Axes>"
      ]
     },
     "metadata": {}
    }
   ],
   "metadata": {}
  },
  {
   "cell_type": "markdown",
   "source": [
    "*The Gain is the most relevant attribute to interpret the relative importance of each feature.* [Reference](https://towardsdatascience.com/be-careful-when-interpreting-your-features-importance-in-xgboost-6e16132588e7)"
   ],
   "metadata": {}
  },
  {
   "cell_type": "markdown",
   "source": [
    "## 6. Best Model Tunning"
   ],
   "metadata": {}
  },
  {
   "cell_type": "code",
   "execution_count": 22,
   "source": [
    "X_train.columns = X_train.columns.astype(str)\r\n",
    "cv = RepeatedKFold(n_splits = 10, n_repeats = 10, random_state = 123)"
   ],
   "outputs": [],
   "metadata": {}
  },
  {
   "cell_type": "markdown",
   "source": [
    "### 6.1. Feature selection"
   ],
   "metadata": {}
  },
  {
   "cell_type": "code",
   "execution_count": 23,
   "source": [
    "features_MSE = {}\r\n",
    "def addMSE (columns, string):\r\n",
    "    cv_results = cross_validate(XGBRegressor(reg_alpha=0, \r\n",
    "                                eta=0.09, \r\n",
    "                                gamma=0.001, \r\n",
    "                                reg_lambda=8, \r\n",
    "                                max_delta_step=9, \r\n",
    "                                n_estimators=300, \r\n",
    "                                random_state = 123), X_train[columns], y_train, cv = cv, scoring = ['neg_mean_squared_error'])\r\n",
    "    MSE = np.average(-cv_results['test_neg_mean_squared_error'])\r\n",
    "    features_MSE[string] = MSE"
   ],
   "outputs": [],
   "metadata": {}
  },
  {
   "cell_type": "code",
   "execution_count": 24,
   "source": [
    "X_train.columns"
   ],
   "outputs": [
    {
     "output_type": "execute_result",
     "data": {
      "text/plain": [
       "Index(['Aggregate absorption (%)', '0.075', '0.3', '0.6', '2.36', '4.75',\n",
       "       '9.5', '12.5', '19', 'Plastic particle size (mm)', 'Mixing speed (RPM)',\n",
       "       'Mixing Temperature', 'Mixing Time (hours)',\n",
       "       'Bitumen content in the sample', 'New Plastic Type_Nylon',\n",
       "       'New Plastic Type_PE', 'New Plastic Type_PET', 'New Plastic Type_PP',\n",
       "       'New Plastic Type_PS', 'New Plastic Type_PU',\n",
       "       'New Plastic Type_Plastic Mix',\n",
       "       'Consolidated bitumen penetration grade_50/70',\n",
       "       'Consolidated bitumen penetration grade_70/100',\n",
       "       'Plastic pretreatment_Physical', 'Plastic pretreatment_Plastic Melted',\n",
       "       'Plastic shape_Fibers', 'Plastic shape_Pellets',\n",
       "       'Plastic shape_Shredded', 'Mixing Process_Dry', 'Mixing Process_Wet',\n",
       "       'Aggregates replacement ?_Yes', 'Bitumen replacement?_Yes'],\n",
       "      dtype='object')"
      ]
     },
     "metadata": {},
     "execution_count": 24
    }
   ],
   "metadata": {}
  },
  {
   "cell_type": "code",
   "execution_count": 25,
   "source": [
    "addMSE(['Bitumen content in the sample'], 'Bitumen cont.')"
   ],
   "outputs": [],
   "metadata": {}
  },
  {
   "cell_type": "code",
   "execution_count": 26,
   "source": [
    "addMSE(['Bitumen content in the sample', \r\n",
    "       'New Plastic Type_Nylon','New Plastic Type_PE', 'New Plastic Type_PET', 'New Plastic Type_PP',\r\n",
    "       'New Plastic Type_PS', 'New Plastic Type_PU','New Plastic Type_Plastic Mix'], \r\n",
    "       'Bitumen cont. \\n Plastic Type')"
   ],
   "outputs": [],
   "metadata": {}
  },
  {
   "cell_type": "code",
   "execution_count": 27,
   "source": [
    "addMSE(['Bitumen content in the sample', \r\n",
    "       'New Plastic Type_Nylon','New Plastic Type_PE', 'New Plastic Type_PET', 'New Plastic Type_PP',\r\n",
    "       'New Plastic Type_PS', 'New Plastic Type_PU','New Plastic Type_Plastic Mix', \r\n",
    "       'Aggregate absorption (%)'], \r\n",
    "       'Bitumen cont. \\n Plastic Type \\n Aggregates abs.')"
   ],
   "outputs": [],
   "metadata": {}
  },
  {
   "cell_type": "code",
   "execution_count": 28,
   "source": [
    "addMSE(['Bitumen content in the sample', \r\n",
    "       'New Plastic Type_Nylon','New Plastic Type_PE', 'New Plastic Type_PET', 'New Plastic Type_PP',\r\n",
    "       'New Plastic Type_PS', 'New Plastic Type_PU','New Plastic Type_Plastic Mix', \r\n",
    "       'Aggregate absorption (%)', 'Plastic particle size (mm)'], \r\n",
    "       'Bitumen cont. \\n Plastic Type \\n Aggregates abs. \\n Plastic size')"
   ],
   "outputs": [],
   "metadata": {}
  },
  {
   "cell_type": "code",
   "execution_count": 29,
   "source": [
    "addMSE(['Bitumen content in the sample', \r\n",
    "       'New Plastic Type_Nylon','New Plastic Type_PE', 'New Plastic Type_PET', 'New Plastic Type_PP',\r\n",
    "       'New Plastic Type_PS', 'New Plastic Type_PU','New Plastic Type_Plastic Mix', \r\n",
    "       'Aggregate absorption (%)', 'Plastic particle size (mm)',\r\n",
    "       '0.075', '0.3', '0.6', '2.36', '4.75','9.5', '12.5', '19'], \r\n",
    "       'Bitumen cont. \\n Plastic Type \\n Aggregates abs. \\n Plastic size \\n Gradation')"
   ],
   "outputs": [],
   "metadata": {}
  },
  {
   "cell_type": "code",
   "execution_count": 30,
   "source": [
    "addMSE(['Bitumen content in the sample', \r\n",
    "       'New Plastic Type_Nylon','New Plastic Type_PE', 'New Plastic Type_PET', 'New Plastic Type_PP',\r\n",
    "       'New Plastic Type_PS', 'New Plastic Type_PU','New Plastic Type_Plastic Mix', \r\n",
    "       'Aggregate absorption (%)', 'Plastic particle size (mm)',\r\n",
    "       '0.075', '0.3', '0.6', '2.36', '4.75','9.5', '12.5', '19',\r\n",
    "       'Mixing speed (RPM)'], \r\n",
    "       'Bitumen cont. \\n Plastic Type \\n Aggregates abs. \\n Plastic size \\n Gradation \\n Mixing Speed')"
   ],
   "outputs": [],
   "metadata": {}
  },
  {
   "cell_type": "code",
   "execution_count": 31,
   "source": [
    "addMSE(['Bitumen content in the sample', \r\n",
    "       'New Plastic Type_Nylon','New Plastic Type_PE', 'New Plastic Type_PET', 'New Plastic Type_PP',\r\n",
    "       'New Plastic Type_PS', 'New Plastic Type_PU','New Plastic Type_Plastic Mix', \r\n",
    "       'Aggregate absorption (%)', 'Plastic particle size (mm)',\r\n",
    "       '0.075', '0.3', '0.6', '2.36', '4.75','9.5', '12.5', '19',\r\n",
    "       'Mixing speed (RPM)',\r\n",
    "       'Consolidated bitumen penetration grade_50/70','Consolidated bitumen penetration grade_70/100',], \r\n",
    "       'Bitumen cont. \\n Plastic Type \\n Aggregates abs. \\n Plastic size \\n Gradation \\n Mixing Speed \\n Bitumen type')"
   ],
   "outputs": [],
   "metadata": {}
  },
  {
   "cell_type": "code",
   "execution_count": 32,
   "source": [
    "addMSE(['Bitumen content in the sample', \r\n",
    "       'New Plastic Type_Nylon','New Plastic Type_PE', 'New Plastic Type_PET', 'New Plastic Type_PP',\r\n",
    "       'New Plastic Type_PS', 'New Plastic Type_PU','New Plastic Type_Plastic Mix', \r\n",
    "       'Aggregate absorption (%)', 'Plastic particle size (mm)',\r\n",
    "       '0.075', '0.3', '0.6', '2.36', '4.75','9.5', '12.5', '19',\r\n",
    "       'Mixing speed (RPM)',\r\n",
    "       'Consolidated bitumen penetration grade_50/70','Consolidated bitumen penetration grade_70/100',\r\n",
    "       'Plastic shape_Fibers', 'Plastic shape_Pellets','Plastic shape_Shredded'], \r\n",
    "       'Bitumen cont. \\n Plastic Type \\n Aggregates abs. \\n Plastic size \\n Gradation \\n Mixing Speed \\n Bitumen type \\n Plastic shape')"
   ],
   "outputs": [],
   "metadata": {}
  },
  {
   "cell_type": "code",
   "execution_count": 33,
   "source": [
    "addMSE(['Aggregate absorption (%)', '0.075', '0.3', '0.6', '2.36', '4.75',\r\n",
    "       '9.5', '12.5', '19', 'Plastic particle size (mm)', 'Mixing speed (RPM)',\r\n",
    "       'Mixing Temperature', 'Mixing Time (hours)',\r\n",
    "       'Bitumen content in the sample', 'New Plastic Type_Nylon',\r\n",
    "       'New Plastic Type_PE', 'New Plastic Type_PET', 'New Plastic Type_PP',\r\n",
    "       'New Plastic Type_PS', 'New Plastic Type_PU',\r\n",
    "       'New Plastic Type_Plastic Mix',\r\n",
    "       'Consolidated bitumen penetration grade_50/70',\r\n",
    "       'Consolidated bitumen penetration grade_70/100',\r\n",
    "       'Plastic pretreatment_Physical', 'Plastic pretreatment_Plastic Melted',\r\n",
    "       'Plastic shape_Fibers', 'Plastic shape_Pellets',\r\n",
    "       'Plastic shape_Shredded', 'Mixing Process_Dry', 'Mixing Process_Wet',\r\n",
    "       'Aggregates replacement ?_Yes', 'Bitumen replacement?_Yes'], \r\n",
    "       'All Features')"
   ],
   "outputs": [],
   "metadata": {}
  },
  {
   "cell_type": "code",
   "execution_count": 42,
   "source": [
    " plt.rcParams[\"figure.figsize\"] = (20,5)\r\n",
    " plt.plot(features_MSE.keys(), features_MSE.values(), marker = '*') \r\n",
    " plt.ylim(ymin = 0)\r\n",
    " plt.axvline(x='Bitumen cont. \\n Plastic Type \\n Aggregates abs. \\n Plastic size \\n Gradation \\n Mixing Speed \\n Bitumen type', ymin=0, ymax=1, color = 'k', ls = '--' , label='Selected model')\r\n",
    " plt.ylabel('MSE', fontsize = 20)\r\n",
    " plt.xlabel('Features included in the model', fontsize = 20)\r\n",
    " plt.xticks(fontsize= 13) \r\n",
    " plt.title('(b)', fontsize=22)\r\n",
    " plt.legend()\r\n",
    " plt.show()"
   ],
   "outputs": [
    {
     "output_type": "display_data",
     "data": {
      "image/png": "[encoded data removed]",
      "text/plain": [
       "<Figure size 1440x360 with 1 Axes>"
      ]
     },
     "metadata": {}
    }
   ],
   "metadata": {}
  },
  {
   "cell_type": "markdown",
   "source": [
    "## 6.2 Tunning"
   ],
   "metadata": {}
  },
  {
   "cell_type": "code",
   "execution_count": null,
   "source": [
    "X_train =  X_train[['Bitumen content in the sample', \r\n",
    "       'New Plastic Type_Nylon','New Plastic Type_PE', 'New Plastic Type_PET', 'New Plastic Type_PP',\r\n",
    "       'New Plastic Type_PS', 'New Plastic Type_PU','New Plastic Type_Plastic Mix', \r\n",
    "       'Aggregate absorption (%)', 'Plastic particle size (mm)',\r\n",
    "       '0.075', '0.3', '0.6', '2.36', '4.75','9.5', '12.5', '19',\r\n",
    "       'Mixing speed (RPM)',\r\n",
    "       'Consolidated bitumen penetration grade_50/70','Consolidated bitumen penetration grade_70/100',\r\n",
    "        ]]\r\n",
    "X_test = X_test [['Bitumen content in the sample', \r\n",
    "       'New Plastic Type_Nylon','New Plastic Type_PE', 'New Plastic Type_PET', 'New Plastic Type_PP',\r\n",
    "       'New Plastic Type_PS', 'New Plastic Type_PU','New Plastic Type_Plastic Mix', \r\n",
    "       'Aggregate absorption (%)', 'Plastic particle size (mm)',\r\n",
    "       '0.075', '0.3', '0.6', '2.36', '4.75','9.5', '12.5', '19',\r\n",
    "       'Mixing speed (RPM)',\r\n",
    "       'Consolidated bitumen penetration grade_50/70','Consolidated bitumen penetration grade_70/100',\r\n",
    "        ]]"
   ],
   "outputs": [],
   "metadata": {}
  },
  {
   "cell_type": "markdown",
   "source": [
    "### 6.3 Final model evaluation on test set"
   ],
   "metadata": {}
  },
  {
   "cell_type": "code",
   "execution_count": null,
   "source": [
    "def modelEvaluation (model, Title):\r\n",
    "    min = dfAirVoidsCleanedImputed['Air voids of the sample (%)'].min()\r\n",
    "    max = dfAirVoidsCleanedImputed['Air voids of the sample (%)'].max()\r\n",
    "    #Model Fitting\r\n",
    "    model.fit(X_train, y_train)\r\n",
    "    predictions_test = model.predict(X_test)\r\n",
    "    #Model Evaluation\r\n",
    "    r2_test = r2_score(y_test, predictions_test)\r\n",
    "    mse_test = mean_squared_error(y_test, predictions_test)\r\n",
    "    rmse_test_unscaled = (math.sqrt(mse_test)*(max-min))+min\r\n",
    "    plt.figure(figsize=(7,7))\r\n",
    "    #Model Plotting\r\n",
    "    plt.scatter(y_test, predictions_test, c='crimson')\r\n",
    "    plt.plot([(1,1), (0,0)], [(1,1), (0,0)], 'b-')\r\n",
    "    plt.xlabel('True Values', fontsize=15)\r\n",
    "    plt.xlim (0,1)\r\n",
    "    plt.ylim (0,1)\r\n",
    "    plt.ylabel('Predictions - ' + Title, fontsize=18)\r\n",
    "    plt.annotate('R2 = '+str(round(r2_test,3)), xy = (0.6,0.3), fontweight = 'bold', fontsize = 'xx-large')\r\n",
    "    plt.annotate('RMSE = '+str(round(rmse_test_unscaled,3)), xy = (0.6,0.25), fontweight = 'bold', fontsize = 'xx-large')\r\n",
    "    plt.show()\r\n",
    "    return predictions_test"
   ],
   "outputs": [],
   "metadata": {}
  },
  {
   "cell_type": "code",
   "execution_count": null,
   "source": [
    "XGModel = XGBRegressor(reg_alpha=0, eta=0.09, gamma=0.001, reg_lambda=8, max_delta_step=9, n_estimators=300, random_state = 1)\r\n",
    "predictions_XGModel = modelEvaluation(XGModel, 'XGModel')"
   ],
   "outputs": [],
   "metadata": {}
  },
  {
   "cell_type": "code",
   "execution_count": null,
   "source": [],
   "outputs": [],
   "metadata": {}
  },
  {
   "cell_type": "markdown",
   "source": [
    "P-value is higher than 0.05, so it the come from the same distibuition"
   ],
   "metadata": {}
  },
  {
   "cell_type": "code",
   "execution_count": null,
   "source": [
    "XGModel.get_params"
   ],
   "outputs": [],
   "metadata": {}
  },
  {
   "cell_type": "code",
   "execution_count": null,
   "source": [
    "extraTreeModel = ExtraTreesRegressor(n_estimators=600, min_samples_split=2,min_samples_leaf=1, max_features='auto', max_depth=30, bootstrap=True, random_state=123)\r\n",
    "predictions_ExtraTrees = modelEvaluation(extraTreeModel, 'Extra Trees model')"
   ],
   "outputs": [],
   "metadata": {}
  },
  {
   "cell_type": "code",
   "execution_count": null,
   "source": [
    "stats.ks_2samp(y_test, predictions_XGModel, alternative='two-sided')"
   ],
   "outputs": [],
   "metadata": {}
  },
  {
   "cell_type": "code",
   "execution_count": null,
   "source": [
    "RFModel = RandomForestRegressor(n_estimators=1000,min_samples_split=2, min_samples_leaf=2, max_features='auto', max_depth=50, bootstrap=True, random_state=123)\r\n",
    "predictions_RandomForest = modelEvaluation(RFModel, 'Random Forest Model')"
   ],
   "outputs": [],
   "metadata": {}
  },
  {
   "cell_type": "markdown",
   "source": [
    "## 6.3 ANOVA Analysis"
   ],
   "metadata": {}
  },
  {
   "cell_type": "code",
   "execution_count": null,
   "source": [
    "df_predictions = y_test.to_frame(name='real_Y')\r\n",
    "df_predictions['XGModel_predictions'] = predictions_XGModel\r\n",
    "df_predictions['ExtraTrees_predictions'] = predictions_ExtraTrees\r\n",
    "df_predictions['RandomForest_predictions'] = predictions_RandomForest"
   ],
   "outputs": [],
   "metadata": {}
  },
  {
   "cell_type": "code",
   "execution_count": null,
   "source": [
    "#Test for evakuating the normality of the data (Omnibus test)\r\n",
    "def normalityTest (model, data, alpha=0.05):\r\n",
    "    k2, p = stats.normaltest(data)\r\n",
    "    if p > alpha:\r\n",
    "        print ('The ' + model + ' is probably Gaussian. p-value = ' + str(p))\r\n",
    "    else:\r\n",
    "        print ('The ' + model +' is not probably Gaussian. p-value = '+ str(p))"
   ],
   "outputs": [],
   "metadata": {}
  },
  {
   "cell_type": "markdown",
   "source": [
    "### Normality evaluation"
   ],
   "metadata": {}
  },
  {
   "cell_type": "code",
   "execution_count": null,
   "source": [
    "normalityTest(data = df_predictions['real_Y'], model = 'real values')\r\n",
    "normalityTest(data = df_predictions['RandomForest_predictions'], model = 'Random Forest')\r\n",
    "normalityTest(data = df_predictions['XGModel_predictions'], model = 'XG model')\r\n",
    "normalityTest(data = df_predictions['ExtraTrees_predictions'], model = 'Extra trees')"
   ],
   "outputs": [],
   "metadata": {}
  },
  {
   "cell_type": "markdown",
   "source": [
    "### Variance homogeneity (Bartletts's test) "
   ],
   "metadata": {}
  },
  {
   "cell_type": "code",
   "execution_count": null,
   "source": [
    "stal, p = stats.bartlett(df_predictions['real_Y'], df_predictions['RandomForest_predictions'], df_predictions['XGModel_predictions'], df_predictions['ExtraTrees_predictions'])\r\n",
    "if p > 0.05:\r\n",
    "    print('There is not sufficient evidence to say that the variance of the real values and the predictors are differents. The p-value is ' + str(p))\r\n",
    "else:\r\n",
    "    print('There is non-homogeneity in the variance. The p-value is ' + str(p))"
   ],
   "outputs": [],
   "metadata": {}
  },
  {
   "cell_type": "code",
   "execution_count": null,
   "source": [
    "stats.f_oneway(df_predictions['real_Y'],\r\n",
    "               df_predictions['RandomForest_predictions'],\r\n",
    "               df_predictions['XGModel_predictions'],\r\n",
    "               df_predictions['ExtraTrees_predictions'])"
   ],
   "outputs": [],
   "metadata": {}
  },
  {
   "cell_type": "code",
   "execution_count": null,
   "source": [
    "stats.kruskal(df_predictions['real_Y'], df_predictions['RandomForest_predictions'], \r\n",
    "\t\t\t\tdf_predictions['XGModel_predictions'],df_predictions['ExtraTrees_predictions'])"
   ],
   "outputs": [],
   "metadata": {}
  },
  {
   "cell_type": "markdown",
   "source": [
    "There is not statistical differences between the predicted values of the three models and the observed values"
   ],
   "metadata": {}
  },
  {
   "cell_type": "markdown",
   "source": [
    "## 6.4 Goodness of fit Analysis"
   ],
   "metadata": {}
  },
  {
   "cell_type": "code",
   "execution_count": null,
   "source": [
    "def evaluateGOF (y_real, model_predictions, Model, alpha = 0.05):\r\n",
    "    stat, p_value  = stats.ks_2samp(y_real, model_predictions, alternative='two-sided')\r\n",
    "    if p_value > 0.05:\r\n",
    "        print ('The real values and the predictions of '+Model+' come from the same distribution according to the Kolmogorov-Smirnov test. The p-value is '+str(p_value))\r\n",
    "    else:\r\n",
    "        print ('The real values and the predictions of '+Model+'DO NOT come from the same distribution. The p-value is '+str(p_value))"
   ],
   "outputs": [],
   "metadata": {}
  },
  {
   "cell_type": "code",
   "execution_count": null,
   "source": [
    "evaluateGOF(y_real=df_predictions['real_Y'], model_predictions=df_predictions['RandomForest_predictions'], Model = 'Random Forest')\r\n",
    "evaluateGOF(y_real=df_predictions['real_Y'], model_predictions=df_predictions['XGModel_predictions'], Model = 'Boosted Tree')\r\n",
    "evaluateGOF(y_real=df_predictions['real_Y'], model_predictions=df_predictions['ExtraTrees_predictions'], Model = 'Extra treees')"
   ],
   "outputs": [],
   "metadata": {}
  },
  {
   "cell_type": "code",
   "execution_count": null,
   "source": [
    "sns.displot(df_predictions['real_Y'], kde=True, bins=10)"
   ],
   "outputs": [],
   "metadata": {}
  },
  {
   "cell_type": "code",
   "execution_count": null,
   "source": [
    "df_predictions.to_clipboard()"
   ],
   "outputs": [],
   "metadata": {}
  }
 ]
}